import unittest
from scipy.stats import cramervonmises

class TestCramerVonMises(unittest.TestCase):
    def test_cramer_von_mises(self):
        # Test data
        t1 = [1, 2, 3, 4, 5]
        t2 = [2, 4, 6, 8, 10]

        # Perform Cramer-von Mises test
        statistic, pvalue = cramervonmises(t1, t2)

        # Assert the expected values
        self.assertAlmostEqual(statistic, 0.2, places=2)
        self.assertAlmostEqual(pvalue, 0.972, places=3)

if __name__ == '__main__':
    unittest.main()