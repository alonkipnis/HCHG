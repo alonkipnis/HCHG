{
 "cells": [
  {
   "cell_type": "code",
   "execution_count": 1,
   "id": "c9c1bc23",
   "metadata": {},
   "outputs": [],
   "source": [
    "# !pip3 install two-sample-binomial\n",
    "# !pip3 install multiple-hypothesis-testing\n",
    "\n",
    "from twosample import binom_test_two_sided\n",
    "from multitest import MultiTest\n",
    "import seaborn\n",
    "\n",
    "import numpy as np\n",
    "import scipy\n",
    "\n",
    "\n",
    "import matplotlib.pyplot as plt\n",
    "import matplotlib as mpl\n",
    "plt.rcParams['figure.figsize'] =  [8, 6]\n",
    "mpl.style.use('ggplot')\n",
    "%matplotlib inline\n",
    "from tqdm import tqdm\n",
    "\n",
    "from scipy.stats import poisson, binom, norm, hypergeom, uniform\n",
    "\n",
    "import pandas as pd\n",
    "\n",
    "from sample_survival_data import *"
   ]
  },
  {
   "cell_type": "markdown",
   "id": "db61189b",
   "metadata": {},
   "source": [
    "- Min HypGeom \n",
    "- Look for data.\n",
    "    - SCANB ~ 3000 patients ~1000 unique time points\n",
    "    - Keywords: dose response curve,\n",
    "    - Perhaps survival of flies\n",
    "- "
   ]
  },
  {
   "cell_type": "markdown",
   "id": "e57a7c61",
   "metadata": {},
   "source": [
    "# Multiple Testing approach to Survival Analysis\n",
    "\n",
    "\n",
    "Abstract\n",
    "\n",
    "In some cases the log-rank test fails to detect the effect much more often than an approaoch based on mulitple testing. We present a survival model demonstrating this case, sating that events in each group follows a Poisson distribution with typical base rate $\\lambda_1(t)$ and $\\lambda_2(t)$, respectively. Usually, for most measurements, we have $\\lambda_1(t) = \\lambda_2(t)$, whereas sometimes $\\lambda_2(t) > \\lambda_1(t)$ (the effect is $\\lambda_2(t) - \\lambda_1(t)$ for those $t$ when this difference is not zero). The model is implemented in the function `sample_survival_data` in the file `sample_survival_data.py`. \n",
    "\n",
    "In this notebook, we use a specific parametrization of sparsity and signal intensity in numerical simulations to find cases where higher criticism and minP tests outperform log-rank. "
   ]
  },
  {
   "cell_type": "markdown",
   "id": "37ecb5a3",
   "metadata": {},
   "source": [
    "To do:\n",
    "- Replace exact binomial test with exact hypergeometric test. This probably does not change the asymptotic behavior of the test but will likley have better power in practice. \n",
    "- Make a power analysis across a phase space, analytically and empirically.\n",
    "- Derive the asymptotic power of the log-rank test under our model."
   ]
  },
  {
   "cell_type": "markdown",
   "id": "86a35b40",
   "metadata": {},
   "source": [
    "$$\n",
    "{\\displaystyle E_{i,j}=N_{i,j}{\\frac {O_{j}}{N_{j}}}}\n",
    "$$\n",
    "$$\n",
    "{\\displaystyle V_{i,j}=E_{i,j}\\left({\\frac {N_{j}-O_{j}}{N_{j}}}\\right)\\left({\\frac {N_{j}-N_{i,j}}{N_{j}-1}}\\right)}\n",
    "$$"
   ]
  },
  {
   "cell_type": "code",
   "execution_count": 2,
   "id": "c07a8f9a",
   "metadata": {},
   "outputs": [],
   "source": [
    "from survival import (log_rank_test, hypergeom_test, q95,\n",
    "                      multi_pvals, atmoic_experiment, evaluate_test_stats)"
   ]
  },
  {
   "cell_type": "markdown",
   "id": "932fca00",
   "metadata": {},
   "source": [
    "## Sample once:"
   ]
  },
  {
   "cell_type": "code",
   "execution_count": 6,
   "id": "b185c297",
   "metadata": {},
   "outputs": [
    {
     "data": {
      "image/png": "[encoded data removed]",
      "text/plain": [
       "<Figure size 576x432 with 1 Axes>"
      ]
     },
     "metadata": {},
     "output_type": "display_data"
    }
   ],
   "source": [
    "T = 1000\n",
    "N1 = N2 = 10000\n",
    "\n",
    "beta = .7         # sparsity parameter\n",
    "eps = np.round(T ** -beta,4)   # sparsity rate\n",
    "r = 0\n",
    "\n",
    "\n",
    "plt.figure()\n",
    "for _ in range(10):\n",
    "    Nt1, Nt2 = sample_survival_data(T, N1, N2, eps, r)\n",
    "    plt.plot(2 * Nt1 * Nt2 / (Nt1 + Nt2) / N1)\n",
    "plt.show()"
   ]
  },
  {
   "cell_type": "code",
   "execution_count": 92,
   "id": "f4d36aa6",
   "metadata": {},
   "outputs": [
    {
     "name": "stdout",
     "output_type": "stream",
     "text": [
      "          berk_jones_greater  berk_jones_less  fisher_greater  fisher_less  \\\n",
      "null_95q            6.814281         6.741345        2.104427     2.107693   \n",
      "observed                 NaN              NaN             NaN          NaN   \n",
      "is_sig              0.000000         0.000000        0.000000     0.000000   \n",
      "\n",
      "          hc_greater   hc_less  log_rank_greater  log_rank_less  \\\n",
      "null_95q    4.780447  4.677201          1.053348       1.053348   \n",
      "observed         NaN       NaN               NaN            NaN   \n",
      "is_sig      0.000000  0.000000          0.000000       0.000000   \n",
      "\n",
      "          min_p_greater  min_p_less  ...  wilcoxon_less       T       N1  \\\n",
      "null_95q       9.885502    9.832559  ...       2.136037  1000.0  10000.0   \n",
      "observed            NaN         NaN  ...            NaN     NaN      NaN   \n",
      "is_sig         0.000000    0.000000  ...       0.000000     0.0      0.0   \n",
      "\n",
      "               N2  Logrank        HC    Fisher       minP        BJ  wilcoxon  \n",
      "null_95q  10000.0      NaN       NaN       NaN        NaN       NaN       NaN  \n",
      "observed      NaN   0.5365  5.215422  1.992492  10.280739  3.390061  0.558912  \n",
      "is_sig        0.0   0.0000  0.000000  0.000000   0.000000  0.000000  0.000000  \n",
      "\n",
      "[3 rows x 21 columns]\n",
      "-------------------------------------------------------------\n",
      "\n",
      "Fliping roles of the lists:\n",
      "          berk_jones_greater  berk_jones_less  fisher_greater  fisher_less  \\\n",
      "null_95q            6.814281         6.741345        2.104427     2.107693   \n",
      "observed                 NaN              NaN             NaN          NaN   \n",
      "is_sig              0.000000         0.000000        0.000000     0.000000   \n",
      "\n",
      "          hc_greater   hc_less  log_rank_greater  log_rank_less  \\\n",
      "null_95q    4.780447  4.677201          1.053348       1.053348   \n",
      "observed         NaN       NaN               NaN            NaN   \n",
      "is_sig      0.000000  0.000000          0.000000       0.000000   \n",
      "\n",
      "          min_p_greater  min_p_less  ...  wilcoxon_less       T       N1  \\\n",
      "null_95q       9.885502    9.832559  ...       2.136037  1000.0  10000.0   \n",
      "observed            NaN         NaN  ...            NaN     NaN      NaN   \n",
      "is_sig         0.000000    0.000000  ...       0.000000     0.0      0.0   \n",
      "\n",
      "               N2  Logrank        HC    Fisher      minP        BJ  wilcoxon  \n",
      "null_95q  10000.0      NaN       NaN       NaN       NaN       NaN       NaN  \n",
      "observed      NaN   0.5365  1.029031  1.991161  6.420728  2.093361  0.558912  \n",
      "is_sig        0.0   0.0000  0.000000  0.000000  0.000000  0.000000  0.000000  \n",
      "\n",
      "[3 rows x 21 columns]\n"
     ]
    },
    {
     "data": {
      "image/png": "[encoded data removed]",
      "text/plain": [
       "<Figure size 576x432 with 1 Axes>"
      ]
     },
     "metadata": {},
     "output_type": "display_data"
    }
   ],
   "source": [
    "# single experiment non-null\n",
    "\n",
    "T = 1000\n",
    "N1 = N2 = 10000\n",
    "beta = .7         # sparsity parameter\n",
    "eps = np.round(T ** -beta,4)   # sparsity rate\n",
    "r = .5\n",
    "N0 = 2 * N1 * N2 / (N1 + N2)\n",
    "\n",
    "Nt1, Nt2 = sample_survival_data(T, N1, N2, eps, r)\n",
    "\n",
    "lr, lr_pval = log_rank_test(Nt1, Nt2)\n",
    "pvals = multi_pvals(Nt1, Nt2, randomize=True)\n",
    "mt = MultiTest(pvals, stbl=False)\n",
    "\n",
    "df_null = pd.read_csv(f\"under_null_T{T}_N1_{N1}_N2_{N2}.csv\").drop('Unnamed: 0', axis=1)\n",
    "r = {'Logrank': np.abs(lr),\n",
    "'HC': mt.hc()[0],\n",
    "'Fisher': mt.fisher(),\n",
    "'minP': mt.minp(),\n",
    "'BJ': mt.berk_jones(gamma=.45),\n",
    "'wilcoxon': -np.log(scipy.stats.ranksums(Nt1, Nt2).pvalue)\n",
    "    }\n",
    "\n",
    "df_null['obs'] = 'null_95q'\n",
    "rr = df_null.set_index('obs').append(pd.DataFrame(r, index=['observed']))\n",
    "s = (rr.T['null_95q'] < rr.T['observed'])\n",
    "s.name = 'is_sig'\n",
    "print(rr.append(s))\n",
    "\n",
    "print(\"-------------------------------------------------------------\\n\")\n",
    "print(\"Fliping roles of the lists:\")\n",
    "lr, lr_pval = log_rank_test(Nt2, Nt1)\n",
    "\n",
    "pvals = multi_pvals(Nt2, Nt1)\n",
    "mt = MultiTest(pvals, stbl=False)\n",
    "\n",
    "r = {'Logrank': np.abs(lr),\n",
    "'HC': mt.hc()[0],\n",
    "'Fisher': mt.fisher(),\n",
    "'minP': mt.minp(),\n",
    "'BJ': mt.berk_jones(gamma=.45),\n",
    "'wilcoxon': -np.log(scipy.stats.ranksums(Nt1, Nt2).pvalue)\n",
    "    }\n",
    "\n",
    "df_null['obs'] = 'null_95q'\n",
    "rr = df_null.set_index('obs').append(pd.DataFrame(r, index=['observed']))\n",
    "s = (rr.T['null_95q'] < rr.T['observed'])\n",
    "s.name = 'is_sig'\n",
    "print(rr.append(s))\n",
    "\n",
    "tt = np.arange(T)\n",
    "plt.plot(tt, Nt1[1:])\n",
    "plt.plot(tt, Nt2[1:])\n",
    "plt.show()\n",
    "#pd.DataFrame({'N1' : Nt1, 'N2' : Nt2}).to_csv(f'surv_mu{mu}_eps{eps}.csv')\n"
   ]
  },
  {
   "cell_type": "markdown",
   "id": "e8dc8733",
   "metadata": {},
   "source": [
    "## Atomic experiment:"
   ]
  },
  {
   "cell_type": "code",
   "execution_count": 8,
   "id": "7751835e",
   "metadata": {},
   "outputs": [
    {
     "name": "stderr",
     "output_type": "stream",
     "text": [
      "  0%|          | 0/10 [00:00<?, ?it/s]\n"
     ]
    },
    {
     "ename": "TypeError",
     "evalue": "sample_survival_data() takes 5 positional arguments but 6 were given",
     "output_type": "error",
     "traceback": [
      "\u001b[0;31m---------------------------------------------------------------------------\u001b[0m",
      "\u001b[0;31mTypeError\u001b[0m                                 Traceback (most recent call last)",
      "\u001b[0;32m<ipython-input-8-8deffbfb27dc>\u001b[0m in \u001b[0;36m<module>\u001b[0;34m\u001b[0m\n\u001b[1;32m     14\u001b[0m \u001b[0;34m\u001b[0m\u001b[0m\n\u001b[1;32m     15\u001b[0m \u001b[0;32mfor\u001b[0m \u001b[0mi\u001b[0m \u001b[0;32min\u001b[0m \u001b[0mtqdm\u001b[0m\u001b[0;34m(\u001b[0m\u001b[0mrange\u001b[0m\u001b[0;34m(\u001b[0m\u001b[0mnMonte\u001b[0m\u001b[0;34m)\u001b[0m\u001b[0;34m)\u001b[0m\u001b[0;34m:\u001b[0m\u001b[0;34m\u001b[0m\u001b[0;34m\u001b[0m\u001b[0m\n\u001b[0;32m---> 16\u001b[0;31m     \u001b[0mNt1\u001b[0m\u001b[0;34m,\u001b[0m \u001b[0mNt2\u001b[0m \u001b[0;34m=\u001b[0m \u001b[0msample_survival_data\u001b[0m\u001b[0;34m(\u001b[0m\u001b[0mT\u001b[0m\u001b[0;34m,\u001b[0m \u001b[0mN1\u001b[0m\u001b[0;34m,\u001b[0m \u001b[0mN2\u001b[0m\u001b[0;34m,\u001b[0m \u001b[0mlam0\u001b[0m\u001b[0;34m,\u001b[0m \u001b[0meps\u001b[0m\u001b[0;34m,\u001b[0m \u001b[0mr\u001b[0m\u001b[0;34m)\u001b[0m\u001b[0;34m\u001b[0m\u001b[0;34m\u001b[0m\u001b[0m\n\u001b[0m\u001b[1;32m     17\u001b[0m     \u001b[0mr\u001b[0m \u001b[0;34m=\u001b[0m \u001b[0mevaluate_test_stats\u001b[0m\u001b[0;34m(\u001b[0m\u001b[0mNt1\u001b[0m\u001b[0;34m,\u001b[0m \u001b[0mNt2\u001b[0m\u001b[0;34m,\u001b[0m \u001b[0mrandomized\u001b[0m\u001b[0;34m=\u001b[0m\u001b[0;32mTrue\u001b[0m\u001b[0;34m,\u001b[0m \u001b[0malternative\u001b[0m\u001b[0;34m=\u001b[0m\u001b[0;34m'both'\u001b[0m\u001b[0;34m)\u001b[0m\u001b[0;34m\u001b[0m\u001b[0;34m\u001b[0m\u001b[0m\n\u001b[1;32m     18\u001b[0m     \u001b[0mres\u001b[0m \u001b[0;34m=\u001b[0m \u001b[0mres\u001b[0m\u001b[0;34m.\u001b[0m\u001b[0mappend\u001b[0m\u001b[0;34m(\u001b[0m\u001b[0mr\u001b[0m\u001b[0;34m,\u001b[0m \u001b[0mignore_index\u001b[0m\u001b[0;34m=\u001b[0m\u001b[0;32mTrue\u001b[0m\u001b[0;34m)\u001b[0m\u001b[0;34m\u001b[0m\u001b[0;34m\u001b[0m\u001b[0m\n",
      "\u001b[0;31mTypeError\u001b[0m: sample_survival_data() takes 5 positional arguments but 6 were given"
     ]
    }
   ],
   "source": [
    "T = 1000\n",
    "N1 = N2 = 1000\n",
    "N1 = 800\n",
    "N2 = 100\n",
    "\n",
    "beta = .73         # sparsity parameter\n",
    "eps = np.round(T ** -beta,4)   # sparsity rate\n",
    "r = .5        # signal strength\n",
    "nMonte = 10\n",
    "\n",
    "lam0 = np.ones(T) / T\n",
    "\n",
    "res = pd.DataFrame()\n",
    "\n",
    "for i in tqdm(range(nMonte)):\n",
    "    Nt1, Nt2 = sample_survival_data(T, N1, N2, lam0, eps, r)\n",
    "    r = evaluate_test_stats(Nt1, Nt2, randomized=True, alternative='both')\n",
    "    res = res.append(r, ignore_index=True)\n",
    "    \n",
    "res.agg(['mean', 'std'])"
   ]
  },
  {
   "cell_type": "code",
   "execution_count": 312,
   "id": "b0fe1567",
   "metadata": {},
   "outputs": [
    {
     "data": {
      "text/plain": [
       "98.83227829525273"
      ]
     },
     "execution_count": 312,
     "metadata": {},
     "output_type": "execute_result"
    }
   ],
   "source": [
    "q95(res.normal_greater)"
   ]
  },
  {
   "cell_type": "markdown",
   "id": "37752441",
   "metadata": {},
   "source": [
    "## Many experiments"
   ]
  },
  {
   "cell_type": "code",
   "execution_count": 84,
   "id": "75b0eea0",
   "metadata": {},
   "outputs": [],
   "source": [
    "def evaluate(itr, T, N, beta, r):\n",
    "    \"\"\"\n",
    "    evalaute an atomic experiment\n",
    "    \"\"\"\n",
    "    mu = 2 * r * np.log(T) / T\n",
    "    eps = T ** (-beta)\n",
    "    N1 = N2 = N\n",
    "\n",
    "    Nt1, Nt2 = sample_survival_data(int(T), int(N1), int(N2), eps, mu)\n",
    "    res = evaluate_test_stats(Nt1, Nt2, randomized=True, alternative='both')\n",
    "    return res\n"
   ]
  },
  {
   "cell_type": "markdown",
   "id": "a2169f23",
   "metadata": {},
   "source": [
    "### Null Behavior"
   ]
  },
  {
   "cell_type": "code",
   "execution_count": 85,
   "id": "4c1eaf2f",
   "metadata": {},
   "outputs": [],
   "source": [
    "def simulate_null(N1, N2, T, nMonte):\n",
    "    \"\"\"\n",
    "    Args:\n",
    "    -----\n",
    "    :N1:      Initial size of group 1\n",
    "    :N2:      Initial size of group 2\n",
    "    :T:       Total numebr of events\n",
    "    :nMonte:  number of experiments to evaluate\n",
    "\n",
    "    \"\"\"\n",
    "    \n",
    "    df0 = pd.DataFrame()\n",
    "    print(\"Simulating null...\")\n",
    "    for itr in tqdm(range(nMonte)):\n",
    "        Nt1, Nt2 = sample_survival_data(T, N1, N2, 0, 0)\n",
    "        res = evaluate_test_stats(Nt1, Nt2)\n",
    "        df0 = df0.append(res, ignore_index=True)\n",
    "\n",
    "    # critical values under the null:\n",
    "    return df0.agg([q95])\n"
   ]
  },
  {
   "cell_type": "code",
   "execution_count": 16,
   "id": "0e0c7498",
   "metadata": {},
   "outputs": [
    {
     "name": "stderr",
     "output_type": "stream",
     "text": [
      "  0%|          | 1/10000 [00:00<32:12,  5.17it/s]"
     ]
    },
    {
     "name": "stdout",
     "output_type": "stream",
     "text": [
      "Simulating null...\n"
     ]
    },
    {
     "name": "stderr",
     "output_type": "stream",
     "text": [
      "100%|██████████| 10000/10000 [26:05<00:00,  6.39it/s]\n"
     ]
    },
    {
     "name": "stdout",
     "output_type": "stream",
     "text": [
      "     berk_jones_greater  berk_jones_less  fisher_greater  fisher_less  \\\n",
      "q95            6.814281         6.741345        2.104427     2.107693   \n",
      "\n",
      "     hc_greater   hc_less  log_rank_greater  log_rank_less  min_p_greater  \\\n",
      "q95    4.780447  4.677201          1.053348       1.053348       9.885502   \n",
      "\n",
      "     min_p_less  wilcoxon_greater  wilcoxon_less       T       N1       N2  \n",
      "q95    9.832559          2.112928       2.136037  1000.0  10000.0  10000.0  \n"
     ]
    }
   ],
   "source": [
    "# under null\n",
    "from twosample import binom_test_two_sided\n",
    "from multitest import MultiTest\n",
    "from typing import List\n",
    "\n",
    "#params:\n",
    "T = 1000     # number of event\n",
    "N = N1 = N2 = 10000    # number in group 1 and 2 at t=0\n",
    "\n",
    "nMonte = 10000  #   number of experiments to evaluate dist. under null\n",
    "\n",
    "df0 = simulate_null(N1, N2, T, nMonte)\n",
    "# critical values under the null:\n",
    "df0['T'] = T\n",
    "df0['N1'] = N1\n",
    "df0['N2'] = N2\n",
    "df0.agg([q95]).to_csv(f\"under_null_T_{T}_N1_{N1}_N2_{N2}.csv\")\n",
    "print(df0.agg([q95]))"
   ]
  },
  {
   "cell_type": "markdown",
   "id": "10fe6c27",
   "metadata": {},
   "source": [
    "### Non-Null Behavior"
   ]
  },
  {
   "cell_type": "code",
   "execution_count": 17,
   "id": "607db734",
   "metadata": {},
   "outputs": [
    {
     "name": "stderr",
     "output_type": "stream",
     "text": [
      "100%|██████████| 100/100 [24:26<00:00, 14.67s/it]\n"
     ]
    }
   ],
   "source": [
    "# under non-null\n",
    "\n",
    "from twosample import binom_test_two_sided\n",
    "from multitest import MultiTest\n",
    "from typing import List\n",
    "\n",
    "def run_many_experiments(T, N1, N2, nMonte):\n",
    "    # under non-null\n",
    "    bb = np.linspace(.5, .9, 7)\n",
    "    rr = np.sqrt(np.linspace(0.01, 1, 9))\n",
    "    mm = 2 * rr * np.log(T) / N1\n",
    "\n",
    "    df1 = pd.DataFrame()\n",
    "    nMonte = 100       # number of experiments\n",
    "\n",
    "    for itr in tqdm(range(nMonte)):\n",
    "        for beta in bb:\n",
    "            for mu in mm:\n",
    "                eps = T ** -beta   # sparsity rate\n",
    "                Nt1, Nt2 = sample_survival_data(T, N1, N2, eps, mu)\n",
    "                res1 = evaluate_test_stats(Nt1, Nt2)\n",
    "                res2 = evaluate_test_stats(Nt2, Nt1)\n",
    "                res = pd.DataFrame(res1, index=[0])\n",
    "                res['mu'] = mu\n",
    "                res['eps'] = eps\n",
    "                res['beta'] = beta\n",
    "                res['itr'] = itr\n",
    "                res['T'] = T\n",
    "                df1 = df1.append(res, ignore_index=True)\n",
    "    return df1\n",
    "\n",
    "df1 = run_many_experiments(T, N1, N2, nMonte)"
   ]
  },
  {
   "cell_type": "code",
   "execution_count": 25,
   "id": "caedea23",
   "metadata": {},
   "outputs": [],
   "source": [
    "df1['T'] = T\n",
    "df1['N'] = N1\n",
    "df1['N1'] = N1\n",
    "df1['N2'] = N2"
   ]
  },
  {
   "cell_type": "markdown",
   "id": "37644a25",
   "metadata": {},
   "source": [
    "In how many cases both the reversed and original sides were significant?"
   ]
  },
  {
   "cell_type": "code",
   "execution_count": 89,
   "id": "ded9f9d3",
   "metadata": {},
   "outputs": [],
   "source": [
    "df0['T'] = T\n",
    "df0['N'] = N1\n",
    "df0['N1'] = N1\n",
    "df0['N2'] = N2"
   ]
  },
  {
   "cell_type": "code",
   "execution_count": 26,
   "id": "eb968a01",
   "metadata": {},
   "outputs": [
    {
     "name": "stdout",
     "output_type": "stream",
     "text": [
      "                  berk_jones_greater  berk_jones_less  fisher_greater  \\\n",
      "T    N1    N2                                                           \n",
      "1000 10000 10000            6.814281         6.741345        2.104427   \n",
      "\n",
      "                  fisher_less  hc_greater   hc_less  log_rank_greater  \\\n",
      "T    N1    N2                                                           \n",
      "1000 10000 10000     2.107693    4.780447  4.677201          1.053348   \n",
      "\n",
      "                  log_rank_less  min_p_greater  min_p_less  wilcoxon_greater  \\\n",
      "T    N1    N2                                                                  \n",
      "1000 10000 10000       1.053348       9.885502    9.832559          2.112928   \n",
      "\n",
      "                  wilcoxon_less  \n",
      "T    N1    N2                    \n",
      "1000 10000 10000       2.136037  \n",
      "Analyzing the case (T, N1, N2) = (1000, 10000, 10000)\n"
     ]
    },
    {
     "ename": "NameError",
     "evalue": "name 'tests' is not defined",
     "output_type": "error",
     "traceback": [
      "\u001b[0;31m---------------------------------------------------------------------------\u001b[0m",
      "\u001b[0;31mNameError\u001b[0m                                 Traceback (most recent call last)",
      "\u001b[0;32m<ipython-input-26-2afe0806879b>\u001b[0m in \u001b[0;36m<module>\u001b[0;34m\u001b[0m\n\u001b[1;32m     11\u001b[0m     \u001b[0mdfc\u001b[0m \u001b[0;34m=\u001b[0m \u001b[0mc\u001b[0m\u001b[0;34m[\u001b[0m\u001b[0;36m1\u001b[0m\u001b[0;34m]\u001b[0m\u001b[0;34m\u001b[0m\u001b[0;34m\u001b[0m\u001b[0m\n\u001b[1;32m     12\u001b[0m \u001b[0;34m\u001b[0m\u001b[0m\n\u001b[0;32m---> 13\u001b[0;31m     \u001b[0;32mfor\u001b[0m \u001b[0mtsn\u001b[0m \u001b[0;32min\u001b[0m \u001b[0mtests\u001b[0m\u001b[0;34m:\u001b[0m\u001b[0;34m\u001b[0m\u001b[0;34m\u001b[0m\u001b[0m\n\u001b[0m\u001b[1;32m     14\u001b[0m         \u001b[0mname_good\u001b[0m \u001b[0;34m=\u001b[0m \u001b[0mtsn\u001b[0m \u001b[0;34m+\u001b[0m \u001b[0;34m'_'\u001b[0m \u001b[0;34m+\u001b[0m \u001b[0mgood_side\u001b[0m\u001b[0;34m\u001b[0m\u001b[0;34m\u001b[0m\u001b[0m\n\u001b[1;32m     15\u001b[0m         \u001b[0mname_bad\u001b[0m \u001b[0;34m=\u001b[0m \u001b[0mtsn\u001b[0m \u001b[0;34m+\u001b[0m \u001b[0;34m'_'\u001b[0m \u001b[0;34m+\u001b[0m \u001b[0mbad_side\u001b[0m\u001b[0;34m\u001b[0m\u001b[0;34m\u001b[0m\u001b[0m\n",
      "\u001b[0;31mNameError\u001b[0m: name 'tests' is not defined"
     ]
    }
   ],
   "source": [
    "\n",
    "global_params = ['T', 'N1', 'N2']\n",
    "\n",
    "print(df0.groupby(global_params).agg(q95))\n",
    "tcrit = df0.groupby(global_params).agg(q95)\n",
    "\n",
    "good_side = 'greater'\n",
    "bad_side = 'less'\n",
    "\n",
    "for c in df1.groupby(global_params):\n",
    "    print(f\"Analyzing the case (T, N1, N2) = {c[0]}\")\n",
    "    dfc = c[1]\n",
    "\n",
    "    for tsn in tests:\n",
    "        name_good = tsn + '_' + good_side\n",
    "        name_bad = tsn + '_' + bad_side\n",
    "\n",
    "        # we check rate when both sides succedds. These are not good outcomes\n",
    "        two_side_succ = ( dfc[name_good] > tcrit[name_good].values[0] ) & ( dfc[name_bad] > tcrit[name_bad].values[0] )\n",
    "        print(f\"{tsn}: both sides detected in {np.mean(two_side_succ)} of cases\")\n",
    "        print(\"(you should be worried if this number is significantly larger than 0.05)\")"
   ]
  },
  {
   "cell_type": "markdown",
   "id": "b21e060d",
   "metadata": {},
   "source": [
    "### Power Analysis:"
   ]
  },
  {
   "cell_type": "code",
   "execution_count": 27,
   "id": "0a71e186",
   "metadata": {},
   "outputs": [
    {
     "ename": "FileNotFoundError",
     "evalue": "[Errno 2] No such file or directory: 'results.csv'",
     "output_type": "error",
     "traceback": [
      "\u001b[0;31m---------------------------------------------------------------------------\u001b[0m",
      "\u001b[0;31mFileNotFoundError\u001b[0m                         Traceback (most recent call last)",
      "\u001b[0;32m<ipython-input-27-74c200710abb>\u001b[0m in \u001b[0;36m<module>\u001b[0;34m\u001b[0m\n\u001b[0;32m----> 1\u001b[0;31m \u001b[0mresults\u001b[0m \u001b[0;34m=\u001b[0m \u001b[0mpd\u001b[0m\u001b[0;34m.\u001b[0m\u001b[0mread_csv\u001b[0m\u001b[0;34m(\u001b[0m\u001b[0;34m\"results.csv\"\u001b[0m\u001b[0;34m)\u001b[0m\u001b[0;34m.\u001b[0m\u001b[0mfilter\u001b[0m\u001b[0;34m(\u001b[0m\u001b[0mregex\u001b[0m \u001b[0;34m=\u001b[0m \u001b[0;34m'^((?!Unnamed).)*$'\u001b[0m\u001b[0;34m)\u001b[0m\u001b[0;34m\u001b[0m\u001b[0;34m\u001b[0m\u001b[0m\n\u001b[0m\u001b[1;32m      2\u001b[0m \u001b[0mresults\u001b[0m\u001b[0;34m.\u001b[0m\u001b[0mhead\u001b[0m\u001b[0;34m(\u001b[0m\u001b[0;34m)\u001b[0m\u001b[0;34m\u001b[0m\u001b[0;34m\u001b[0m\u001b[0m\n\u001b[1;32m      3\u001b[0m \u001b[0;34m\u001b[0m\u001b[0m\n\u001b[1;32m      4\u001b[0m \u001b[0mout_filename\u001b[0m \u001b[0;34m=\u001b[0m \u001b[0;34m'fig'\u001b[0m\u001b[0;34m\u001b[0m\u001b[0;34m\u001b[0m\u001b[0m\n\u001b[1;32m      5\u001b[0m \u001b[0mdf0\u001b[0m \u001b[0;34m=\u001b[0m \u001b[0mresults\u001b[0m\u001b[0;34m[\u001b[0m\u001b[0mresults\u001b[0m\u001b[0;34m.\u001b[0m\u001b[0mr\u001b[0m \u001b[0;34m==\u001b[0m \u001b[0;36m0\u001b[0m\u001b[0;34m]\u001b[0m\u001b[0;34m\u001b[0m\u001b[0;34m\u001b[0m\u001b[0m\n",
      "\u001b[0;32m/usr/local/lib/python3.8/site-packages/pandas/io/parsers.py\u001b[0m in \u001b[0;36mread_csv\u001b[0;34m(filepath_or_buffer, sep, delimiter, header, names, index_col, usecols, squeeze, prefix, mangle_dupe_cols, dtype, engine, converters, true_values, false_values, skipinitialspace, skiprows, skipfooter, nrows, na_values, keep_default_na, na_filter, verbose, skip_blank_lines, parse_dates, infer_datetime_format, keep_date_col, date_parser, dayfirst, cache_dates, iterator, chunksize, compression, thousands, decimal, lineterminator, quotechar, quoting, doublequote, escapechar, comment, encoding, dialect, error_bad_lines, warn_bad_lines, delim_whitespace, low_memory, memory_map, float_precision, storage_options)\u001b[0m\n\u001b[1;32m    608\u001b[0m     \u001b[0mkwds\u001b[0m\u001b[0;34m.\u001b[0m\u001b[0mupdate\u001b[0m\u001b[0;34m(\u001b[0m\u001b[0mkwds_defaults\u001b[0m\u001b[0;34m)\u001b[0m\u001b[0;34m\u001b[0m\u001b[0;34m\u001b[0m\u001b[0m\n\u001b[1;32m    609\u001b[0m \u001b[0;34m\u001b[0m\u001b[0m\n\u001b[0;32m--> 610\u001b[0;31m     \u001b[0;32mreturn\u001b[0m \u001b[0m_read\u001b[0m\u001b[0;34m(\u001b[0m\u001b[0mfilepath_or_buffer\u001b[0m\u001b[0;34m,\u001b[0m \u001b[0mkwds\u001b[0m\u001b[0;34m)\u001b[0m\u001b[0;34m\u001b[0m\u001b[0;34m\u001b[0m\u001b[0m\n\u001b[0m\u001b[1;32m    611\u001b[0m \u001b[0;34m\u001b[0m\u001b[0m\n\u001b[1;32m    612\u001b[0m \u001b[0;34m\u001b[0m\u001b[0m\n",
      "\u001b[0;32m/usr/local/lib/python3.8/site-packages/pandas/io/parsers.py\u001b[0m in \u001b[0;36m_read\u001b[0;34m(filepath_or_buffer, kwds)\u001b[0m\n\u001b[1;32m    460\u001b[0m \u001b[0;34m\u001b[0m\u001b[0m\n\u001b[1;32m    461\u001b[0m     \u001b[0;31m# Create the parser.\u001b[0m\u001b[0;34m\u001b[0m\u001b[0;34m\u001b[0m\u001b[0;34m\u001b[0m\u001b[0m\n\u001b[0;32m--> 462\u001b[0;31m     \u001b[0mparser\u001b[0m \u001b[0;34m=\u001b[0m \u001b[0mTextFileReader\u001b[0m\u001b[0;34m(\u001b[0m\u001b[0mfilepath_or_buffer\u001b[0m\u001b[0;34m,\u001b[0m \u001b[0;34m**\u001b[0m\u001b[0mkwds\u001b[0m\u001b[0;34m)\u001b[0m\u001b[0;34m\u001b[0m\u001b[0;34m\u001b[0m\u001b[0m\n\u001b[0m\u001b[1;32m    463\u001b[0m \u001b[0;34m\u001b[0m\u001b[0m\n\u001b[1;32m    464\u001b[0m     \u001b[0;32mif\u001b[0m \u001b[0mchunksize\u001b[0m \u001b[0;32mor\u001b[0m \u001b[0miterator\u001b[0m\u001b[0;34m:\u001b[0m\u001b[0;34m\u001b[0m\u001b[0;34m\u001b[0m\u001b[0m\n",
      "\u001b[0;32m/usr/local/lib/python3.8/site-packages/pandas/io/parsers.py\u001b[0m in \u001b[0;36m__init__\u001b[0;34m(self, f, engine, **kwds)\u001b[0m\n\u001b[1;32m    817\u001b[0m             \u001b[0mself\u001b[0m\u001b[0;34m.\u001b[0m\u001b[0moptions\u001b[0m\u001b[0;34m[\u001b[0m\u001b[0;34m\"has_index_names\"\u001b[0m\u001b[0;34m]\u001b[0m \u001b[0;34m=\u001b[0m \u001b[0mkwds\u001b[0m\u001b[0;34m[\u001b[0m\u001b[0;34m\"has_index_names\"\u001b[0m\u001b[0;34m]\u001b[0m\u001b[0;34m\u001b[0m\u001b[0;34m\u001b[0m\u001b[0m\n\u001b[1;32m    818\u001b[0m \u001b[0;34m\u001b[0m\u001b[0m\n\u001b[0;32m--> 819\u001b[0;31m         \u001b[0mself\u001b[0m\u001b[0;34m.\u001b[0m\u001b[0m_engine\u001b[0m \u001b[0;34m=\u001b[0m \u001b[0mself\u001b[0m\u001b[0;34m.\u001b[0m\u001b[0m_make_engine\u001b[0m\u001b[0;34m(\u001b[0m\u001b[0mself\u001b[0m\u001b[0;34m.\u001b[0m\u001b[0mengine\u001b[0m\u001b[0;34m)\u001b[0m\u001b[0;34m\u001b[0m\u001b[0;34m\u001b[0m\u001b[0m\n\u001b[0m\u001b[1;32m    820\u001b[0m \u001b[0;34m\u001b[0m\u001b[0m\n\u001b[1;32m    821\u001b[0m     \u001b[0;32mdef\u001b[0m \u001b[0mclose\u001b[0m\u001b[0;34m(\u001b[0m\u001b[0mself\u001b[0m\u001b[0;34m)\u001b[0m\u001b[0;34m:\u001b[0m\u001b[0;34m\u001b[0m\u001b[0;34m\u001b[0m\u001b[0m\n",
      "\u001b[0;32m/usr/local/lib/python3.8/site-packages/pandas/io/parsers.py\u001b[0m in \u001b[0;36m_make_engine\u001b[0;34m(self, engine)\u001b[0m\n\u001b[1;32m   1048\u001b[0m             )\n\u001b[1;32m   1049\u001b[0m         \u001b[0;31m# error: Too many arguments for \"ParserBase\"\u001b[0m\u001b[0;34m\u001b[0m\u001b[0;34m\u001b[0m\u001b[0;34m\u001b[0m\u001b[0m\n\u001b[0;32m-> 1050\u001b[0;31m         \u001b[0;32mreturn\u001b[0m \u001b[0mmapping\u001b[0m\u001b[0;34m[\u001b[0m\u001b[0mengine\u001b[0m\u001b[0;34m]\u001b[0m\u001b[0;34m(\u001b[0m\u001b[0mself\u001b[0m\u001b[0;34m.\u001b[0m\u001b[0mf\u001b[0m\u001b[0;34m,\u001b[0m \u001b[0;34m**\u001b[0m\u001b[0mself\u001b[0m\u001b[0;34m.\u001b[0m\u001b[0moptions\u001b[0m\u001b[0;34m)\u001b[0m  \u001b[0;31m# type: ignore[call-arg]\u001b[0m\u001b[0;34m\u001b[0m\u001b[0;34m\u001b[0m\u001b[0m\n\u001b[0m\u001b[1;32m   1051\u001b[0m \u001b[0;34m\u001b[0m\u001b[0m\n\u001b[1;32m   1052\u001b[0m     \u001b[0;32mdef\u001b[0m \u001b[0m_failover_to_python\u001b[0m\u001b[0;34m(\u001b[0m\u001b[0mself\u001b[0m\u001b[0;34m)\u001b[0m\u001b[0;34m:\u001b[0m\u001b[0;34m\u001b[0m\u001b[0;34m\u001b[0m\u001b[0m\n",
      "\u001b[0;32m/usr/local/lib/python3.8/site-packages/pandas/io/parsers.py\u001b[0m in \u001b[0;36m__init__\u001b[0;34m(self, src, **kwds)\u001b[0m\n\u001b[1;32m   1865\u001b[0m \u001b[0;34m\u001b[0m\u001b[0m\n\u001b[1;32m   1866\u001b[0m         \u001b[0;31m# open handles\u001b[0m\u001b[0;34m\u001b[0m\u001b[0;34m\u001b[0m\u001b[0;34m\u001b[0m\u001b[0m\n\u001b[0;32m-> 1867\u001b[0;31m         \u001b[0mself\u001b[0m\u001b[0;34m.\u001b[0m\u001b[0m_open_handles\u001b[0m\u001b[0;34m(\u001b[0m\u001b[0msrc\u001b[0m\u001b[0;34m,\u001b[0m \u001b[0mkwds\u001b[0m\u001b[0;34m)\u001b[0m\u001b[0;34m\u001b[0m\u001b[0;34m\u001b[0m\u001b[0m\n\u001b[0m\u001b[1;32m   1868\u001b[0m         \u001b[0;32massert\u001b[0m \u001b[0mself\u001b[0m\u001b[0;34m.\u001b[0m\u001b[0mhandles\u001b[0m \u001b[0;32mis\u001b[0m \u001b[0;32mnot\u001b[0m \u001b[0;32mNone\u001b[0m\u001b[0;34m\u001b[0m\u001b[0;34m\u001b[0m\u001b[0m\n\u001b[1;32m   1869\u001b[0m         \u001b[0;32mfor\u001b[0m \u001b[0mkey\u001b[0m \u001b[0;32min\u001b[0m \u001b[0;34m(\u001b[0m\u001b[0;34m\"storage_options\"\u001b[0m\u001b[0;34m,\u001b[0m \u001b[0;34m\"encoding\"\u001b[0m\u001b[0;34m,\u001b[0m \u001b[0;34m\"memory_map\"\u001b[0m\u001b[0;34m,\u001b[0m \u001b[0;34m\"compression\"\u001b[0m\u001b[0;34m)\u001b[0m\u001b[0;34m:\u001b[0m\u001b[0;34m\u001b[0m\u001b[0;34m\u001b[0m\u001b[0m\n",
      "\u001b[0;32m/usr/local/lib/python3.8/site-packages/pandas/io/parsers.py\u001b[0m in \u001b[0;36m_open_handles\u001b[0;34m(self, src, kwds)\u001b[0m\n\u001b[1;32m   1360\u001b[0m         \u001b[0mLet\u001b[0m \u001b[0mthe\u001b[0m \u001b[0mreaders\u001b[0m \u001b[0mopen\u001b[0m \u001b[0mIOHanldes\u001b[0m \u001b[0mafter\u001b[0m \u001b[0mthey\u001b[0m \u001b[0mare\u001b[0m \u001b[0mdone\u001b[0m \u001b[0;32mwith\u001b[0m \u001b[0mtheir\u001b[0m \u001b[0mpotential\u001b[0m \u001b[0mraises\u001b[0m\u001b[0;34m.\u001b[0m\u001b[0;34m\u001b[0m\u001b[0;34m\u001b[0m\u001b[0m\n\u001b[1;32m   1361\u001b[0m         \"\"\"\n\u001b[0;32m-> 1362\u001b[0;31m         self.handles = get_handle(\n\u001b[0m\u001b[1;32m   1363\u001b[0m             \u001b[0msrc\u001b[0m\u001b[0;34m,\u001b[0m\u001b[0;34m\u001b[0m\u001b[0;34m\u001b[0m\u001b[0m\n\u001b[1;32m   1364\u001b[0m             \u001b[0;34m\"r\"\u001b[0m\u001b[0;34m,\u001b[0m\u001b[0;34m\u001b[0m\u001b[0;34m\u001b[0m\u001b[0m\n",
      "\u001b[0;32m/usr/local/lib/python3.8/site-packages/pandas/io/common.py\u001b[0m in \u001b[0;36mget_handle\u001b[0;34m(path_or_buf, mode, encoding, compression, memory_map, is_text, errors, storage_options)\u001b[0m\n\u001b[1;32m    640\u001b[0m                 \u001b[0merrors\u001b[0m \u001b[0;34m=\u001b[0m \u001b[0;34m\"replace\"\u001b[0m\u001b[0;34m\u001b[0m\u001b[0;34m\u001b[0m\u001b[0m\n\u001b[1;32m    641\u001b[0m             \u001b[0;31m# Encoding\u001b[0m\u001b[0;34m\u001b[0m\u001b[0;34m\u001b[0m\u001b[0;34m\u001b[0m\u001b[0m\n\u001b[0;32m--> 642\u001b[0;31m             handle = open(\n\u001b[0m\u001b[1;32m    643\u001b[0m                 \u001b[0mhandle\u001b[0m\u001b[0;34m,\u001b[0m\u001b[0;34m\u001b[0m\u001b[0;34m\u001b[0m\u001b[0m\n\u001b[1;32m    644\u001b[0m                 \u001b[0mioargs\u001b[0m\u001b[0;34m.\u001b[0m\u001b[0mmode\u001b[0m\u001b[0;34m,\u001b[0m\u001b[0;34m\u001b[0m\u001b[0;34m\u001b[0m\u001b[0m\n",
      "\u001b[0;31mFileNotFoundError\u001b[0m: [Errno 2] No such file or directory: 'results.csv'"
     ]
    }
   ],
   "source": [
    "results = pd.read_csv(\"results.csv\").filter(regex = '^((?!Unnamed).)*$')\n",
    "results.head()\n",
    "\n",
    "out_filename = 'fig'\n",
    "df0 = results[results.r == 0]\n",
    "df1 = results[results.r > 0]"
   ]
  },
  {
   "cell_type": "code",
   "execution_count": 28,
   "id": "23d74f1d",
   "metadata": {},
   "outputs": [
    {
     "name": "stdout",
     "output_type": "stream",
     "text": [
      "Analyzing the case (T, N1, N2) = (1000, 10000, 10000)\n",
      "log_rank: both sides detected in 0.3261904761904762 of cases\n",
      "(you should be worried if this number is significantly larger than 0.025)\n"
     ]
    },
    {
     "ename": "KeyError",
     "evalue": "'r'",
     "output_type": "error",
     "traceback": [
      "\u001b[0;31m---------------------------------------------------------------------------\u001b[0m",
      "\u001b[0;31mKeyError\u001b[0m                                  Traceback (most recent call last)",
      "\u001b[0;32m/usr/local/lib/python3.8/site-packages/pandas/core/indexes/base.py\u001b[0m in \u001b[0;36mget_loc\u001b[0;34m(self, key, method, tolerance)\u001b[0m\n\u001b[1;32m   3079\u001b[0m             \u001b[0;32mtry\u001b[0m\u001b[0;34m:\u001b[0m\u001b[0;34m\u001b[0m\u001b[0;34m\u001b[0m\u001b[0m\n\u001b[0;32m-> 3080\u001b[0;31m                 \u001b[0;32mreturn\u001b[0m \u001b[0mself\u001b[0m\u001b[0;34m.\u001b[0m\u001b[0m_engine\u001b[0m\u001b[0;34m.\u001b[0m\u001b[0mget_loc\u001b[0m\u001b[0;34m(\u001b[0m\u001b[0mcasted_key\u001b[0m\u001b[0;34m)\u001b[0m\u001b[0;34m\u001b[0m\u001b[0;34m\u001b[0m\u001b[0m\n\u001b[0m\u001b[1;32m   3081\u001b[0m             \u001b[0;32mexcept\u001b[0m \u001b[0mKeyError\u001b[0m \u001b[0;32mas\u001b[0m \u001b[0merr\u001b[0m\u001b[0;34m:\u001b[0m\u001b[0;34m\u001b[0m\u001b[0;34m\u001b[0m\u001b[0m\n",
      "\u001b[0;32mpandas/_libs/index.pyx\u001b[0m in \u001b[0;36mpandas._libs.index.IndexEngine.get_loc\u001b[0;34m()\u001b[0m\n",
      "\u001b[0;32mpandas/_libs/index.pyx\u001b[0m in \u001b[0;36mpandas._libs.index.IndexEngine.get_loc\u001b[0;34m()\u001b[0m\n",
      "\u001b[0;32mpandas/_libs/hashtable_class_helper.pxi\u001b[0m in \u001b[0;36mpandas._libs.hashtable.PyObjectHashTable.get_item\u001b[0;34m()\u001b[0m\n",
      "\u001b[0;32mpandas/_libs/hashtable_class_helper.pxi\u001b[0m in \u001b[0;36mpandas._libs.hashtable.PyObjectHashTable.get_item\u001b[0;34m()\u001b[0m\n",
      "\u001b[0;31mKeyError\u001b[0m: 'r'",
      "\nThe above exception was the direct cause of the following exception:\n",
      "\u001b[0;31mKeyError\u001b[0m                                  Traceback (most recent call last)",
      "\u001b[0;32m<ipython-input-28-fd385b5713d4>\u001b[0m in \u001b[0;36m<module>\u001b[0;34m\u001b[0m\n\u001b[1;32m     34\u001b[0m \u001b[0;34m\u001b[0m\u001b[0m\n\u001b[1;32m     35\u001b[0m         \u001b[0mbb\u001b[0m \u001b[0;34m=\u001b[0m \u001b[0mdfc\u001b[0m\u001b[0;34m[\u001b[0m\u001b[0;34m'beta'\u001b[0m\u001b[0;34m]\u001b[0m\u001b[0;34m.\u001b[0m\u001b[0munique\u001b[0m\u001b[0;34m(\u001b[0m\u001b[0;34m)\u001b[0m\u001b[0;34m\u001b[0m\u001b[0;34m\u001b[0m\u001b[0m\n\u001b[0;32m---> 36\u001b[0;31m         \u001b[0mrr\u001b[0m \u001b[0;34m=\u001b[0m \u001b[0mdfc\u001b[0m\u001b[0;34m[\u001b[0m\u001b[0;34m'r'\u001b[0m\u001b[0;34m]\u001b[0m\u001b[0;34m.\u001b[0m\u001b[0munique\u001b[0m\u001b[0;34m(\u001b[0m\u001b[0;34m)\u001b[0m\u001b[0;34m\u001b[0m\u001b[0;34m\u001b[0m\u001b[0m\n\u001b[0m\u001b[1;32m     37\u001b[0m         \u001b[0mmat\u001b[0m \u001b[0;34m=\u001b[0m \u001b[0mnp\u001b[0m\u001b[0;34m.\u001b[0m\u001b[0mzeros\u001b[0m\u001b[0;34m(\u001b[0m\u001b[0;34m(\u001b[0m\u001b[0mlen\u001b[0m\u001b[0;34m(\u001b[0m\u001b[0mbb\u001b[0m\u001b[0;34m)\u001b[0m\u001b[0;34m,\u001b[0m \u001b[0mlen\u001b[0m\u001b[0;34m(\u001b[0m\u001b[0mrr\u001b[0m\u001b[0;34m)\u001b[0m\u001b[0;34m)\u001b[0m\u001b[0;34m)\u001b[0m\u001b[0;34m\u001b[0m\u001b[0;34m\u001b[0m\u001b[0m\n\u001b[1;32m     38\u001b[0m         \u001b[0;32mfor\u001b[0m \u001b[0mi\u001b[0m\u001b[0;34m,\u001b[0m\u001b[0mbeta\u001b[0m \u001b[0;32min\u001b[0m \u001b[0menumerate\u001b[0m\u001b[0;34m(\u001b[0m\u001b[0mbb\u001b[0m\u001b[0;34m)\u001b[0m\u001b[0;34m:\u001b[0m\u001b[0;34m\u001b[0m\u001b[0;34m\u001b[0m\u001b[0m\n",
      "\u001b[0;32m/usr/local/lib/python3.8/site-packages/pandas/core/frame.py\u001b[0m in \u001b[0;36m__getitem__\u001b[0;34m(self, key)\u001b[0m\n\u001b[1;32m   3022\u001b[0m             \u001b[0;32mif\u001b[0m \u001b[0mself\u001b[0m\u001b[0;34m.\u001b[0m\u001b[0mcolumns\u001b[0m\u001b[0;34m.\u001b[0m\u001b[0mnlevels\u001b[0m \u001b[0;34m>\u001b[0m \u001b[0;36m1\u001b[0m\u001b[0;34m:\u001b[0m\u001b[0;34m\u001b[0m\u001b[0;34m\u001b[0m\u001b[0m\n\u001b[1;32m   3023\u001b[0m                 \u001b[0;32mreturn\u001b[0m \u001b[0mself\u001b[0m\u001b[0;34m.\u001b[0m\u001b[0m_getitem_multilevel\u001b[0m\u001b[0;34m(\u001b[0m\u001b[0mkey\u001b[0m\u001b[0;34m)\u001b[0m\u001b[0;34m\u001b[0m\u001b[0;34m\u001b[0m\u001b[0m\n\u001b[0;32m-> 3024\u001b[0;31m             \u001b[0mindexer\u001b[0m \u001b[0;34m=\u001b[0m \u001b[0mself\u001b[0m\u001b[0;34m.\u001b[0m\u001b[0mcolumns\u001b[0m\u001b[0;34m.\u001b[0m\u001b[0mget_loc\u001b[0m\u001b[0;34m(\u001b[0m\u001b[0mkey\u001b[0m\u001b[0;34m)\u001b[0m\u001b[0;34m\u001b[0m\u001b[0;34m\u001b[0m\u001b[0m\n\u001b[0m\u001b[1;32m   3025\u001b[0m             \u001b[0;32mif\u001b[0m \u001b[0mis_integer\u001b[0m\u001b[0;34m(\u001b[0m\u001b[0mindexer\u001b[0m\u001b[0;34m)\u001b[0m\u001b[0;34m:\u001b[0m\u001b[0;34m\u001b[0m\u001b[0;34m\u001b[0m\u001b[0m\n\u001b[1;32m   3026\u001b[0m                 \u001b[0mindexer\u001b[0m \u001b[0;34m=\u001b[0m \u001b[0;34m[\u001b[0m\u001b[0mindexer\u001b[0m\u001b[0;34m]\u001b[0m\u001b[0;34m\u001b[0m\u001b[0;34m\u001b[0m\u001b[0m\n",
      "\u001b[0;32m/usr/local/lib/python3.8/site-packages/pandas/core/indexes/base.py\u001b[0m in \u001b[0;36mget_loc\u001b[0;34m(self, key, method, tolerance)\u001b[0m\n\u001b[1;32m   3080\u001b[0m                 \u001b[0;32mreturn\u001b[0m \u001b[0mself\u001b[0m\u001b[0;34m.\u001b[0m\u001b[0m_engine\u001b[0m\u001b[0;34m.\u001b[0m\u001b[0mget_loc\u001b[0m\u001b[0;34m(\u001b[0m\u001b[0mcasted_key\u001b[0m\u001b[0;34m)\u001b[0m\u001b[0;34m\u001b[0m\u001b[0;34m\u001b[0m\u001b[0m\n\u001b[1;32m   3081\u001b[0m             \u001b[0;32mexcept\u001b[0m \u001b[0mKeyError\u001b[0m \u001b[0;32mas\u001b[0m \u001b[0merr\u001b[0m\u001b[0;34m:\u001b[0m\u001b[0;34m\u001b[0m\u001b[0;34m\u001b[0m\u001b[0m\n\u001b[0;32m-> 3082\u001b[0;31m                 \u001b[0;32mraise\u001b[0m \u001b[0mKeyError\u001b[0m\u001b[0;34m(\u001b[0m\u001b[0mkey\u001b[0m\u001b[0;34m)\u001b[0m \u001b[0;32mfrom\u001b[0m \u001b[0merr\u001b[0m\u001b[0;34m\u001b[0m\u001b[0;34m\u001b[0m\u001b[0m\n\u001b[0m\u001b[1;32m   3083\u001b[0m \u001b[0;34m\u001b[0m\u001b[0m\n\u001b[1;32m   3084\u001b[0m         \u001b[0;32mif\u001b[0m \u001b[0mtolerance\u001b[0m \u001b[0;32mis\u001b[0m \u001b[0;32mnot\u001b[0m \u001b[0;32mNone\u001b[0m\u001b[0;34m:\u001b[0m\u001b[0;34m\u001b[0m\u001b[0;34m\u001b[0m\u001b[0m\n",
      "\u001b[0;31mKeyError\u001b[0m: 'r'"
     ]
    }
   ],
   "source": [
    "#def illustrate_phase_diagrams(df1, df0, out_filename='phase_diagram'):\n",
    "\"\"\"\n",
    "\n",
    "Args:\n",
    "-----\n",
    ":df1:   results from experiments under alternative \n",
    ":df0:   results from experiments under null\n",
    ":out_filename:   file/path name to write to\n",
    "\"\"\"\n",
    "\n",
    "\n",
    "params = ['itr', 'T', 'N1', 'N2', 'r', 'beta']\n",
    "tests = ['log_rank', 'hc', 'min_p', 'berk_jones', 'wilcoxon', 'fisher']\n",
    "tests_vars = [c for c in df0.columns if c not in params and 'Unnamed' not in c]\n",
    "\n",
    "global_params = ['T', 'N1', 'N2']\n",
    "tcrit = df0.groupby(global_params).agg(q95)\n",
    "\n",
    "good_side = 'greater'\n",
    "bad_side = 'less'\n",
    "\n",
    "for c in df1.groupby(global_params):\n",
    "    print(f\"Analyzing the case (T, N1, N2) = {c[0]}\")\n",
    "    dfc = c[1]\n",
    "\n",
    "    for tsn in tests:\n",
    "        name_good = tsn + '_' + good_side\n",
    "        name_bad = tsn + '_' + bad_side\n",
    "\n",
    "        # we check rate when both sides succedds. These are not good outcomes\n",
    "        two_side_succ = ( dfc[name_good] > tcrit[name_good].values[0] ) & ( dfc[name_bad] > tcrit[name_bad].values[0] )\n",
    "        print(f\"{tsn}: both sides detected in {np.mean(two_side_succ)} of cases\")\n",
    "        print(\"(you should be worried if this number is significantly larger than 0.025)\")\n",
    "\n",
    "        bb = dfc['beta'].unique()\n",
    "        rr = dfc['r'].unique()\n",
    "        mat = np.zeros((len(bb), len(rr)))\n",
    "        for i,beta in enumerate(bb):\n",
    "            for j,r in enumerate(rr):\n",
    "                dfs = dfc[(dfc['beta'] == beta) & (dfc['r'] == r) ]\n",
    "                succ = dfs[name_good] > tcrit[name_good].values[0]\n",
    "                mat[i,j] = np.mean(succ)\n",
    "\n",
    "        plt.figure()\n",
    "        g = seaborn.heatmap(mat[:,::-1].T)\n",
    "        plt.title(f\"{tsn} (power at .05 level)\")\n",
    "        g.set_xticklabels(bb)\n",
    "        g.set_xlabel('sparsity')\n",
    "        g.set_ylabel('intensity')\n",
    "        #g.set_yticklabels(np.round(mm[::-1],3))\n",
    "        g.set_yticklabels(np.round(rr[::-1],3))\n",
    "        fn = out_filename + tsn + \".png\"\n",
    "        plt.savefig(fn)\n",
    "        plt.show()"
   ]
  },
  {
   "cell_type": "code",
   "execution_count": 342,
   "id": "ca71b307",
   "metadata": {},
   "outputs": [
    {
     "data": {
      "image/png": "[encoded data removed]",
      "text/plain": [
       "<Figure size 576x432 with 1 Axes>"
      ]
     },
     "metadata": {},
     "output_type": "display_data"
    }
   ],
   "source": [
    "bb = np.linspace(0.5, 1, 171)\n",
    "\n",
    "def rhos(be, sigma):\n",
    "    if sigma**2 < 2:\n",
    "        if be < 1 - sigma**2/4:\n",
    "            return (2-sigma**2) * (be - 1/2)\n",
    "        else:\n",
    "            return (1-sigma*np.sqrt(1- be))**2\n",
    "    else:\n",
    "        if be < 1 - 1/sigma**2:\n",
    "            return 0\n",
    "        else:\n",
    "            return (1-sigma*np.sqrt(1- be))**2\n",
    "\n",
    "        \n",
    "def plot_PT(r, sig):\n",
    "    bb = np.linspace(0.5, 1, 171)\n",
    "    rr = [rhos(b, sig) / r for b in bb]\n",
    "    plt.plot(bb, rr)\n",
    "\n",
    "            \n",
    "r = .25\n",
    "r_bar = 1 - r\n",
    "\n",
    "r1 = 2 * r * r_bar\n",
    "sig1 = 1\n",
    "\n",
    "plot_PT(r1, sig1)\n",
    "\n",
    "r2 = 1/2\n",
    "sig2 = np.sqrt(4 * r * r_bar)\n",
    "\n",
    "plot_PT(r2, sig2)\n",
    "\n",
    "plt.legend(['r1', 'r2'])\n",
    "plt.show()"
   ]
  },
  {
   "cell_type": "code",
   "execution_count": 347,
   "id": "6875ebcf",
   "metadata": {},
   "outputs": [],
   "source": [
    "from sample_poisson_data import *"
   ]
  },
  {
   "cell_type": "code",
   "execution_count": 356,
   "id": "afb510fc",
   "metadata": {},
   "outputs": [
    {
     "name": "stderr",
     "output_type": "stream",
     "text": [
      "<ipython-input-356-6c2616cdd073>:3: RuntimeWarning: divide by zero encountered in log\n",
      "  plt.plot(xx, np.log(xx))\n",
      "<ipython-input-356-6c2616cdd073>:4: RuntimeWarning: divide by zero encountered in true_divide\n",
      "  plt.plot(xx, -1 / xx)\n"
     ]
    },
    {
     "data": {
      "text/plain": [
       "[<matplotlib.lines.Line2D at 0x144bb0b80>]"
      ]
     },
     "execution_count": 356,
     "metadata": {},
     "output_type": "execute_result"
    },
    {
     "data": {
      "image/png": "[encoded data removed]",
      "text/plain": [
       "<Figure size 576x432 with 1 Axes>"
      ]
     },
     "metadata": {},
     "output_type": "display_data"
    }
   ],
   "source": [
    "xx = np.linspace(0, 2, 101)\n",
    "\n",
    "plt.plot(xx, np.log(xx))\n",
    "\n",
    "0plt.plot(xx, -1 / xx)\n",
    "plt.plot(xx, xx - 1)\n"
   ]
  },
  {
   "cell_type": "code",
   "execution_count": null,
   "id": "f4bfd101",
   "metadata": {},
   "outputs": [],
   "source": []
  }
 ],
 "metadata": {
  "kernelspec": {
   "display_name": "Python 3",
   "language": "python",
   "name": "python3"
  },
  "language_info": {
   "codemirror_mode": {
    "name": "ipython",
    "version": 3
   },
   "file_extension": ".py",
   "mimetype": "text/x-python",
   "name": "python",
   "nbconvert_exporter": "python",
   "pygments_lexer": "ipython3",
   "version": "3.8.5"
  }
 },
 "nbformat": 4,
 "nbformat_minor": 5
}
