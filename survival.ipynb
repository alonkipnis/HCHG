{
 "cells": [
  {
   "cell_type": "code",
   "execution_count": 17,
   "id": "c4429989",
   "metadata": {},
   "outputs": [],
   "source": [
    "# !pip3 install two-sample-binomial\n",
    "# !pip3 install multiple-hypothesis-testing\n",
    "\n",
    "from twosample import binom_test_two_sided\n",
    "from multitest import MultiTest\n",
    "\n",
    "import numpy as np\n",
    "import scipy\n",
    "\n",
    "\n",
    "import matplotlib.pyplot as plt\n",
    "import matplotlib as mpl\n",
    "plt.rcParams['figure.figsize'] =  [8, 6]\n",
    "mpl.style.use('ggplot')\n",
    "%matplotlib inline\n",
    "from tqdm import tqdm\n",
    "\n",
    "from scipy.stats import poisson, binom, norm, hypergeom, uniform\n",
    "\n",
    "import pandas as pd\n",
    "\n",
    "from sample_survival_data import *"
   ]
  },
  {
   "cell_type": "markdown",
   "id": "4e0049f9",
   "metadata": {},
   "source": [
    "- Min HypGeom \n",
    "- Look for data.\n",
    "    - SCANB ~ 3000 patients ~1000 unique time points\n",
    "    - Keywords: dose response curve,\n",
    "    - Perhaps survival of flies\n",
    "- "
   ]
  },
  {
   "cell_type": "markdown",
   "id": "b64318f8",
   "metadata": {},
   "source": [
    "# Multiple Testing approach to Survival Analysis\n",
    "\n",
    "\n",
    "Abstract\n",
    "\n",
    "In some cases the log-rank test fails to detect the effect much more often than an approaoch based on mulitple testing. We present a survival model demonstrating this case, sating that events in each group follows a Poisson distribution with typical base rate $\\lambda_1(t)$ and $\\lambda_2(t)$, respectively. Usually, for most measurements, we have $\\lambda_1(t) = \\lambda_2(t)$, whereas sometimes $\\lambda_2(t) > \\lambda_1(t)$ (the effect is $\\lambda_2(t) - \\lambda_1(t)$ for those $t$ when this difference is not zero). The model is implemented in the function `sample_survival_data` in the file `sample_survival_data.py`. \n",
    "\n",
    "In this notebook, we use a specific parametrization of sparsity and signal intensity in numerical simulations to find cases where higher criticism and minP tests outperform log-rank. "
   ]
  },
  {
   "cell_type": "markdown",
   "id": "009b4562",
   "metadata": {},
   "source": [
    "To do:\n",
    "- Replace exact binomial test with exact hypergeometric test. This probably does not change the asymptotic behavior of the test but will likley have better power in practice. \n",
    "- Make a power analysis across a phase space, analytically and empirically.\n",
    "- Derive the asymptotic power of the log-rank test under our model."
   ]
  },
  {
   "cell_type": "code",
   "execution_count": 2,
   "id": "fc5dfaff",
   "metadata": {},
   "outputs": [],
   "source": [
    "def log_rank_test(Nt1, Nt2):\n",
    "    \"\"\"\n",
    "    log-rank test \n",
    "    \n",
    "    Args:\n",
    "    -----\n",
    "    :Nt1:   vector of counts in group 1 (each count corresponds to an event)\n",
    "    :Nt2:   vector of counts in group 2 \n",
    "    \n",
    "    Returns:\n",
    "    -------\n",
    "    :z:       z score of the log-rank test\n",
    "    :pvalue:  P-value\n",
    "    \"\"\"\n",
    "    \n",
    "    assert(len(Nt1) == len(Nt2))\n",
    "    T = len(Nt1) - 1\n",
    "\n",
    "    e0 = np.zeros(T)\n",
    "    var0 = np.zeros(T)\n",
    "\n",
    "    Ot1 = -np.diff(Nt1)\n",
    "    Ot2 = -np.diff(Nt2)\n",
    "    \n",
    "    Nt = Nt2 + Nt1\n",
    "    e0 = Nt1[:-1] * (Ot1 + Ot2) / Nt[:-1]\n",
    "    var0 = e0 * ( (Nt[:-1] - (Ot1 + Ot2)) /  Nt[:-1]) * (Nt2[:-1] / (Nt[:-1] - 1))\n",
    "    \n",
    "    z = np.sum(Ot1 - e0) / np.sqrt(np.sum(var0))\n",
    "    pval = 2*norm.cdf(-np.abs(z))\n",
    "    return z, pval"
   ]
  },
  {
   "cell_type": "markdown",
   "id": "a3da77f9",
   "metadata": {},
   "source": [
    "$$\n",
    "{\\displaystyle E_{i,j}=N_{i,j}{\\frac {O_{j}}{N_{j}}}}\n",
    "$$\n",
    "$$\n",
    "{\\displaystyle V_{i,j}=E_{i,j}\\left({\\frac {N_{j}-O_{j}}{N_{j}}}\\right)\\left({\\frac {N_{j}-N_{i,j}}{N_{j}-1}}\\right)}\n",
    "$$"
   ]
  },
  {
   "cell_type": "code",
   "execution_count": 3,
   "id": "d738d10e",
   "metadata": {},
   "outputs": [],
   "source": [
    "def hypergeom_test(k, M, n, N, alternative = 'greater', randomize=False):\n",
    "    \"\"\"\n",
    "    Exact hypergeometric test\n",
    "    \n",
    "    Args:\n",
    "    -----\n",
    "    :k:    number of observed Type I objects\n",
    "    :M:    total number of object\n",
    "    :n:    total number of Type I objects\n",
    "    :N:    number of draws\n",
    "    :randomize:   whether to do a randomized test\n",
    "    :alternative: type of alternative to consider. Options are: \n",
    "                  'greater', 'less', 'two-sided'\n",
    "    \n",
    "    \"\"\"\n",
    "    \n",
    "    if randomize:\n",
    "        U = uniform.rvs(size=len(k))\n",
    "    else:\n",
    "        U = 0\n",
    "        \n",
    "    if alternative=='greater':\n",
    "        return hypergeom.sf(k, M, n, N) + U * hypergeom.pmf(k, M, n, N)\n",
    "    if alternative=='less':\n",
    "        return hypergeom.cdf(k-1, M, n, N) + U * hypergeom.pmf(k, M, n, N)\n",
    "    raise ValueError(\"two-sided alternative is not available yet\")"
   ]
  },
  {
   "cell_type": "code",
   "execution_count": 24,
   "id": "7e0499cd",
   "metadata": {},
   "outputs": [],
   "source": [
    "def q95(x):\n",
    "    \"\"\"\n",
    "    Compute the 95-th percentile of the vector x\n",
    "    \"\"\"\n",
    "    if x.dtypes.kind == 'O':\n",
    "        return np.nan\n",
    "    else:\n",
    "        return pd.Series.quantile(x, .95)\n"
   ]
  },
  {
   "cell_type": "code",
   "execution_count": 25,
   "id": "2f5b3ded",
   "metadata": {},
   "outputs": [],
   "source": [
    "def mutli_pvals(Nt1, Nt2):\n",
    "    \"\"\"\n",
    "    Compute P-values from the pair list of coutns in the two group \n",
    "    We have one p-value per event time\n",
    "    An even is a pair (Nt1[i], Nt2[i])\n",
    "    \n",
    "    Args:\n",
    "    -----\n",
    "    :Nt1:   vector of counts in group 1 (each count corresponds to an event)\n",
    "    :Nt2:   vector of counts in group 2 \n",
    "    \"\"\"\n",
    "    \n",
    "    assert(len(Nt1) == len(Nt2))\n",
    "    \n",
    "    Ot1 = -np.diff(Nt1)\n",
    "    Ot2 = -np.diff(Nt2)\n",
    "    Nt = Nt2 + Nt1\n",
    "    \n",
    "    # binomial p-value; \n",
    "    # TODO: replace with a hypergeometric p-value\n",
    "    # also have a one-sided version\n",
    "    n = Ot1 + Ot2\n",
    "    p = Nt2[:-1] / Nt[:-1]\n",
    "    x = Ot2\n",
    "    \n",
    "    #pvals = binom_test_two_sided(x, n, p, randomize=True)  \n",
    "    pvals = hypergeom_test(Ot2, Nt[:-1], Nt2[:-1], Ot1 + Ot2,\n",
    "                           randomize=True, alternative='greater')\n",
    "    return pvals\n",
    "\n",
    "\n",
    "def mutli_pvals_binom(Nt1, Nt2):\n",
    "    \"\"\"\n",
    "    Compute P-values from the pair list of coutns in the two group \n",
    "    We have one p-value per event time\n",
    "    An even is a pair (Nt1[i], Nt2[i])\n",
    "    \n",
    "    Args:\n",
    "    -----\n",
    "    :Nt1:   vector of counts in group 1 (each count corresponds to an event)\n",
    "    :Nt2:   vector of counts in group 2 \n",
    "    \"\"\"\n",
    "    \n",
    "    assert(len(Nt1) == len(Nt2))\n",
    "    \n",
    "    Ot1 = -np.diff(Nt1)\n",
    "    Ot2 = -np.diff(Nt2)\n",
    "    Nt = Nt2 + Nt1\n",
    "    \n",
    "    # binomial p-value; \n",
    "    # TODO: replace with a hypergeometric p-value\n",
    "    # also have a one-sided version\n",
    "    n = Ot1 + Ot2\n",
    "    p = Nt2[:-1] / Nt[:-1]\n",
    "    x = Ot2\n",
    "    \n",
    "    pvals = binom_test_two_sided(x, n, p, randomize=True)\n",
    "    return pvals"
   ]
  },
  {
   "cell_type": "code",
   "execution_count": 26,
   "id": "be8791ae",
   "metadata": {},
   "outputs": [],
   "source": [
    "def atmoic_experiment(T, N1, N2, eps, mu):\n",
    "    \"\"\"\n",
    "    Sample from survival data; evalaute several test statistics\n",
    "    \n",
    "    Args:\n",
    "    -----\n",
    "    :T:    time horizon (~ total number of events)\n",
    "    :N1:   total in group1 at t=0\n",
    "    :N2:   total in group1 at t=0\n",
    "    :eps:  fraction of non-null events\n",
    "    :mu:   intensity of non-null events\n",
    "    \n",
    "    \"\"\"\n",
    "    \n",
    "    Nt1, Nt2 = sample_survival_data(T, N1, N2, eps, mu)\n",
    "    return evaluate_test_stats(Nt1, Nt2)\n",
    "\n",
    "\n",
    "def evaluate_test_stats(Nt1, Nt2):\n",
    "    \"\"\"\n",
    "    Args:\n",
    "    :Nt1: first list of events\n",
    "    :Nt2: second list of events\n",
    "    \n",
    "    Compute several statistics of the two-sample data:\n",
    "    log-rank\n",
    "    higher criticism\n",
    "    Fisher combination test\n",
    "    minimum P-value\n",
    "    Berk-Jones\n",
    "    Wilcoxon ranksum\n",
    "    \"\"\"\n",
    "    \n",
    "    lr, lr_pval = log_rank_test(Nt1, Nt2)\n",
    "    pvals = mutli_pvals(Nt1, Nt2)\n",
    "    mt = MultiTest(pvals, stbl=False) # if not using stbl=False, then sometimes\n",
    "                                      # HC misses the significance of the strongest effect \n",
    "    \n",
    "    return {'Logrank': np.abs(lr),\n",
    "            'HC': mt.hc()[0],\n",
    "            'Fisher': mt.fisher()[0],\n",
    "            'minP': mt.minp(),\n",
    "            'BJ': mt.berk_jones(gamma=.45),\n",
    "            'wilcoxon': -np.log(scipy.stats.ranksums(Nt1, Nt2).pvalue),\n",
    "           }"
   ]
  },
  {
   "cell_type": "markdown",
   "id": "29bdb17c",
   "metadata": {},
   "source": [
    "## Sample once:"
   ]
  },
  {
   "cell_type": "code",
   "execution_count": 33,
   "id": "61ac3a80",
   "metadata": {},
   "outputs": [
    {
     "name": "stdout",
     "output_type": "stream",
     "text": [
      "                BJ       Fisher        HC   Logrank       minP   wilcoxon\n",
      "null_95q  6.911782  4071.702032  4.777988  1.960859  10.620356  14.365465\n",
      "observed  5.273725  4009.634581  5.851688  1.498032  10.143416   9.815516\n",
      "is_sig    0.000000     0.000000  1.000000  0.000000   0.000000   0.000000\n",
      "-------------------------------------------------------------\n",
      "\n",
      "Fliping roles of the lists:\n",
      "                BJ       Fisher        HC   Logrank       minP   wilcoxon\n",
      "null_95q  6.911782  4071.702032  4.777988  1.960859  10.620356  14.365465\n",
      "observed  4.253643  4031.526977  1.708159  1.498032   6.154182   9.815516\n",
      "is_sig    0.000000     0.000000  0.000000  0.000000   0.000000   0.000000\n"
     ]
    },
    {
     "data": {
      "image/png": "[encoded data removed]",
      "text/plain": [
       "<Figure size 576x432 with 1 Axes>"
      ]
     },
     "metadata": {},
     "output_type": "display_data"
    }
   ],
   "source": [
    "# single experiment non-null\n",
    "\n",
    "T = 2000\n",
    "N1 = N2 = 1000\n",
    "beta = .7         # sparsity parameter\n",
    "eps = np.round(T ** -beta,4)   # sparsity rate\n",
    "mu = .02        # signal strength\n",
    "\n",
    "Nt1, Nt2 = sample_survival_data(T, N1, N2, eps, mu)\n",
    "\n",
    "lr, lr_pval = log_rank_test(Nt1, Nt2)\n",
    "pvals = mutli_pvals(Nt1, Nt2)\n",
    "mt = MultiTest(pvals, stbl=False)\n",
    "\n",
    "df_null = pd.read_csv(f\"under_null_T{T}_N{N1}.csv\").drop('Unnamed: 0', axis=1)\n",
    "r = {'Logrank': np.abs(lr),\n",
    "'HC': mt.hc()[0],\n",
    "'Fisher': mt.fisher()[0],\n",
    "'minP': mt.minp(),\n",
    "'BJ': mt.berk_jones(gamma=.45),\n",
    "'wilcoxon': -np.log(scipy.stats.ranksums(Nt1, Nt2).pvalue)\n",
    "    }\n",
    "\n",
    "df_null['obs'] = 'null_95q'\n",
    "rr = df_null.set_index('obs').append(pd.DataFrame(r, index=['observed']))\n",
    "s = (rr.T['null_95q'] < rr.T['observed'])\n",
    "s.name = 'is_sig'\n",
    "print(rr.append(s))\n",
    "\n",
    "print(\"-------------------------------------------------------------\\n\")\n",
    "print(\"Fliping roles of the lists:\")\n",
    "lr, lr_pval = log_rank_test(Nt2, Nt1)\n",
    "\n",
    "pvals = mutli_pvals(Nt2, Nt1)\n",
    "mt = MultiTest(pvals, stbl=False)\n",
    "\n",
    "df_null = pd.read_csv(f\"under_null_T{T}_N{N1}.csv\").drop('Unnamed: 0', axis=1)\n",
    "r = {'Logrank': np.abs(lr),\n",
    "'HC': mt.hc()[0],\n",
    "'Fisher': mt.fisher()[0],\n",
    "'minP': mt.minp(),\n",
    "'BJ': mt.berk_jones(gamma=.45),\n",
    "'wilcoxon': -np.log(scipy.stats.ranksums(Nt1, Nt2).pvalue)\n",
    "    }\n",
    "\n",
    "df_null['obs'] = 'null_95q'\n",
    "rr = df_null.set_index('obs').append(pd.DataFrame(r, index=['observed']))\n",
    "s = (rr.T['null_95q'] < rr.T['observed'])\n",
    "s.name = 'is_sig'\n",
    "print(rr.append(s))\n",
    "\n",
    "tt = np.arange(T)\n",
    "plt.plot(tt, Nt1[1:])\n",
    "plt.plot(tt, Nt2[1:])\n",
    "plt.show()\n",
    "#pd.DataFrame({'N1' : Nt1, 'N2' : Nt2}).to_csv(f'surv_mu{mu}_eps{eps}.csv')\n"
   ]
  },
  {
   "cell_type": "markdown",
   "id": "cf3b3fbd",
   "metadata": {},
   "source": [
    "## Atomic experiment:"
   ]
  },
  {
   "cell_type": "code",
   "execution_count": 12,
   "id": "19a121c1",
   "metadata": {},
   "outputs": [
    {
     "data": {
      "text/plain": [
       "{'Logrank': 5.952263207723344,\n",
       " 'HC': 134.11062194288294,\n",
       " 'Fisher': 4234.682178177006,\n",
       " 'minP': 17.089574035423794,\n",
       " 'BJ': 14.508657620446826,\n",
       " 'wilcoxon': 101.14994959179218}"
      ]
     },
     "execution_count": 12,
     "metadata": {},
     "output_type": "execute_result"
    }
   ],
   "source": [
    "Nt1, Nt2 = sample_survival_data(T, N1, N2, eps, mu)\n",
    "evaluate_test_stats(Nt1, Nt2)"
   ]
  },
  {
   "cell_type": "markdown",
   "id": "3c5c42b9",
   "metadata": {},
   "source": [
    "## Many experiments"
   ]
  },
  {
   "cell_type": "code",
   "execution_count": 39,
   "id": "39ed1d5a",
   "metadata": {},
   "outputs": [],
   "source": [
    "#params:\n",
    "T = 1000     # number of event\n",
    "N = N1 = N2 = 1500    # number in group 1 and 2 at t=0"
   ]
  },
  {
   "cell_type": "markdown",
   "id": "2a13cbf4",
   "metadata": {},
   "source": [
    "### Null Behavior"
   ]
  },
  {
   "cell_type": "code",
   "execution_count": 115,
   "id": "ce0e5adf",
   "metadata": {},
   "outputs": [
    {
     "name": "stderr",
     "output_type": "stream",
     "text": [
      "100%|██████████| 10000/10000 [12:10<00:00, 13.70it/s]"
     ]
    },
    {
     "name": "stdout",
     "output_type": "stream",
     "text": [
      "           BJ      Fisher        HC   Logrank      minP   wilcoxon\n",
      "q95  6.698572  2101.67351  4.439594  1.960672  9.753239  10.237862\n"
     ]
    },
    {
     "name": "stderr",
     "output_type": "stream",
     "text": [
      "\n"
     ]
    }
   ],
   "source": [
    "# under null\n",
    "\n",
    "from twosample import binom_test_two_sided\n",
    "from multitest import MultiTest\n",
    "from typing import List\n",
    "\n",
    "nMonte = 10000  #   number of experiments to evaluate dist. under null\n",
    "df0 = pd.DataFrame()\n",
    "for itr in tqdm(range(nMonte)):\n",
    "    Nt1, Nt2 = sample_survival_data(T, N1, N2, 0, 0)\n",
    "    res = evaluate_test_stats(Nt1, Nt2)\n",
    "    df0 = df0.append(res, ignore_index=True)\n",
    "\n",
    "# critical values under the null:\n",
    "df0.agg([q95]).to_csv(f\"under_null_T{T}_N{N1}.csv\")\n",
    "print(df0.agg([q95]))"
   ]
  },
  {
   "cell_type": "markdown",
   "id": "da831e5a",
   "metadata": {},
   "source": [
    "### Non-Null Behavior"
   ]
  },
  {
   "cell_type": "code",
   "execution_count": 43,
   "id": "13875b3d",
   "metadata": {},
   "outputs": [
    {
     "name": "stderr",
     "output_type": "stream",
     "text": [
      "100%|██████████| 100/100 [08:05<00:00,  4.85s/it]\n"
     ]
    }
   ],
   "source": [
    "# under non-null\n",
    "\n",
    "from twosample import binom_test_two_sided\n",
    "from multitest import MultiTest\n",
    "from typing import List\n",
    "\n",
    "bb = np.linspace(.5, .9, 7)\n",
    "rr = np.sqrt(np.linspace(0.01, 1, 9))\n",
    "mm = 2 * rr * np.log(T) / N\n",
    "\n",
    "df1 = pd.DataFrame()\n",
    "nMonte = 100       # number of experiments\n",
    "\n",
    "for itr in tqdm(range(nMonte)):\n",
    "    for beta in bb:\n",
    "        for mu in mm:\n",
    "            eps = T ** -beta   # sparsity rate\n",
    "            Nt1, Nt2 = sample_survival_data(T, N1, N2, eps, mu)\n",
    "            res1 = evaluate_test_stats(Nt1, Nt2)\n",
    "            res2 = evaluate_test_stats(Nt2, Nt1)\n",
    "            res = pd.DataFrame(res1, index=[0])\\\n",
    "                    .join(pd.DataFrame(res2, index=[0]), rsuffix='2')\n",
    "            res['mu'] = mu\n",
    "            res['eps'] = eps\n",
    "            res['beta'] = beta\n",
    "            res['itr'] = itr\n",
    "            df1 = df1.append(res, ignore_index=True)"
   ]
  },
  {
   "cell_type": "markdown",
   "id": "ea025858",
   "metadata": {},
   "source": [
    "In how many cases both the reversed and original sides were significant?"
   ]
  },
  {
   "cell_type": "code",
   "execution_count": 44,
   "id": "8182a7b2",
   "metadata": {},
   "outputs": [
    {
     "name": "stdout",
     "output_type": "stream",
     "text": [
      "Logrank: 0.5428571428571428 of cases\n",
      "minP: 0.03841269841269841 of cases\n",
      "HC: 0.039841269841269844 of cases\n",
      "BJ: 0.04492063492063492 of cases\n",
      "wilcoxon: 0.5096825396825397 of cases\n",
      "Fisher: 0.004285714285714286 of cases\n"
     ]
    }
   ],
   "source": [
    "df_null = pd.read_csv(f\"under_null_T{T}_N{N}.csv\")\n",
    "tests = ['Logrank', 'minP', 'HC', 'BJ', 'wilcoxon', 'Fisher']\n",
    "for tsn in tests:\n",
    "    tcrit = df_null[tsn].values[0]\n",
    "    succ = (df1[tsn] > tcrit) & (df1[tsn + '2'] > tcrit)\n",
    "    print(f\"{tsn}: {np.mean(succ)} of cases\")\n",
    "    "
   ]
  },
  {
   "cell_type": "markdown",
   "id": "2568e323",
   "metadata": {},
   "source": [
    "### Power Analysis:\n",
    "\n",
    "Make sure to first find behavior under null with the selected $T$ and $N_1$ and $N_2$"
   ]
  },
  {
   "cell_type": "code",
   "execution_count": 45,
   "id": "8bc16c94",
   "metadata": {},
   "outputs": [
    {
     "data": {
      "image/png": "[encoded data removed]",
      "text/plain": [
       "<Figure size 576x432 with 2 Axes>"
      ]
     },
     "metadata": {},
     "output_type": "display_data"
    },
    {
     "data": {
      "image/png": "[encoded data removed]",
      "text/plain": [
       "<Figure size 576x432 with 2 Axes>"
      ]
     },
     "metadata": {},
     "output_type": "display_data"
    },
    {
     "data": {
      "image/png": "[encoded data removed]",
      "text/plain": [
       "<Figure size 576x432 with 2 Axes>"
      ]
     },
     "metadata": {},
     "output_type": "display_data"
    },
    {
     "data": {
      "image/png": "[encoded data removed]",
      "text/plain": [
       "<Figure size 576x432 with 2 Axes>"
      ]
     },
     "metadata": {},
     "output_type": "display_data"
    },
    {
     "data": {
      "image/png": "[encoded data removed]",
      "text/plain": [
       "<Figure size 576x432 with 2 Axes>"
      ]
     },
     "metadata": {},
     "output_type": "display_data"
    },
    {
     "data": {
      "image/png": "[encoded data removed]",
      "text/plain": [
       "<Figure size 576x432 with 2 Axes>"
      ]
     },
     "metadata": {},
     "output_type": "display_data"
    }
   ],
   "source": [
    "import seaborn \n",
    "tests = ['Logrank', 'minP', 'HC', 'BJ', 'wilcoxon', 'Fisher']\n",
    "\n",
    "df_null = pd.read_csv(f\"under_null_T{T}_N{N}.csv\")\n",
    "\n",
    "mat = np.zeros((len(bb), len(mm), len(tests)))\n",
    "\n",
    "for k,tsn in enumerate(tests):\n",
    "    for i,beta in enumerate(bb):\n",
    "        for j,m in enumerate(mm):\n",
    "            eps = T ** -beta   # sparsity rate\n",
    "            dfc = df1[np.abs(df1.eps - eps) + np.abs(df1.mu - m) < 1e-10]\n",
    "            tcrit = df_null[tsn].values[0]\n",
    "            succ = dfc[tsn] > tcrit\n",
    "            mat[i,j,k] = np.mean(succ)\n",
    "         \n",
    "    g = seaborn.heatmap(mat[:,::-1,k].T)\n",
    "    #plt.imshow(mat[k]);\n",
    "    plt.title(f\"{tsn} (power at .05 level)\")\n",
    "    g.set_xticklabels(bb)\n",
    "    g.set_xlabel('sparsity')\n",
    "    g.set_ylabel('intensity')\n",
    "    #g.set_yticklabels(np.round(mm[::-1],3))\n",
    "    g.set_yticklabels(np.round(rr[::-1],3))\n",
    "    plt.savefig(f\"{tsn}.png\")\n",
    "    plt.show()\n",
    "\n"
   ]
  },
  {
   "cell_type": "markdown",
   "id": "685c4466",
   "metadata": {},
   "source": [
    "It makes sense intuitively that log-rank has power similar to Fisher and Wilcoxon, since all these tests known to have power against \"dense\" alternatives. "
   ]
  },
  {
   "cell_type": "code",
   "execution_count": 7,
   "id": "79aa67a9",
   "metadata": {},
   "outputs": [
    {
     "data": {
      "text/plain": [
       "3"
      ]
     },
     "execution_count": 7,
     "metadata": {},
     "output_type": "execute_result"
    }
   ],
   "source": [
    "import numpy as np\n",
    "T = 1000\n",
    "N = 1000\n",
    "\n",
    "bb = np.linspace(.5, .9, 7)\n",
    "rr = np.sqrt(np.linspace(0.01, 1, 9))\n",
    "ss = np.sqrt(np.linspace(0.01, 1, 21))\n",
    "\n",
    "\n",
    "\n",
    "len(np.meshgrid(bb, rr, ss))"
   ]
  },
  {
   "cell_type": "code",
   "execution_count": 13,
   "id": "1ee17292",
   "metadata": {},
   "outputs": [],
   "source": [
    "import itertools\n",
    "\n",
    "var_names = ['bb', 'rr', 'ss']\n",
    "\n",
    "lol = [list(bb), list(rr), list(ss)]\n",
    "\n",
    "a = list(itertools.product(*lol))[0]"
   ]
  },
  {
   "cell_type": "code",
   "execution_count": 18,
   "id": "9b542bcd",
   "metadata": {},
   "outputs": [
    {
     "data": {
      "text/html": [
       "<div>\n",
       "<style scoped>\n",
       "    .dataframe tbody tr th:only-of-type {\n",
       "        vertical-align: middle;\n",
       "    }\n",
       "\n",
       "    .dataframe tbody tr th {\n",
       "        vertical-align: top;\n",
       "    }\n",
       "\n",
       "    .dataframe thead th {\n",
       "        text-align: right;\n",
       "    }\n",
       "</style>\n",
       "<table border=\"1\" class=\"dataframe\">\n",
       "  <thead>\n",
       "    <tr style=\"text-align: right;\">\n",
       "      <th></th>\n",
       "      <th>Unnamed: 0</th>\n",
       "      <th>itr</th>\n",
       "      <th>T</th>\n",
       "      <th>N</th>\n",
       "      <th>beta</th>\n",
       "      <th>r</th>\n",
       "      <th>log_rank_greater</th>\n",
       "      <th>hc_greater</th>\n",
       "      <th>fisher_greater</th>\n",
       "      <th>min_p_greater</th>\n",
       "      <th>berk_jones_greater</th>\n",
       "      <th>wilcoxon_greater</th>\n",
       "      <th>log_rank_less</th>\n",
       "      <th>hc_less</th>\n",
       "      <th>fisher_less</th>\n",
       "      <th>min_p_less</th>\n",
       "      <th>berk_jones_less</th>\n",
       "      <th>wilcoxon_less</th>\n",
       "    </tr>\n",
       "  </thead>\n",
       "  <tbody>\n",
       "    <tr>\n",
       "      <th>0</th>\n",
       "      <td>0</td>\n",
       "      <td>1</td>\n",
       "      <td>2000</td>\n",
       "      <td>1000</td>\n",
       "      <td>0.45</td>\n",
       "      <td>0.0</td>\n",
       "      <td>-0.966026</td>\n",
       "      <td>-0.278955</td>\n",
       "      <td>3882.305386</td>\n",
       "      <td>6.638680</td>\n",
       "      <td>3.667096</td>\n",
       "      <td>0.002316</td>\n",
       "      <td>-0.966026</td>\n",
       "      <td>3.714860</td>\n",
       "      <td>4019.981041</td>\n",
       "      <td>9.821549</td>\n",
       "      <td>3.804533</td>\n",
       "      <td>6.068913e+00</td>\n",
       "    </tr>\n",
       "    <tr>\n",
       "      <th>1</th>\n",
       "      <td>1</td>\n",
       "      <td>1</td>\n",
       "      <td>2000</td>\n",
       "      <td>1000</td>\n",
       "      <td>0.45</td>\n",
       "      <td>0.1</td>\n",
       "      <td>0.327041</td>\n",
       "      <td>7.336461</td>\n",
       "      <td>4036.761535</td>\n",
       "      <td>11.622771</td>\n",
       "      <td>8.457753</td>\n",
       "      <td>1.539613</td>\n",
       "      <td>0.327041</td>\n",
       "      <td>2.470378</td>\n",
       "      <td>3962.211385</td>\n",
       "      <td>8.708610</td>\n",
       "      <td>5.363491</td>\n",
       "      <td>2.413891e-01</td>\n",
       "    </tr>\n",
       "    <tr>\n",
       "      <th>2</th>\n",
       "      <td>2</td>\n",
       "      <td>1</td>\n",
       "      <td>2000</td>\n",
       "      <td>1000</td>\n",
       "      <td>0.45</td>\n",
       "      <td>0.2</td>\n",
       "      <td>3.193003</td>\n",
       "      <td>2.228486</td>\n",
       "      <td>4144.567391</td>\n",
       "      <td>7.270281</td>\n",
       "      <td>5.628824</td>\n",
       "      <td>32.525553</td>\n",
       "      <td>3.193003</td>\n",
       "      <td>1.583695</td>\n",
       "      <td>3886.335800</td>\n",
       "      <td>9.053409</td>\n",
       "      <td>4.264150</td>\n",
       "      <td>7.438494e-15</td>\n",
       "    </tr>\n",
       "    <tr>\n",
       "      <th>3</th>\n",
       "      <td>3</td>\n",
       "      <td>1</td>\n",
       "      <td>2000</td>\n",
       "      <td>1000</td>\n",
       "      <td>0.45</td>\n",
       "      <td>0.3</td>\n",
       "      <td>3.231736</td>\n",
       "      <td>3.578665</td>\n",
       "      <td>4216.064631</td>\n",
       "      <td>8.512330</td>\n",
       "      <td>8.067953</td>\n",
       "      <td>24.876941</td>\n",
       "      <td>3.231736</td>\n",
       "      <td>2.208848</td>\n",
       "      <td>3996.059875</td>\n",
       "      <td>7.068894</td>\n",
       "      <td>3.728449</td>\n",
       "      <td>1.570655e-11</td>\n",
       "    </tr>\n",
       "    <tr>\n",
       "      <th>4</th>\n",
       "      <td>4</td>\n",
       "      <td>1</td>\n",
       "      <td>2000</td>\n",
       "      <td>1000</td>\n",
       "      <td>0.45</td>\n",
       "      <td>0.4</td>\n",
       "      <td>3.370846</td>\n",
       "      <td>3.802660</td>\n",
       "      <td>4208.758454</td>\n",
       "      <td>8.144684</td>\n",
       "      <td>6.208088</td>\n",
       "      <td>33.500661</td>\n",
       "      <td>3.370846</td>\n",
       "      <td>2.130312</td>\n",
       "      <td>3915.159645</td>\n",
       "      <td>9.128616</td>\n",
       "      <td>3.976292</td>\n",
       "      <td>2.775558e-15</td>\n",
       "    </tr>\n",
       "  </tbody>\n",
       "</table>\n",
       "</div>"
      ],
      "text/plain": [
       "   Unnamed: 0  itr     T     N  beta    r  log_rank_greater  hc_greater  \\\n",
       "0           0    1  2000  1000  0.45  0.0         -0.966026   -0.278955   \n",
       "1           1    1  2000  1000  0.45  0.1          0.327041    7.336461   \n",
       "2           2    1  2000  1000  0.45  0.2          3.193003    2.228486   \n",
       "3           3    1  2000  1000  0.45  0.3          3.231736    3.578665   \n",
       "4           4    1  2000  1000  0.45  0.4          3.370846    3.802660   \n",
       "\n",
       "   fisher_greater  min_p_greater  berk_jones_greater  wilcoxon_greater  \\\n",
       "0     3882.305386       6.638680            3.667096          0.002316   \n",
       "1     4036.761535      11.622771            8.457753          1.539613   \n",
       "2     4144.567391       7.270281            5.628824         32.525553   \n",
       "3     4216.064631       8.512330            8.067953         24.876941   \n",
       "4     4208.758454       8.144684            6.208088         33.500661   \n",
       "\n",
       "   log_rank_less   hc_less  fisher_less  min_p_less  berk_jones_less  \\\n",
       "0      -0.966026  3.714860  4019.981041    9.821549         3.804533   \n",
       "1       0.327041  2.470378  3962.211385    8.708610         5.363491   \n",
       "2       3.193003  1.583695  3886.335800    9.053409         4.264150   \n",
       "3       3.231736  2.208848  3996.059875    7.068894         3.728449   \n",
       "4       3.370846  2.130312  3915.159645    9.128616         3.976292   \n",
       "\n",
       "   wilcoxon_less  \n",
       "0   6.068913e+00  \n",
       "1   2.413891e-01  \n",
       "2   7.438494e-15  \n",
       "3   1.570655e-11  \n",
       "4   2.775558e-15  "
      ]
     },
     "execution_count": 18,
     "metadata": {},
     "output_type": "execute_result"
    }
   ],
   "source": [
    "results = pd.read_csv(\"results.csv\")\n",
    "results.head()"
   ]
  },
  {
   "cell_type": "code",
   "execution_count": 20,
   "id": "63fb8d8d",
   "metadata": {},
   "outputs": [],
   "source": [
    "df0 = results[results.r == 0]\n",
    "df1 = results[results.r > 0]"
   ]
  },
  {
   "cell_type": "code",
   "execution_count": 28,
   "id": "6494055b",
   "metadata": {},
   "outputs": [
    {
     "data": {
      "text/html": [
       "<div>\n",
       "<style scoped>\n",
       "    .dataframe tbody tr th:only-of-type {\n",
       "        vertical-align: middle;\n",
       "    }\n",
       "\n",
       "    .dataframe tbody tr th {\n",
       "        vertical-align: top;\n",
       "    }\n",
       "\n",
       "    .dataframe thead tr th {\n",
       "        text-align: left;\n",
       "    }\n",
       "\n",
       "    .dataframe thead tr:last-of-type th {\n",
       "        text-align: right;\n",
       "    }\n",
       "</style>\n",
       "<table border=\"1\" class=\"dataframe\">\n",
       "  <thead>\n",
       "    <tr>\n",
       "      <th></th>\n",
       "      <th>Unnamed: 0</th>\n",
       "      <th>T</th>\n",
       "      <th>N</th>\n",
       "      <th>beta</th>\n",
       "      <th>r</th>\n",
       "      <th>log_rank_greater</th>\n",
       "      <th>hc_greater</th>\n",
       "      <th>fisher_greater</th>\n",
       "      <th>min_p_greater</th>\n",
       "      <th>berk_jones_greater</th>\n",
       "      <th>wilcoxon_greater</th>\n",
       "      <th>log_rank_less</th>\n",
       "      <th>hc_less</th>\n",
       "      <th>fisher_less</th>\n",
       "      <th>min_p_less</th>\n",
       "      <th>berk_jones_less</th>\n",
       "      <th>wilcoxon_less</th>\n",
       "    </tr>\n",
       "    <tr>\n",
       "      <th></th>\n",
       "      <th>q95</th>\n",
       "      <th>q95</th>\n",
       "      <th>q95</th>\n",
       "      <th>q95</th>\n",
       "      <th>q95</th>\n",
       "      <th>q95</th>\n",
       "      <th>q95</th>\n",
       "      <th>q95</th>\n",
       "      <th>q95</th>\n",
       "      <th>q95</th>\n",
       "      <th>q95</th>\n",
       "      <th>q95</th>\n",
       "      <th>q95</th>\n",
       "      <th>q95</th>\n",
       "      <th>q95</th>\n",
       "      <th>q95</th>\n",
       "      <th>q95</th>\n",
       "    </tr>\n",
       "    <tr>\n",
       "      <th>itr</th>\n",
       "      <th></th>\n",
       "      <th></th>\n",
       "      <th></th>\n",
       "      <th></th>\n",
       "      <th></th>\n",
       "      <th></th>\n",
       "      <th></th>\n",
       "      <th></th>\n",
       "      <th></th>\n",
       "      <th></th>\n",
       "      <th></th>\n",
       "      <th></th>\n",
       "      <th></th>\n",
       "      <th></th>\n",
       "      <th></th>\n",
       "      <th></th>\n",
       "      <th></th>\n",
       "    </tr>\n",
       "  </thead>\n",
       "  <tbody>\n",
       "    <tr>\n",
       "      <th>1</th>\n",
       "      <td>74.1</td>\n",
       "      <td>2000</td>\n",
       "      <td>1000</td>\n",
       "      <td>0.935</td>\n",
       "      <td>0.0</td>\n",
       "      <td>0.368570</td>\n",
       "      <td>2.812417</td>\n",
       "      <td>4028.021696</td>\n",
       "      <td>9.241799</td>\n",
       "      <td>5.035035</td>\n",
       "      <td>1.167908</td>\n",
       "      <td>0.368570</td>\n",
       "      <td>3.348856</td>\n",
       "      <td>4133.607083</td>\n",
       "      <td>9.427363</td>\n",
       "      <td>4.018593</td>\n",
       "      <td>6.009662</td>\n",
       "    </tr>\n",
       "    <tr>\n",
       "      <th>2</th>\n",
       "      <td>165.1</td>\n",
       "      <td>2000</td>\n",
       "      <td>1000</td>\n",
       "      <td>0.935</td>\n",
       "      <td>0.0</td>\n",
       "      <td>0.842526</td>\n",
       "      <td>3.213415</td>\n",
       "      <td>4073.881718</td>\n",
       "      <td>9.742613</td>\n",
       "      <td>5.192047</td>\n",
       "      <td>6.387607</td>\n",
       "      <td>0.842526</td>\n",
       "      <td>3.152167</td>\n",
       "      <td>4079.153013</td>\n",
       "      <td>9.279153</td>\n",
       "      <td>4.357926</td>\n",
       "      <td>6.202666</td>\n",
       "    </tr>\n",
       "    <tr>\n",
       "      <th>3</th>\n",
       "      <td>256.1</td>\n",
       "      <td>2000</td>\n",
       "      <td>1000</td>\n",
       "      <td>0.935</td>\n",
       "      <td>0.0</td>\n",
       "      <td>0.945005</td>\n",
       "      <td>6.075213</td>\n",
       "      <td>4126.590406</td>\n",
       "      <td>10.748422</td>\n",
       "      <td>7.419128</td>\n",
       "      <td>6.469886</td>\n",
       "      <td>0.945005</td>\n",
       "      <td>2.474525</td>\n",
       "      <td>4137.863710</td>\n",
       "      <td>8.303595</td>\n",
       "      <td>5.586062</td>\n",
       "      <td>23.070366</td>\n",
       "    </tr>\n",
       "  </tbody>\n",
       "</table>\n",
       "</div>"
      ],
      "text/plain": [
       "    Unnamed: 0     T     N   beta    r log_rank_greater hc_greater  \\\n",
       "           q95   q95   q95    q95  q95              q95        q95   \n",
       "itr                                                                  \n",
       "1         74.1  2000  1000  0.935  0.0         0.368570   2.812417   \n",
       "2        165.1  2000  1000  0.935  0.0         0.842526   3.213415   \n",
       "3        256.1  2000  1000  0.935  0.0         0.945005   6.075213   \n",
       "\n",
       "    fisher_greater min_p_greater berk_jones_greater wilcoxon_greater  \\\n",
       "               q95           q95                q95              q95   \n",
       "itr                                                                    \n",
       "1      4028.021696      9.241799           5.035035         1.167908   \n",
       "2      4073.881718      9.742613           5.192047         6.387607   \n",
       "3      4126.590406     10.748422           7.419128         6.469886   \n",
       "\n",
       "    log_rank_less   hc_less  fisher_less min_p_less berk_jones_less  \\\n",
       "              q95       q95          q95        q95             q95   \n",
       "itr                                                                   \n",
       "1        0.368570  3.348856  4133.607083   9.427363        4.018593   \n",
       "2        0.842526  3.152167  4079.153013   9.279153        4.357926   \n",
       "3        0.945005  2.474525  4137.863710   8.303595        5.586062   \n",
       "\n",
       "    wilcoxon_less  \n",
       "              q95  \n",
       "itr                \n",
       "1        6.009662  \n",
       "2        6.202666  \n",
       "3       23.070366  "
      ]
     },
     "execution_count": 28,
     "metadata": {},
     "output_type": "execute_result"
    }
   ],
   "source": [
    "\n",
    "df0.groupby().agg([q95])"
   ]
  },
  {
   "cell_type": "code",
   "execution_count": 30,
   "id": "3f92c5be",
   "metadata": {},
   "outputs": [
    {
     "data": {
      "text/plain": [
       "['log_rank_greater',\n",
       " 'hc_greater',\n",
       " 'fisher_greater',\n",
       " 'min_p_greater',\n",
       " 'berk_jones_greater',\n",
       " 'wilcoxon_greater',\n",
       " 'log_rank_less',\n",
       " 'hc_less',\n",
       " 'fisher_less',\n",
       " 'min_p_less',\n",
       " 'berk_jones_less',\n",
       " 'wilcoxon_less']"
      ]
     },
     "execution_count": 30,
     "metadata": {},
     "output_type": "execute_result"
    }
   ],
   "source": [
    "params = ['itr', 'T', 'N', 'r', 'beta']\n",
    "tests = ['log_rank', 'hc', 'min_p', 'berk_jones', 'wilcoxon', 'fisher']\n",
    "tests = [c for c in df0.columns if c not in params and 'Unnamed' not in c]\n",
    "tests"
   ]
  },
  {
   "cell_type": "code",
   "execution_count": 32,
   "id": "5f1490ce",
   "metadata": {},
   "outputs": [
    {
     "data": {
      "text/plain": [
       "0.0025000000000000044"
      ]
     },
     "execution_count": 32,
     "metadata": {},
     "output_type": "execute_result"
    }
   ],
   "source": [
    "(1-0.95)**2"
   ]
  },
  {
   "cell_type": "code",
   "execution_count": null,
   "id": "78369419",
   "metadata": {},
   "outputs": [],
   "source": [
    "\n",
    "    \n",
    "    \n",
    "\n",
    "\n",
    "\n",
    "#def illustrate_phase_diagrams(df1, df0, out_filename='phase_diagram'):\n",
    "\"\"\"\n",
    "\n",
    "Args:\n",
    "-----\n",
    ":df1:   results from experiments under alternative \n",
    ":df0:   results from experiments under null\n",
    ":out_filename:   file/path name to write to\n",
    "\"\"\"\n",
    "\n",
    "params = ['itr', 'T', 'N', 'r', 'beta']\n",
    "tests = ['log_rank', 'hc', 'min_p', 'berk_jones', 'wilcoxon', 'fisher']\n",
    "tests_vars = [c for c in df0.columns if c not in params and 'Unnamed' not in c]\n",
    "\n",
    "global_params = ['T', 'N']\n",
    "\n",
    "\n",
    "\n",
    "tcrit = df0.groupby(global_params).agg(q95)\n",
    "\n",
    "good_side = 'greater'\n",
    "bad_side = 'less'\n",
    "\n",
    "for T in df1['T'].unique():\n",
    "    for N in df1['N'].unique():\n",
    "        df00 = df0[(df0['N'] == N) & (df0['T'] == T)]\n",
    "        df11 = df1[(df1['N'] == N) & (df1['T'] == T)]\n",
    "        \n",
    "        print(f\"Analyzing the case (N,T) = {(N,T)}\")\n",
    "        \n",
    "        for tsn in tests:\n",
    "            name_good = tsn + '_' + good_side\n",
    "            name_bad = tsn + '_' + good_bad\n",
    "\n",
    "            # we check rate when both sides succedds. These are not good outcomes\n",
    "            two_side_succ = ( df1[name_good] > tcrit[name_good] ) & ( df1[name_bad] > tcrit[name_bad] )\n",
    "            print(f\"{tsn}: both sides detected in {np.mean(two_side_succ)} of cases\")\n",
    "            print(\"(you should be worried is this number is significantly larger than 0.05)\")\n",
    "\n",
    "            mat = np.zeros((len(bb), len(mm), len(tests)))\n",
    "\n",
    "            for k,tsn in enumerate(tests):\n",
    "                for i,beta in enumerate(bb):\n",
    "                    for j,m in enumerate(mm):\n",
    "                        eps = T ** -beta   # sparsity rate\n",
    "                        dfc = df1[np.abs(df1.eps - eps) + np.abs(df1.mu - m) < 1e-10]\n",
    "                        tcrit = df0[tsn].values[0]\n",
    "                        succ = dfc[tsn] > tcrit\n",
    "                        mat[i,j,k] = np.mean(succ)\n",
    "\n",
    "                g = seaborn.heatmap(mat[:,::-1,k].T)\n",
    "                plt.title(f\"{tsn} (power at .05 level)\")\n",
    "                g.set_xticklabels(bb)\n",
    "                g.set_xlabel('sparsity')\n",
    "                g.set_ylabel('intensity')\n",
    "                #g.set_yticklabels(np.round(mm[::-1],3))\n",
    "                g.set_yticklabels(np.round(rr[::-1],3))\n",
    "                fn = out_filename + tsn + \".png\"\n",
    "                plt.savefig(fn)\n",
    "                plt.show()"
   ]
  }
 ],
 "metadata": {
  "kernelspec": {
   "display_name": "Python 3",
   "language": "python",
   "name": "python3"
  },
  "language_info": {
   "codemirror_mode": {
    "name": "ipython",
    "version": 3
   },
   "file_extension": ".py",
   "mimetype": "text/x-python",
   "name": "python",
   "nbconvert_exporter": "python",
   "pygments_lexer": "ipython3",
   "version": "3.8.5"
  }
 },
 "nbformat": 4,
 "nbformat_minor": 5
}
