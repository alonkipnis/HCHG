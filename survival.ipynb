{
 "cells": [
  {
   "cell_type": "code",
   "execution_count": 40,
   "id": "8ec4e266",
   "metadata": {},
   "outputs": [],
   "source": [
    "# !pip3 install two-sample-binomial\n",
    "# !pip3 install multiple-hypothesis-testing\n",
    "\n",
    "from twosample import binom_test_two_sided\n",
    "from multitest import MultiTest\n",
    "import seaborn\n",
    "\n",
    "import numpy as np\n",
    "import scipy\n",
    "\n",
    "\n",
    "import matplotlib.pyplot as plt\n",
    "import matplotlib as mpl\n",
    "plt.rcParams['figure.figsize'] =  [8, 6]\n",
    "mpl.style.use('ggplot')\n",
    "%matplotlib inline\n",
    "from tqdm import tqdm\n",
    "\n",
    "from scipy.stats import poisson, binom, norm, hypergeom, uniform\n",
    "\n",
    "import pandas as pd\n",
    "\n",
    "from sample_survival_data import *"
   ]
  },
  {
   "cell_type": "code",
   "execution_count": 191,
   "id": "fa06a667",
   "metadata": {},
   "outputs": [
    {
     "name": "stderr",
     "output_type": "stream",
     "text": [
      "<ipython-input-191-001b5232f35a>:5: FutureWarning: `rcond` parameter will change to the default of machine precision times ``max(M, N)`` where M and N are the input matrix dimensions.\n",
      "To use the future default and silence this warning we advise to pass `rcond=None`, to keep using the old, explicitly pass `rcond=-1`.\n",
      "  b = np.linalg.lstsq(Z, y)\n"
     ]
    },
    {
     "data": {
      "text/plain": [
       "5.329070518200751e-15"
      ]
     },
     "execution_count": 191,
     "metadata": {},
     "output_type": "execute_result"
    }
   ],
   "source": [
    "Z = np.random.randn(10,5)\n",
    "y = np.random.randn(10)\n",
    "\n",
    "Z = np.concatenate([Z, np.ones((1, 10)).T], axis=1)\n",
    "b = np.linalg.lstsq(Z, y)\n",
    "eps = y - Z @ b[0]\n",
    "eps.sum()"
   ]
  },
  {
   "cell_type": "code",
   "execution_count": 186,
   "id": "b06f00ad",
   "metadata": {},
   "outputs": [
    {
     "data": {
      "text/plain": [
       "(10, 6)"
      ]
     },
     "execution_count": 186,
     "metadata": {},
     "output_type": "execute_result"
    }
   ],
   "source": []
  },
  {
   "cell_type": "markdown",
   "id": "65564fd2",
   "metadata": {},
   "source": [
    "- Min HypGeom \n",
    "- Look for data.\n",
    "    - SCANB ~ 3000 patients ~1000 unique time points\n",
    "    - Keywords: dose response curve,\n",
    "    - Perhaps survival of flies\n",
    "- "
   ]
  },
  {
   "cell_type": "markdown",
   "id": "c7ab2334",
   "metadata": {},
   "source": [
    "# Multiple Testing approach to Survival Analysis\n",
    "\n",
    "\n",
    "Abstract\n",
    "\n",
    "In some cases the log-rank test fails to detect the effect much more often than an approaoch based on mulitple testing. We present a survival model demonstrating this case, sating that events in each group follows a Poisson distribution with typical base rate $\\lambda_1(t)$ and $\\lambda_2(t)$, respectively. Usually, for most measurements, we have $\\lambda_1(t) = \\lambda_2(t)$, whereas sometimes $\\lambda_2(t) > \\lambda_1(t)$ (the effect is $\\lambda_2(t) - \\lambda_1(t)$ for those $t$ when this difference is not zero). The model is implemented in the function `sample_survival_data` in the file `sample_survival_data.py`. \n",
    "\n",
    "In this notebook, we use a specific parametrization of sparsity and signal intensity in numerical simulations to find cases where higher criticism and minP tests outperform log-rank. "
   ]
  },
  {
   "cell_type": "markdown",
   "id": "96d48d81",
   "metadata": {},
   "source": [
    "To do:\n",
    "- Replace exact binomial test with exact hypergeometric test. This probably does not change the asymptotic behavior of the test but will likley have better power in practice. \n",
    "- Make a power analysis across a phase space, analytically and empirically.\n",
    "- Derive the asymptotic power of the log-rank test under our model."
   ]
  },
  {
   "cell_type": "code",
   "execution_count": 117,
   "id": "fdec8748",
   "metadata": {},
   "outputs": [],
   "source": [
    "def log_rank_test(Nt1, Nt2, alternative = 'two-sided'):\n",
    "    \"\"\"\n",
    "    log-rank test \n",
    "    We assume that len(Nt1) == len(Nt2), and that each\n",
    "    entry in either list represents an event in which\n",
    "    a change occurs in the number of items in each groups \n",
    "    (the change in each group may also be zero)\n",
    "    \n",
    "    Args:\n",
    "    -----\n",
    "    :Nt1:   vector of counts in group 1 (each count corresponds to an event)\n",
    "    :Nt2:   vector of counts in group 2 \n",
    "    :alternative:   options are: 'greater', 'less', or 'two-sided'\n",
    "                    with 'greater', test against the alternative that\n",
    "                    more events occured in Nt2 compared to Nt1\n",
    "    Returns:\n",
    "    -------\n",
    "    :z:       z score of the log-rank test\n",
    "    :pvalue:  P-value\n",
    "    \"\"\"\n",
    "    \n",
    "    assert(len(Nt1) == len(Nt2))\n",
    "    T = len(Nt1) - 1\n",
    "\n",
    "    e0 = np.zeros(T)\n",
    "    var0 = np.zeros(T)\n",
    "\n",
    "    Ot1 = -np.diff(Nt1)\n",
    "    Ot2 = -np.diff(Nt2)\n",
    "    \n",
    "    Nt = Nt2 + Nt1\n",
    "    e0 = Nt2[:-1] * (Ot1 + Ot2) / Nt[:-1]\n",
    "    var0 = e0 * ( (Nt[:-1] - (Ot1 + Ot2)) /  Nt[:-1] ) * ( Nt1[:-1] / (Nt[:-1] - 1) )\n",
    "    \n",
    "    z = np.sum(Ot2 - e0) / np.sqrt(np.sum(var0))\n",
    "\n",
    "    if alternative == 'greater':\n",
    "        pval = norm.sf(z)\n",
    "    elif alternative == 'less':\n",
    "        pval = norm.cdf(z)\n",
    "    else:\n",
    "        pval = 2*norm.cdf(-np.abs(z))\n",
    "\n",
    "    return z, pval"
   ]
  },
  {
   "cell_type": "markdown",
   "id": "9ede7a0a",
   "metadata": {},
   "source": [
    "$$\n",
    "{\\displaystyle E_{i,j}=N_{i,j}{\\frac {O_{j}}{N_{j}}}}\n",
    "$$\n",
    "$$\n",
    "{\\displaystyle V_{i,j}=E_{i,j}\\left({\\frac {N_{j}-O_{j}}{N_{j}}}\\right)\\left({\\frac {N_{j}-N_{i,j}}{N_{j}-1}}\\right)}\n",
    "$$"
   ]
  },
  {
   "cell_type": "code",
   "execution_count": 76,
   "id": "939b73db",
   "metadata": {},
   "outputs": [],
   "source": [
    "def hypergeom_test(k, M, n, N, alternative = 'greater', randomize=False):\n",
    "    \"\"\"\n",
    "    Exact hypergeometric test\n",
    "    \n",
    "    Args:\n",
    "    -----\n",
    "    :k:    number of observed Type I objects\n",
    "    :M:    total number of object\n",
    "    :n:    total number of Type I objects\n",
    "    :N:    number of draws\n",
    "    :randomize:   whether to do a randomized test\n",
    "    :alternative: type of alternative to consider. Options are: \n",
    "                  'greater', 'less', 'two-sided'\n",
    "    \n",
    "    Returns:\n",
    "        Test's P-value\n",
    "    \"\"\"\n",
    "    \n",
    "    if randomize:\n",
    "        U = uniform.rvs(size=len(k))\n",
    "    else:\n",
    "        U = 0\n",
    "        \n",
    "    if alternative=='greater':\n",
    "        return hypergeom.sf(k, M, n, N) + U * hypergeom.pmf(k, M, n, N)\n",
    "    if alternative=='less':\n",
    "        return hypergeom.cdf(k-1, M, n, N) + U * hypergeom.pmf(k, M, n, N)\n",
    "    raise ValueError(\"two-sided alternative is not available yet\")"
   ]
  },
  {
   "cell_type": "code",
   "execution_count": 77,
   "id": "cab1b5bf",
   "metadata": {},
   "outputs": [],
   "source": [
    "def q95(x):\n",
    "    \"\"\"\n",
    "    Compute the 95-th percentile of the vector x\n",
    "    \"\"\"\n",
    "    if x.dtypes.kind == 'O':\n",
    "        return np.nan\n",
    "    else:\n",
    "        return pd.Series.quantile(x, .95)\n"
   ]
  },
  {
   "cell_type": "code",
   "execution_count": 78,
   "id": "dc33b04f",
   "metadata": {},
   "outputs": [],
   "source": [
    "def mutli_pvals(Nt1, Nt2, test='hypergeom',\n",
    " randomize=True, alternative='greater'):\n",
    "    \"\"\"\n",
    "    Compute P-values from the pair list of coutns in the two groups.\n",
    "    We have one p-value per event time.\n",
    "    An even is a pair (Nt1[i], Nt2[i]).\n",
    "    \n",
    "    Args:\n",
    "    -----\n",
    "    :Nt1:   vector of counts in group 1 (each count corresponds to an event)\n",
    "    :Nt2:   vector of counts in group 2\n",
    "    :test:  is the type of test to apply (options are: 'hypergeom' or\n",
    "     'binomial')\n",
    "    :randomize:  randomized individual tests or not\n",
    "    :alternative:   type of alternative to use in each test \n",
    "\n",
    "    Return:\n",
    "        P-values \n",
    "    \"\"\"\n",
    "    \n",
    "    assert(len(Nt1) == len(Nt2))\n",
    "    \n",
    "    Ot1 = -np.diff(Nt1)\n",
    "    Ot2 = -np.diff(Nt2)\n",
    "    Nt = Nt2 + Nt1\n",
    "    \n",
    "    if test == 'binomial':\n",
    "        n = Ot1 + Ot2\n",
    "        p = Nt2[:-1] / Nt[:-1]\n",
    "        x = Ot2\n",
    "        pvals = binom_test_two_sided(x, n, p, \n",
    "                            randomize=randomize, alternative=alternative)\n",
    "    elif test == 'hypergeom':\n",
    "        pvals = hypergeom_test(Ot2, Nt[:-1], Nt2[:-1], Ot1 + Ot2,\n",
    "                           randomize=randomize, alternative=alternative)\n",
    "\n",
    "    return pvals\n",
    "\n"
   ]
  },
  {
   "cell_type": "code",
   "execution_count": 79,
   "id": "aef4a76b",
   "metadata": {},
   "outputs": [],
   "source": [
    "def atmoic_experiment(T, N1, N2, eps, mu):\n",
    "    \"\"\"\n",
    "    Sample from survival data; evalaute several test statistics\n",
    "    \n",
    "    Args:\n",
    "    -----\n",
    "    :T:    time horizon (~ total number of events)\n",
    "    :N1:   total in group1 at t=0\n",
    "    :N2:   total in group1 at t=0\n",
    "    :eps:  fraction of non-null events\n",
    "    :mu:   intensity of non-null events\n",
    "    \n",
    "    \"\"\"\n",
    "    \n",
    "    Nt1, Nt2 = sample_survival_data(T, N1, N2, eps, mu)\n",
    "    return evaluate_test_stats(Nt1, Nt2)\n",
    "\n",
    "\n",
    "def evaluate_test_stats(Nt1, Nt2, **kwargs):\n",
    "    \"\"\"\n",
    "    Args:\n",
    "    :Nt1: first list of events\n",
    "    :Nt2: second list of events\n",
    "    \n",
    "    Compute several statistics of the two-sample data:\n",
    "    log-rank\n",
    "    higher criticism\n",
    "    Fisher combination test\n",
    "    minimum P-value\n",
    "    Berk-Jones\n",
    "    Wilcoxon ranksum\n",
    "    \"\"\"\n",
    "\n",
    "    randomize = kwargs.get('randomize', True)\n",
    "    alternative = kwargs.get('alternative', 'both')# 'both' != 'two-sided'\n",
    "\n",
    "    \n",
    "    test_results = {}\n",
    "\n",
    "    if alternative == 'both' or alternative == 'greater':\n",
    "        \n",
    "        lr, lr_pval = log_rank_test(Nt1, Nt2, alternative='greater')\n",
    "        test_results['log_rank_greater'] = -np.log(lr_pval) # large values are significant\n",
    "\n",
    "        pvals_greater = mutli_pvals(Nt1, Nt2, alternative='greater', \n",
    "            randomize=randomize)\n",
    "        mt = MultiTest(pvals_greater, stbl=False) \n",
    "                    # if not using stbl=False, then sometimes\n",
    "                    # HC misses the significance of the strongest effect \n",
    "        test_results['hc_greater'] = mt.hc()[0]\n",
    "        test_results['fisher_greater'] = mt.fisher()[0]\n",
    "        test_results['min_p_greater'] = mt.minp()\n",
    "        test_results['berk_jones_greater'] = mt.berk_jones(gamma=.45)\n",
    "        test_results['wilcoxon_greater'] = -np.log(scipy.stats.ranksums(\n",
    "                                        Nt1, Nt2, alternative='greater').pvalue)\n",
    "\n",
    "    if alternative == 'both' or alternative == 'less':\n",
    "        lr, lr_pval = log_rank_test(Nt1, Nt2, alternative='less')\n",
    "        test_results['log_rank_less'] = -np.log(lr_pval) # large values are significant\n",
    "\n",
    "        pvals_greater = mutli_pvals(Nt1, Nt2, alternative='less', \n",
    "            randomize=randomize)\n",
    "        mt = MultiTest(pvals_greater, stbl=False) \n",
    "                    # if not using stbl=False, then sometimes\n",
    "                    # HC misses the significance of the strongest effect \n",
    "        test_results['hc_less'] = mt.hc()[0]\n",
    "        test_results['fisher_less'] = mt.fisher()[0]\n",
    "        test_results['min_p_less'] = mt.minp()\n",
    "        test_results['berk_jones_less'] = mt.berk_jones(gamma=.45)\n",
    "        test_results['wilcoxon_less'] = -np.log(scipy.stats.ranksums(\n",
    "                                        Nt1, Nt2, alternative='less').pvalue)\n",
    "\n",
    "\n",
    "    if alternative == 'two-sided':\n",
    "        lr, lr_pval = log_rank_test(Nt1, Nt2, alternative='two-sided')\n",
    "        test_results['log_rank'] = lr\n",
    "\n",
    "        pvals_greater = mutli_pvals(Nt1, Nt2, alternative='two-sided', \n",
    "            randomize=randomize)\n",
    "        mt = MultiTest(pvals_greater, stbl=False) \n",
    "                    # if not using stbl=False, then sometimes\n",
    "                    # HC misses the significance of the strongest effect \n",
    "        test_results['hc'] = mt.hc()[0]\n",
    "        test_results['fisher'] = mt.fisher()[0]\n",
    "        test_results['min_p'] = mt.minp()\n",
    "        test_results['berk_jones'] = mt.berk_jones(gamma=.45)\n",
    "        test_results['wilcoxon'] = -np.log(scipy.stats.ranksums(\n",
    "                                        Nt1, Nt2, alternative='two-sided').pvalue)\n",
    "\n",
    "    return test_results\n"
   ]
  },
  {
   "cell_type": "markdown",
   "id": "d6a6c21d",
   "metadata": {},
   "source": [
    "## Sample once:"
   ]
  },
  {
   "cell_type": "code",
   "execution_count": 80,
   "id": "67567372",
   "metadata": {},
   "outputs": [
    {
     "name": "stdout",
     "output_type": "stream",
     "text": [
      "                 BJ       Fisher         HC   Logrank       minP   wilcoxon\n",
      "null_95q   6.911782  4071.702032   4.777988  1.960859  10.620356  14.365465\n",
      "observed  13.414174  4086.211678  44.721315  2.968792  21.422611  20.926523\n",
      "is_sig     1.000000     1.000000   1.000000  1.000000   1.000000   1.000000\n",
      "-------------------------------------------------------------\n",
      "\n",
      "Fliping roles of the lists:\n",
      "                BJ       Fisher        HC   Logrank       minP   wilcoxon\n",
      "null_95q  6.911782  4071.702032  4.777988  1.960859  10.620356  14.365465\n",
      "observed  3.906726  3897.657871  0.161156  2.968792   6.429350  20.926523\n",
      "is_sig    0.000000     0.000000  0.000000  1.000000   0.000000   1.000000\n"
     ]
    },
    {
     "data": {
      "image/png": "[encoded data removed]",
      "text/plain": [
       "<Figure size 576x432 with 1 Axes>"
      ]
     },
     "metadata": {},
     "output_type": "display_data"
    }
   ],
   "source": [
    "# single experiment non-null\n",
    "\n",
    "T = 2000\n",
    "N1 = N2 = 1000\n",
    "beta = .7         # sparsity parameter\n",
    "eps = np.round(T ** -beta,4)   # sparsity rate\n",
    "mu = .02        # signal strength\n",
    "\n",
    "Nt1, Nt2 = sample_survival_data(T, N1, N2, eps, mu)\n",
    "\n",
    "lr, lr_pval = log_rank_test(Nt1, Nt2)\n",
    "pvals = mutli_pvals(Nt1, Nt2)\n",
    "mt = MultiTest(pvals, stbl=False)\n",
    "\n",
    "df_null = pd.read_csv(f\"under_null_T{T}_N{N1}.csv\").drop('Unnamed: 0', axis=1)\n",
    "r = {'Logrank': np.abs(lr),\n",
    "'HC': mt.hc()[0],\n",
    "'Fisher': mt.fisher()[0],\n",
    "'minP': mt.minp(),\n",
    "'BJ': mt.berk_jones(gamma=.45),\n",
    "'wilcoxon': -np.log(scipy.stats.ranksums(Nt1, Nt2).pvalue)\n",
    "    }\n",
    "\n",
    "df_null['obs'] = 'null_95q'\n",
    "rr = df_null.set_index('obs').append(pd.DataFrame(r, index=['observed']))\n",
    "s = (rr.T['null_95q'] < rr.T['observed'])\n",
    "s.name = 'is_sig'\n",
    "print(rr.append(s))\n",
    "\n",
    "print(\"-------------------------------------------------------------\\n\")\n",
    "print(\"Fliping roles of the lists:\")\n",
    "lr, lr_pval = log_rank_test(Nt2, Nt1)\n",
    "\n",
    "pvals = mutli_pvals(Nt2, Nt1)\n",
    "mt = MultiTest(pvals, stbl=False)\n",
    "\n",
    "df_null = pd.read_csv(f\"under_null_T{T}_N{N1}.csv\").drop('Unnamed: 0', axis=1)\n",
    "r = {'Logrank': np.abs(lr),\n",
    "'HC': mt.hc()[0],\n",
    "'Fisher': mt.fisher()[0],\n",
    "'minP': mt.minp(),\n",
    "'BJ': mt.berk_jones(gamma=.45),\n",
    "'wilcoxon': -np.log(scipy.stats.ranksums(Nt1, Nt2).pvalue)\n",
    "    }\n",
    "\n",
    "df_null['obs'] = 'null_95q'\n",
    "rr = df_null.set_index('obs').append(pd.DataFrame(r, index=['observed']))\n",
    "s = (rr.T['null_95q'] < rr.T['observed'])\n",
    "s.name = 'is_sig'\n",
    "print(rr.append(s))\n",
    "\n",
    "tt = np.arange(T)\n",
    "plt.plot(tt, Nt1[1:])\n",
    "plt.plot(tt, Nt2[1:])\n",
    "plt.show()\n",
    "#pd.DataFrame({'N1' : Nt1, 'N2' : Nt2}).to_csv(f'surv_mu{mu}_eps{eps}.csv')\n"
   ]
  },
  {
   "cell_type": "markdown",
   "id": "905034d4",
   "metadata": {},
   "source": [
    "## Atomic experiment:"
   ]
  },
  {
   "cell_type": "code",
   "execution_count": 118,
   "id": "396cd11f",
   "metadata": {},
   "outputs": [
    {
     "name": "stdout",
     "output_type": "stream",
     "text": [
      "> <ipython-input-117-d50e2ec520cf>(38)log_rank_test()\n",
      "-> if alternative == 'greater':\n",
      "4.0997096164286715\n",
      "2.06834424669934e-05\n",
      "0.999979316557533\n",
      "'greater'\n",
      "> <ipython-input-117-d50e2ec520cf>(39)log_rank_test()\n",
      "-> pval = norm.sf(z)\n",
      "> <ipython-input-117-d50e2ec520cf>(38)log_rank_test()\n",
      "-> if alternative == 'greater':\n",
      "'less'\n",
      "4.0997096164286715\n",
      "0.999979316557533\n",
      "> <ipython-input-117-d50e2ec520cf>(40)log_rank_test()\n",
      "-> elif alternative == 'less':\n",
      "> <ipython-input-117-d50e2ec520cf>(41)log_rank_test()\n",
      "-> pval = norm.cdf(z)\n",
      "> <ipython-input-117-d50e2ec520cf>(45)log_rank_test()\n",
      "-> return z, pval\n",
      "0.999979316557533\n",
      "--Return--\n",
      "> <ipython-input-117-d50e2ec520cf>(45)log_rank_test()->(4.0997096164286715, 0.999979316557533)\n",
      "-> return z, pval\n",
      "> <ipython-input-79-c12d39adb8a3>(59)evaluate_test_stats()\n",
      "-> test_results['log_rank_less'] = lr\n"
     ]
    },
    {
     "ename": "BdbQuit",
     "evalue": "",
     "output_type": "error",
     "traceback": [
      "\u001b[0;31m---------------------------------------------------------------------------\u001b[0m",
      "\u001b[0;31mBdbQuit\u001b[0m                                   Traceback (most recent call last)",
      "\u001b[0;32m<ipython-input-118-0c33543c6934>\u001b[0m in \u001b[0;36m<module>\u001b[0;34m\u001b[0m\n\u001b[1;32m      1\u001b[0m \u001b[0mNt1\u001b[0m\u001b[0;34m,\u001b[0m \u001b[0mNt2\u001b[0m \u001b[0;34m=\u001b[0m \u001b[0msample_survival_data\u001b[0m\u001b[0;34m(\u001b[0m\u001b[0mT\u001b[0m\u001b[0;34m,\u001b[0m \u001b[0mN1\u001b[0m\u001b[0;34m,\u001b[0m \u001b[0mN2\u001b[0m\u001b[0;34m,\u001b[0m \u001b[0meps\u001b[0m\u001b[0;34m,\u001b[0m \u001b[0mmu\u001b[0m\u001b[0;34m)\u001b[0m\u001b[0;34m\u001b[0m\u001b[0;34m\u001b[0m\u001b[0m\n\u001b[0;32m----> 2\u001b[0;31m \u001b[0mevaluate_test_stats\u001b[0m\u001b[0;34m(\u001b[0m\u001b[0mNt1\u001b[0m\u001b[0;34m,\u001b[0m \u001b[0mNt2\u001b[0m\u001b[0;34m,\u001b[0m \u001b[0mrandomized\u001b[0m\u001b[0;34m=\u001b[0m\u001b[0;32mTrue\u001b[0m\u001b[0;34m,\u001b[0m \u001b[0malternative\u001b[0m\u001b[0;34m=\u001b[0m\u001b[0;34m'both'\u001b[0m\u001b[0;34m)\u001b[0m\u001b[0;34m\u001b[0m\u001b[0;34m\u001b[0m\u001b[0m\n\u001b[0m",
      "\u001b[0;32m<ipython-input-79-c12d39adb8a3>\u001b[0m in \u001b[0;36mevaluate_test_stats\u001b[0;34m(Nt1, Nt2, **kwargs)\u001b[0m\n\u001b[1;32m     57\u001b[0m     \u001b[0;32mif\u001b[0m \u001b[0malternative\u001b[0m \u001b[0;34m==\u001b[0m \u001b[0;34m'both'\u001b[0m \u001b[0;32mor\u001b[0m \u001b[0malternative\u001b[0m \u001b[0;34m==\u001b[0m \u001b[0;34m'less'\u001b[0m\u001b[0;34m:\u001b[0m\u001b[0;34m\u001b[0m\u001b[0;34m\u001b[0m\u001b[0m\n\u001b[1;32m     58\u001b[0m         \u001b[0mlr\u001b[0m\u001b[0;34m,\u001b[0m \u001b[0mlr_pval\u001b[0m \u001b[0;34m=\u001b[0m \u001b[0mlog_rank_test\u001b[0m\u001b[0;34m(\u001b[0m\u001b[0mNt1\u001b[0m\u001b[0;34m,\u001b[0m \u001b[0mNt2\u001b[0m\u001b[0;34m,\u001b[0m \u001b[0malternative\u001b[0m\u001b[0;34m=\u001b[0m\u001b[0;34m'less'\u001b[0m\u001b[0;34m)\u001b[0m\u001b[0;34m\u001b[0m\u001b[0;34m\u001b[0m\u001b[0m\n\u001b[0;32m---> 59\u001b[0;31m         \u001b[0mtest_results\u001b[0m\u001b[0;34m[\u001b[0m\u001b[0;34m'log_rank_less'\u001b[0m\u001b[0;34m]\u001b[0m \u001b[0;34m=\u001b[0m \u001b[0mlr\u001b[0m\u001b[0;34m\u001b[0m\u001b[0;34m\u001b[0m\u001b[0m\n\u001b[0m\u001b[1;32m     60\u001b[0m \u001b[0;34m\u001b[0m\u001b[0m\n\u001b[1;32m     61\u001b[0m         pvals_greater = mutli_pvals(Nt1, Nt2, alternative='less', \n",
      "\u001b[0;32m<ipython-input-79-c12d39adb8a3>\u001b[0m in \u001b[0;36mevaluate_test_stats\u001b[0;34m(Nt1, Nt2, **kwargs)\u001b[0m\n\u001b[1;32m     57\u001b[0m     \u001b[0;32mif\u001b[0m \u001b[0malternative\u001b[0m \u001b[0;34m==\u001b[0m \u001b[0;34m'both'\u001b[0m \u001b[0;32mor\u001b[0m \u001b[0malternative\u001b[0m \u001b[0;34m==\u001b[0m \u001b[0;34m'less'\u001b[0m\u001b[0;34m:\u001b[0m\u001b[0;34m\u001b[0m\u001b[0;34m\u001b[0m\u001b[0m\n\u001b[1;32m     58\u001b[0m         \u001b[0mlr\u001b[0m\u001b[0;34m,\u001b[0m \u001b[0mlr_pval\u001b[0m \u001b[0;34m=\u001b[0m \u001b[0mlog_rank_test\u001b[0m\u001b[0;34m(\u001b[0m\u001b[0mNt1\u001b[0m\u001b[0;34m,\u001b[0m \u001b[0mNt2\u001b[0m\u001b[0;34m,\u001b[0m \u001b[0malternative\u001b[0m\u001b[0;34m=\u001b[0m\u001b[0;34m'less'\u001b[0m\u001b[0;34m)\u001b[0m\u001b[0;34m\u001b[0m\u001b[0;34m\u001b[0m\u001b[0m\n\u001b[0;32m---> 59\u001b[0;31m         \u001b[0mtest_results\u001b[0m\u001b[0;34m[\u001b[0m\u001b[0;34m'log_rank_less'\u001b[0m\u001b[0;34m]\u001b[0m \u001b[0;34m=\u001b[0m \u001b[0mlr\u001b[0m\u001b[0;34m\u001b[0m\u001b[0;34m\u001b[0m\u001b[0m\n\u001b[0m\u001b[1;32m     60\u001b[0m \u001b[0;34m\u001b[0m\u001b[0m\n\u001b[1;32m     61\u001b[0m         pvals_greater = mutli_pvals(Nt1, Nt2, alternative='less', \n",
      "\u001b[0;32m/usr/local/Cellar/python@3.8/3.8.5/Frameworks/Python.framework/Versions/3.8/lib/python3.8/bdb.py\u001b[0m in \u001b[0;36mtrace_dispatch\u001b[0;34m(self, frame, event, arg)\u001b[0m\n\u001b[1;32m     86\u001b[0m             \u001b[0;32mreturn\u001b[0m \u001b[0;31m# None\u001b[0m\u001b[0;34m\u001b[0m\u001b[0;34m\u001b[0m\u001b[0m\n\u001b[1;32m     87\u001b[0m         \u001b[0;32mif\u001b[0m \u001b[0mevent\u001b[0m \u001b[0;34m==\u001b[0m \u001b[0;34m'line'\u001b[0m\u001b[0;34m:\u001b[0m\u001b[0;34m\u001b[0m\u001b[0;34m\u001b[0m\u001b[0m\n\u001b[0;32m---> 88\u001b[0;31m             \u001b[0;32mreturn\u001b[0m \u001b[0mself\u001b[0m\u001b[0;34m.\u001b[0m\u001b[0mdispatch_line\u001b[0m\u001b[0;34m(\u001b[0m\u001b[0mframe\u001b[0m\u001b[0;34m)\u001b[0m\u001b[0;34m\u001b[0m\u001b[0;34m\u001b[0m\u001b[0m\n\u001b[0m\u001b[1;32m     89\u001b[0m         \u001b[0;32mif\u001b[0m \u001b[0mevent\u001b[0m \u001b[0;34m==\u001b[0m \u001b[0;34m'call'\u001b[0m\u001b[0;34m:\u001b[0m\u001b[0;34m\u001b[0m\u001b[0;34m\u001b[0m\u001b[0m\n\u001b[1;32m     90\u001b[0m             \u001b[0;32mreturn\u001b[0m \u001b[0mself\u001b[0m\u001b[0;34m.\u001b[0m\u001b[0mdispatch_call\u001b[0m\u001b[0;34m(\u001b[0m\u001b[0mframe\u001b[0m\u001b[0;34m,\u001b[0m \u001b[0marg\u001b[0m\u001b[0;34m)\u001b[0m\u001b[0;34m\u001b[0m\u001b[0;34m\u001b[0m\u001b[0m\n",
      "\u001b[0;32m/usr/local/Cellar/python@3.8/3.8.5/Frameworks/Python.framework/Versions/3.8/lib/python3.8/bdb.py\u001b[0m in \u001b[0;36mdispatch_line\u001b[0;34m(self, frame)\u001b[0m\n\u001b[1;32m    111\u001b[0m         \u001b[0;32mif\u001b[0m \u001b[0mself\u001b[0m\u001b[0;34m.\u001b[0m\u001b[0mstop_here\u001b[0m\u001b[0;34m(\u001b[0m\u001b[0mframe\u001b[0m\u001b[0;34m)\u001b[0m \u001b[0;32mor\u001b[0m \u001b[0mself\u001b[0m\u001b[0;34m.\u001b[0m\u001b[0mbreak_here\u001b[0m\u001b[0;34m(\u001b[0m\u001b[0mframe\u001b[0m\u001b[0;34m)\u001b[0m\u001b[0;34m:\u001b[0m\u001b[0;34m\u001b[0m\u001b[0;34m\u001b[0m\u001b[0m\n\u001b[1;32m    112\u001b[0m             \u001b[0mself\u001b[0m\u001b[0;34m.\u001b[0m\u001b[0muser_line\u001b[0m\u001b[0;34m(\u001b[0m\u001b[0mframe\u001b[0m\u001b[0;34m)\u001b[0m\u001b[0;34m\u001b[0m\u001b[0;34m\u001b[0m\u001b[0m\n\u001b[0;32m--> 113\u001b[0;31m             \u001b[0;32mif\u001b[0m \u001b[0mself\u001b[0m\u001b[0;34m.\u001b[0m\u001b[0mquitting\u001b[0m\u001b[0;34m:\u001b[0m \u001b[0;32mraise\u001b[0m \u001b[0mBdbQuit\u001b[0m\u001b[0;34m\u001b[0m\u001b[0;34m\u001b[0m\u001b[0m\n\u001b[0m\u001b[1;32m    114\u001b[0m         \u001b[0;32mreturn\u001b[0m \u001b[0mself\u001b[0m\u001b[0;34m.\u001b[0m\u001b[0mtrace_dispatch\u001b[0m\u001b[0;34m\u001b[0m\u001b[0;34m\u001b[0m\u001b[0m\n\u001b[1;32m    115\u001b[0m \u001b[0;34m\u001b[0m\u001b[0m\n",
      "\u001b[0;31mBdbQuit\u001b[0m: "
     ]
    }
   ],
   "source": [
    "Nt1, Nt2 = sample_survival_data(T, N1, N2, eps, mu)\n",
    "evaluate_test_stats(Nt1, Nt2, randomized=True, alternative='both')"
   ]
  },
  {
   "cell_type": "markdown",
   "id": "fb3e4f50",
   "metadata": {},
   "source": [
    "## Many experiments"
   ]
  },
  {
   "cell_type": "code",
   "execution_count": null,
   "id": "c5ded911",
   "metadata": {},
   "outputs": [],
   "source": [
    "def evaluate(itr, T, N, beta, r):\n",
    "    \"\"\"\n",
    "    evalaute an atomic experiment\n",
    "    \"\"\"\n",
    "    mu = 2 * r * np.log(T) / T\n",
    "    eps = T ** (-beta)\n",
    "    N1 = N2 = N\n",
    "\n",
    "    Nt1, Nt2 = sample_survival_data(int(T), int(N1), int(N2), eps, mu)\n",
    "    res = evaluate_test_stats(Nt1, Nt2, randomized=True, alternative='both')\n",
    "    return res\n"
   ]
  },
  {
   "cell_type": "markdown",
   "id": "f267ce2f",
   "metadata": {},
   "source": [
    "### Null Behavior"
   ]
  },
  {
   "cell_type": "code",
   "execution_count": 65,
   "id": "c04837b3",
   "metadata": {},
   "outputs": [],
   "source": [
    "def simulate_null(N1, N2, T, nMonte):\n",
    "    \"\"\"\n",
    "    Args:\n",
    "    -----\n",
    "    :N1:      Initial size of group 1\n",
    "    :N2:      Initial size of group 2\n",
    "    :T:       Total numebr of events\n",
    "    :nMonte:  number of experiments to evaluate\n",
    "\n",
    "    \"\"\"\n",
    "    \n",
    "    df0 = pd.DataFrame()\n",
    "    print(\"Simulating null...\")\n",
    "    for itr in tqdm(range(nMonte)):\n",
    "        Nt1, Nt2 = sample_survival_data(T, N1, N2, 0, 0)\n",
    "        res = evaluate_test_stats(Nt1, Nt2)\n",
    "        df0 = df0.append(res, ignore_index=True)\n",
    "\n",
    "    # critical values under the null:\n",
    "    return df0.agg([q95])\n"
   ]
  },
  {
   "cell_type": "code",
   "execution_count": 82,
   "id": "1537fd27",
   "metadata": {},
   "outputs": [
    {
     "name": "stderr",
     "output_type": "stream",
     "text": [
      "  0%|          | 1/10000 [00:00<18:02,  9.24it/s]"
     ]
    },
    {
     "name": "stdout",
     "output_type": "stream",
     "text": [
      "Simulating null...\n"
     ]
    },
    {
     "name": "stderr",
     "output_type": "stream",
     "text": [
      "100%|██████████| 10000/10000 [13:33<00:00, 12.29it/s]"
     ]
    },
    {
     "name": "stdout",
     "output_type": "stream",
     "text": [
      "     berk_jones_greater  berk_jones_less  fisher_greater  fisher_less  \\\n",
      "q95            6.807664         6.839006     2105.603562   2104.72798   \n",
      "\n",
      "     hc_greater   hc_less  log_rank_greater  log_rank_less  min_p_greater  \\\n",
      "q95    4.749913  4.763194          1.652443       1.652443        9.86644   \n",
      "\n",
      "     min_p_less  wilcoxon_greater  wilcoxon_less  \n",
      "q95    9.881389          8.563613       8.371338  \n"
     ]
    },
    {
     "name": "stderr",
     "output_type": "stream",
     "text": [
      "\n"
     ]
    }
   ],
   "source": [
    "# under null\n",
    "from twosample import binom_test_two_sided\n",
    "from multitest import MultiTest\n",
    "from typing import List\n",
    "\n",
    "#params:\n",
    "T = 1000     # number of event\n",
    "N = N1 = N2 = 1500    # number in group 1 and 2 at t=0\n",
    "\n",
    "nMonte = 10000  #   number of experiments to evaluate dist. under null\n",
    "\n",
    "df0 = simulate_null(N1, N2, T, nMonte)\n",
    "# critical values under the null:\n",
    "df0['T'] = T\n",
    "df0['N1'] = N1\n",
    "df0['N2'] = N2\n",
    "df0.agg([q95]).to_csv(f\"under_null_T{T}_N1{N1}_N2{N2}.csv\")\n",
    "print(df0.agg([q95]))"
   ]
  },
  {
   "cell_type": "markdown",
   "id": "faedfb24",
   "metadata": {},
   "source": [
    "### Non-Null Behavior"
   ]
  },
  {
   "cell_type": "code",
   "execution_count": 43,
   "id": "43cbb334",
   "metadata": {},
   "outputs": [
    {
     "name": "stderr",
     "output_type": "stream",
     "text": [
      "100%|██████████| 100/100 [08:05<00:00,  4.85s/it]\n"
     ]
    }
   ],
   "source": [
    "# under non-null\n",
    "\n",
    "from twosample import binom_test_two_sided\n",
    "from multitest import MultiTest\n",
    "from typing import List\n",
    "\n",
    "def run_many_experiments(T, N1, N2, nMonte):\n",
    "    # under non-null\n",
    "    bb = np.linspace(.5, .9, 7)\n",
    "    rr = np.sqrt(np.linspace(0.01, 1, 9))\n",
    "    mm = 2 * rr * np.log(T) / N1\n",
    "\n",
    "    df1 = pd.DataFrame()\n",
    "    nMonte = 100       # number of experiments\n",
    "\n",
    "    for itr in tqdm(range(nMonte)):\n",
    "        for beta in bb:\n",
    "            for mu in mm:\n",
    "                eps = T ** -beta   # sparsity rate\n",
    "                Nt1, Nt2 = sample_survival_data(T, N1, N2, eps, mu)\n",
    "                res1 = evaluate_test_stats(Nt1, Nt2)\n",
    "                res2 = evaluate_test_stats(Nt2, Nt1)\n",
    "                res = pd.DataFrame(res1, index=[0])\n",
    "                res['mu'] = mu\n",
    "                res['eps'] = eps\n",
    "                res['beta'] = beta\n",
    "                res['itr'] = itr\n",
    "                df1 = df1.append(res, ignore_index=True)\n",
    "    return df1\n",
    "\n",
    "df1 = run_many_experiments(T, N1, N2, nMonte)"
   ]
  },
  {
   "cell_type": "markdown",
   "id": "39a00ec9",
   "metadata": {},
   "source": [
    "In how many cases both the reversed and original sides were significant?"
   ]
  },
  {
   "cell_type": "code",
   "execution_count": 89,
   "id": "e0892f90",
   "metadata": {},
   "outputs": [],
   "source": [
    "df0['T'] = T\n",
    "df0['N'] = N1\n",
    "df0['N1'] = N1\n",
    "df0['N2'] = N2"
   ]
  },
  {
   "cell_type": "code",
   "execution_count": 109,
   "id": "9c358efd",
   "metadata": {},
   "outputs": [
    {
     "name": "stdout",
     "output_type": "stream",
     "text": [
      "Analyzing the case (T, N1, N2) = (2000, 1500, 1500)\n",
      "log_rank: both sides detected in 0.5357142857142857 of cases\n",
      "(you should be worried if this number is significantly larger than 0.05)\n",
      "hc: both sides detected in 0.051587301587301584 of cases\n",
      "(you should be worried if this number is significantly larger than 0.05)\n",
      "min_p: both sides detected in 0.027777777777777776 of cases\n",
      "(you should be worried if this number is significantly larger than 0.05)\n",
      "berk_jones: both sides detected in 0.12698412698412698 of cases\n",
      "(you should be worried if this number is significantly larger than 0.05)\n",
      "wilcoxon: both sides detected in 0.0 of cases\n",
      "(you should be worried if this number is significantly larger than 0.05)\n",
      "fisher: both sides detected in 0.003968253968253968 of cases\n",
      "(you should be worried if this number is significantly larger than 0.05)\n"
     ]
    }
   ],
   "source": [
    "df0.groupby(global_params).agg(q95)\n",
    "\n",
    "global_params = ['T', 'N1', 'N2']\n",
    "tcrit = df0.groupby(global_params).agg(q95)\n",
    "\n",
    "good_side = 'greater'\n",
    "bad_side = 'less'\n",
    "\n",
    "for c in df1.groupby(global_params):\n",
    "    print(f\"Analyzing the case (T, N1, N2) = {c[0]}\")\n",
    "    dfc = c[1]\n",
    "\n",
    "    for tsn in tests:\n",
    "        name_good = tsn + '_' + good_side\n",
    "        name_bad = tsn + '_' + bad_side\n",
    "\n",
    "        # we check rate when both sides succedds. These are not good outcomes\n",
    "        two_side_succ = ( dfc[name_good] > tcrit[name_good].values[0] ) & ( dfc[name_bad] > tcrit[name_bad].values[0] )\n",
    "        print(f\"{tsn}: both sides detected in {np.mean(two_side_succ)} of cases\")\n",
    "        print(\"(you should be worried if this number is significantly larger than 0.05)\")"
   ]
  },
  {
   "cell_type": "code",
   "execution_count": 110,
   "id": "970b1ebf",
   "metadata": {},
   "outputs": [
    {
     "data": {
      "text/plain": [
       "0.48412698412698413"
      ]
     },
     "execution_count": 110,
     "metadata": {},
     "output_type": "execute_result"
    }
   ],
   "source": [
    "np.mean(( dfc[name_good] > tcrit[name_good].values[0] ))"
   ]
  },
  {
   "cell_type": "code",
   "execution_count": 111,
   "id": "ad6efec6",
   "metadata": {},
   "outputs": [
    {
     "data": {
      "text/plain": [
       "0.003968253968253968"
      ]
     },
     "execution_count": 111,
     "metadata": {},
     "output_type": "execute_result"
    }
   ],
   "source": [
    "np.mean(two_side_succ)"
   ]
  },
  {
   "cell_type": "code",
   "execution_count": 100,
   "id": "e87a9123",
   "metadata": {},
   "outputs": [
    {
     "data": {
      "text/plain": [
       "1      4036.761535\n",
       "2      4144.567391\n",
       "3      4216.064631\n",
       "4      4208.758454\n",
       "5      4221.597372\n",
       "          ...     \n",
       "268    3928.900949\n",
       "269    3910.528321\n",
       "270    3911.807254\n",
       "271    4220.368197\n",
       "272    4008.480109\n",
       "Name: fisher_greater, Length: 252, dtype: float64"
      ]
     },
     "execution_count": 100,
     "metadata": {},
     "output_type": "execute_result"
    }
   ],
   "source": [
    "dfc[name_good]"
   ]
  },
  {
   "cell_type": "markdown",
   "id": "cb0c080b",
   "metadata": {},
   "source": [
    "### Power Analysis:"
   ]
  },
  {
   "cell_type": "code",
   "execution_count": 145,
   "id": "c889bf5f",
   "metadata": {},
   "outputs": [],
   "source": [
    "results = pd.read_csv(\"results.csv\").filter(regex = '^((?!Unnamed).)*$')\n",
    "results.head()\n",
    "\n",
    "out_filename = 'fig'\n",
    "df0 = results[results.r == 0]\n",
    "df1 = results[results.r > 0]"
   ]
  },
  {
   "cell_type": "code",
   "execution_count": 146,
   "id": "0b3f5634",
   "metadata": {},
   "outputs": [
    {
     "name": "stdout",
     "output_type": "stream",
     "text": [
      "Analyzing the case (T, N1, N2) = (2000, 1000, 1000)\n",
      "log_rank: both sides detected in 0.0 of cases\n",
      "(you should be worried if this number is significantly larger than 0.025)\n"
     ]
    },
    {
     "data": {
      "image/png": "[encoded data removed]",
      "text/plain": [
       "<Figure size 576x432 with 2 Axes>"
      ]
     },
     "metadata": {},
     "output_type": "display_data"
    },
    {
     "name": "stdout",
     "output_type": "stream",
     "text": [
      "hc: both sides detected in 0.018518518518518517 of cases\n",
      "(you should be worried if this number is significantly larger than 0.025)\n"
     ]
    },
    {
     "data": {
      "image/png": "[encoded data removed]",
      "text/plain": [
       "<Figure size 576x432 with 2 Axes>"
      ]
     },
     "metadata": {},
     "output_type": "display_data"
    },
    {
     "name": "stdout",
     "output_type": "stream",
     "text": [
      "min_p: both sides detected in 0.017195767195767195 of cases\n",
      "(you should be worried if this number is significantly larger than 0.025)\n"
     ]
    },
    {
     "data": {
      "image/png": "[encoded data removed]",
      "text/plain": [
       "<Figure size 576x432 with 2 Axes>"
      ]
     },
     "metadata": {},
     "output_type": "display_data"
    },
    {
     "name": "stdout",
     "output_type": "stream",
     "text": [
      "berk_jones: both sides detected in 0.033950617283950615 of cases\n",
      "(you should be worried if this number is significantly larger than 0.025)\n"
     ]
    },
    {
     "data": {
      "image/png": "[encoded data removed]",
      "text/plain": [
       "<Figure size 576x432 with 2 Axes>"
      ]
     },
     "metadata": {},
     "output_type": "display_data"
    },
    {
     "name": "stdout",
     "output_type": "stream",
     "text": [
      "wilcoxon: both sides detected in 0.0 of cases\n",
      "(you should be worried if this number is significantly larger than 0.025)\n"
     ]
    },
    {
     "data": {
      "image/png": "[encoded data removed]",
      "text/plain": [
       "<Figure size 576x432 with 2 Axes>"
      ]
     },
     "metadata": {},
     "output_type": "display_data"
    },
    {
     "name": "stdout",
     "output_type": "stream",
     "text": [
      "fisher: both sides detected in 0.005731922398589065 of cases\n",
      "(you should be worried if this number is significantly larger than 0.025)\n"
     ]
    },
    {
     "data": {
      "image/png": "[encoded data removed]",
      "text/plain": [
       "<Figure size 576x432 with 2 Axes>"
      ]
     },
     "metadata": {},
     "output_type": "display_data"
    }
   ],
   "source": [
    "#def illustrate_phase_diagrams(df1, df0, out_filename='phase_diagram'):\n",
    "\"\"\"\n",
    "\n",
    "Args:\n",
    "-----\n",
    ":df1:   results from experiments under alternative \n",
    ":df0:   results from experiments under null\n",
    ":out_filename:   file/path name to write to\n",
    "\"\"\"\n",
    "\n",
    "\n",
    "params = ['itr', 'T', 'N1', 'N2', 'r', 'beta']\n",
    "tests = ['log_rank', 'hc', 'min_p', 'berk_jones', 'wilcoxon', 'fisher']\n",
    "tests_vars = [c for c in df0.columns if c not in params and 'Unnamed' not in c]\n",
    "\n",
    "global_params = ['T', 'N1', 'N2']\n",
    "tcrit = df0.groupby(global_params).agg(q95)\n",
    "\n",
    "good_side = 'greater'\n",
    "bad_side = 'less'\n",
    "\n",
    "for c in df1.groupby(global_params):\n",
    "    print(f\"Analyzing the case (T, N1, N2) = {c[0]}\")\n",
    "    dfc = c[1]\n",
    "\n",
    "    for tsn in tests:\n",
    "        name_good = tsn + '_' + good_side\n",
    "        name_bad = tsn + '_' + bad_side\n",
    "\n",
    "        # we check rate when both sides succedds. These are not good outcomes\n",
    "        two_side_succ = ( dfc[name_good] > tcrit[name_good].values[0] ) & ( dfc[name_bad] > tcrit[name_bad].values[0] )\n",
    "        print(f\"{tsn}: both sides detected in {np.mean(two_side_succ)} of cases\")\n",
    "        print(\"(you should be worried if this number is significantly larger than 0.025)\")\n",
    "\n",
    "        bb = dfc['beta'].unique()\n",
    "        rr = dfc['r'].unique()\n",
    "        mat = np.zeros((len(bb), len(rr)))\n",
    "        for i,beta in enumerate(bb):\n",
    "            for j,r in enumerate(rr):\n",
    "                dfs = dfc[(dfc['beta'] == beta) & (dfc['r'] == r) ]\n",
    "                succ = dfs[name_good] > tcrit[name_good].values[0]\n",
    "                mat[i,j] = np.mean(succ)\n",
    "\n",
    "        plt.figure()\n",
    "        g = seaborn.heatmap(mat[:,::-1].T)\n",
    "        plt.title(f\"{tsn} (power at .05 level)\")\n",
    "        g.set_xticklabels(bb)\n",
    "        g.set_xlabel('sparsity')\n",
    "        g.set_ylabel('intensity')\n",
    "        #g.set_yticklabels(np.round(mm[::-1],3))\n",
    "        g.set_yticklabels(np.round(rr[::-1],3))\n",
    "        fn = out_filename + tsn + \".png\"\n",
    "        plt.savefig(fn)\n",
    "        plt.show()"
   ]
  }
 ],
 "metadata": {
  "kernelspec": {
   "display_name": "Python 3",
   "language": "python",
   "name": "python3"
  },
  "language_info": {
   "codemirror_mode": {
    "name": "ipython",
    "version": 3
   },
   "file_extension": ".py",
   "mimetype": "text/x-python",
   "name": "python",
   "nbconvert_exporter": "python",
   "pygments_lexer": "ipython3",
   "version": "3.8.5"
  }
 },
 "nbformat": 4,
 "nbformat_minor": 5
}
