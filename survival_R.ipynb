{
 "cells": [
  {
   "cell_type": "code",
   "execution_count": 3,
   "id": "89387c81",
   "metadata": {},
   "outputs": [],
   "source": [
    "from survival import sample_survival_poisson, evaluate_test_stats\n",
    "import numpy as np\n",
    "import pandas as pd"
   ]
  },
  {
   "cell_type": "code",
   "execution_count": 28,
   "id": "08c11007",
   "metadata": {},
   "outputs": [],
   "source": [
    "import numpy as np\n",
    "from rpy2.robjects.packages import importr\n",
    "from rpy2.robjects import FloatVector\n",
    "konp_test = importr('KONPsurv')\n",
    "\n",
    "def konp_testR(times, status, groups):\n",
    "    res = konp_test.konp_test(times, status, groups, n_perm=1)\n",
    "    return dict(chisq_test_stat=res[3][0], lr_test_stat=res[4][0],cauchy_test_stat=res[5][0])\n",
    "\n",
    "\n",
    "def time2event(times, num_events, num_censored, initial_at_risk):\n",
    "    \"\"\"\n",
    "    Convert number of events and censored to time-to-event data.\n",
    "\n",
    "    The number of events and censored at each time point is converted to a list of event times and event status.\n",
    "    All events are assumed to occur at the same time as the time point.\n",
    "    Events are coded as 1 and censored as 0.\n",
    "    All at risk at the last time point are assumed to be censored.\n",
    "    \"\"\"\n",
    "\n",
    "    assert len(times) == len(num_events) == len(num_censored) \n",
    "    assert initial_at_risk >= np.sum(num_events) + np.sum(num_censored)\n",
    "\n",
    "    num_censored[-1] = num_censored[-1] + initial_at_risk - np.sum(num_events) - np.sum(num_censored)\n",
    "    r_times = []\n",
    "    r_status = []\n",
    "    for i,t in enumerate(times):\n",
    "        ne = num_events[i]\n",
    "        nc = num_censored[i]\n",
    "        r_times += ([t] * (ne + nc))\n",
    "        r_status += ([1] * ne + [0] * nc)\n",
    "    \n",
    "    return r_times, r_status\n",
    "\n",
    "def evaluate_test_stats_konp(Ot1, Ot2, Ct1, Ct2, N1, N2):\n",
    "    times1, status1 = time2event(np.arange(1,T+1), Ot1, Ct1, N1)\n",
    "    times2, status2 = time2event(np.arange(1,T+1), Ot2, Ct2, N2)\n",
    "    times = FloatVector(times1 + times2)\n",
    "    status = FloatVector(status1 + status2)\n",
    "    groups = FloatVector([0] * len(times1) + [1] * len(times2))\n",
    "    return konp_testR(times, status, groups)\n"
   ]
  },
  {
   "cell_type": "code",
   "execution_count": 34,
   "id": "43dfebf4",
   "metadata": {},
   "outputs": [
    {
     "data": {
      "text/plain": [
       "{'chisq_test_stat': 4.146427783502213,\n",
       " 'lr_test_stat': 4.152684664280177,\n",
       " 'cauchy_test_stat': 48.473458785235884}"
      ]
     },
     "execution_count": 34,
     "metadata": {},
     "output_type": "execute_result"
    }
   ],
   "source": [
    "T = 100\n",
    "N2 = N1 = 1000\n",
    "lam0 = np.ones(T)/T\n",
    "beta = .7\n",
    "eps = .1\n",
    "r = 1\n",
    "\n",
    "Nt1, Nt2 = sample_survival_poisson(T, N1, N2, lam0, eps, r)\n",
    "Ot1 = -np.diff(Nt1).astype(int)\n",
    "Ot2 = -np.diff(Nt2).astype(int)\n",
    "Ct1 = np.diff(Nt1).astype(int) + Ot1\n",
    "Ct2 = np.diff(Nt1).astype(int) + Ot1\n",
    "\n",
    "evaluate_test_stats_konp(Ot1, Ot2, Ct1, Ct2, N1, N2)"
   ]
  },
  {
   "cell_type": "code",
   "execution_count": 24,
   "id": "cc580e6d",
   "metadata": {},
   "outputs": [
    {
     "data": {
      "text/plain": [
       "{'chisq_test_stat': 10.322213356146667,\n",
       " 'lr_test_stat': 10.348492614411335,\n",
       " 'cauchy_test_stat': 209311.88963528138}"
      ]
     },
     "execution_count": 24,
     "metadata": {},
     "output_type": "execute_result"
    }
   ],
   "source": [
    "konp_testR(times, status, groups)"
   ]
  },
  {
   "cell_type": "code",
   "execution_count": null,
   "id": "f9899f2c",
   "metadata": {},
   "outputs": [],
   "source": [
    "\n",
    "times = FloatVector(np.concatenate([Nt1, Nt2]))\n",
    "status = FloatVector(np.concatenate([np.ones(N1), np.zeros(N2)]))\n",
    "groups = FloatVector(np.concatenate([np.ones(N1), np.zeros(N2)]))\n",
    "konp_testR(times, status, groups)"
   ]
  },
  {
   "cell_type": "code",
   "execution_count": null,
   "id": "0a247ebb",
   "metadata": {},
   "outputs": [],
   "source": [
    "from lifelines.statistics import logrank_test\n",
    "\n",
    "def logrank_lifeline_survival_table(df_table, **kwrgs):\n",
    "    \"\"\"\n",
    "    Apply the logrank test from lifeline to survival table.\n",
    "    To do so, we first need to convert the table to time-to-event representation\n",
    "    by duplicating entries of removed subjects (observed or censored)\n",
    "    \"\"\"\n",
    "\n",
    "    def table2time(df):\n",
    "        df_obs = df.loc[df.index.repeat(df['observed'])]\n",
    "        df_cen = df.loc[df.index.repeat(df['censored'])]\n",
    "\n",
    "        df_obs['event'] = (df_obs['observed'] > 0) + 0.0\n",
    "        df_cen['event'] = 0\n",
    "\n",
    "        return pd.concat([df_obs, df_cen], axis=0).filter(['event'])\n",
    "\n",
    "    dfg0 = df_table.filter(like=r':0')\n",
    "    dfg1 = df_table.filter(like=r':1')\n",
    "\n",
    "    dft0 = table2time(dfg0.rename(columns={'observed:0': 'observed', 'censored:0': 'censored'}))\n",
    "    dft1 = table2time(dfg1.rename(columns={'observed:1': 'observed', 'censored:1': 'censored'}))\n",
    "\n",
    "    return logrank_test(dft0.index, dft1.index,\n",
    "                        event_observed_A=dft0['event'], event_observed_B=dft1['event'],\n",
    "                        **kwrgs)\n"
   ]
  },
  {
   "cell_type": "code",
   "execution_count": 37,
   "id": "e787da26",
   "metadata": {},
   "outputs": [
    {
     "data": {
      "text/plain": [
       "1000"
      ]
     },
     "execution_count": 37,
     "metadata": {},
     "output_type": "execute_result"
    }
   ],
   "source": [
    "N1"
   ]
  },
  {
   "cell_type": "code",
   "execution_count": null,
   "id": "28a9a1df",
   "metadata": {},
   "outputs": [],
   "source": [
    "N1 = Nt1[0]\n",
    "N2 = Nt2[0]\n",
    "Nt1 = np.concatenate([Nt1, [Nt1[-1]-Ot1[-1]]], axis=0)\n",
    "Nt2 = np.concatenate([Nt2, [Nt2[-1]-Ot2[-1]]], axis=0)\n",
    "Ct1 = (-np.diff(Nt1) - Ot1).astype(int)\n",
    "Ct2 = (-np.diff(Nt2) - Ot2).astype(int)\n",
    "\n",
    "assert np.all(Ct1 >= 0)\n",
    "assert np.all(Ct2 >= 0)\n",
    "\n",
    "if no_censoring:\n",
    "    assert np.abs(Ct1).sum() == 0\n",
    "    assert np.abs(Ct2).sum() == 0\n",
    "\n",
    "res_ll = evaluate_test_stats_lifeline(Ot1, Ot2, Ct1, Ct2, N1, N2)\n",
    "res_konp = evaluate_test_stats_konp(Ot1, Ot2, Ct1, Ct2, N1, N2)"
   ]
  },
  {
   "cell_type": "markdown",
   "id": "5fdf6a41",
   "metadata": {},
   "source": [
    "## Synthetic experiment"
   ]
  },
  {
   "cell_type": "code",
   "execution_count": 12,
   "id": "2e23618c",
   "metadata": {},
   "outputs": [
    {
     "ename": "KeyboardInterrupt",
     "evalue": "",
     "output_type": "error",
     "traceback": [
      "\u001b[0;31m---------------------------------------------------------------------------\u001b[0m",
      "\u001b[0;31mKeyboardInterrupt\u001b[0m                         Traceback (most recent call last)",
      "Cell \u001b[0;32mIn[12], line 17\u001b[0m\n\u001b[1;32m     15\u001b[0m Ot1 \u001b[38;5;241m=\u001b[39m \u001b[38;5;241m-\u001b[39mnp\u001b[38;5;241m.\u001b[39mdiff(Nt1)\u001b[38;5;241m.\u001b[39mastype(\u001b[38;5;28mint\u001b[39m)\n\u001b[1;32m     16\u001b[0m Ot2 \u001b[38;5;241m=\u001b[39m \u001b[38;5;241m-\u001b[39mnp\u001b[38;5;241m.\u001b[39mdiff(Nt2)\u001b[38;5;241m.\u001b[39mastype(\u001b[38;5;28mint\u001b[39m)\n\u001b[0;32m---> 17\u001b[0m res \u001b[38;5;241m=\u001b[39m \u001b[43mevaluate_test_stats\u001b[49m\u001b[43m(\u001b[49m\u001b[43mNt1\u001b[49m\u001b[43m[\u001b[49m\u001b[43m:\u001b[49m\u001b[38;5;241;43m-\u001b[39;49m\u001b[38;5;241;43m1\u001b[39;49m\u001b[43m]\u001b[49m\u001b[43m,\u001b[49m\u001b[43m \u001b[49m\u001b[43mNt2\u001b[49m\u001b[43m[\u001b[49m\u001b[43m:\u001b[49m\u001b[38;5;241;43m-\u001b[39;49m\u001b[38;5;241;43m1\u001b[39;49m\u001b[43m]\u001b[49m\u001b[43m,\u001b[49m\u001b[43m \u001b[49m\u001b[43mOt1\u001b[49m\u001b[43m,\u001b[49m\u001b[43m \u001b[49m\u001b[43mOt2\u001b[49m\u001b[43m,\u001b[49m\n\u001b[1;32m     18\u001b[0m \u001b[43m                            \u001b[49m\u001b[43mrandomized\u001b[49m\u001b[38;5;241;43m=\u001b[39;49m\u001b[38;5;28;43;01mTrue\u001b[39;49;00m\u001b[43m,\u001b[49m\u001b[43m \u001b[49m\u001b[43malternative\u001b[49m\u001b[38;5;241;43m=\u001b[39;49m\u001b[38;5;124;43m'\u001b[39;49m\u001b[38;5;124;43mgreater\u001b[39;49m\u001b[38;5;124;43m'\u001b[39;49m\u001b[43m,\u001b[49m\u001b[43m \u001b[49m\u001b[43mstbl\u001b[49m\u001b[38;5;241;43m=\u001b[39;49m\u001b[43mSTBL\u001b[49m\u001b[43m)\u001b[49m\n\u001b[1;32m     19\u001b[0m results[itr] \u001b[38;5;241m=\u001b[39m res\n",
      "File \u001b[0;32m~/survival/survival.py:202\u001b[0m, in \u001b[0;36mevaluate_test_stats\u001b[0;34m(Nt1, Nt2, Ot1, Ot2, **kwargs)\u001b[0m\n\u001b[1;32m    199\u001b[0m     \u001b[38;5;28;01massert\u001b[39;00m np\u001b[38;5;241m.\u001b[39mabs(Ct1)\u001b[38;5;241m.\u001b[39msum() \u001b[38;5;241m==\u001b[39m \u001b[38;5;241m0\u001b[39m\n\u001b[1;32m    200\u001b[0m     \u001b[38;5;28;01massert\u001b[39;00m np\u001b[38;5;241m.\u001b[39mabs(Ct2)\u001b[38;5;241m.\u001b[39msum() \u001b[38;5;241m==\u001b[39m \u001b[38;5;241m0\u001b[39m\n\u001b[0;32m--> 202\u001b[0m res_ll \u001b[38;5;241m=\u001b[39m \u001b[43mevaluate_test_stats_lifeline\u001b[49m\u001b[43m(\u001b[49m\u001b[43mOt1\u001b[49m\u001b[43m,\u001b[49m\u001b[43m \u001b[49m\u001b[43mOt2\u001b[49m\u001b[43m,\u001b[49m\u001b[43m \u001b[49m\u001b[43mCt1\u001b[49m\u001b[43m,\u001b[49m\u001b[43m \u001b[49m\u001b[43mCt2\u001b[49m\u001b[43m)\u001b[49m\n\u001b[1;32m    204\u001b[0m \u001b[38;5;28;01mreturn\u001b[39;00m {\u001b[38;5;241m*\u001b[39m\u001b[38;5;241m*\u001b[39mres, \u001b[38;5;241m*\u001b[39m\u001b[38;5;241m*\u001b[39mres_ll}\n",
      "File \u001b[0;32m~/survival/survival.py:270\u001b[0m, in \u001b[0;36mevaluate_test_stats_lifeline\u001b[0;34m(Ot1, Ot2, Ct1, Ct2)\u001b[0m\n\u001b[1;32m    268\u001b[0m     res[\u001b[38;5;124mf\u001b[39m\u001b[38;5;124m'\u001b[39m\u001b[38;5;124mlogrank_lifelines_\u001b[39m\u001b[38;5;132;01m{\u001b[39;00mwt\u001b[38;5;132;01m}\u001b[39;00m\u001b[38;5;124m'\u001b[39m] \u001b[38;5;241m=\u001b[39m logrank_lifeline_survival_table(dfg, weightings\u001b[38;5;241m=\u001b[39m\u001b[38;5;124m'\u001b[39m\u001b[38;5;124mfleming-harrington\u001b[39m\u001b[38;5;124m'\u001b[39m, p\u001b[38;5;241m=\u001b[39m\u001b[38;5;241m0\u001b[39m, q\u001b[38;5;241m=\u001b[39m\u001b[38;5;241m1\u001b[39m)\u001b[38;5;241m.\u001b[39mtest_statistic\n\u001b[1;32m    269\u001b[0m \u001b[38;5;28;01melif\u001b[39;00m wt \u001b[38;5;241m==\u001b[39m \u001b[38;5;124m'\u001b[39m\u001b[38;5;124mfleming-harrington55\u001b[39m\u001b[38;5;124m'\u001b[39m:\n\u001b[0;32m--> 270\u001b[0m     res[\u001b[38;5;124mf\u001b[39m\u001b[38;5;124m'\u001b[39m\u001b[38;5;124mlogrank_lifelines_\u001b[39m\u001b[38;5;132;01m{\u001b[39;00mwt\u001b[38;5;132;01m}\u001b[39;00m\u001b[38;5;124m'\u001b[39m] \u001b[38;5;241m=\u001b[39m \u001b[43mlogrank_lifeline_survival_table\u001b[49m\u001b[43m(\u001b[49m\u001b[43mdfg\u001b[49m\u001b[43m,\u001b[49m\u001b[43m \u001b[49m\u001b[43mweightings\u001b[49m\u001b[38;5;241;43m=\u001b[39;49m\u001b[38;5;124;43m'\u001b[39;49m\u001b[38;5;124;43mfleming-harrington\u001b[39;49m\u001b[38;5;124;43m'\u001b[39;49m\u001b[43m,\u001b[49m\u001b[43m \u001b[49m\u001b[43mp\u001b[49m\u001b[38;5;241;43m=\u001b[39;49m\u001b[38;5;241;43m0.5\u001b[39;49m\u001b[43m,\u001b[49m\u001b[43m \u001b[49m\u001b[43mq\u001b[49m\u001b[38;5;241;43m=\u001b[39;49m\u001b[38;5;241;43m0.5\u001b[39;49m\u001b[43m)\u001b[49m\u001b[38;5;241m.\u001b[39mtest_statistic\n\u001b[1;32m    271\u001b[0m \u001b[38;5;28;01melse\u001b[39;00m:\n\u001b[1;32m    272\u001b[0m     res[\u001b[38;5;124mf\u001b[39m\u001b[38;5;124m'\u001b[39m\u001b[38;5;124mlogrank_lifelines_\u001b[39m\u001b[38;5;132;01m{\u001b[39;00mwt\u001b[38;5;132;01m}\u001b[39;00m\u001b[38;5;124m'\u001b[39m] \u001b[38;5;241m=\u001b[39m logrank_lifeline_survival_table(dfg, weightings\u001b[38;5;241m=\u001b[39mwt)\u001b[38;5;241m.\u001b[39mtest_statistic\n",
      "File \u001b[0;32m~/survival/survival.py:115\u001b[0m, in \u001b[0;36mlogrank_lifeline_survival_table\u001b[0;34m(df_table, **kwrgs)\u001b[0m\n\u001b[1;32m    112\u001b[0m dft0 \u001b[38;5;241m=\u001b[39m table2time(dfg0\u001b[38;5;241m.\u001b[39mrename(columns\u001b[38;5;241m=\u001b[39m{\u001b[38;5;124m'\u001b[39m\u001b[38;5;124mobserved:0\u001b[39m\u001b[38;5;124m'\u001b[39m: \u001b[38;5;124m'\u001b[39m\u001b[38;5;124mobserved\u001b[39m\u001b[38;5;124m'\u001b[39m, \u001b[38;5;124m'\u001b[39m\u001b[38;5;124mcensored:0\u001b[39m\u001b[38;5;124m'\u001b[39m: \u001b[38;5;124m'\u001b[39m\u001b[38;5;124mcensored\u001b[39m\u001b[38;5;124m'\u001b[39m}))\n\u001b[1;32m    113\u001b[0m dft1 \u001b[38;5;241m=\u001b[39m table2time(dfg1\u001b[38;5;241m.\u001b[39mrename(columns\u001b[38;5;241m=\u001b[39m{\u001b[38;5;124m'\u001b[39m\u001b[38;5;124mobserved:1\u001b[39m\u001b[38;5;124m'\u001b[39m: \u001b[38;5;124m'\u001b[39m\u001b[38;5;124mobserved\u001b[39m\u001b[38;5;124m'\u001b[39m, \u001b[38;5;124m'\u001b[39m\u001b[38;5;124mcensored:1\u001b[39m\u001b[38;5;124m'\u001b[39m: \u001b[38;5;124m'\u001b[39m\u001b[38;5;124mcensored\u001b[39m\u001b[38;5;124m'\u001b[39m}))\n\u001b[0;32m--> 115\u001b[0m \u001b[38;5;28;01mreturn\u001b[39;00m \u001b[43mlogrank_test\u001b[49m\u001b[43m(\u001b[49m\u001b[43mdft0\u001b[49m\u001b[38;5;241;43m.\u001b[39;49m\u001b[43mindex\u001b[49m\u001b[43m,\u001b[49m\u001b[43m \u001b[49m\u001b[43mdft1\u001b[49m\u001b[38;5;241;43m.\u001b[39;49m\u001b[43mindex\u001b[49m\u001b[43m,\u001b[49m\n\u001b[1;32m    116\u001b[0m \u001b[43m                    \u001b[49m\u001b[43mevent_observed_A\u001b[49m\u001b[38;5;241;43m=\u001b[39;49m\u001b[43mdft0\u001b[49m\u001b[43m[\u001b[49m\u001b[38;5;124;43m'\u001b[39;49m\u001b[38;5;124;43mevent\u001b[39;49m\u001b[38;5;124;43m'\u001b[39;49m\u001b[43m]\u001b[49m\u001b[43m,\u001b[49m\u001b[43m \u001b[49m\u001b[43mevent_observed_B\u001b[49m\u001b[38;5;241;43m=\u001b[39;49m\u001b[43mdft1\u001b[49m\u001b[43m[\u001b[49m\u001b[38;5;124;43m'\u001b[39;49m\u001b[38;5;124;43mevent\u001b[39;49m\u001b[38;5;124;43m'\u001b[39;49m\u001b[43m]\u001b[49m\u001b[43m,\u001b[49m\n\u001b[1;32m    117\u001b[0m \u001b[43m                    \u001b[49m\u001b[38;5;241;43m*\u001b[39;49m\u001b[38;5;241;43m*\u001b[39;49m\u001b[43mkwrgs\u001b[49m\u001b[43m)\u001b[49m\n",
      "File \u001b[0;32m~/survival/env/lib/python3.8/site-packages/lifelines/statistics.py:581\u001b[0m, in \u001b[0;36mlogrank_test\u001b[0;34m(durations_A, durations_B, event_observed_A, event_observed_B, t_0, weights_A, weights_B, weightings, **kwargs)\u001b[0m\n\u001b[1;32m    579\u001b[0m event_observed \u001b[38;5;241m=\u001b[39m np\u001b[38;5;241m.\u001b[39mr_[event_observed_A, event_observed_B]\n\u001b[1;32m    580\u001b[0m weights \u001b[38;5;241m=\u001b[39m np\u001b[38;5;241m.\u001b[39mr_[weights_A, weights_B]\n\u001b[0;32m--> 581\u001b[0m \u001b[38;5;28;01mreturn\u001b[39;00m \u001b[43mmultivariate_logrank_test\u001b[49m\u001b[43m(\u001b[49m\n\u001b[1;32m    582\u001b[0m \u001b[43m    \u001b[49m\u001b[43mevent_times\u001b[49m\u001b[43m,\u001b[49m\u001b[43m \u001b[49m\u001b[43mgroups\u001b[49m\u001b[43m,\u001b[49m\u001b[43m \u001b[49m\u001b[43mevent_observed\u001b[49m\u001b[43m,\u001b[49m\u001b[43m \u001b[49m\u001b[43mt_0\u001b[49m\u001b[38;5;241;43m=\u001b[39;49m\u001b[43mt_0\u001b[49m\u001b[43m,\u001b[49m\u001b[43m \u001b[49m\u001b[43mweights\u001b[49m\u001b[38;5;241;43m=\u001b[39;49m\u001b[43mweights\u001b[49m\u001b[43m,\u001b[49m\u001b[43m \u001b[49m\u001b[43mtest_name\u001b[49m\u001b[38;5;241;43m=\u001b[39;49m\u001b[38;5;124;43m\"\u001b[39;49m\u001b[38;5;124;43mlogrank_test\u001b[39;49m\u001b[38;5;124;43m\"\u001b[39;49m\u001b[43m,\u001b[49m\u001b[43m \u001b[49m\u001b[43mweightings\u001b[49m\u001b[38;5;241;43m=\u001b[39;49m\u001b[43mweightings\u001b[49m\u001b[43m,\u001b[49m\u001b[43m \u001b[49m\u001b[38;5;241;43m*\u001b[39;49m\u001b[38;5;241;43m*\u001b[39;49m\u001b[43mkwargs\u001b[49m\n\u001b[1;32m    583\u001b[0m \u001b[43m\u001b[49m\u001b[43m)\u001b[49m\n",
      "File \u001b[0;32m~/survival/env/lib/python3.8/site-packages/lifelines/statistics.py:822\u001b[0m, in \u001b[0;36mmultivariate_logrank_test\u001b[0;34m(event_durations, groups, event_observed, weights, t_0, weightings, **kwargs)\u001b[0m\n\u001b[1;32m    820\u001b[0m     \u001b[38;5;28;01mraise\u001b[39;00m \u001b[38;5;167;01mValueError\u001b[39;00m(\u001b[38;5;124m\"\u001b[39m\u001b[38;5;124mMust provide keyword argument q for Flemington-Harrington test statistic\u001b[39m\u001b[38;5;124m\"\u001b[39m)\n\u001b[1;32m    821\u001b[0m kwargs[\u001b[38;5;124m\"\u001b[39m\u001b[38;5;124mtest_name\u001b[39m\u001b[38;5;124m\"\u001b[39m] \u001b[38;5;241m=\u001b[39m kwargs[\u001b[38;5;124m\"\u001b[39m\u001b[38;5;124mtest_name\u001b[39m\u001b[38;5;124m\"\u001b[39m]\u001b[38;5;241m.\u001b[39mreplace(\u001b[38;5;124m\"\u001b[39m\u001b[38;5;124mlogrank\u001b[39m\u001b[38;5;124m\"\u001b[39m, \u001b[38;5;124m\"\u001b[39m\u001b[38;5;124mFlemington-Harrington\u001b[39m\u001b[38;5;124m\"\u001b[39m)\n\u001b[0;32m--> 822\u001b[0m kmf \u001b[38;5;241m=\u001b[39m \u001b[43mKaplanMeierFitter\u001b[49m\u001b[43m(\u001b[49m\u001b[43m)\u001b[49m\u001b[38;5;241;43m.\u001b[39;49m\u001b[43mfit\u001b[49m\u001b[43m(\u001b[49m\u001b[43mevent_durations\u001b[49m\u001b[43m,\u001b[49m\u001b[43m \u001b[49m\u001b[43mevent_observed\u001b[49m\u001b[38;5;241;43m=\u001b[39;49m\u001b[43mevent_observed\u001b[49m\u001b[43m)\u001b[49m\n\u001b[1;32m    823\u001b[0m \u001b[38;5;66;03m#s = kmf.survival_function_.to_numpy().flatten()[:-1]  # Left-continuous Kaplan-Meier survival estimate.\u001b[39;00m\n\u001b[1;32m    824\u001b[0m s \u001b[38;5;241m=\u001b[39m kmf\u001b[38;5;241m.\u001b[39msurvival_function_\u001b[38;5;241m.\u001b[39mto_numpy()\u001b[38;5;241m.\u001b[39mflatten() \u001b[38;5;66;03m# Left-continuous Kaplan-Meier survival estimate.\u001b[39;00m\n",
      "File \u001b[0;32m~/survival/env/lib/python3.8/site-packages/lifelines/utils/__init__.py:56\u001b[0m, in \u001b[0;36mCensoringType.right_censoring.<locals>.f\u001b[0;34m(model, *args, **kwargs)\u001b[0m\n\u001b[1;32m     53\u001b[0m \u001b[38;5;129m@wraps\u001b[39m(function)\n\u001b[1;32m     54\u001b[0m \u001b[38;5;28;01mdef\u001b[39;00m \u001b[38;5;21mf\u001b[39m(model, \u001b[38;5;241m*\u001b[39margs, \u001b[38;5;241m*\u001b[39m\u001b[38;5;241m*\u001b[39mkwargs):\n\u001b[1;32m     55\u001b[0m     \u001b[38;5;28mcls\u001b[39m\u001b[38;5;241m.\u001b[39mset_censoring_type(model, \u001b[38;5;28mcls\u001b[39m\u001b[38;5;241m.\u001b[39mRIGHT)\n\u001b[0;32m---> 56\u001b[0m     \u001b[38;5;28;01mreturn\u001b[39;00m \u001b[43mfunction\u001b[49m\u001b[43m(\u001b[49m\u001b[43mmodel\u001b[49m\u001b[43m,\u001b[49m\u001b[43m \u001b[49m\u001b[38;5;241;43m*\u001b[39;49m\u001b[43margs\u001b[49m\u001b[43m,\u001b[49m\u001b[43m \u001b[49m\u001b[38;5;241;43m*\u001b[39;49m\u001b[38;5;241;43m*\u001b[39;49m\u001b[43mkwargs\u001b[49m\u001b[43m)\u001b[49m\n",
      "File \u001b[0;32m~/survival/env/lib/python3.8/site-packages/lifelines/fitters/kaplan_meier_fitter.py:127\u001b[0m, in \u001b[0;36mKaplanMeierFitter.fit\u001b[0;34m(self, durations, event_observed, timeline, entry, label, alpha, ci_labels, weights, fit_options)\u001b[0m\n\u001b[1;32m     80\u001b[0m \u001b[38;5;129m@CensoringType\u001b[39m\u001b[38;5;241m.\u001b[39mright_censoring\n\u001b[1;32m     81\u001b[0m \u001b[38;5;28;01mdef\u001b[39;00m \u001b[38;5;21mfit\u001b[39m(\n\u001b[1;32m     82\u001b[0m     \u001b[38;5;28mself\u001b[39m,\n\u001b[0;32m   (...)\u001b[0m\n\u001b[1;32m     91\u001b[0m     fit_options\u001b[38;5;241m=\u001b[39m\u001b[38;5;28;01mNone\u001b[39;00m,\n\u001b[1;32m     92\u001b[0m ):  \u001b[38;5;66;03m# pylint: disable=too-many-arguments,too-many-locals\u001b[39;00m\n\u001b[1;32m     93\u001b[0m \u001b[38;5;250m    \u001b[39m\u001b[38;5;124;03m\"\"\"\u001b[39;00m\n\u001b[1;32m     94\u001b[0m \u001b[38;5;124;03m    Fit the model to a right-censored dataset\u001b[39;00m\n\u001b[1;32m     95\u001b[0m \n\u001b[0;32m   (...)\u001b[0m\n\u001b[1;32m    124\u001b[0m \n\u001b[1;32m    125\u001b[0m \u001b[38;5;124;03m    \"\"\"\u001b[39;00m\n\u001b[0;32m--> 127\u001b[0m     \u001b[38;5;28;01mreturn\u001b[39;00m \u001b[38;5;28;43mself\u001b[39;49m\u001b[38;5;241;43m.\u001b[39;49m\u001b[43m_fit\u001b[49m\u001b[43m(\u001b[49m\u001b[43mdurations\u001b[49m\u001b[43m,\u001b[49m\u001b[43m \u001b[49m\u001b[43mevent_observed\u001b[49m\u001b[43m,\u001b[49m\u001b[43m \u001b[49m\u001b[43mtimeline\u001b[49m\u001b[43m,\u001b[49m\u001b[43m \u001b[49m\u001b[43mentry\u001b[49m\u001b[43m,\u001b[49m\u001b[43m \u001b[49m\u001b[43mlabel\u001b[49m\u001b[43m,\u001b[49m\u001b[43m \u001b[49m\u001b[43malpha\u001b[49m\u001b[43m,\u001b[49m\u001b[43m \u001b[49m\u001b[43mci_labels\u001b[49m\u001b[43m,\u001b[49m\u001b[43m \u001b[49m\u001b[43mweights\u001b[49m\u001b[43m)\u001b[49m\n",
      "File \u001b[0;32m~/survival/env/lib/python3.8/site-packages/lifelines/fitters/kaplan_meier_fitter.py:354\u001b[0m, in \u001b[0;36mKaplanMeierFitter._fit\u001b[0;34m(self, durations, event_observed, timeline, entry, label, alpha, ci_labels, weights)\u001b[0m\n\u001b[1;32m    351\u001b[0m primary_estimate_name \u001b[38;5;241m=\u001b[39m \u001b[38;5;124m\"\u001b[39m\u001b[38;5;124msurvival_function_\u001b[39m\u001b[38;5;124m\"\u001b[39m\n\u001b[1;32m    352\u001b[0m secondary_estimate_name \u001b[38;5;241m=\u001b[39m \u001b[38;5;124m\"\u001b[39m\u001b[38;5;124mcumulative_density_\u001b[39m\u001b[38;5;124m\"\u001b[39m\n\u001b[0;32m--> 354\u001b[0m (\u001b[38;5;28mself\u001b[39m\u001b[38;5;241m.\u001b[39mdurations, \u001b[38;5;28mself\u001b[39m\u001b[38;5;241m.\u001b[39mevent_observed, \u001b[38;5;28mself\u001b[39m\u001b[38;5;241m.\u001b[39mtimeline, \u001b[38;5;28mself\u001b[39m\u001b[38;5;241m.\u001b[39mentry, \u001b[38;5;28mself\u001b[39m\u001b[38;5;241m.\u001b[39mevent_table, \u001b[38;5;28mself\u001b[39m\u001b[38;5;241m.\u001b[39mweights) \u001b[38;5;241m=\u001b[39m \u001b[43m_preprocess_inputs\u001b[49m\u001b[43m(\u001b[49m\n\u001b[1;32m    355\u001b[0m \u001b[43m    \u001b[49m\u001b[43mdurations\u001b[49m\u001b[43m,\u001b[49m\u001b[43m \u001b[49m\u001b[43mevent_observed\u001b[49m\u001b[43m,\u001b[49m\u001b[43m \u001b[49m\u001b[43mtimeline\u001b[49m\u001b[43m,\u001b[49m\u001b[43m \u001b[49m\u001b[43mentry\u001b[49m\u001b[43m,\u001b[49m\u001b[43m \u001b[49m\u001b[43mweights\u001b[49m\n\u001b[1;32m    356\u001b[0m \u001b[43m\u001b[49m\u001b[43m)\u001b[49m\n\u001b[1;32m    358\u001b[0m alpha \u001b[38;5;241m=\u001b[39m alpha \u001b[38;5;28;01mif\u001b[39;00m alpha \u001b[38;5;28;01melse\u001b[39;00m \u001b[38;5;28mself\u001b[39m\u001b[38;5;241m.\u001b[39malpha\n\u001b[1;32m    359\u001b[0m log_estimate, cumulative_sq_ \u001b[38;5;241m=\u001b[39m _additive_estimate(\n\u001b[1;32m    360\u001b[0m     \u001b[38;5;28mself\u001b[39m\u001b[38;5;241m.\u001b[39mevent_table, \u001b[38;5;28mself\u001b[39m\u001b[38;5;241m.\u001b[39mtimeline, \u001b[38;5;28mself\u001b[39m\u001b[38;5;241m.\u001b[39m_additive_f, \u001b[38;5;28mself\u001b[39m\u001b[38;5;241m.\u001b[39m_additive_var, is_left_censoring\n\u001b[1;32m    361\u001b[0m )\n",
      "File \u001b[0;32m~/survival/env/lib/python3.8/site-packages/lifelines/utils/__init__.py:921\u001b[0m, in \u001b[0;36m_preprocess_inputs\u001b[0;34m(durations, event_observed, timeline, entry, weights)\u001b[0m\n\u001b[1;32m    918\u001b[0m \u001b[38;5;28;01mif\u001b[39;00m entry \u001b[38;5;129;01mis\u001b[39;00m \u001b[38;5;129;01mnot\u001b[39;00m \u001b[38;5;28;01mNone\u001b[39;00m:\n\u001b[1;32m    919\u001b[0m     entry \u001b[38;5;241m=\u001b[39m np\u001b[38;5;241m.\u001b[39masarray(entry)\u001b[38;5;241m.\u001b[39mreshape((n,))\n\u001b[0;32m--> 921\u001b[0m event_table \u001b[38;5;241m=\u001b[39m \u001b[43msurvival_table_from_events\u001b[49m\u001b[43m(\u001b[49m\u001b[43mdurations\u001b[49m\u001b[43m,\u001b[49m\u001b[43m \u001b[49m\u001b[43mevent_observed\u001b[49m\u001b[43m,\u001b[49m\u001b[43m \u001b[49m\u001b[43mentry\u001b[49m\u001b[43m,\u001b[49m\u001b[43m \u001b[49m\u001b[43mweights\u001b[49m\u001b[38;5;241;43m=\u001b[39;49m\u001b[43mweights\u001b[49m\u001b[43m)\u001b[49m\n\u001b[1;32m    922\u001b[0m \u001b[38;5;28;01mif\u001b[39;00m timeline \u001b[38;5;129;01mis\u001b[39;00m \u001b[38;5;28;01mNone\u001b[39;00m:\n\u001b[1;32m    923\u001b[0m     timeline \u001b[38;5;241m=\u001b[39m event_table\u001b[38;5;241m.\u001b[39mindex\u001b[38;5;241m.\u001b[39mvalues\n",
      "File \u001b[0;32m~/survival/env/lib/python3.8/site-packages/lifelines/utils/__init__.py:532\u001b[0m, in \u001b[0;36msurvival_table_from_events\u001b[0;34m(death_times, event_observed, birth_times, columns, weights, collapse, intervals)\u001b[0m\n\u001b[1;32m    530\u001b[0m births[entrance] \u001b[38;5;241m=\u001b[39m np\u001b[38;5;241m.\u001b[39masarray(weights)\n\u001b[1;32m    531\u001b[0m births_table \u001b[38;5;241m=\u001b[39m births\u001b[38;5;241m.\u001b[39mgroupby(\u001b[38;5;124m\"\u001b[39m\u001b[38;5;124mevent_at\u001b[39m\u001b[38;5;124m\"\u001b[39m)\u001b[38;5;241m.\u001b[39msum()\n\u001b[0;32m--> 532\u001b[0m event_table \u001b[38;5;241m=\u001b[39m \u001b[43mdeath_table\u001b[49m\u001b[38;5;241;43m.\u001b[39;49m\u001b[43mjoin\u001b[49m\u001b[43m(\u001b[49m\u001b[43mbirths_table\u001b[49m\u001b[43m,\u001b[49m\u001b[43m \u001b[49m\u001b[43mhow\u001b[49m\u001b[38;5;241;43m=\u001b[39;49m\u001b[38;5;124;43m\"\u001b[39;49m\u001b[38;5;124;43mouter\u001b[39;49m\u001b[38;5;124;43m\"\u001b[39;49m\u001b[43m,\u001b[49m\u001b[43m \u001b[49m\u001b[43msort\u001b[49m\u001b[38;5;241;43m=\u001b[39;49m\u001b[38;5;28;43;01mTrue\u001b[39;49;00m\u001b[43m)\u001b[49m\u001b[38;5;241m.\u001b[39mfillna(\u001b[38;5;241m0\u001b[39m)  \u001b[38;5;66;03m# http://wesmckinney.com/blog/?p=414\u001b[39;00m\n\u001b[1;32m    533\u001b[0m event_table[at_risk] \u001b[38;5;241m=\u001b[39m event_table[entrance]\u001b[38;5;241m.\u001b[39mcumsum() \u001b[38;5;241m-\u001b[39m event_table[removed]\u001b[38;5;241m.\u001b[39mcumsum()\u001b[38;5;241m.\u001b[39mshift(\u001b[38;5;241m1\u001b[39m)\u001b[38;5;241m.\u001b[39mfillna(\u001b[38;5;241m0\u001b[39m)\n\u001b[1;32m    535\u001b[0m \u001b[38;5;66;03m# group by intervals\u001b[39;00m\n",
      "File \u001b[0;32m~/survival/env/lib/python3.8/site-packages/pandas/core/frame.py:9979\u001b[0m, in \u001b[0;36mDataFrame.join\u001b[0;34m(self, other, on, how, lsuffix, rsuffix, sort, validate)\u001b[0m\n\u001b[1;32m   9816\u001b[0m \u001b[38;5;28;01mdef\u001b[39;00m \u001b[38;5;21mjoin\u001b[39m(\n\u001b[1;32m   9817\u001b[0m     \u001b[38;5;28mself\u001b[39m,\n\u001b[1;32m   9818\u001b[0m     other: DataFrame \u001b[38;5;241m|\u001b[39m Series \u001b[38;5;241m|\u001b[39m \u001b[38;5;28mlist\u001b[39m[DataFrame \u001b[38;5;241m|\u001b[39m Series],\n\u001b[0;32m   (...)\u001b[0m\n\u001b[1;32m   9824\u001b[0m     validate: \u001b[38;5;28mstr\u001b[39m \u001b[38;5;241m|\u001b[39m \u001b[38;5;28;01mNone\u001b[39;00m \u001b[38;5;241m=\u001b[39m \u001b[38;5;28;01mNone\u001b[39;00m,\n\u001b[1;32m   9825\u001b[0m ) \u001b[38;5;241m-\u001b[39m\u001b[38;5;241m>\u001b[39m DataFrame:\n\u001b[1;32m   9826\u001b[0m \u001b[38;5;250m    \u001b[39m\u001b[38;5;124;03m\"\"\"\u001b[39;00m\n\u001b[1;32m   9827\u001b[0m \u001b[38;5;124;03m    Join columns of another DataFrame.\u001b[39;00m\n\u001b[1;32m   9828\u001b[0m \n\u001b[0;32m   (...)\u001b[0m\n\u001b[1;32m   9977\u001b[0m \u001b[38;5;124;03m    5  K1  A5   B1\u001b[39;00m\n\u001b[1;32m   9978\u001b[0m \u001b[38;5;124;03m    \"\"\"\u001b[39;00m\n\u001b[0;32m-> 9979\u001b[0m     \u001b[38;5;28;01mreturn\u001b[39;00m \u001b[38;5;28;43mself\u001b[39;49m\u001b[38;5;241;43m.\u001b[39;49m\u001b[43m_join_compat\u001b[49m\u001b[43m(\u001b[49m\n\u001b[1;32m   9980\u001b[0m \u001b[43m        \u001b[49m\u001b[43mother\u001b[49m\u001b[43m,\u001b[49m\n\u001b[1;32m   9981\u001b[0m \u001b[43m        \u001b[49m\u001b[43mon\u001b[49m\u001b[38;5;241;43m=\u001b[39;49m\u001b[43mon\u001b[49m\u001b[43m,\u001b[49m\n\u001b[1;32m   9982\u001b[0m \u001b[43m        \u001b[49m\u001b[43mhow\u001b[49m\u001b[38;5;241;43m=\u001b[39;49m\u001b[43mhow\u001b[49m\u001b[43m,\u001b[49m\n\u001b[1;32m   9983\u001b[0m \u001b[43m        \u001b[49m\u001b[43mlsuffix\u001b[49m\u001b[38;5;241;43m=\u001b[39;49m\u001b[43mlsuffix\u001b[49m\u001b[43m,\u001b[49m\n\u001b[1;32m   9984\u001b[0m \u001b[43m        \u001b[49m\u001b[43mrsuffix\u001b[49m\u001b[38;5;241;43m=\u001b[39;49m\u001b[43mrsuffix\u001b[49m\u001b[43m,\u001b[49m\n\u001b[1;32m   9985\u001b[0m \u001b[43m        \u001b[49m\u001b[43msort\u001b[49m\u001b[38;5;241;43m=\u001b[39;49m\u001b[43msort\u001b[49m\u001b[43m,\u001b[49m\n\u001b[1;32m   9986\u001b[0m \u001b[43m        \u001b[49m\u001b[43mvalidate\u001b[49m\u001b[38;5;241;43m=\u001b[39;49m\u001b[43mvalidate\u001b[49m\u001b[43m,\u001b[49m\n\u001b[1;32m   9987\u001b[0m \u001b[43m    \u001b[49m\u001b[43m)\u001b[49m\n",
      "File \u001b[0;32m~/survival/env/lib/python3.8/site-packages/pandas/core/frame.py:10018\u001b[0m, in \u001b[0;36mDataFrame._join_compat\u001b[0;34m(self, other, on, how, lsuffix, rsuffix, sort, validate)\u001b[0m\n\u001b[1;32m  10008\u001b[0m     \u001b[38;5;28;01mif\u001b[39;00m how \u001b[38;5;241m==\u001b[39m \u001b[38;5;124m\"\u001b[39m\u001b[38;5;124mcross\u001b[39m\u001b[38;5;124m\"\u001b[39m:\n\u001b[1;32m  10009\u001b[0m         \u001b[38;5;28;01mreturn\u001b[39;00m merge(\n\u001b[1;32m  10010\u001b[0m             \u001b[38;5;28mself\u001b[39m,\n\u001b[1;32m  10011\u001b[0m             other,\n\u001b[0;32m   (...)\u001b[0m\n\u001b[1;32m  10016\u001b[0m             validate\u001b[38;5;241m=\u001b[39mvalidate,\n\u001b[1;32m  10017\u001b[0m         )\n\u001b[0;32m> 10018\u001b[0m     \u001b[38;5;28;01mreturn\u001b[39;00m \u001b[43mmerge\u001b[49m\u001b[43m(\u001b[49m\n\u001b[1;32m  10019\u001b[0m \u001b[43m        \u001b[49m\u001b[38;5;28;43mself\u001b[39;49m\u001b[43m,\u001b[49m\n\u001b[1;32m  10020\u001b[0m \u001b[43m        \u001b[49m\u001b[43mother\u001b[49m\u001b[43m,\u001b[49m\n\u001b[1;32m  10021\u001b[0m \u001b[43m        \u001b[49m\u001b[43mleft_on\u001b[49m\u001b[38;5;241;43m=\u001b[39;49m\u001b[43mon\u001b[49m\u001b[43m,\u001b[49m\n\u001b[1;32m  10022\u001b[0m \u001b[43m        \u001b[49m\u001b[43mhow\u001b[49m\u001b[38;5;241;43m=\u001b[39;49m\u001b[43mhow\u001b[49m\u001b[43m,\u001b[49m\n\u001b[1;32m  10023\u001b[0m \u001b[43m        \u001b[49m\u001b[43mleft_index\u001b[49m\u001b[38;5;241;43m=\u001b[39;49m\u001b[43mon\u001b[49m\u001b[43m \u001b[49m\u001b[38;5;129;43;01mis\u001b[39;49;00m\u001b[43m \u001b[49m\u001b[38;5;28;43;01mNone\u001b[39;49;00m\u001b[43m,\u001b[49m\n\u001b[1;32m  10024\u001b[0m \u001b[43m        \u001b[49m\u001b[43mright_index\u001b[49m\u001b[38;5;241;43m=\u001b[39;49m\u001b[38;5;28;43;01mTrue\u001b[39;49;00m\u001b[43m,\u001b[49m\n\u001b[1;32m  10025\u001b[0m \u001b[43m        \u001b[49m\u001b[43msuffixes\u001b[49m\u001b[38;5;241;43m=\u001b[39;49m\u001b[43m(\u001b[49m\u001b[43mlsuffix\u001b[49m\u001b[43m,\u001b[49m\u001b[43m \u001b[49m\u001b[43mrsuffix\u001b[49m\u001b[43m)\u001b[49m\u001b[43m,\u001b[49m\n\u001b[1;32m  10026\u001b[0m \u001b[43m        \u001b[49m\u001b[43msort\u001b[49m\u001b[38;5;241;43m=\u001b[39;49m\u001b[43msort\u001b[49m\u001b[43m,\u001b[49m\n\u001b[1;32m  10027\u001b[0m \u001b[43m        \u001b[49m\u001b[43mvalidate\u001b[49m\u001b[38;5;241;43m=\u001b[39;49m\u001b[43mvalidate\u001b[49m\u001b[43m,\u001b[49m\n\u001b[1;32m  10028\u001b[0m \u001b[43m    \u001b[49m\u001b[43m)\u001b[49m\n\u001b[1;32m  10029\u001b[0m \u001b[38;5;28;01melse\u001b[39;00m:\n\u001b[1;32m  10030\u001b[0m     \u001b[38;5;28;01mif\u001b[39;00m on \u001b[38;5;129;01mis\u001b[39;00m \u001b[38;5;129;01mnot\u001b[39;00m \u001b[38;5;28;01mNone\u001b[39;00m:\n",
      "File \u001b[0;32m~/survival/env/lib/python3.8/site-packages/pandas/core/reshape/merge.py:124\u001b[0m, in \u001b[0;36mmerge\u001b[0;34m(left, right, how, on, left_on, right_on, left_index, right_index, sort, suffixes, copy, indicator, validate)\u001b[0m\n\u001b[1;32m     93\u001b[0m \u001b[38;5;129m@Substitution\u001b[39m(\u001b[38;5;124m\"\u001b[39m\u001b[38;5;130;01m\\n\u001b[39;00m\u001b[38;5;124mleft : DataFrame or named Series\u001b[39m\u001b[38;5;124m\"\u001b[39m)\n\u001b[1;32m     94\u001b[0m \u001b[38;5;129m@Appender\u001b[39m(_merge_doc, indents\u001b[38;5;241m=\u001b[39m\u001b[38;5;241m0\u001b[39m)\n\u001b[1;32m     95\u001b[0m \u001b[38;5;28;01mdef\u001b[39;00m \u001b[38;5;21mmerge\u001b[39m(\n\u001b[0;32m   (...)\u001b[0m\n\u001b[1;32m    108\u001b[0m     validate: \u001b[38;5;28mstr\u001b[39m \u001b[38;5;241m|\u001b[39m \u001b[38;5;28;01mNone\u001b[39;00m \u001b[38;5;241m=\u001b[39m \u001b[38;5;28;01mNone\u001b[39;00m,\n\u001b[1;32m    109\u001b[0m ) \u001b[38;5;241m-\u001b[39m\u001b[38;5;241m>\u001b[39m DataFrame:\n\u001b[1;32m    110\u001b[0m     op \u001b[38;5;241m=\u001b[39m _MergeOperation(\n\u001b[1;32m    111\u001b[0m         left,\n\u001b[1;32m    112\u001b[0m         right,\n\u001b[0;32m   (...)\u001b[0m\n\u001b[1;32m    122\u001b[0m         validate\u001b[38;5;241m=\u001b[39mvalidate,\n\u001b[1;32m    123\u001b[0m     )\n\u001b[0;32m--> 124\u001b[0m     \u001b[38;5;28;01mreturn\u001b[39;00m \u001b[43mop\u001b[49m\u001b[38;5;241;43m.\u001b[39;49m\u001b[43mget_result\u001b[49m\u001b[43m(\u001b[49m\u001b[43mcopy\u001b[49m\u001b[38;5;241;43m=\u001b[39;49m\u001b[43mcopy\u001b[49m\u001b[43m)\u001b[49m\n",
      "File \u001b[0;32m~/survival/env/lib/python3.8/site-packages/pandas/core/reshape/merge.py:775\u001b[0m, in \u001b[0;36m_MergeOperation.get_result\u001b[0;34m(self, copy)\u001b[0m\n\u001b[1;32m    771\u001b[0m     \u001b[38;5;28mself\u001b[39m\u001b[38;5;241m.\u001b[39mleft, \u001b[38;5;28mself\u001b[39m\u001b[38;5;241m.\u001b[39mright \u001b[38;5;241m=\u001b[39m \u001b[38;5;28mself\u001b[39m\u001b[38;5;241m.\u001b[39m_indicator_pre_merge(\u001b[38;5;28mself\u001b[39m\u001b[38;5;241m.\u001b[39mleft, \u001b[38;5;28mself\u001b[39m\u001b[38;5;241m.\u001b[39mright)\n\u001b[1;32m    773\u001b[0m join_index, left_indexer, right_indexer \u001b[38;5;241m=\u001b[39m \u001b[38;5;28mself\u001b[39m\u001b[38;5;241m.\u001b[39m_get_join_info()\n\u001b[0;32m--> 775\u001b[0m result \u001b[38;5;241m=\u001b[39m \u001b[38;5;28;43mself\u001b[39;49m\u001b[38;5;241;43m.\u001b[39;49m\u001b[43m_reindex_and_concat\u001b[49m\u001b[43m(\u001b[49m\n\u001b[1;32m    776\u001b[0m \u001b[43m    \u001b[49m\u001b[43mjoin_index\u001b[49m\u001b[43m,\u001b[49m\u001b[43m \u001b[49m\u001b[43mleft_indexer\u001b[49m\u001b[43m,\u001b[49m\u001b[43m \u001b[49m\u001b[43mright_indexer\u001b[49m\u001b[43m,\u001b[49m\u001b[43m \u001b[49m\u001b[43mcopy\u001b[49m\u001b[38;5;241;43m=\u001b[39;49m\u001b[43mcopy\u001b[49m\n\u001b[1;32m    777\u001b[0m \u001b[43m\u001b[49m\u001b[43m)\u001b[49m\n\u001b[1;32m    778\u001b[0m result \u001b[38;5;241m=\u001b[39m result\u001b[38;5;241m.\u001b[39m__finalize__(\u001b[38;5;28mself\u001b[39m, method\u001b[38;5;241m=\u001b[39m\u001b[38;5;28mself\u001b[39m\u001b[38;5;241m.\u001b[39m_merge_type)\n\u001b[1;32m    780\u001b[0m \u001b[38;5;28;01mif\u001b[39;00m \u001b[38;5;28mself\u001b[39m\u001b[38;5;241m.\u001b[39mindicator:\n",
      "File \u001b[0;32m~/survival/env/lib/python3.8/site-packages/pandas/core/reshape/merge.py:729\u001b[0m, in \u001b[0;36m_MergeOperation._reindex_and_concat\u001b[0;34m(self, join_index, left_indexer, right_indexer, copy)\u001b[0m\n\u001b[1;32m    726\u001b[0m left \u001b[38;5;241m=\u001b[39m \u001b[38;5;28mself\u001b[39m\u001b[38;5;241m.\u001b[39mleft[:]\n\u001b[1;32m    727\u001b[0m right \u001b[38;5;241m=\u001b[39m \u001b[38;5;28mself\u001b[39m\u001b[38;5;241m.\u001b[39mright[:]\n\u001b[0;32m--> 729\u001b[0m llabels, rlabels \u001b[38;5;241m=\u001b[39m \u001b[43m_items_overlap_with_suffix\u001b[49m\u001b[43m(\u001b[49m\n\u001b[1;32m    730\u001b[0m \u001b[43m    \u001b[49m\u001b[38;5;28;43mself\u001b[39;49m\u001b[38;5;241;43m.\u001b[39;49m\u001b[43mleft\u001b[49m\u001b[38;5;241;43m.\u001b[39;49m\u001b[43m_info_axis\u001b[49m\u001b[43m,\u001b[49m\u001b[43m \u001b[49m\u001b[38;5;28;43mself\u001b[39;49m\u001b[38;5;241;43m.\u001b[39;49m\u001b[43mright\u001b[49m\u001b[38;5;241;43m.\u001b[39;49m\u001b[43m_info_axis\u001b[49m\u001b[43m,\u001b[49m\u001b[43m \u001b[49m\u001b[38;5;28;43mself\u001b[39;49m\u001b[38;5;241;43m.\u001b[39;49m\u001b[43msuffixes\u001b[49m\n\u001b[1;32m    731\u001b[0m \u001b[43m\u001b[49m\u001b[43m)\u001b[49m\n\u001b[1;32m    733\u001b[0m \u001b[38;5;28;01mif\u001b[39;00m left_indexer \u001b[38;5;129;01mis\u001b[39;00m \u001b[38;5;129;01mnot\u001b[39;00m \u001b[38;5;28;01mNone\u001b[39;00m:\n\u001b[1;32m    734\u001b[0m     \u001b[38;5;66;03m# Pinning the index here (and in the right code just below) is not\u001b[39;00m\n\u001b[1;32m    735\u001b[0m     \u001b[38;5;66;03m#  necessary, but makes the `.take` more performant if we have e.g.\u001b[39;00m\n\u001b[1;32m    736\u001b[0m     \u001b[38;5;66;03m#  a MultiIndex for left.index.\u001b[39;00m\n\u001b[1;32m    737\u001b[0m     lmgr \u001b[38;5;241m=\u001b[39m left\u001b[38;5;241m.\u001b[39m_mgr\u001b[38;5;241m.\u001b[39mreindex_indexer(\n\u001b[1;32m    738\u001b[0m         join_index,\n\u001b[1;32m    739\u001b[0m         left_indexer,\n\u001b[0;32m   (...)\u001b[0m\n\u001b[1;32m    744\u001b[0m         use_na_proxy\u001b[38;5;241m=\u001b[39m\u001b[38;5;28;01mTrue\u001b[39;00m,\n\u001b[1;32m    745\u001b[0m     )\n",
      "File \u001b[0;32m~/survival/env/lib/python3.8/site-packages/pandas/core/reshape/merge.py:2451\u001b[0m, in \u001b[0;36m_items_overlap_with_suffix\u001b[0;34m(left, right, suffixes)\u001b[0m\n\u001b[1;32m   2442\u001b[0m \u001b[38;5;28;01mif\u001b[39;00m \u001b[38;5;129;01mnot\u001b[39;00m is_list_like(suffixes, allow_sets\u001b[38;5;241m=\u001b[39m\u001b[38;5;28;01mFalse\u001b[39;00m):\n\u001b[1;32m   2443\u001b[0m     warnings\u001b[38;5;241m.\u001b[39mwarn(\n\u001b[1;32m   2444\u001b[0m         \u001b[38;5;124mf\u001b[39m\u001b[38;5;124m\"\u001b[39m\u001b[38;5;124mPassing \u001b[39m\u001b[38;5;124m'\u001b[39m\u001b[38;5;124msuffixes\u001b[39m\u001b[38;5;124m'\u001b[39m\u001b[38;5;124m as a \u001b[39m\u001b[38;5;132;01m{\u001b[39;00m\u001b[38;5;28mtype\u001b[39m(suffixes)\u001b[38;5;132;01m}\u001b[39;00m\u001b[38;5;124m, is not supported and may give \u001b[39m\u001b[38;5;124m\"\u001b[39m\n\u001b[1;32m   2445\u001b[0m         \u001b[38;5;124m\"\u001b[39m\u001b[38;5;124munexpected results. Provide \u001b[39m\u001b[38;5;124m'\u001b[39m\u001b[38;5;124msuffixes\u001b[39m\u001b[38;5;124m'\u001b[39m\u001b[38;5;124m as a tuple instead. In the \u001b[39m\u001b[38;5;124m\"\u001b[39m\n\u001b[0;32m   (...)\u001b[0m\n\u001b[1;32m   2448\u001b[0m         stacklevel\u001b[38;5;241m=\u001b[39mfind_stack_level(),\n\u001b[1;32m   2449\u001b[0m     )\n\u001b[0;32m-> 2451\u001b[0m to_rename \u001b[38;5;241m=\u001b[39m \u001b[43mleft\u001b[49m\u001b[38;5;241;43m.\u001b[39;49m\u001b[43mintersection\u001b[49m\u001b[43m(\u001b[49m\u001b[43mright\u001b[49m\u001b[43m)\u001b[49m\n\u001b[1;32m   2452\u001b[0m \u001b[38;5;28;01mif\u001b[39;00m \u001b[38;5;28mlen\u001b[39m(to_rename) \u001b[38;5;241m==\u001b[39m \u001b[38;5;241m0\u001b[39m:\n\u001b[1;32m   2453\u001b[0m     \u001b[38;5;28;01mreturn\u001b[39;00m left, right\n",
      "File \u001b[0;32m~/survival/env/lib/python3.8/site-packages/pandas/core/indexes/base.py:3513\u001b[0m, in \u001b[0;36mIndex.intersection\u001b[0;34m(self, other, sort)\u001b[0m\n\u001b[1;32m   3510\u001b[0m     other \u001b[38;5;241m=\u001b[39m other\u001b[38;5;241m.\u001b[39mastype(dtype, copy\u001b[38;5;241m=\u001b[39m\u001b[38;5;28;01mFalse\u001b[39;00m)\n\u001b[1;32m   3511\u001b[0m     \u001b[38;5;28;01mreturn\u001b[39;00m this\u001b[38;5;241m.\u001b[39mintersection(other, sort\u001b[38;5;241m=\u001b[39msort)\n\u001b[0;32m-> 3513\u001b[0m result \u001b[38;5;241m=\u001b[39m \u001b[38;5;28;43mself\u001b[39;49m\u001b[38;5;241;43m.\u001b[39;49m\u001b[43m_intersection\u001b[49m\u001b[43m(\u001b[49m\u001b[43mother\u001b[49m\u001b[43m,\u001b[49m\u001b[43m \u001b[49m\u001b[43msort\u001b[49m\u001b[38;5;241;43m=\u001b[39;49m\u001b[43msort\u001b[49m\u001b[43m)\u001b[49m\n\u001b[1;32m   3514\u001b[0m \u001b[38;5;28;01mreturn\u001b[39;00m \u001b[38;5;28mself\u001b[39m\u001b[38;5;241m.\u001b[39m_wrap_intersection_result(other, result)\n",
      "File \u001b[0;32m~/survival/env/lib/python3.8/site-packages/pandas/core/indexes/base.py:3535\u001b[0m, in \u001b[0;36mIndex._intersection\u001b[0;34m(self, other, sort)\u001b[0m\n\u001b[1;32m   3532\u001b[0m         res \u001b[38;5;241m=\u001b[39m algos\u001b[38;5;241m.\u001b[39munique1d(result)\n\u001b[1;32m   3533\u001b[0m         \u001b[38;5;28;01mreturn\u001b[39;00m ensure_wrapped_if_datetimelike(res)\n\u001b[0;32m-> 3535\u001b[0m res_values \u001b[38;5;241m=\u001b[39m \u001b[38;5;28;43mself\u001b[39;49m\u001b[38;5;241;43m.\u001b[39;49m\u001b[43m_intersection_via_get_indexer\u001b[49m\u001b[43m(\u001b[49m\u001b[43mother\u001b[49m\u001b[43m,\u001b[49m\u001b[43m \u001b[49m\u001b[43msort\u001b[49m\u001b[38;5;241;43m=\u001b[39;49m\u001b[43msort\u001b[49m\u001b[43m)\u001b[49m\n\u001b[1;32m   3536\u001b[0m res_values \u001b[38;5;241m=\u001b[39m _maybe_try_sort(res_values, sort)\n\u001b[1;32m   3537\u001b[0m \u001b[38;5;28;01mreturn\u001b[39;00m res_values\n",
      "File \u001b[0;32m~/survival/env/lib/python3.8/site-packages/pandas/core/indexes/base.py:3567\u001b[0m, in \u001b[0;36mIndex._intersection_via_get_indexer\u001b[0;34m(self, other, sort)\u001b[0m\n\u001b[1;32m   3562\u001b[0m \u001b[38;5;28;01mif\u001b[39;00m sort \u001b[38;5;129;01mis\u001b[39;00m \u001b[38;5;28;01mFalse\u001b[39;00m:\n\u001b[1;32m   3563\u001b[0m     \u001b[38;5;66;03m# sort bc we want the elements in the same order they are in self\u001b[39;00m\n\u001b[1;32m   3564\u001b[0m     \u001b[38;5;66;03m# unnecessary in the case with sort=None bc we will sort later\u001b[39;00m\n\u001b[1;32m   3565\u001b[0m     taker \u001b[38;5;241m=\u001b[39m np\u001b[38;5;241m.\u001b[39msort(taker)\n\u001b[0;32m-> 3567\u001b[0m result \u001b[38;5;241m=\u001b[39m \u001b[43mleft_unique\u001b[49m\u001b[38;5;241;43m.\u001b[39;49m\u001b[43mtake\u001b[49m\u001b[43m(\u001b[49m\u001b[43mtaker\u001b[49m\u001b[43m)\u001b[49m\u001b[38;5;241m.\u001b[39m_values\n\u001b[1;32m   3568\u001b[0m \u001b[38;5;28;01mreturn\u001b[39;00m result\n",
      "File \u001b[0;32m~/survival/env/lib/python3.8/site-packages/pandas/core/indexes/base.py:1174\u001b[0m, in \u001b[0;36mIndex.take\u001b[0;34m(self, indices, axis, allow_fill, fill_value, **kwargs)\u001b[0m\n\u001b[1;32m   1172\u001b[0m \u001b[38;5;28;01mif\u001b[39;00m kwargs:\n\u001b[1;32m   1173\u001b[0m     nv\u001b[38;5;241m.\u001b[39mvalidate_take((), kwargs)\n\u001b[0;32m-> 1174\u001b[0m \u001b[38;5;28;01mif\u001b[39;00m \u001b[43mis_scalar\u001b[49m\u001b[43m(\u001b[49m\u001b[43mindices\u001b[49m\u001b[43m)\u001b[49m:\n\u001b[1;32m   1175\u001b[0m     \u001b[38;5;28;01mraise\u001b[39;00m \u001b[38;5;167;01mTypeError\u001b[39;00m(\u001b[38;5;124m\"\u001b[39m\u001b[38;5;124mExpected indices to be array-like\u001b[39m\u001b[38;5;124m\"\u001b[39m)\n\u001b[1;32m   1176\u001b[0m indices \u001b[38;5;241m=\u001b[39m ensure_platform_int(indices)\n",
      "\u001b[0;31mKeyboardInterrupt\u001b[0m: "
     ]
    }
   ],
   "source": [
    "STBL = True\n",
    "T = 100\n",
    "N2 = N1 = 1000\n",
    "lam0 = 1\n",
    "beta = .7\n",
    "r = 1\n",
    "\n",
    "eps = T ** (-beta)\n",
    "lam = lam0 * np.ones(T) / T\n",
    "\n",
    "nMonte = 100\n",
    "results = {}\n",
    "for itr in range(nMonte):\n",
    "    Nt1, Nt2 = sample_survival_poisson(T, N1, N2, lam, eps, r)\n",
    "    Ot1 = -np.diff(Nt1).astype(int)\n",
    "    Ot2 = -np.diff(Nt2).astype(int)\n",
    "    res = evaluate_test_stats(Nt1[:-1], Nt2[:-1], Ot1, Ot2,\n",
    "                                randomized=True, alternative='greater', stbl=STBL)\n",
    "    results[itr] = res"
   ]
  },
  {
   "cell_type": "markdown",
   "id": "d23123f4",
   "metadata": {},
   "source": [
    "##### Null data"
   ]
  },
  {
   "cell_type": "code",
   "execution_count": 21,
   "id": "071976eb",
   "metadata": {},
   "outputs": [
    {
     "name": "stderr",
     "output_type": "stream",
     "text": [
      "  0%|          | 0/10000 [00:00<?, ?it/s]"
     ]
    },
    {
     "name": "stderr",
     "output_type": "stream",
     "text": [
      "100%|██████████| 10000/10000 [23:19<00:00,  7.15it/s]  \n"
     ]
    }
   ],
   "source": [
    "nMonte = 10000\n",
    "results0 = {}\n",
    "for itr in tqdm(range(nMonte)):\n",
    "    Nt1, Nt2 = sample_survival_poisson(T, N1, N2, lam, 0, 0)\n",
    "    Ot1 = -np.diff(Nt1).astype(int)\n",
    "    Ot2 = -np.diff(Nt2).astype(int)\n",
    "    res = evaluate_test_stats(Nt1[:-1], Nt2[:-1], Ot1, Ot2, alternative='two-sided', stbl=STBL)\n",
    "    results0[itr] = res\n",
    "\n",
    "pd.DataFrame(results0).T.to_csv(f\"results/synthetic_null_data_T{T}_N{N1}_nMonte{nMonte}.csv\")"
   ]
  },
  {
   "cell_type": "code",
   "execution_count": 1,
   "id": "932d8590",
   "metadata": {},
   "outputs": [],
   "source": [
    "from rpy2.robjects.packages import importr\n",
    "konp_test = importr('KONPsurv')\n",
    "\n",
    "def konp_testR(times, status, groups):\n",
    "    \"\"\"\n",
    "    Apply the KONP test from R to survival table. (https://cran.r-project.org/web/packages/KONPsurv/)\n",
    "\n",
    "    \"\"\"\n",
    "    res = konp_test.konp_test(times, status, groups, n_perm=1)\n",
    "    return dict(chisq_test_stat=res[3][0], lr_test_stat=res[4][0],cauchy_test_stat=res[5][0])\n"
   ]
  },
  {
   "cell_type": "code",
   "execution_count": 43,
   "id": "75bf21de",
   "metadata": {},
   "outputs": [],
   "source": [
    "df1 = pd.DataFrame(results).T\n",
    "df0 = pd.DataFrame(results0).T\n",
    "\n",
    "lo_stats = df1.columns\n",
    "\n",
    "alpha = 0.05\n",
    "crit_vals = {}\n",
    "no_dicoveries = {}\n",
    "rate_dicoveries = {}\n",
    "for st in lo_stats:\n",
    "    crit_vals[st] = df0[st].quantile(1 - alpha)\n",
    "    no_dicoveries[st] = np.sum(df1[st] > crit_vals[st])\n",
    "    rate_dicoveries[st] = np.mean(df1[st] > crit_vals[st])\n"
   ]
  },
  {
   "cell_type": "code",
   "execution_count": 34,
   "id": "76492313",
   "metadata": {},
   "outputs": [
    {
     "name": "stderr",
     "output_type": "stream",
     "text": [
      "/var/folders/3n/c1thdb3136qc3c_4t5br9r6c0000gq/T/ipykernel_49046/2640714225.py:1: FutureWarning: In future versions `DataFrame.to_latex` is expected to utilise the base implementation of `Styler.to_latex` for formatting and rendering. The arguments signature may therefore change. It is recommended instead to use `DataFrame.style.to_latex` which also contains additional functionality.\n",
      "  pd.DataFrame.from_dict(no_dicoveries, orient='index').to_latex()\n"
     ]
    },
    {
     "data": {
      "text/plain": [
       "'\\\\begin{tabular}{lr}\\n\\\\toprule\\n{} &   0 \\\\\\\\\\n\\\\midrule\\nlog\\\\_rank\\\\_greater                       &  28 \\\\\\\\\\nlog\\\\_rank\\\\_pval\\\\_greater                  &   0 \\\\\\\\\\nhc\\\\_greater                             &  57 \\\\\\\\\\nfisher\\\\_greater                         &  38 \\\\\\\\\\nmin\\\\_p\\\\_greater                          &  48 \\\\\\\\\\nberk\\\\_jones\\\\_greater                     &   4 \\\\\\\\\\nlog\\\\_rank\\\\_less                          &  28 \\\\\\\\\\nlog\\\\_rank\\\\_pval\\\\_less                     &  28 \\\\\\\\\\nhc\\\\_less                                &   6 \\\\\\\\\\nfisher\\\\_less                            &   3 \\\\\\\\\\nmin\\\\_p\\\\_less                             &   3 \\\\\\\\\\nberk\\\\_jones\\\\_less                        &   6 \\\\\\\\\\nlogrank\\\\_lifelines\\\\_None                 &   4 \\\\\\\\\\nlogrank\\\\_lifelines\\\\_wilcoxon             &   6 \\\\\\\\\\nlogrank\\\\_lifelines\\\\_tarone-ware          &   3 \\\\\\\\\\nlogrank\\\\_lifelines\\\\_peto                 &   6 \\\\\\\\\\nlogrank\\\\_lifelines\\\\_fleming-harrington55 &   3 \\\\\\\\\\nlogrank\\\\_lifelines\\\\_fleming-harrington11 &   6 \\\\\\\\\\nlogrank\\\\_lifelines\\\\_fleming-harrington01 &   6 \\\\\\\\\\n\\\\bottomrule\\n\\\\end{tabular}\\n'"
      ]
     },
     "execution_count": 34,
     "metadata": {},
     "output_type": "execute_result"
    }
   ],
   "source": [
    "pd.DataFrame.from_dict(no_dicoveries, orient='index').to_latex()"
   ]
  },
  {
   "cell_type": "code",
   "execution_count": null,
   "id": "60465689",
   "metadata": {},
   "outputs": [],
   "source": [
    "T = 60\n",
    "N1 = 1500\n",
    "N2 = 1500\n",
    "eps = 0.1\n",
    "lam_bar = .25\n",
    "lam0 = lam_bar / T * np.ones(T)\n",
    "lamc = 0.1\n",
    "r = 1\n",
    "Nt1, Nt2, Ot1, Ot2  = sample_survival_poisson_censorship(T, N1, N2, lam0, lamc, eps, r)\n",
    "Ct1 = np.zeros_like(Nt1)\n",
    "Ct2 = np.zeros_like(Nt2)\n",
    "Ct1[:-1] = -np.diff(Nt1) - Ot1[:-1]\n",
    "Ct2[:-1] = -np.diff(Nt2) - Ot2[:-1]\n"
   ]
  },
  {
   "cell_type": "markdown",
   "id": "edb25b01",
   "metadata": {},
   "source": [
    "## Check exponential decay"
   ]
  },
  {
   "cell_type": "code",
   "execution_count": 5,
   "id": "42c1841b",
   "metadata": {},
   "outputs": [
    {
     "name": "stderr",
     "output_type": "stream",
     "text": [
      "  9%|▉         | 9/100 [00:03<00:32,  2.78it/s]\n"
     ]
    },
    {
     "ename": "KeyboardInterrupt",
     "evalue": "",
     "output_type": "error",
     "traceback": [
      "\u001b[0;31m---------------------------------------------------------------------------\u001b[0m",
      "\u001b[0;31mKeyboardInterrupt\u001b[0m                         Traceback (most recent call last)",
      "\u001b[0;32m<ipython-input-5-fdc5201d1ff0>\u001b[0m in \u001b[0;36m<module>\u001b[0;34m\u001b[0m\n\u001b[1;32m     17\u001b[0m \u001b[0mplt\u001b[0m\u001b[0;34m.\u001b[0m\u001b[0mfigure\u001b[0m\u001b[0;34m(\u001b[0m\u001b[0;34m)\u001b[0m\u001b[0;34m\u001b[0m\u001b[0;34m\u001b[0m\u001b[0m\n\u001b[1;32m     18\u001b[0m \u001b[0;32mfor\u001b[0m \u001b[0mi\u001b[0m \u001b[0;32min\u001b[0m \u001b[0mtqdm\u001b[0m\u001b[0;34m(\u001b[0m\u001b[0mrange\u001b[0m\u001b[0;34m(\u001b[0m\u001b[0mnMonte\u001b[0m\u001b[0;34m)\u001b[0m\u001b[0;34m)\u001b[0m\u001b[0;34m:\u001b[0m\u001b[0;34m\u001b[0m\u001b[0;34m\u001b[0m\u001b[0m\n\u001b[0;32m---> 19\u001b[0;31m     \u001b[0mNt1\u001b[0m\u001b[0;34m,\u001b[0m \u001b[0mNt2\u001b[0m \u001b[0;34m=\u001b[0m \u001b[0msample_survival_poisson\u001b[0m\u001b[0;34m(\u001b[0m\u001b[0mT\u001b[0m\u001b[0;34m,\u001b[0m \u001b[0mN1\u001b[0m\u001b[0;34m,\u001b[0m \u001b[0mN2\u001b[0m\u001b[0;34m,\u001b[0m \u001b[0mlam0\u001b[0m\u001b[0;34m,\u001b[0m \u001b[0meps\u001b[0m\u001b[0;34m,\u001b[0m \u001b[0mr\u001b[0m\u001b[0;34m)\u001b[0m\u001b[0;34m\u001b[0m\u001b[0;34m\u001b[0m\u001b[0m\n\u001b[0m\u001b[1;32m     20\u001b[0m     \u001b[0mNNt1\u001b[0m\u001b[0;34m[\u001b[0m\u001b[0mi\u001b[0m\u001b[0;34m]\u001b[0m \u001b[0;34m=\u001b[0m \u001b[0mNt1\u001b[0m\u001b[0;34m[\u001b[0m\u001b[0;36m1\u001b[0m\u001b[0;34m:\u001b[0m\u001b[0;34m]\u001b[0m\u001b[0;34m\u001b[0m\u001b[0;34m\u001b[0m\u001b[0m\n\u001b[1;32m     21\u001b[0m     \u001b[0mNNt2\u001b[0m\u001b[0;34m[\u001b[0m\u001b[0mi\u001b[0m\u001b[0;34m]\u001b[0m \u001b[0;34m=\u001b[0m \u001b[0mNt2\u001b[0m\u001b[0;34m[\u001b[0m\u001b[0;36m1\u001b[0m\u001b[0;34m:\u001b[0m\u001b[0;34m]\u001b[0m\u001b[0;34m\u001b[0m\u001b[0;34m\u001b[0m\u001b[0m\n",
      "\u001b[0;32m~/survival/phase_transition_experiment/sample_survival_poisson.py\u001b[0m in \u001b[0;36msample_survival_poisson\u001b[0;34m(T, N1, N2, lam0, eps, r)\u001b[0m\n\u001b[1;32m     45\u001b[0m     \u001b[0;32mfor\u001b[0m \u001b[0mt\u001b[0m \u001b[0;32min\u001b[0m \u001b[0mnp\u001b[0m\u001b[0;34m.\u001b[0m\u001b[0marange\u001b[0m\u001b[0;34m(\u001b[0m\u001b[0mT\u001b[0m\u001b[0;34m)\u001b[0m\u001b[0;34m:\u001b[0m\u001b[0;34m\u001b[0m\u001b[0;34m\u001b[0m\u001b[0m\n\u001b[1;32m     46\u001b[0m         \u001b[0mO1\u001b[0m \u001b[0;34m=\u001b[0m \u001b[0mpoisson\u001b[0m\u001b[0;34m.\u001b[0m\u001b[0mrvs\u001b[0m\u001b[0;34m(\u001b[0m\u001b[0mNt1\u001b[0m\u001b[0;34m[\u001b[0m\u001b[0mt\u001b[0m\u001b[0;34m]\u001b[0m \u001b[0;34m*\u001b[0m \u001b[0mlam1\u001b[0m\u001b[0;34m[\u001b[0m\u001b[0mt\u001b[0m\u001b[0;34m]\u001b[0m \u001b[0;34m*\u001b[0m \u001b[0;34m(\u001b[0m\u001b[0mNt1\u001b[0m\u001b[0;34m[\u001b[0m\u001b[0mt\u001b[0m\u001b[0;34m]\u001b[0m \u001b[0;34m>\u001b[0m \u001b[0;36m0\u001b[0m\u001b[0;34m)\u001b[0m\u001b[0;34m)\u001b[0m\u001b[0;34m\u001b[0m\u001b[0;34m\u001b[0m\u001b[0m\n\u001b[0;32m---> 47\u001b[0;31m         \u001b[0mO2\u001b[0m \u001b[0;34m=\u001b[0m \u001b[0mpoisson\u001b[0m\u001b[0;34m.\u001b[0m\u001b[0mrvs\u001b[0m\u001b[0;34m(\u001b[0m\u001b[0mNt2\u001b[0m\u001b[0;34m[\u001b[0m\u001b[0mt\u001b[0m\u001b[0;34m]\u001b[0m \u001b[0;34m*\u001b[0m \u001b[0mlam2\u001b[0m\u001b[0;34m[\u001b[0m\u001b[0mt\u001b[0m\u001b[0;34m]\u001b[0m \u001b[0;34m*\u001b[0m \u001b[0;34m(\u001b[0m\u001b[0mNt2\u001b[0m\u001b[0;34m[\u001b[0m\u001b[0mt\u001b[0m\u001b[0;34m]\u001b[0m \u001b[0;34m>\u001b[0m \u001b[0;36m0\u001b[0m\u001b[0;34m)\u001b[0m\u001b[0;34m)\u001b[0m\u001b[0;34m\u001b[0m\u001b[0;34m\u001b[0m\u001b[0m\n\u001b[0m\u001b[1;32m     48\u001b[0m \u001b[0;34m\u001b[0m\u001b[0m\n\u001b[1;32m     49\u001b[0m         \u001b[0mNt1\u001b[0m\u001b[0;34m[\u001b[0m\u001b[0mt\u001b[0m \u001b[0;34m+\u001b[0m \u001b[0;36m1\u001b[0m\u001b[0;34m]\u001b[0m \u001b[0;34m=\u001b[0m \u001b[0mnp\u001b[0m\u001b[0;34m.\u001b[0m\u001b[0mmaximum\u001b[0m\u001b[0;34m(\u001b[0m\u001b[0mNt1\u001b[0m\u001b[0;34m[\u001b[0m\u001b[0mt\u001b[0m\u001b[0;34m]\u001b[0m \u001b[0;34m-\u001b[0m \u001b[0mO1\u001b[0m\u001b[0;34m,\u001b[0m \u001b[0;36m0\u001b[0m\u001b[0;34m)\u001b[0m\u001b[0;34m\u001b[0m\u001b[0;34m\u001b[0m\u001b[0m\n",
      "\u001b[0;32m/usr/local/lib/python3.8/site-packages/scipy/stats/_distn_infrastructure.py\u001b[0m in \u001b[0;36mrvs\u001b[0;34m(self, *args, **kwargs)\u001b[0m\n\u001b[1;32m   3149\u001b[0m         \"\"\"\n\u001b[1;32m   3150\u001b[0m         \u001b[0mkwargs\u001b[0m\u001b[0;34m[\u001b[0m\u001b[0;34m'discrete'\u001b[0m\u001b[0;34m]\u001b[0m \u001b[0;34m=\u001b[0m \u001b[0;32mTrue\u001b[0m\u001b[0;34m\u001b[0m\u001b[0;34m\u001b[0m\u001b[0m\n\u001b[0;32m-> 3151\u001b[0;31m         \u001b[0;32mreturn\u001b[0m \u001b[0msuper\u001b[0m\u001b[0;34m(\u001b[0m\u001b[0;34m)\u001b[0m\u001b[0;34m.\u001b[0m\u001b[0mrvs\u001b[0m\u001b[0;34m(\u001b[0m\u001b[0;34m*\u001b[0m\u001b[0margs\u001b[0m\u001b[0;34m,\u001b[0m \u001b[0;34m**\u001b[0m\u001b[0mkwargs\u001b[0m\u001b[0;34m)\u001b[0m\u001b[0;34m\u001b[0m\u001b[0;34m\u001b[0m\u001b[0m\n\u001b[0m\u001b[1;32m   3152\u001b[0m \u001b[0;34m\u001b[0m\u001b[0m\n\u001b[1;32m   3153\u001b[0m     \u001b[0;32mdef\u001b[0m \u001b[0mpmf\u001b[0m\u001b[0;34m(\u001b[0m\u001b[0mself\u001b[0m\u001b[0;34m,\u001b[0m \u001b[0mk\u001b[0m\u001b[0;34m,\u001b[0m \u001b[0;34m*\u001b[0m\u001b[0margs\u001b[0m\u001b[0;34m,\u001b[0m \u001b[0;34m**\u001b[0m\u001b[0mkwds\u001b[0m\u001b[0;34m)\u001b[0m\u001b[0;34m:\u001b[0m\u001b[0;34m\u001b[0m\u001b[0;34m\u001b[0m\u001b[0m\n",
      "\u001b[0;32m/usr/local/lib/python3.8/site-packages/scipy/stats/_distn_infrastructure.py\u001b[0m in \u001b[0;36mrvs\u001b[0;34m(self, *args, **kwds)\u001b[0m\n\u001b[1;32m   1064\u001b[0m         \u001b[0mrndm\u001b[0m \u001b[0;34m=\u001b[0m \u001b[0mkwds\u001b[0m\u001b[0;34m.\u001b[0m\u001b[0mpop\u001b[0m\u001b[0;34m(\u001b[0m\u001b[0;34m'random_state'\u001b[0m\u001b[0;34m,\u001b[0m \u001b[0;32mNone\u001b[0m\u001b[0;34m)\u001b[0m\u001b[0;34m\u001b[0m\u001b[0;34m\u001b[0m\u001b[0m\n\u001b[1;32m   1065\u001b[0m         \u001b[0margs\u001b[0m\u001b[0;34m,\u001b[0m \u001b[0mloc\u001b[0m\u001b[0;34m,\u001b[0m \u001b[0mscale\u001b[0m\u001b[0;34m,\u001b[0m \u001b[0msize\u001b[0m \u001b[0;34m=\u001b[0m \u001b[0mself\u001b[0m\u001b[0;34m.\u001b[0m\u001b[0m_parse_args_rvs\u001b[0m\u001b[0;34m(\u001b[0m\u001b[0;34m*\u001b[0m\u001b[0margs\u001b[0m\u001b[0;34m,\u001b[0m \u001b[0;34m**\u001b[0m\u001b[0mkwds\u001b[0m\u001b[0;34m)\u001b[0m\u001b[0;34m\u001b[0m\u001b[0;34m\u001b[0m\u001b[0m\n\u001b[0;32m-> 1066\u001b[0;31m         \u001b[0mcond\u001b[0m \u001b[0;34m=\u001b[0m \u001b[0mlogical_and\u001b[0m\u001b[0;34m(\u001b[0m\u001b[0mself\u001b[0m\u001b[0;34m.\u001b[0m\u001b[0m_argcheck\u001b[0m\u001b[0;34m(\u001b[0m\u001b[0;34m*\u001b[0m\u001b[0margs\u001b[0m\u001b[0;34m)\u001b[0m\u001b[0;34m,\u001b[0m \u001b[0;34m(\u001b[0m\u001b[0mscale\u001b[0m \u001b[0;34m>=\u001b[0m \u001b[0;36m0\u001b[0m\u001b[0;34m)\u001b[0m\u001b[0;34m)\u001b[0m\u001b[0;34m\u001b[0m\u001b[0;34m\u001b[0m\u001b[0m\n\u001b[0m\u001b[1;32m   1067\u001b[0m         \u001b[0;32mif\u001b[0m \u001b[0;32mnot\u001b[0m \u001b[0mnp\u001b[0m\u001b[0;34m.\u001b[0m\u001b[0mall\u001b[0m\u001b[0;34m(\u001b[0m\u001b[0mcond\u001b[0m\u001b[0;34m)\u001b[0m\u001b[0;34m:\u001b[0m\u001b[0;34m\u001b[0m\u001b[0;34m\u001b[0m\u001b[0m\n\u001b[1;32m   1068\u001b[0m             \u001b[0;32mraise\u001b[0m \u001b[0mValueError\u001b[0m\u001b[0;34m(\u001b[0m\u001b[0;34m\"Domain error in arguments.\"\u001b[0m\u001b[0;34m)\u001b[0m\u001b[0;34m\u001b[0m\u001b[0;34m\u001b[0m\u001b[0m\n",
      "\u001b[0;31mKeyboardInterrupt\u001b[0m: "
     ]
    },
    {
     "data": {
      "image/png": "[encoded data removed]",
      "text/plain": [
       "<Figure size 576x432 with 1 Axes>"
      ]
     },
     "metadata": {},
     "output_type": "display_data"
    }
   ],
   "source": [
    "# this script shows that if Ny(0) = y_0,  y_0/T --> \\infty and T -> \\infty, then  sup_t T^\\beta | e^{\\lambda t} Ny(t)/Ny(0) - 1 | -> 0\n",
    "\n",
    "T = 5000\n",
    "N1 = N2 = 5 * T\n",
    "\n",
    "beta = .6         # sparsity parameter\n",
    "eps = np.round(T ** -beta,4)   # sparsity rate\n",
    "r = 1\n",
    "lam0 = np.ones(T) / T \n",
    "tt = np.arange(1, T+1)\n",
    "\n",
    "nMonte = 100\n",
    "\n",
    "NNt1 = np.zeros((nMonte, T))\n",
    "NNt2 = np.zeros((nMonte, T))\n",
    "\n",
    "plt.figure()\n",
    "for i in tqdm(range(nMonte)):\n",
    "    Nt1, Nt2 = sample_survival_poisson(T, N1, N2, lam0, eps, r)\n",
    "    NNt1[i] = Nt1[1:]\n",
    "    NNt2[i] = Nt2[1:]\n",
    "    N0 = 2 * Nt1 * Nt2 / (Nt1 + Nt2) / N1\n",
    "    plt.plot(N0, alpha=.2)\n",
    "plt.plot(np.exp(-tt * lam0),'--')\n",
    "plt.plot(Nt2 / N2, 'r')\n",
    "plt.title(\"$N_y(t)/y_0$\")\n",
    "plt.show()\n",
    "\n",
    "plt.plot(T ** beta * ((Nt2[1:] / N2 * np.exp(tt * lam0)) - 1) )\n",
    "plt.title(r\"$T^{\\beta}(\\exp(t \\lambda) \\cdot N_y(t)/y_0 - 1) $\")\n",
    "plt.show()"
   ]
  },
  {
   "cell_type": "code",
   "execution_count": 80,
   "id": "0c45502e",
   "metadata": {},
   "outputs": [
    {
     "data": {
      "text/plain": [
       "Text(0.5, 1.0, 'Check variance')"
      ]
     },
     "execution_count": 80,
     "metadata": {},
     "output_type": "execute_result"
    },
    {
     "data": {
      "image/png": "[encoded data removed]",
      "text/plain": [
       "<Figure size 576x432 with 1 Axes>"
      ]
     },
     "metadata": {},
     "output_type": "display_data"
    }
   ],
   "source": [
    "plt.plot(NNt1.var(0), 'b')\n",
    "plt.plot(tt*lam0*(1-lam0)**(tt-1) * N1, '--b')\n",
    "plt.plot(NNt2.var(0), 'r')\n",
    "plt.title(\"Check variance\")"
   ]
  },
  {
   "cell_type": "code",
   "execution_count": 83,
   "id": "5581cc81",
   "metadata": {},
   "outputs": [
    {
     "data": {
      "text/plain": [
       "Text(0.5, 1.0, 'Check mean')"
      ]
     },
     "execution_count": 83,
     "metadata": {},
     "output_type": "execute_result"
    },
    {
     "data": {
      "image/png": "[encoded data removed]",
      "text/plain": [
       "<Figure size 576x432 with 1 Axes>"
      ]
     },
     "metadata": {},
     "output_type": "display_data"
    }
   ],
   "source": [
    "plt.plot(NNt1.mean(0), 'b')\n",
    "plt.plot((1-lam0)**tt*N1, 'b')\n",
    "plt.plot(NNt2.mean(0), 'r')\n",
    "plt.title(\"Check mean\")"
   ]
  },
  {
   "cell_type": "markdown",
   "id": "c0c05398",
   "metadata": {},
   "source": [
    "## Check Log-rank test"
   ]
  },
  {
   "cell_type": "code",
   "execution_count": 193,
   "id": "efb19bb0",
   "metadata": {},
   "outputs": [
    {
     "name": "stderr",
     "output_type": "stream",
     "text": [
      "100%|██████████| 100/100 [00:34<00:00,  2.92it/s]\n"
     ]
    }
   ],
   "source": [
    "T = 5000\n",
    "N1 = N2 = int(T * np.log(T) ** 2)\n",
    "\n",
    "beta = .6         # sparsity parameter\n",
    "eps = np.round(T ** -beta,4)   # sparsity rate\n",
    "r = 0.1\n",
    "lam0 = np.ones(T) / T \n",
    "\n",
    "Nt1, Nt2 = sample_survival_poisson(T, N1, N2, lam0, eps, r)\n",
    "\n",
    "nMonte = 100\n",
    "\n",
    "AA = np.zeros(nMonte)\n",
    "BB = np.zeros(nMonte)\n",
    "BBapp = np.zeros(nMonte)\n",
    "zz = np.zeros(nMonte)\n",
    "\n",
    "for i in tqdm(range(nMonte)):\n",
    "    Nt1, Nt2 = sample_survival_poisson(T, N1, N2, lam0, eps, r)\n",
    "    Ot1 = -np.diff(Nt1)\n",
    "    Ot2 = -np.diff(Nt2)\n",
    "\n",
    "    Nt = Nt2 + Nt1\n",
    "    e0 = Nt2[:-1] * (Ot1 + Ot2) / Nt[:-1]\n",
    "    var0 = e0 * ((Nt[:-1] - (Ot1 + Ot2)) / Nt[:-1]) * (Nt1[:-1] / (Nt[:-1] - 1))\n",
    "    AA[i] = np.sum(Ot2 - e0)\n",
    "    BB[i] = np.sum(var0)\n",
    "    BBapp[i] = np.sum(e0 / 2)\n",
    "    z = AA[i] / np.sqrt(BB[i])\n",
    "    zz[i] = z\n"
   ]
  },
  {
   "cell_type": "markdown",
   "id": "fce72b95",
   "metadata": {},
   "source": [
    "\\begin{align*}\n",
    "    E_t & := \\frac{N_y(t-1)}{N(t-1)} O(t),\\\\\n",
    "    V_t & := E_t \\frac{N_x(t-1)}{N(t-1)-1}  \\left(1 - \\frac{E_t}{N_y(t-1)} \\right). \n",
    "\\end{align*}"
   ]
  },
  {
   "cell_type": "markdown",
   "id": "922681d6",
   "metadata": {},
   "source": [
    "## Check P-values\n",
    "\n",
    "### Current issue (28/7/2022):\n",
    "- Empitrical and variance-stabilized Multinomial P-values agree with theoretical log-chisquared approximation in the balanced case\n",
    "- Can try and easily proove the balanced case by saying that hypergeometric p-values behaves like the binomial P-values in view of the convergence rate of $N_\\star(t)$ to $N_\\star(0)e^{-\\bar{\\lambda}t}$\n",
    "- In the inbalanced case, preivous calculation shows that variance-stabilized log-chisquared parameters are independent of $\\kappa$, but that implies that these P-values are better than binomial / hypergeometric. \n",
    "- Possible outlets:\n",
    " - Binomial P-values are also independent of $\\kappa$\n",
    " - The dependency of binomial P-values in $\\kappa$ makes them smaller hence HC is more powerful\n",
    " - There is a mistake in the variance-stabilization assumptions\n",
    "- To do:\n",
    " 1. Verify variance stabilization by simulation\n",
    " 2. Redo binomial P-values\n",
    "\n"
   ]
  },
  {
   "cell_type": "code",
   "execution_count": 6,
   "id": "33b9b009",
   "metadata": {},
   "outputs": [],
   "source": [
    "def sample_perturbed(T, N1, N2, lam0, r):\n",
    "    lam1 = lam0  # `base` Poisson rates (does not have to be fixed)\n",
    "    lam2 = lam1\n",
    "    nt = 2 * N1 * N2 / (N1 + N2)\n",
    "    mu = np.sqrt(r / 2 * np.log(T))\n",
    "    lam2 = (np.sqrt(mu / nt) + np.sqrt(lam1)) ** 2  # perturbed Poisson rates\n",
    "\n",
    "    O1 = poisson.rvs(N1 * lam1)\n",
    "    O2 = poisson.rvs(N2 * lam2)\n",
    "    return N1 - O1, N2 - O2\n",
    "\n",
    "\n",
    "def sample_perturbed2(T, N1, N2, lam0, r):\n",
    "    lam1 = lam0  # `base` Poisson rates (does not have to be fixed)\n",
    "    lam2 = lam1\n",
    "    nt = 2 * N1 * N2 / (N1 + N2)\n",
    "    mu = np.sqrt(r / 2 * np.log(T))\n",
    "    lam2 = (np.sqrt(mu / nt) + np.sqrt(lam1)) ** 2  # perturbed Poisson rates\n",
    "\n",
    "    O1 = poisson.rvs(N1 * lam1)\n",
    "    O2 = poisson.rvs(N2 * lam2)\n",
    "    return O1, O2\n"
   ]
  },
  {
   "cell_type": "code",
   "execution_count": 7,
   "id": "86c551d0",
   "metadata": {},
   "outputs": [
    {
     "data": {
      "image/png": "[encoded data removed]",
      "text/plain": [
       "<Figure size 576x432 with 1 Axes>"
      ]
     },
     "metadata": {},
     "output_type": "display_data"
    }
   ],
   "source": [
    "# Here we verify that the variance-stabilized poisson is independent of kappa\n",
    "kk = np.linspace(0.1, .9, 15)\n",
    "\n",
    "acc = []\n",
    "for kappa in kk:\n",
    "    T = 100000\n",
    "    n = 20 * T # n/T -> infty\n",
    "    r = .3\n",
    "    n1 =n * (1 - kappa)\n",
    "    n2 = n * kappa\n",
    "    n0 = 2 * n1 * n2 / (n1 + n2)\n",
    "    delta = r * np.log(T) / n0 / 2\n",
    "\n",
    "    lam0 = 2 / T # lam0 * T < const\n",
    "    lam1 = (np.sqrt(lam0) + np.sqrt(delta)) ** 2\n",
    "\n",
    "    X = poisson.rvs(lam0 * n1, size = T)\n",
    "    Y = poisson.rvs(lam1 * n2, size = T)\n",
    "\n",
    "    W = np.sqrt(4 * (1 - kappa) * Y) - np.sqrt(4 * kappa * X)\n",
    "\n",
    "    #print(\"STD = \",)\n",
    "    std = np.std(W)\n",
    "    #print(\"MEAN = \", np.mean(W) / np.sqrt(r) / np.sqrt(np.log(T)))\n",
    "    #plt.hist(W)\n",
    "    #a = kappa * (1-kappa)\n",
    "    mean = np.mean(W) / np.sqrt(r) / np.sqrt(np.log(T))\n",
    "    acc += [mean]\n",
    "\n",
    "plt.plot(kk, acc)\n",
    "#plt.plot(kk, np.sqrt(kk * (1 - kk)))\n",
    "plt.show()"
   ]
  },
  {
   "cell_type": "markdown",
   "id": "6700e370",
   "metadata": {},
   "source": [
    "### Verify the lower bound on $\\pi(x,y;n_x,n_y)$ required for the converse\n",
    "\n",
    "\\begin{align*}\n",
    "& \\inf_{x \\geq \\lambda - \\sqrt{a(T) \\lambda}} T^q \\pi(x, \\tilde{y};n_x,n_y) = T^{q} \\pi(x^*,\\tilde{y};n_x,y_) \\\\\n",
    "& \\qquad  \\geq T^q e^{o(1)} 2^{-(x^*+\\tilde{y})-1} \\frac{(1+o(1))}{\\sqrt{2 \\pi}} \\sqrt{\\frac{x^*+\\tilde{y}}{x^*\\tilde{y}}} \\left(1+\\frac{\\tilde{y}}{x^*} \\right)^{x^*} \\left(1+\\frac{x^*}{\\tilde{y}} \\right)^{\\tilde{y}}.\n",
    "\\end{align*}\n",
    "\n",
    "Where \n",
    "- $x^* = \\lambda - \\sqrt{a(T) \\lambda}$ \n",
    "- $\\tilde{y} := \\tilde{y}(T,q) =\\left( \\sqrt{x} + \\sqrt{q \\log(T) - a(T) } \\right)$\n",
    "- and $a(T)$ satisfies: $a(T) \\lambda(T) \\geq \\log^2(T)$ and $a(T)/\\log(T) \\to 0$\n"
   ]
  },
  {
   "cell_type": "code",
   "execution_count": 75,
   "id": "8ab0d05a",
   "metadata": {},
   "outputs": [
    {
     "data": {
      "text/plain": [
       "2.9240936156649724"
      ]
     },
     "execution_count": 75,
     "metadata": {},
     "output_type": "execute_result"
    }
   ],
   "source": [
    "T = 100000000\n",
    "q = 0.5\n",
    "lam0 = 4/T\n",
    "Nx = T * np.log(T)\n",
    "\n",
    "lam = Nx*lam0\n",
    "\n",
    "a =  q * (np.log(T)**2/(lam) + np.sqrt(np.log(T)))\n",
    "\n",
    "xs = lam - np.sqrt(a * lam)\n",
    "ys = (np.sqrt(xs) + np.sqrt(q * np.log(T) - a) ) ** 2\n",
    "\n",
    "\n",
    "q * np.log(T)+ (-xs - ys) * np.log(2) + np.log( np.sqrt((xs + ys) / (xs * ys) ) ) + xs * np.log( (1 + ys/xs)) + ys * np.log( (1 + xs/ys) )"
   ]
  },
  {
   "cell_type": "code",
   "execution_count": 46,
   "id": "54af56bb",
   "metadata": {},
   "outputs": [],
   "source": [
    "from scipy.stats import hypergeom\n",
    "def hypergeom_test(k, M, n, N, alternative='greater', randomize=False):\n",
    "    \"\"\"\n",
    "    Exact hypergeometric test\n",
    "    \n",
    "    Args:\n",
    "    -----\n",
    "    :k:    number of observed Type I objects\n",
    "    :M:    total number of object\n",
    "    :n:    total number of Type I objects\n",
    "    :N:    number of draws\n",
    "    :randomize:   whether to do a randomized test\n",
    "    :alternative: type of alternative to consider. Options are: \n",
    "                  'greater', 'less', 'two-sided'\n",
    "    \n",
    "    Returns:\n",
    "        Test's P-value\n",
    "    \"\"\"\n",
    "\n",
    "    if randomize:\n",
    "        U = uniform.rvs(size=len(k))\n",
    "    else:\n",
    "        U = 0\n",
    "\n",
    "    if alternative == 'greater':\n",
    "        return hypergeom.sf(k - 1, M, n, N) - U * hypergeom.pmf(k, M, n, N)\n",
    "        # sf is 1-cdf, so Pr(X >= k) = Pr(X>k-1)"
   ]
  },
  {
   "cell_type": "code",
   "execution_count": 66,
   "id": "be7e32ee",
   "metadata": {},
   "outputs": [
    {
     "data": {
      "text/plain": [
       "0.0445738417491552"
      ]
     },
     "execution_count": 66,
     "metadata": {},
     "output_type": "execute_result"
    }
   ],
   "source": [
    "import math\n",
    "\n",
    "nx = 1000\n",
    "ny = 1000\n",
    "ys = 200\n",
    "xs = 200\n",
    "\n",
    "N = int(xs) + int(ys)\n",
    "n = ny\n",
    "M = nx + ny\n",
    "k = int(ys)\n",
    "hypergeom.pmf(ys, M, n, N)"
   ]
  },
  {
   "cell_type": "code",
   "execution_count": 67,
   "id": "85916379",
   "metadata": {},
   "outputs": [
    {
     "data": {
      "text/plain": [
       "0.04457384174915524"
      ]
     },
     "execution_count": 67,
     "metadata": {},
     "output_type": "execute_result"
    }
   ],
   "source": [
    "math.comb(N, k) * math.comb(M - N, n-k) / math.comb(M, n)"
   ]
  },
  {
   "cell_type": "code",
   "execution_count": null,
   "id": "81ab04db",
   "metadata": {},
   "outputs": [],
   "source": []
  },
  {
   "cell_type": "markdown",
   "id": "60e53457",
   "metadata": {},
   "source": [
    "$a(T) = \\log^2(T)/ (\\bar{\\lambda}n_x) + \\sqrt{\\log(T)}$"
   ]
  },
  {
   "cell_type": "code",
   "execution_count": 404,
   "id": "add31805",
   "metadata": {},
   "outputs": [],
   "source": [
    "def binom_test_two_sided(x, n, p, randomize=False):\n",
    "    \"\"\"\n",
    "    :x:   number of observed successes\n",
    "    :n:   number of trails\n",
    "    :p:   probability of success\n",
    "    :randomize:   whether to do a randomized test or not\n",
    "                  a randomized test returns a P-value that\n",
    "                  is uniformly distributed if x ~ Bin(n,p)\n",
    "\n",
    "    Returns:\n",
    "        :pval:  if randomize=False, pval=Prob( |Bin(n,p) - np| >= |x-np| )\n",
    "                if randomize=True, pval is a random number such that\n",
    "            Prob(\n",
    "            |Bin(n,p) - np| >= |InBinCDF(pval|n, p) - n p|\n",
    "            ) ~ U(0,1)\n",
    "\n",
    "    Note: The expression pval=Prob( |Bin(n,p) - np| >= |x-np| ) is not accurate\n",
    "        when p is close to either 0 or 1. For such cases, it is better to use\n",
    "        scipy.python.binom_test which is essentially the R function binom_test\n",
    "\n",
    "    \"\"\"\n",
    "\n",
    "    x_low = n * p - np.abs(x - n * p)\n",
    "    x_high = n * p + np.abs(x - n * p)\n",
    "\n",
    "    n = n.astype(int)\n",
    "    p_up = binom.cdf(x_low, n, p) + binom.sf(x_high - 1, n, p)\n",
    "\n",
    "    if randomize:\n",
    "        p_down = binom.cdf(x_low - 1, n, p) + binom.sf(x_high, n, p)\n",
    "        U = np.random.rand(len(x))  # uniform random variable\n",
    "        prob = (n != 0) * np.minimum(p_down + (p_up - p_down) * U, 1) + U * (n == 0)\n",
    "    else:\n",
    "        prob = np.minimum(p_up, 1)\n",
    "    return prob\n",
    "\n",
    "\n",
    "def binom_test(x, n, p, alternative='two-sided', randomize=False):\n",
    "    \"\"\"\n",
    "    :x:   number of observed successes\n",
    "    :n:   number of trails\n",
    "    :p:   probability of success\n",
    "\n",
    "    Returns:\n",
    "    --------\n",
    "    Prob(Bin(n,p) >= x) ('greater')\n",
    "    or Prob(Bin(n,p) <= x) ('less')\n",
    "\n",
    "    Note: for small values of Prob there are differences\n",
    "    fron scipy.python.binom_test.\n",
    "    \"\"\"\n",
    "    n = n.astype(int)\n",
    "    if randomize:\n",
    "        U = np.random.rand(len(x))\n",
    "    else:\n",
    "        U = 0\n",
    "    if alternative == 'greater':\n",
    "        return binom.sf(x, n, p) + U * binom.pmf(x, n, p)\n",
    "    if alternative == 'less':\n",
    "        return binom.cdf(x, n, p) - U * binom.pmf(x, n, p)\n",
    "    if alternative == 'two-sided':\n",
    "        x_low = n * p - np.abs(x - n * p)\n",
    "        x_high = n * p + np.abs(x - n * p)\n",
    "        U2 = np.random.rand(len(x))\n",
    "        \n",
    "        p_up = binom.cdf(x_low, n, p) + binom.sf(x_high-1, n, p)\n",
    "\n",
    "        p_down = binom.cdf(x_low - 1, n, p) + binom.sf(x_high, n, p)\n",
    "\n",
    "        prob = (n != 0) * np.minimum(p_down + (p_up - p_down) * U, 1) + U * (n == 0)\n",
    "\n",
    "        return prob\n",
    "        \n"
   ]
  },
  {
   "cell_type": "code",
   "execution_count": 443,
   "id": "db95c66b",
   "metadata": {},
   "outputs": [
    {
     "data": {
      "image/png": "[encoded data removed]",
      "text/plain": [
       "<Figure size 576x432 with 1 Axes>"
      ]
     },
     "metadata": {},
     "output_type": "display_data"
    },
    {
     "data": {
      "image/png": "[encoded data removed]",
      "text/plain": [
       "<Figure size 576x432 with 1 Axes>"
      ]
     },
     "metadata": {},
     "output_type": "display_data"
    }
   ],
   "source": [
    "# here we check the binomial p-values vs. kappa\n",
    "# seems like power depends of kappa (not that the p in the binomial P-values is the null ratio kappa, not actual proportion)\n",
    "# -  the constants do not match; seems like mysterious 3 or 2/3 or e^-1\n",
    "# Also, Pr ( -2 log(pval) > 2q log(T)) seems indp. of r !\n",
    "\n",
    "kk = np.linspace(0.2, .8, 15)\n",
    "#kk = np.ones(15) * .5\n",
    "\n",
    "\n",
    "mm = []\n",
    "mm1 = []\n",
    "ss = []\n",
    "ss1 = []\n",
    "pp = []\n",
    "acc = []\n",
    "for kappa in kk:\n",
    "    T = 100000\n",
    "    n = 20 * T # n/T -> infty\n",
    "    r = .6\n",
    "    q = r + .3\n",
    "    n1 = n * (1 - kappa)\n",
    "    n2 = n * kappa\n",
    "    n0 = 2 * n1 * n2 / (n1 + n2)\n",
    "    delta = r * np.log(T) / n0 / 2\n",
    "\n",
    "    lam0 = 2 / T # lam0 * T < const\n",
    "    lam1 = (np.sqrt(lam0) + np.sqrt(delta)) ** 2\n",
    "\n",
    "    X = poisson.rvs(lam0 * n1, size = T)\n",
    "    Y = poisson.rvs(lam1 * n2, size = T)\n",
    "\n",
    "    W1 = np.sqrt(4 * (1 - kappa) * Y) - np.sqrt(4 * kappa * X)\n",
    "    \n",
    "    p = kappa\n",
    "    pvals = binom_test(Y, X + Y, p, randomize=True, alternative='greater')\n",
    "\n",
    "    W = np.sqrt(- 2 * np.log(pvals))\n",
    "    std = np.std( W )\n",
    "    mean = np.mean( W )\n",
    "    mean1 = np.mean( W1)\n",
    "    std1 = np.std( W1 )\n",
    "    prob = np.mean( W**2 > 2*q * np.log(T) )\n",
    "    \n",
    "    mm += [mean]\n",
    "    mm1 += [mean1]\n",
    "    ss1 += [std1]\n",
    "    ss += [std]\n",
    "    pp += [- np.log(prob) / np.log(T)]\n",
    "\n",
    "    # W^2 = -2 log(p) ~ (s Z + m)**2\n",
    "    # W ~ (s Z + m)\n",
    "    # \n",
    "    #mean(W) ~ mu\n",
    "    #std(W) ~ sigma\n",
    "        \n",
    "a = np.sqrt(r * np.log(T) / 2) \n",
    "b = 1\n",
    "plt.plot(kk, np.array(mm) / a)\n",
    "plt.plot(kk, np.array(mm1) / a)\n",
    "plt.plot(kk, np.array(ss) / b )\n",
    "plt.legend(['mean', 'mean-VS', 'std', 'std-VS'])\n",
    "plt.show()\n",
    "\n",
    "rho = ( (np.sqrt(q) - np.sqrt( r / 2 )) ) ** 2\n",
    "plt.plot(pp / rho )\n",
    "plt.show()"
   ]
  },
  {
   "cell_type": "code",
   "execution_count": 79,
   "id": "fd3a73b8",
   "metadata": {},
   "outputs": [
    {
     "name": "stderr",
     "output_type": "stream",
     "text": [
      "100%|██████████| 10000/10000 [00:04<00:00, 2171.16it/s]"
     ]
    },
    {
     "name": "stdout",
     "output_type": "stream",
     "text": [
      "emp =  0.5387254899964357\n",
      "emp_z =  0.486730389129145\n",
      "ratio z =  1.1068252610245273\n",
      "\n",
      "th =  0.5257359312880715\n",
      "ratio th =  1.0247073824239847\n"
     ]
    },
    {
     "name": "stderr",
     "output_type": "stream",
     "text": [
      "\n"
     ]
    }
   ],
   "source": [
    "T = 10000\n",
    "N1 = 3 * T\n",
    "N2 = 3 * T\n",
    "kappa = N2 / (N1 + N2)\n",
    "\n",
    "r = 0.1\n",
    "lam0 = 2 / T\n",
    "tt = np.arange(T)\n",
    "\n",
    "nMonte = 10000\n",
    "\n",
    "delta = 0.4\n",
    "\n",
    "q = (np.sqrt(r) + np.sqrt( delta )) ** 2\n",
    "\n",
    "ls = 0\n",
    "ls_z = 0\n",
    "for _ in tqdm(range(nMonte)):\n",
    "    O1, O2 = sample_perturbed2(T, N1, N2, lam0, r)\n",
    "    pval = multi_pvals(np.array([N1, N1 - O1]), np.array([N2, N2 - O2]), randomize=True)\n",
    "    z = np.sqrt(4 * O2 * (1 - kappa) + 3/8 ) - np.sqrt(4 * O1 * kappa + 3/8)\n",
    "    pval_z = norm.sf(z)\n",
    "    ls += -2 * np.log(pval) > 2 * q * np.log(T)\n",
    "    ls_z += -2 * np.log(pval_z) > 2 * q * np.log(T)\n",
    "\n",
    "a = - np.log(np.mean(ls / nMonte)) / np.log(T)\n",
    "a_z = - np.log(np.mean(ls_z / nMonte)) / np.log(T)\n",
    "\n",
    "sig = np.sqrt( 4 * kappa * (1 - kappa) )\n",
    "rho = r * 2 * kappa * (1 - kappa)\n",
    "a_th = ((np.sqrt(q) - np.sqrt(rho))) ** 2 / sig**2\n",
    "\n",
    "print(\"emp = \", a)\n",
    "print(\"emp_z = \", a_z)\n",
    "print(\"ratio z = \", a / a_z)\n",
    "print(\"\")\n",
    "print(\"th = \", a_th)\n",
    "print(\"ratio th = \", a / a_th)"
   ]
  },
  {
   "cell_type": "code",
   "execution_count": 533,
   "id": "5d67442a",
   "metadata": {},
   "outputs": [
    {
     "name": "stdout",
     "output_type": "stream",
     "text": [
      "emp =  0.37269936941722426\n",
      "emp_z =  0.3768099027432906\n",
      "th =  0.251471862576143\n",
      "ratio =  1.4820718532848773\n"
     ]
    }
   ],
   "source": [
    "print(\"emp = \", a)\n",
    "print(\"emp_z = \", a_z)\n",
    "print(\"th = \", a_th)\n",
    "print(\"ratio = \", a / a_th)"
   ]
  },
  {
   "cell_type": "code",
   "execution_count": 499,
   "id": "3b26405b",
   "metadata": {},
   "outputs": [
    {
     "data": {
      "text/plain": [
       "0.26666666666666666"
      ]
     },
     "execution_count": 499,
     "metadata": {},
     "output_type": "execute_result"
    }
   ],
   "source": [
    "sig = np.sqrt(4 * kappa * (1-kappa)) \n",
    "rho =  np.sqrt(2) * 2 * kappa * (1-kappa) * r \n",
    "a_th = ((np.sqrt(q) - np.sqrt(rho))) ** 2 / sig**2\n",
    "a_th"
   ]
  },
  {
   "cell_type": "code",
   "execution_count": 167,
   "id": "634b77ff",
   "metadata": {},
   "outputs": [
    {
     "data": {
      "text/plain": [
       "3068"
      ]
     },
     "execution_count": 167,
     "metadata": {},
     "output_type": "execute_result"
    }
   ],
   "source": [
    "1534 * 2"
   ]
  },
  {
   "cell_type": "code",
   "execution_count": 411,
   "id": "3037bd06",
   "metadata": {},
   "outputs": [
    {
     "name": "stdout",
     "output_type": "stream",
     "text": [
      "emp =  0.003620591928070305\n",
      "emp_z =  0.0033832967989398627\n",
      "th =  0.11333997346592446\n"
     ]
    }
   ],
   "source": [
    "kappa = N2 / (N1 + N2)\n",
    "sig = np.sqrt(4 * kappa * (1-kappa)) \n",
    "rho = 2 * kappa * (1-kappa) * r \n",
    "a_th = ((np.maximum(0, np.sqrt(q) - np.sqrt(rho)))) ** 2 / sig**2\n",
    "\n",
    "print(\"emp = \", a)\n",
    "print(\"emp_z = \", a_z)\n",
    "print(\"th = \", a_th)\n"
   ]
  },
  {
   "cell_type": "code",
   "execution_count": 401,
   "id": "394e6bd4",
   "metadata": {},
   "outputs": [
    {
     "data": {
      "text/plain": [
       "0.08838834764831843"
      ]
     },
     "execution_count": 401,
     "metadata": {},
     "output_type": "execute_result"
    }
   ],
   "source": [
    "rho"
   ]
  },
  {
   "cell_type": "code",
   "execution_count": 317,
   "id": "e788fb09",
   "metadata": {},
   "outputs": [],
   "source": [
    "a1 = []\n",
    "a2 = []\n",
    "\n",
    "for _ in range(10000):\n",
    "    Nt1, Nt2 = sample_perturbed(T, N1, N2, lam0, r)\n",
    "    pval = multi_pvals(np.array([Nt1, 0]).T, np.array([Nt2, 0]).T, randomize=True)\n",
    "    O1 = N1 - Nt1\n",
    "    O2 = N2 - Nt2\n",
    "\n",
    "    a1 += [ O1 / (1 - kappa) ]\n",
    "    a2 += [ O2 / (kappa) ]"
   ]
  },
  {
   "cell_type": "code",
   "execution_count": 326,
   "id": "15bac42d",
   "metadata": {},
   "outputs": [
    {
     "data": {
      "text/plain": [
       "1.5999999999999999"
      ]
     },
     "execution_count": 326,
     "metadata": {},
     "output_type": "execute_result"
    }
   ],
   "source": [
    "2 * (N2 * N1) / (N1 + N2) * lam0"
   ]
  },
  {
   "cell_type": "code",
   "execution_count": 114,
   "id": "4bbac01a",
   "metadata": {},
   "outputs": [
    {
     "name": "stdout",
     "output_type": "stream",
     "text": [
      "0.31942380328141806\n",
      "0.2909073194519745\n"
     ]
    }
   ],
   "source": []
  },
  {
   "cell_type": "code",
   "execution_count": 101,
   "id": "3f91b17b",
   "metadata": {},
   "outputs": [
    {
     "data": {
      "text/plain": [
       "0.3201464600743516"
      ]
     },
     "execution_count": 101,
     "metadata": {},
     "output_type": "execute_result"
    }
   ],
   "source": [
    "- np.log(np.mean(ls)) / np.log(T)"
   ]
  },
  {
   "cell_type": "code",
   "execution_count": 95,
   "id": "bcb76b5f",
   "metadata": {},
   "outputs": [
    {
     "name": "stdout",
     "output_type": "stream",
     "text": [
      "0.2333920216900384\n"
     ]
    }
   ],
   "source": [
    "kappa = N2 / (N1 + N2)\n",
    "sig = np.sqrt(4 * kappa * (1-kappa)) \n",
    "rho = 2 * kappa * (1-kappa) * r\n",
    "a_th = ((np.sqrt(q) - np.sqrt(rho))/sig) ** 2\n",
    "\n",
    "print(a_th)"
   ]
  },
  {
   "cell_type": "code",
   "execution_count": 94,
   "id": "9aba60d3",
   "metadata": {},
   "outputs": [
    {
     "data": {
      "text/plain": [
       "1.0"
      ]
     },
     "execution_count": 94,
     "metadata": {},
     "output_type": "execute_result"
    }
   ],
   "source": [
    "sig"
   ]
  },
  {
   "cell_type": "markdown",
   "id": "84ba6398",
   "metadata": {},
   "source": [
    "## Sample once:"
   ]
  },
  {
   "cell_type": "code",
   "execution_count": 92,
   "id": "bde091c6",
   "metadata": {},
   "outputs": [
    {
     "name": "stdout",
     "output_type": "stream",
     "text": [
      "          berk_jones_greater  berk_jones_less  fisher_greater  fisher_less  \\\n",
      "null_95q            6.814281         6.741345        2.104427     2.107693   \n",
      "observed                 NaN              NaN             NaN          NaN   \n",
      "is_sig              0.000000         0.000000        0.000000     0.000000   \n",
      "\n",
      "          hc_greater   hc_less  log_rank_greater  log_rank_less  \\\n",
      "null_95q    4.780447  4.677201          1.053348       1.053348   \n",
      "observed         NaN       NaN               NaN            NaN   \n",
      "is_sig      0.000000  0.000000          0.000000       0.000000   \n",
      "\n",
      "          min_p_greater  min_p_less  ...  wilcoxon_less       T       N1  \\\n",
      "null_95q       9.885502    9.832559  ...       2.136037  1000.0  10000.0   \n",
      "observed            NaN         NaN  ...            NaN     NaN      NaN   \n",
      "is_sig         0.000000    0.000000  ...       0.000000     0.0      0.0   \n",
      "\n",
      "               N2  Logrank        HC    Fisher       minP        BJ  wilcoxon  \n",
      "null_95q  10000.0      NaN       NaN       NaN        NaN       NaN       NaN  \n",
      "observed      NaN   0.5365  5.215422  1.992492  10.280739  3.390061  0.558912  \n",
      "is_sig        0.0   0.0000  0.000000  0.000000   0.000000  0.000000  0.000000  \n",
      "\n",
      "[3 rows x 21 columns]\n",
      "-------------------------------------------------------------\n",
      "\n",
      "Fliping roles of the lists:\n",
      "          berk_jones_greater  berk_jones_less  fisher_greater  fisher_less  \\\n",
      "null_95q            6.814281         6.741345        2.104427     2.107693   \n",
      "observed                 NaN              NaN             NaN          NaN   \n",
      "is_sig              0.000000         0.000000        0.000000     0.000000   \n",
      "\n",
      "          hc_greater   hc_less  log_rank_greater  log_rank_less  \\\n",
      "null_95q    4.780447  4.677201          1.053348       1.053348   \n",
      "observed         NaN       NaN               NaN            NaN   \n",
      "is_sig      0.000000  0.000000          0.000000       0.000000   \n",
      "\n",
      "          min_p_greater  min_p_less  ...  wilcoxon_less       T       N1  \\\n",
      "null_95q       9.885502    9.832559  ...       2.136037  1000.0  10000.0   \n",
      "observed            NaN         NaN  ...            NaN     NaN      NaN   \n",
      "is_sig         0.000000    0.000000  ...       0.000000     0.0      0.0   \n",
      "\n",
      "               N2  Logrank        HC    Fisher      minP        BJ  wilcoxon  \n",
      "null_95q  10000.0      NaN       NaN       NaN       NaN       NaN       NaN  \n",
      "observed      NaN   0.5365  1.029031  1.991161  6.420728  2.093361  0.558912  \n",
      "is_sig        0.0   0.0000  0.000000  0.000000  0.000000  0.000000  0.000000  \n",
      "\n",
      "[3 rows x 21 columns]\n"
     ]
    },
    {
     "data": {
      "image/png": "[encoded data removed]",
      "text/plain": [
       "<Figure size 576x432 with 1 Axes>"
      ]
     },
     "metadata": {},
     "output_type": "display_data"
    }
   ],
   "source": [
    "# single experiment non-null\n",
    "\n",
    "T = 1000\n",
    "N1 = N2 = 10000\n",
    "beta = .7         # sparsity parameter\n",
    "eps = np.round(T ** -beta,4)   # sparsity rate\n",
    "r = .5\n",
    "N0 = 2 * N1 * N2 / (N1 + N2)\n",
    "\n",
    "Nt1, Nt2 = sample_survival_data(T, N1, N2, eps, r)\n",
    "\n",
    "lr, lr_pval = log_rank_test(Nt1, Nt2)\n",
    "pvals = multi_pvals(Nt1, Nt2, randomize=True)\n",
    "mt = MultiTest(pvals, stbl=False)\n",
    "\n",
    "df_null = pd.read_csv(f\"under_null_T{T}_N1_{N1}_N2_{N2}.csv\").drop('Unnamed: 0', axis=1)\n",
    "r = {'Logrank': np.abs(lr),\n",
    "'HC': mt.hc()[0],\n",
    "'Fisher': mt.fisher(),\n",
    "'minP': mt.minp(),\n",
    "'BJ': mt.berk_jones(gamma=.45),\n",
    "'wilcoxon': -np.log(scipy.stats.ranksums(Nt1, Nt2).pvalue)\n",
    "    }\n",
    "\n",
    "df_null['obs'] = 'null_95q'\n",
    "rr = df_null.set_index('obs').append(pd.DataFrame(r, index=['observed']))\n",
    "s = (rr.T['null_95q'] < rr.T['observed'])\n",
    "s.name = 'is_sig'\n",
    "print(rr.append(s))\n",
    "\n",
    "print(\"-------------------------------------------------------------\\n\")\n",
    "print(\"Fliping roles of the lists:\")\n",
    "lr, lr_pval = log_rank_test(Nt2, Nt1)\n",
    "\n",
    "pvals = multi_pvals(Nt2, Nt1)\n",
    "mt = MultiTest(pvals, stbl=False)\n",
    "\n",
    "r = {'Logrank': np.abs(lr),\n",
    "'HC': mt.hc()[0],\n",
    "'Fisher': mt.fisher(),\n",
    "'minP': mt.minp(),\n",
    "'BJ': mt.berk_jones(gamma=.45),\n",
    "'wilcoxon': -np.log(scipy.stats.ranksums(Nt1, Nt2).pvalue)\n",
    "    }\n",
    "\n",
    "df_null['obs'] = 'null_95q'\n",
    "rr = df_null.set_index('obs').append(pd.DataFrame(r, index=['observed']))\n",
    "s = (rr.T['null_95q'] < rr.T['observed'])\n",
    "s.name = 'is_sig'\n",
    "print(rr.append(s))\n",
    "\n",
    "tt = np.arange(T)\n",
    "plt.plot(tt, Nt1[1:])\n",
    "plt.plot(tt, Nt2[1:])\n",
    "plt.show()\n",
    "#pd.DataFrame({'N1' : Nt1, 'N2' : Nt2}).to_csv(f'surv_mu{mu}_eps{eps}.csv')\n"
   ]
  },
  {
   "cell_type": "markdown",
   "id": "c7b922e1",
   "metadata": {},
   "source": [
    "## Atomic experiment:"
   ]
  },
  {
   "cell_type": "code",
   "execution_count": 130,
   "id": "a0026453",
   "metadata": {},
   "outputs": [],
   "source": [
    "from survival import evaluate_test_stats, simulate_null"
   ]
  },
  {
   "cell_type": "code",
   "execution_count": 124,
   "id": "4f886f94",
   "metadata": {},
   "outputs": [
    {
     "name": "stderr",
     "output_type": "stream",
     "text": [
      "  0%|          | 0/10 [00:00<?, ?it/s]\n"
     ]
    },
    {
     "ename": "TypeError",
     "evalue": "evaluate_test_stats() missing 2 required positional arguments: 'Ot1' and 'Ot2'",
     "output_type": "error",
     "traceback": [
      "\u001b[0;31m---------------------------------------------------------------------------\u001b[0m",
      "\u001b[0;31mTypeError\u001b[0m                                 Traceback (most recent call last)",
      "\u001b[0;32m<ipython-input-124-f4e9aec0724b>\u001b[0m in \u001b[0;36m<module>\u001b[0;34m\u001b[0m\n\u001b[1;32m     13\u001b[0m \u001b[0;32mfor\u001b[0m \u001b[0mi\u001b[0m \u001b[0;32min\u001b[0m \u001b[0mtqdm\u001b[0m\u001b[0;34m(\u001b[0m\u001b[0mrange\u001b[0m\u001b[0;34m(\u001b[0m\u001b[0mnMonte\u001b[0m\u001b[0;34m)\u001b[0m\u001b[0;34m)\u001b[0m\u001b[0;34m:\u001b[0m\u001b[0;34m\u001b[0m\u001b[0;34m\u001b[0m\u001b[0m\n\u001b[1;32m     14\u001b[0m     \u001b[0mNt1\u001b[0m\u001b[0;34m,\u001b[0m \u001b[0mNt2\u001b[0m \u001b[0;34m=\u001b[0m \u001b[0msample_survival_data\u001b[0m\u001b[0;34m(\u001b[0m\u001b[0mT\u001b[0m\u001b[0;34m,\u001b[0m \u001b[0mN1\u001b[0m\u001b[0;34m,\u001b[0m \u001b[0mN2\u001b[0m\u001b[0;34m,\u001b[0m \u001b[0mlam0\u001b[0m\u001b[0;34m,\u001b[0m \u001b[0meps\u001b[0m\u001b[0;34m,\u001b[0m \u001b[0mr\u001b[0m\u001b[0;34m)\u001b[0m\u001b[0;34m\u001b[0m\u001b[0;34m\u001b[0m\u001b[0m\n\u001b[0;32m---> 15\u001b[0;31m     \u001b[0mres1\u001b[0m \u001b[0;34m=\u001b[0m \u001b[0mevaluate_test_stats\u001b[0m\u001b[0;34m(\u001b[0m\u001b[0mNt1\u001b[0m\u001b[0;34m,\u001b[0m \u001b[0mNt2\u001b[0m\u001b[0;34m,\u001b[0m \u001b[0mrandomized\u001b[0m\u001b[0;34m=\u001b[0m\u001b[0;32mTrue\u001b[0m\u001b[0;34m,\u001b[0m \u001b[0malternative\u001b[0m\u001b[0;34m=\u001b[0m\u001b[0;34m'both'\u001b[0m\u001b[0;34m)\u001b[0m\u001b[0;34m\u001b[0m\u001b[0;34m\u001b[0m\u001b[0m\n\u001b[0m\u001b[1;32m     16\u001b[0m     \u001b[0mres\u001b[0m \u001b[0;34m=\u001b[0m \u001b[0mres\u001b[0m\u001b[0;34m.\u001b[0m\u001b[0mappend\u001b[0m\u001b[0;34m(\u001b[0m\u001b[0mres1\u001b[0m\u001b[0;34m,\u001b[0m \u001b[0mignore_index\u001b[0m\u001b[0;34m=\u001b[0m\u001b[0;32mTrue\u001b[0m\u001b[0;34m)\u001b[0m\u001b[0;34m\u001b[0m\u001b[0;34m\u001b[0m\u001b[0m\n\u001b[1;32m     17\u001b[0m \u001b[0;34m\u001b[0m\u001b[0m\n",
      "\u001b[0;31mTypeError\u001b[0m: evaluate_test_stats() missing 2 required positional arguments: 'Ot1' and 'Ot2'"
     ]
    }
   ],
   "source": [
    "T = 1000\n",
    "N1 = N2 = 2000\n",
    "\n",
    "beta = .75         # sparsity parameter\n",
    "eps = np.round(T ** -beta,4)   # sparsity rate\n",
    "r = .5        # signal strength\n",
    "nMonte = 10\n",
    "\n",
    "lam0 = np.ones(T) / T * np.log(T)\n",
    "\n",
    "res = pd.DataFrame()\n",
    "\n",
    "for i in tqdm(range(nMonte)):\n",
    "    Nt1, Nt2 = sample_survival_data(T, N1, N2, lam0, eps, r)\n",
    "    res1 = evaluate_test_stats(Nt1, Nt2,  randomized=True, alternative='both')\n",
    "    res = res.append(res1, ignore_index=True)\n",
    "    \n",
    "res.agg(['mean', 'std'])"
   ]
  },
  {
   "cell_type": "markdown",
   "id": "f6e8e4a0",
   "metadata": {},
   "source": [
    "## Many experiments"
   ]
  },
  {
   "cell_type": "code",
   "execution_count": 84,
   "id": "976995ae",
   "metadata": {},
   "outputs": [],
   "source": [
    "def evaluate(itr, T, N, beta, r):\n",
    "    \"\"\"\n",
    "    evalaute an atomic experiment\n",
    "    \"\"\"\n",
    "    mu = 2 * r * np.log(T) / T\n",
    "    eps = T ** (-beta)\n",
    "    N1 = N2 = N\n",
    "\n",
    "    Nt1, Nt2 = sample_survival_data(int(T), int(N1), int(N2), eps, mu)\n",
    "    res = evaluate_test_stats(Nt1, Nt2, randomized=True, alternative='both')\n",
    "    return res\n"
   ]
  },
  {
   "cell_type": "markdown",
   "id": "65d215d1",
   "metadata": {},
   "source": [
    "### Null Behavior"
   ]
  },
  {
   "cell_type": "code",
   "execution_count": 3,
   "id": "10964760",
   "metadata": {},
   "outputs": [],
   "source": [
    "import numpy as np\n",
    "import pandas as pd\n",
    "from tqdm import tqdm"
   ]
  },
  {
   "cell_type": "code",
   "execution_count": 23,
   "id": "fdf28c0f",
   "metadata": {},
   "outputs": [
    {
     "name": "stdout",
     "output_type": "stream",
     "text": [
      "T = 100, HC 4.173467718335046\n",
      "T = 500, HC 4.176264724855984\n",
      "T = 1000, HC 4.182287124106553\n",
      "T = 10000, HC 4.2079080704500536\n"
     ]
    }
   ],
   "source": [
    "# theoretic asymptotic values of HC\n",
    "\n",
    "alpha = 0.01\n",
    "Q95 = -np.log( - np.log(1 - alpha) / 2 )\n",
    "\n",
    "for T in [100, 500, 1000, 10000]:\n",
    "    \n",
    "    b = np.sqrt(2 * np.log(np.log(T)))\n",
    "    c =  2 * np.log(np.log(T)) + .5 * np.log( np.log( np.log ( T))) - 0.5 * np.log(4 * np.pi)\n",
    "    crit = (Q95 + c) / b\n",
    "    print(f\"T = {T}, HC\", crit)\n",
    "    "
   ]
  },
  {
   "cell_type": "code",
   "execution_count": 4,
   "id": "e62a8b04",
   "metadata": {},
   "outputs": [],
   "source": [
    "def quantile(x, q):\n",
    "    \"\"\"\n",
    "    Compute the q-th percentile of the vector x\n",
    "    \"\"\"\n",
    "    if x.dtypes.kind == 'O':\n",
    "        return np.nan\n",
    "    else:\n",
    "        return pd.Series.quantile(x, q)\n",
    "\n",
    "def q95(x):\n",
    "    return quantile(x, .95)\n",
    "\n",
    "def std_95(x):\n",
    "    return scipy.stats.mstats.mjci(x, prob = [0.95])[0]\n",
    "\n",
    "    \n",
    "def null_uniform_pvals(T, nMonte, stbl=True):\n",
    "    df0 = pd.DataFrame()\n",
    "    print(\"Simulating null...\")\n",
    "    for itr in tqdm(range(nMonte)):\n",
    "        res = {}\n",
    "        pvals = np.random.rand(T)\n",
    "\n",
    "        mt = MultiTest(pvals, stbl=stbl)\n",
    "        # if not using stbl=False, then sometimes\n",
    "        # HC misses the significance of the strongest effect\n",
    "        res['hc_greater'] = mt.hc()[0]\n",
    "        res['fisher_greater'] = mt.fisher()\n",
    "        res['min_p_greater'] = mt.minp()\n",
    "        res['berk_jones_greater'] = mt.berk_jones(gamma=.45)\n",
    "        df0 = df0.append(res, ignore_index=True)\n",
    "\n",
    "    # critical values under the null:\n",
    "    return df0\n",
    "    \n",
    "\n",
    "def report_null_stats(df0, T, precision=5):\n",
    "    dsp = df0.agg([q95, 'mean', 'std']).filter(\n",
    "        ['log_rank_greater', 'hc_greater', 'x0', 'y0', 'lam1', 'lam2'])\n",
    "    dsp.loc['std_95'] = [std_95(df0[c]) for c in dsp]\n",
    "\n",
    "    print(np.round(dsp, precision))\n",
    "\n",
    "    if 'lam1' in dsp:\n",
    "        m = (dsp.loc['mean', 'lam1'] + dsp.loc['mean', 'lam2']) / 2\n",
    "        s = np.sqrt((dsp.loc['std', 'lam1'] ** 2 + dsp.loc['std', 'lam2'] ** 2) / 2)\n",
    "        print(\"lam * T = \", np.round(m * T, precision))\n",
    "        print(\"SE(lam*T) = \", np.round(s * T, precision))\n"
   ]
  },
  {
   "cell_type": "code",
   "execution_count": 161,
   "id": "49099450",
   "metadata": {},
   "outputs": [
    {
     "name": "stderr",
     "output_type": "stream",
     "text": [
      "  1%|          | 66/10000 [00:00<00:15, 657.00it/s]"
     ]
    },
    {
     "name": "stdout",
     "output_type": "stream",
     "text": [
      "Simulating null...\n"
     ]
    },
    {
     "name": "stderr",
     "output_type": "stream",
     "text": [
      "100%|██████████| 10000/10000 [00:10<00:00, 983.69it/s]\n",
      "  1%|          | 92/10000 [00:00<00:10, 918.59it/s]"
     ]
    },
    {
     "name": "stdout",
     "output_type": "stream",
     "text": [
      "        hc_greater\n",
      "q95        1.87903\n",
      "mean       0.90861\n",
      "std        0.65153\n",
      "std_95     0.01226\n",
      "Simulating null...\n"
     ]
    },
    {
     "name": "stderr",
     "output_type": "stream",
     "text": [
      "100%|██████████| 10000/10000 [00:10<00:00, 959.60it/s]\n",
      "  1%|          | 79/10000 [00:00<00:12, 782.85it/s]"
     ]
    },
    {
     "name": "stdout",
     "output_type": "stream",
     "text": [
      "        hc_greater\n",
      "q95        2.04897\n",
      "mean       1.04531\n",
      "std        0.64954\n",
      "std_95     0.01321\n",
      "Simulating null...\n"
     ]
    },
    {
     "name": "stderr",
     "output_type": "stream",
     "text": [
      "100%|██████████| 10000/10000 [00:12<00:00, 808.31it/s]\n",
      "  1%|          | 69/10000 [00:00<00:14, 682.64it/s]"
     ]
    },
    {
     "name": "stdout",
     "output_type": "stream",
     "text": [
      "        hc_greater\n",
      "q95        2.36117\n",
      "mean       1.27006\n",
      "std        0.64510\n",
      "std_95     0.01685\n",
      "Simulating null...\n"
     ]
    },
    {
     "name": "stderr",
     "output_type": "stream",
     "text": [
      "100%|██████████| 10000/10000 [00:15<00:00, 664.70it/s]\n",
      "  0%|          | 24/10000 [00:00<00:43, 231.74it/s]"
     ]
    },
    {
     "name": "stdout",
     "output_type": "stream",
     "text": [
      "        hc_greater\n",
      "q95        2.43404\n",
      "mean       1.35553\n",
      "std        0.64245\n",
      "std_95     0.01689\n",
      "Simulating null...\n"
     ]
    },
    {
     "name": "stderr",
     "output_type": "stream",
     "text": [
      "100%|██████████| 10000/10000 [00:42<00:00, 236.13it/s]"
     ]
    },
    {
     "name": "stdout",
     "output_type": "stream",
     "text": [
      "        hc_greater\n",
      "q95        2.63666\n",
      "mean       1.50809\n",
      "std        0.64342\n",
      "std_95     0.01786\n"
     ]
    },
    {
     "name": "stderr",
     "output_type": "stream",
     "text": [
      "\n"
     ]
    }
   ],
   "source": [
    "# null uniform p-vals\n",
    "stbl = False\n",
    "\n",
    "for T in [100, 200, 1000, 2000, 10000]:    \n",
    "    df0 = null_uniform_pvals(T, 10000, stbl=stbl)\n",
    "    report_null_stats(df0, T)\n"
   ]
  },
  {
   "cell_type": "code",
   "execution_count": 5,
   "id": "48e24597",
   "metadata": {},
   "outputs": [],
   "source": [
    "def std_95(x):\n",
    "    return scipy.stats.mstats.mjci(x, prob = [0.95])[0]"
   ]
  },
  {
   "cell_type": "code",
   "execution_count": 6,
   "id": "85034e19",
   "metadata": {},
   "outputs": [],
   "source": [
    "def simulate_null(T, N1, N2, lam0, nMonte, stbl=True):\n",
    "    \"\"\"\n",
    "    Args:\n",
    "    -----\n",
    "    :N1:      Initial size of group 1\n",
    "    :N2:      Initial size of group 2\n",
    "    :T:       Total numebr of events\n",
    "    :nMonte:  number of experiments to evaluate\n",
    "\n",
    "    \"\"\"\n",
    "\n",
    "    df0 = pd.DataFrame()\n",
    "    print(\"Simulating null...\")\n",
    "    for itr in tqdm(range(nMonte)):\n",
    "        Nt1, Nt2 = sample_survival_data(T, N1, N2, lam0, 0, 0)\n",
    "        Ot1 = -np.diff(Nt1)\n",
    "        Ot2 = -np.diff(Nt2)\n",
    "        res = evaluate_test_stats(Nt1[:-1], Nt2[:-1], Ot1, Ot2, stbl=stbl, randomize=False)\n",
    "        df0 = df0.append(res, ignore_index=True)\n",
    "\n",
    "    # critical values under the null:\n",
    "    return df0\n"
   ]
  },
  {
   "cell_type": "code",
   "execution_count": 20,
   "id": "9f853f68",
   "metadata": {},
   "outputs": [
    {
     "name": "stderr",
     "output_type": "stream",
     "text": [
      "  0%|          | 7/10000 [00:00<02:31, 65.93it/s]"
     ]
    },
    {
     "name": "stdout",
     "output_type": "stream",
     "text": [
      "Simulating null...\n"
     ]
    },
    {
     "name": "stderr",
     "output_type": "stream",
     "text": [
      "100%|██████████| 10000/10000 [01:49<00:00, 91.27it/s]\n"
     ]
    },
    {
     "name": "stdout",
     "output_type": "stream",
     "text": [
      "        log_rank_greater  hc_greater\n",
      "q95              1.95303     2.39906\n",
      "mean             0.80815     0.19063\n",
      "std              0.60520     1.34191\n",
      "std_95           0.01745     0.10838\n"
     ]
    }
   ],
   "source": [
    "# under null\n",
    "from twosample import binom_test_two_sided\n",
    "from multitest import MultiTest\n",
    "from typing import List\n",
    "\n",
    "#params:\n",
    "T = 100     # number of event\n",
    "\n",
    "N = N1 = N2 = 1500    # number in group 1 and 2 at t=0\n",
    "lam0 = 0.5\n",
    "stbl = False\n",
    "\n",
    "nMonte = 10000  #   number of experiments to evaluate dist. under null\n",
    "\n",
    "df0 = simulate_null(T, N1, N2, lam0 * np.ones(T) / T, nMonte, stbl=stbl)\n",
    "# critical values under the null:\n",
    "df0['T'] = T\n",
    "df0['N1'] = N1\n",
    "df0['N2'] = N2\n",
    "df0.to_csv(f\"under_null_{stbl}_T_{T}_N1_{N1}_N2_{N2}_l{lam0}.csv\")\n",
    "\n",
    "report_null_stats(df0, T)"
   ]
  },
  {
   "cell_type": "code",
   "execution_count": 11,
   "id": "83a390e2",
   "metadata": {},
   "outputs": [
    {
     "name": "stdout",
     "output_type": "stream",
     "text": [
      "        log_rank_greater  hc_greater\n",
      "q95              1.96311     3.08828\n",
      "mean             0.79568     0.62771\n",
      "std              0.60383     1.52802\n",
      "std_95           0.01715     0.05735\n"
     ]
    }
   ],
   "source": [
    "stbl=False\n",
    "df0 = pd.read_csv(f\"under_null_{stbl}_T_{T}_N1_{N1}_N2_{N2}_l{lam0}.csv\")\n",
    "report_null_stats(df0, T)"
   ]
  },
  {
   "cell_type": "code",
   "execution_count": 18,
   "id": "b8b40440",
   "metadata": {},
   "outputs": [
    {
     "data": {
      "text/plain": [
       "0.00138"
      ]
     },
     "execution_count": 18,
     "metadata": {},
     "output_type": "execute_result"
    }
   ],
   "source": [
    "0.00138"
   ]
  },
  {
   "cell_type": "markdown",
   "id": "3cd6cb96",
   "metadata": {},
   "source": [
    "### Non-Null Behavior"
   ]
  },
  {
   "cell_type": "code",
   "execution_count": 17,
   "id": "6124abb7",
   "metadata": {},
   "outputs": [
    {
     "name": "stderr",
     "output_type": "stream",
     "text": [
      "100%|██████████| 100/100 [24:26<00:00, 14.67s/it]\n"
     ]
    }
   ],
   "source": [
    "# under non-null\n",
    "\n",
    "from twosample import binom_test_two_sided\n",
    "from multitest import MultiTest\n",
    "from typing import List\n",
    "\n",
    "def run_many_experiments(T, N1, N2, nMonte):\n",
    "    # under non-null\n",
    "    bb = np.linspace(.5, .9, 7)\n",
    "    rr = np.sqrt(np.linspace(0.01, 1, 9))\n",
    "    mm = 2 * rr * np.log(T) / N1\n",
    "\n",
    "    df1 = pd.DataFrame()\n",
    "    nMonte = 100       # number of experiments\n",
    "\n",
    "    for itr in tqdm(range(nMonte)):\n",
    "        for beta in bb:\n",
    "            for mu in mm:\n",
    "                eps = T ** -beta   # sparsity rate\n",
    "                Nt1, Nt2 = sample_survival_data(T, N1, N2, eps, mu)\n",
    "                res1 = evaluate_test_stats(Nt1, Nt2)\n",
    "                res2 = evaluate_test_stats(Nt2, Nt1)\n",
    "                res = pd.DataFrame(res1, index=[0])\n",
    "                res['mu'] = mu\n",
    "                res['eps'] = eps\n",
    "                res['beta'] = beta\n",
    "                res['itr'] = itr\n",
    "                res['T'] = T\n",
    "                df1 = df1.append(res, ignore_index=True)\n",
    "    return df1\n",
    "\n",
    "df1 = run_many_experiments(T, N1, N2, nMonte)"
   ]
  },
  {
   "cell_type": "code",
   "execution_count": 25,
   "id": "4cc1ad1a",
   "metadata": {},
   "outputs": [],
   "source": [
    "df1['T'] = T\n",
    "df1['N'] = N1\n",
    "df1['N1'] = N1\n",
    "df1['N2'] = N2"
   ]
  },
  {
   "cell_type": "markdown",
   "id": "e7b58d8f",
   "metadata": {},
   "source": [
    "In how many cases both the reversed and original sides were significant?"
   ]
  },
  {
   "cell_type": "code",
   "execution_count": 89,
   "id": "3075206e",
   "metadata": {},
   "outputs": [],
   "source": [
    "df0['T'] = T\n",
    "df0['N'] = N1\n",
    "df0['N1'] = N1\n",
    "df0['N2'] = N2"
   ]
  },
  {
   "cell_type": "code",
   "execution_count": 26,
   "id": "8ea3c81b",
   "metadata": {},
   "outputs": [
    {
     "name": "stdout",
     "output_type": "stream",
     "text": [
      "                  berk_jones_greater  berk_jones_less  fisher_greater  \\\n",
      "T    N1    N2                                                           \n",
      "1000 10000 10000            6.814281         6.741345        2.104427   \n",
      "\n",
      "                  fisher_less  hc_greater   hc_less  log_rank_greater  \\\n",
      "T    N1    N2                                                           \n",
      "1000 10000 10000     2.107693    4.780447  4.677201          1.053348   \n",
      "\n",
      "                  log_rank_less  min_p_greater  min_p_less  wilcoxon_greater  \\\n",
      "T    N1    N2                                                                  \n",
      "1000 10000 10000       1.053348       9.885502    9.832559          2.112928   \n",
      "\n",
      "                  wilcoxon_less  \n",
      "T    N1    N2                    \n",
      "1000 10000 10000       2.136037  \n",
      "Analyzing the case (T, N1, N2) = (1000, 10000, 10000)\n"
     ]
    },
    {
     "ename": "NameError",
     "evalue": "name 'tests' is not defined",
     "output_type": "error",
     "traceback": [
      "\u001b[0;31m---------------------------------------------------------------------------\u001b[0m",
      "\u001b[0;31mNameError\u001b[0m                                 Traceback (most recent call last)",
      "\u001b[0;32m<ipython-input-26-2afe0806879b>\u001b[0m in \u001b[0;36m<module>\u001b[0;34m\u001b[0m\n\u001b[1;32m     11\u001b[0m     \u001b[0mdfc\u001b[0m \u001b[0;34m=\u001b[0m \u001b[0mc\u001b[0m\u001b[0;34m[\u001b[0m\u001b[0;36m1\u001b[0m\u001b[0;34m]\u001b[0m\u001b[0;34m\u001b[0m\u001b[0;34m\u001b[0m\u001b[0m\n\u001b[1;32m     12\u001b[0m \u001b[0;34m\u001b[0m\u001b[0m\n\u001b[0;32m---> 13\u001b[0;31m     \u001b[0;32mfor\u001b[0m \u001b[0mtsn\u001b[0m \u001b[0;32min\u001b[0m \u001b[0mtests\u001b[0m\u001b[0;34m:\u001b[0m\u001b[0;34m\u001b[0m\u001b[0;34m\u001b[0m\u001b[0m\n\u001b[0m\u001b[1;32m     14\u001b[0m         \u001b[0mname_good\u001b[0m \u001b[0;34m=\u001b[0m \u001b[0mtsn\u001b[0m \u001b[0;34m+\u001b[0m \u001b[0;34m'_'\u001b[0m \u001b[0;34m+\u001b[0m \u001b[0mgood_side\u001b[0m\u001b[0;34m\u001b[0m\u001b[0;34m\u001b[0m\u001b[0m\n\u001b[1;32m     15\u001b[0m         \u001b[0mname_bad\u001b[0m \u001b[0;34m=\u001b[0m \u001b[0mtsn\u001b[0m \u001b[0;34m+\u001b[0m \u001b[0;34m'_'\u001b[0m \u001b[0;34m+\u001b[0m \u001b[0mbad_side\u001b[0m\u001b[0;34m\u001b[0m\u001b[0;34m\u001b[0m\u001b[0m\n",
      "\u001b[0;31mNameError\u001b[0m: name 'tests' is not defined"
     ]
    }
   ],
   "source": [
    "\n",
    "global_params = ['T', 'N1', 'N2']\n",
    "\n",
    "print(df0.groupby(global_params).agg(q95))\n",
    "tcrit = df0.groupby(global_params).agg(q95)\n",
    "\n",
    "good_side = 'greater'\n",
    "bad_side = 'less'\n",
    "\n",
    "for c in df1.groupby(global_params):\n",
    "    print(f\"Analyzing the case (T, N1, N2) = {c[0]}\")\n",
    "    dfc = c[1]\n",
    "\n",
    "    for tsn in tests:\n",
    "        name_good = tsn + '_' + good_side\n",
    "        name_bad = tsn + '_' + bad_side\n",
    "\n",
    "        # we check rate when both sides succedds. These are not good outcomes\n",
    "        two_side_succ = ( dfc[name_good] > tcrit[name_good].values[0] ) & ( dfc[name_bad] > tcrit[name_bad].values[0] )\n",
    "        print(f\"{tsn}: both sides detected in {np.mean(two_side_succ)} of cases\")\n",
    "        print(\"(you should be worried if this number is significantly larger than 0.05)\")"
   ]
  },
  {
   "cell_type": "markdown",
   "id": "e2d81d80",
   "metadata": {},
   "source": [
    "### Power Analysis:"
   ]
  },
  {
   "cell_type": "code",
   "execution_count": 221,
   "id": "8a132b54",
   "metadata": {},
   "outputs": [
    {
     "data": {
      "image/png": "[encoded data removed]",
      "text/plain": [
       "<Figure size 576x432 with 1 Axes>"
      ]
     },
     "metadata": {},
     "output_type": "display_data"
    }
   ],
   "source": [
    "bb = np.linspace(0.5, 1, 171)\n",
    "\n",
    "def rhos(be, sigma):\n",
    "    if sigma**2 < 2:\n",
    "        if be < 1 - sigma**2/4:\n",
    "            return (2-sigma**2) * (be - 1/2)\n",
    "        else:\n",
    "            return (1-sigma*np.sqrt(1- be))**2\n",
    "    else:\n",
    "        if be < 1 - 1/sigma**2:\n",
    "            return 0\n",
    "        else:\n",
    "            return (1-sigma*np.sqrt(1- be))**2\n",
    "\n",
    "        \n",
    "def plot_PT(r, sig):\n",
    "    bb = np.linspace(0.5, 1, 171)\n",
    "    rr = [rhos(b, sig) / r for b in bb]\n",
    "    plt.plot(bb, rr)\n",
    "\n",
    "            \n",
    "kappa = 1/8\n",
    "\n",
    "kappa_bar = 1 - kappa\n",
    "\n",
    "r1 = 1 / 2\n",
    "sig1 = 1\n",
    "\n",
    "plot_PT(r1, sig1)\n",
    "\n",
    "r2 = np.sqrt(2 * kappa * kappa_bar)\n",
    "sig2 = np.sqrt(4 * kappa * kappa_bar)\n",
    "\n",
    "plot_PT(r2, sig2)\n",
    "\n",
    "plt.legend(['r1', 'r2'])\n",
    "plt.show()"
   ]
  },
  {
   "cell_type": "code",
   "execution_count": null,
   "id": "b764f217",
   "metadata": {},
   "outputs": [],
   "source": []
  }
 ],
 "metadata": {
  "kernelspec": {
   "display_name": "Python 3",
   "language": "python",
   "name": "python3"
  },
  "language_info": {
   "codemirror_mode": {
    "name": "ipython",
    "version": 3
   },
   "file_extension": ".py",
   "mimetype": "text/x-python",
   "name": "python",
   "nbconvert_exporter": "python",
   "pygments_lexer": "ipython3",
   "version": "3.10.11"
  }
 },
 "nbformat": 4,
 "nbformat_minor": 5
}
