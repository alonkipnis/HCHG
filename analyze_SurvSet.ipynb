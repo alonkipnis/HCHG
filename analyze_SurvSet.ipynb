{
 "cells": [
  {
   "cell_type": "code",
   "execution_count": 7,
   "id": "884fc343",
   "metadata": {
    "ExecuteTime": {
     "end_time": "2023-05-16T10:48:15.991867Z",
     "start_time": "2023-05-16T10:48:15.983545Z"
    }
   },
   "outputs": [],
   "source": [
    "# !pip3 install two-sample-binomial\n",
    "# !pip3 install multiple-hypothesis-testing\n",
    "# !pip3 install lifelines\n",
    "# !pip3 install multiHGtest\n",
    "\n",
    "from multitest import MultiTest\n",
    "from test_gene_expression import two_groups_table\n",
    "from illustrate_gene_expression_survival_curves import illustrate_survival_curve_time2event, plot_survival_curve_time2event\n",
    "from multiHGtest import testHG_dashboard, HCHGtest\n",
    "\n",
    "import pandas as pd\n",
    "import numpy as np\n",
    "\n",
    "import matplotlib.pyplot as plt\n",
    "import matplotlib as mpl\n",
    "plt.rcParams['figure.figsize'] =  [8, 6]\n",
    "mpl.style.use('ggplot')\n",
    "\n",
    "\n",
    "from survival import evaluate_test_stats, multi_pvals\n",
    "import logging\n",
    "from tqdm import tqdm\n",
    "\n",
    "from SurvSet.data import SurvLoader\n",
    "from test_gene_expression import test_gene"
   ]
  },
  {
   "cell_type": "code",
   "execution_count": 2,
   "metadata": {
    "ExecuteTime": {
     "end_time": "2023-05-16T10:45:49.353690Z",
     "start_time": "2023-05-16T10:45:46.496506Z"
    },
    "collapsed": false
   },
   "outputs": [
    {
     "name": "stderr",
     "output_type": "stream",
     "text": [
      "INFO:root:Finding relevant datasets...\n",
      "INFO:root:Datasets with at least 15 events in at least one time interval:\n",
      "INFO:root:LeukSurv\n",
      "INFO:root:UnempDur\n",
      "INFO:root:Aids2\n",
      "INFO:root:Z243\n",
      "INFO:root:Dialysis\n",
      "INFO:root:support2\n",
      "INFO:root:vlbw\n",
      "INFO:root:prostateSurvival\n",
      "INFO:root:acath\n",
      "INFO:root:follic\n",
      "INFO:root:dataOvarian1\n",
      "INFO:root:Rossi\n",
      "INFO:root:Unemployment\n",
      "INFO:root:prostate\n",
      "INFO:root:grace\n"
     ]
    }
   ],
   "source": [
    "\n",
    "logging.info(\"Finding relevant datasets...\")\n",
    "loader = SurvLoader()\n",
    "lo_datasets = []\n",
    "MIN_MAX_EVENTS = 15\n",
    "\n",
    "lo_ds_names = loader.df_ds.ds # List of available datasets and meta-info\n",
    "acc = {}\n",
    "logging.info(f\"Datasets with at least {MIN_MAX_EVENTS} events in at least one time interval:\")\n",
    "for ds_name in lo_ds_names:\n",
    "    df, ref = loader.load_dataset(ds_name=ds_name).values()\n",
    "    if 'time2' in df.columns:\n",
    "        df['diff'] = df['time2'] - df['time']\n",
    "    else:\n",
    "        df['diff'] = df['time']\n",
    "    acc[ds_name] = df.groupby(['diff'])['event'].sum().max()\n",
    "    if acc[ds_name] >= MIN_MAX_EVENTS:\n",
    "        logging.info(f\"{ds_name}\")\n",
    "        lo_datasets.append(ds_name)\n",
    "        #df.groupby(['diff']).count()['event'].hist(bins=np.arange(30))\n",
    "        #plt.title(f\"{ds_name}\")\n",
    "        #plt.show()\n"
   ]
  },
  {
   "cell_type": "markdown",
   "id": "b3a534d0",
   "metadata": {},
   "source": [
    "## Illustrate Curves"
   ]
  },
  {
   "cell_type": "code",
   "execution_count": 3,
   "id": "90cbea1f",
   "metadata": {},
   "outputs": [],
   "source": [
    "\n",
    "def illustrate_survival_curve_time2event(df_time2event,\n",
    "                                        stbl=True, # type of HC stat\n",
    "                               show_HCT=True, randomize_HC=False,\n",
    "                               show_stats_in_title=True, flip_sides=False):\n",
    "        \n",
    "     # to table representation\n",
    "    dfg = two_groups_table(df_time2event, 'group')\n",
    "\n",
    "    Nt1, Nt2 = dfg['at_risk:0'].values, dfg['at_risk:1'].values\n",
    "    Ot1, Ot2 = dfg['observed:0'].values, dfg['observed:1'].values\n",
    "\n",
    "    stats = evaluate_test_stats(Nt1, Nt2, Ot1, Ot2, stbl=stbl, randomize=randomize_HC)\n",
    "    stats_rev = evaluate_test_stats(Nt2, Nt1, Ot2, Ot1, stbl=stbl, randomize=randomize_HC)\n",
    "    if flip_sides and (stats['hc_greater'] < stats_rev['hc_greater']): # reverse groups\n",
    "        df_time2event.loc[:, 'group'] = df_time2event['group'].apply(lambda x : 1 - x) # flip groups\n",
    "        dfg = two_groups_table(df_time2event, 'group')\n",
    "        temp = stats\n",
    "        stats = stats_rev\n",
    "        stats_rev = temp\n",
    "        Nt1, Nt2 = dfg['at_risk:0'].values, dfg['at_risk:1'].values\n",
    "        Ot1, Ot2 = dfg['observed:0'].values, dfg['observed:1'].values\n",
    "        logging.info(\"Flipped sides\")\n",
    "        \n",
    "    plot_survival_curve_time2event(df_time2event)\n",
    "    \n",
    "    #pvals = multi_pvals(Nt1, Nt2, Ot1, Ot2, randomize=False)\n",
    "    #pvals_rev = multi_pvals(Nt2, Nt1, Ot2, Ot1, randomize=False)\n",
    "    \n",
    "    dfg, statsHG = testHG_dashboard(Nt1, Nt2, Ot1, Ot2, \n",
    "                                    randomize=False, stbl=True, alternative='greater')\n",
    "\n",
    "    np.testing.assert_almost_equal(statsHG['hc'], stats['hc_greater'])\n",
    "\n",
    "    df_disp = dfg[dfg.HCT]\n",
    "    if show_HCT:\n",
    "        xvals = dfg.index[:len(df_disp)]\n",
    "        yvals = np.ones_like(xvals)\n",
    "        plt.bar(xvals, yvals, color='k', alpha=.2, width=.5)\n",
    "        \n",
    "    if show_stats_in_title:\n",
    "        stats_str = f\"HC={np.round(stats['hc_greater'],2)}, Log-rank={np.round(stats['log_rank_greater'],2)}\"\n",
    "        plt.title(stats_str)\n",
    "    plt.ylabel('Proportion', fontsize=16)\n",
    "    plt.xlabel(r'Duration', fontsize=16)\n",
    "\n",
    "    return df_disp, dfg\n"
   ]
  },
  {
   "cell_type": "code",
   "execution_count": 6,
   "id": "c4ff3068",
   "metadata": {},
   "outputs": [
    {
     "data": {
      "text/plain": [
       "15"
      ]
     },
     "execution_count": 6,
     "metadata": {},
     "output_type": "execute_result"
    }
   ],
   "source": [
    "import json\n",
    "\n",
    "with open('survset_critvals.json', 'r') as fp:\n",
    "    critvals = json.load(fp)\n",
    "\n",
    "len(critvals)"
   ]
  },
  {
   "cell_type": "code",
   "execution_count": 8,
   "id": "9fbf376c",
   "metadata": {},
   "outputs": [
    {
     "name": "stderr",
     "output_type": "stream",
     "text": [
      "100%|██████████| 15/15 [00:25<00:00,  1.70s/it]\n"
     ]
    }
   ],
   "source": [
    "MAX_CATEGORIES = 5 # don't split if \n",
    "FRAC_LOW = 0.1\n",
    "FRAC_HIGH = 0.9\n",
    "lo_stats = ['hc_greater', 'log_rank_greater', 'log_rank_pval_greater',\n",
    "            'hc_greater_rev', 'log_rank_greater_rev', 'log_rank_pval_greater_rev',\n",
    "            'fisher_greater', 'min_p_greater', 'fisher_greater_rev', 'min_p_greater_rev',\n",
    "            'logrank_lifelines_None',\n",
    "            'logrank_lifelines_wilcoxon', 'logrank_lifelines_tarone-ware',\n",
    "            'logrank_lifelines_peto',\n",
    "            'logrank_lifelines_fleming-harrington55', 'logrank_lifelines_fleming-harrington11', 'logrank_lifelines_fleming-harrington01'\n",
    "            ]\n",
    "\n",
    "res = []\n",
    "for ds_name in tqdm(lo_datasets):\n",
    "    df, ref = loader.load_dataset(ds_name=ds_name).values()\n",
    "    lo_facs = df.filter(like='fac_').columns\n",
    "    for fac in lo_facs:\n",
    "        # feature to partition\n",
    "        lo_values = df[fac].unique()\n",
    "        no_values = len(lo_values)\n",
    "        if (no_values > MAX_CATEGORIES) or (no_values == 1): #\n",
    "            continue\n",
    "        if no_values == 2:\n",
    "            lo_values = lo_values[:1]\n",
    "        for value in lo_values:\n",
    "            df['group'] = (df[fac] == value) + 0\n",
    "            if (df['group'].mean() < FRAC_LOW) or (df['group'].mean() > FRAC_HIGH):\n",
    "                continue\n",
    "            r = test_gene(df, 'group', T=0, stbl=True, randomize=False)\n",
    "            r['name'] = f\"{ds_name}:{fac}:{value}\"\n",
    "            for stat_name in lo_stats:\n",
    "                r[f\"critval_{stat_name}\"] = critvals[ds_name][stat_name]\n",
    "            # r['critval_hc'] = critvals[ds_name]['hc_greater']\n",
    "            # r['critval_lr'] = critvals[ds_name]['log_rank_greater']\n",
    "            res.append(r)\n",
    "df_res = pd.concat(res, axis=0)"
   ]
  },
  {
   "cell_type": "code",
   "execution_count": 9,
   "id": "46141c17",
   "metadata": {},
   "outputs": [
    {
     "name": "stderr",
     "output_type": "stream",
     "text": [
      "INFO:root:For each instance, find all test statistics exceeding their critical values\n"
     ]
    }
   ],
   "source": [
    "# findi which instances exceeded the critical value\n",
    "logging.info(\"For each instance, find all test statistics exceeding their critical values\")\n",
    "discoveries = {}\n",
    "for stat_name in lo_stats:\n",
    "    discoveries[stat_name] = (df_res[stat_name] > df_res['critval_'+stat_name])"
   ]
  },
  {
   "cell_type": "code",
   "execution_count": 17,
   "id": "28e80584",
   "metadata": {},
   "outputs": [
    {
     "data": {
      "text/plain": [
       "['hc_greater',\n",
       " 'log_rank_greater',\n",
       " 'log_rank_pval_greater',\n",
       " 'hc_greater_rev',\n",
       " 'log_rank_greater_rev',\n",
       " 'log_rank_pval_greater_rev',\n",
       " 'fisher_greater',\n",
       " 'min_p_greater',\n",
       " 'fisher_greater_rev',\n",
       " 'min_p_greater_rev',\n",
       " 'logrank_lifelines_None',\n",
       " 'logrank_lifelines_wilcoxon',\n",
       " 'logrank_lifelines_tarone-ware',\n",
       " 'logrank_lifelines_peto',\n",
       " 'logrank_lifelines_fleming-harrington55',\n",
       " 'logrank_lifelines_fleming-harrington11',\n",
       " 'logrank_lifelines_fleming-harrington01']"
      ]
     },
     "execution_count": 17,
     "metadata": {},
     "output_type": "execute_result"
    }
   ],
   "source": [
    "lo_stats"
   ]
  },
  {
   "cell_type": "code",
   "execution_count": 36,
   "id": "c5b755c2",
   "metadata": {},
   "outputs": [
    {
     "data": {
      "text/plain": [
       "['logrank_lifelines_None',\n",
       " 'logrank_lifelines_wilcoxon',\n",
       " 'logrank_lifelines_tarone-ware',\n",
       " 'logrank_lifelines_peto',\n",
       " 'logrank_lifelines_fleming-harrington55',\n",
       " 'logrank_lifelines_fleming-harrington11',\n",
       " 'logrank_lifelines_fleming-harrington01']"
      ]
     },
     "execution_count": 36,
     "metadata": {},
     "output_type": "execute_result"
    }
   ],
   "source": [
    "group2"
   ]
  },
  {
   "cell_type": "code",
   "execution_count": 44,
   "id": "84abbf0d",
   "metadata": {},
   "outputs": [
    {
     "name": "stderr",
     "output_type": "stream",
     "text": [
      "INFO:root:Report on the number of discoveries in every group\n"
     ]
    },
    {
     "name": "stdout",
     "output_type": "stream",
     "text": [
      "\t['hc_greater', 'hc_greater_rev']\n",
      "\t['logrank_lifelines_None', 'logrank_lifelines_wilcoxon', 'logrank_lifelines_tarone-ware', 'logrank_lifelines_peto']\n",
      "Group1:  ['hc_greater', 'hc_greater_rev']\n",
      "Group2:  ['logrank_lifelines_None', 'logrank_lifelines_wilcoxon', 'logrank_lifelines_tarone-ware', 'logrank_lifelines_peto']\n",
      "Group N:  []\n",
      "Neither:  ['fisher_greater', 'min_p_greater', 'fisher_greater_rev', 'min_p_greater_rev', 'log_rank_pval_greater', 'log_rank_pval_greater_rev', 'logrank_lifelines_fleming-harrington55', 'logrank_lifelines_fleming-harrington11', 'logrank_lifelines_fleming-harrington01', 'log_rank_greater', 'log_rank_greater_rev']\n",
      "Number of discoveries in Group1:  50\n",
      "Number of discoveries in Group2:  60\n",
      "Number of joint 1&2 discoveries:  45\n",
      "Number of unique discoveries 1:  5\n",
      "Number of unique discoveries 2:  15\n",
      "Discovered by Group1 but not Group2: (<dataset>:<factor>:<value>)\n",
      "['Z243:fac_Sex:M' 'vlbw:fac_pda:0' 'prostateSurvival:fac_ageGroup:75-79'\n",
      " 'follic:fac_ch:N' 'Unemployment:fac_reason:lose']\n",
      "\t['logrank_lifelines_None']\n",
      "\t['hc_greater', 'hc_greater_rev', 'logrank_lifelines_wilcoxon', 'logrank_lifelines_tarone-ware', 'logrank_lifelines_peto']\n",
      "Group1:  ['logrank_lifelines_None']\n",
      "Group2:  ['hc_greater', 'hc_greater_rev', 'logrank_lifelines_wilcoxon', 'logrank_lifelines_tarone-ware', 'logrank_lifelines_peto']\n",
      "Group N:  []\n",
      "Neither:  ['fisher_greater', 'min_p_greater', 'fisher_greater_rev', 'min_p_greater_rev', 'log_rank_pval_greater', 'log_rank_pval_greater_rev', 'logrank_lifelines_fleming-harrington55', 'logrank_lifelines_fleming-harrington11', 'logrank_lifelines_fleming-harrington01', 'log_rank_greater', 'log_rank_greater_rev']\n",
      "Number of discoveries in Group1:  52\n",
      "Number of discoveries in Group2:  64\n",
      "Number of joint 1&2 discoveries:  51\n",
      "Number of unique discoveries 1:  1\n",
      "Number of unique discoveries 2:  13\n",
      "Discovered by Group1 but not Group2: (<dataset>:<factor>:<value>)\n",
      "['support2:fac_sex:male']\n",
      "\t['logrank_lifelines_wilcoxon']\n",
      "\t['hc_greater', 'hc_greater_rev', 'logrank_lifelines_None', 'logrank_lifelines_tarone-ware', 'logrank_lifelines_peto']\n",
      "Group1:  ['logrank_lifelines_wilcoxon']\n",
      "Group2:  ['hc_greater', 'hc_greater_rev', 'logrank_lifelines_None', 'logrank_lifelines_tarone-ware', 'logrank_lifelines_peto']\n",
      "Group N:  []\n",
      "Neither:  ['fisher_greater', 'min_p_greater', 'fisher_greater_rev', 'min_p_greater_rev', 'log_rank_pval_greater', 'log_rank_pval_greater_rev', 'logrank_lifelines_fleming-harrington55', 'logrank_lifelines_fleming-harrington11', 'logrank_lifelines_fleming-harrington01', 'log_rank_greater', 'log_rank_greater_rev']\n",
      "Number of discoveries in Group1:  57\n",
      "Number of discoveries in Group2:  65\n",
      "Number of joint 1&2 discoveries:  57\n",
      "Number of unique discoveries 1:  0\n",
      "Number of unique discoveries 2:  8\n",
      "Discovered by Group1 but not Group2: (<dataset>:<factor>:<value>)\n",
      "[]\n",
      "\t['logrank_lifelines_wilcoxon']\n",
      "\t['hc_greater', 'hc_greater_rev', 'logrank_lifelines_None', 'logrank_lifelines_tarone-ware', 'logrank_lifelines_peto']\n",
      "Group1:  ['logrank_lifelines_wilcoxon']\n",
      "Group2:  ['hc_greater', 'hc_greater_rev', 'logrank_lifelines_None', 'logrank_lifelines_tarone-ware', 'logrank_lifelines_peto']\n",
      "Group N:  []\n",
      "Neither:  ['fisher_greater', 'min_p_greater', 'fisher_greater_rev', 'min_p_greater_rev', 'log_rank_pval_greater', 'log_rank_pval_greater_rev', 'logrank_lifelines_fleming-harrington55', 'logrank_lifelines_fleming-harrington11', 'logrank_lifelines_fleming-harrington01', 'log_rank_greater', 'log_rank_greater_rev']\n",
      "Number of discoveries in Group1:  57\n",
      "Number of discoveries in Group2:  65\n",
      "Number of joint 1&2 discoveries:  57\n",
      "Number of unique discoveries 1:  0\n",
      "Number of unique discoveries 2:  8\n",
      "Discovered by Group1 but not Group2: (<dataset>:<factor>:<value>)\n",
      "[]\n",
      "\t['logrank_lifelines_tarone-ware']\n",
      "\t['hc_greater', 'hc_greater_rev', 'logrank_lifelines_None', 'logrank_lifelines_wilcoxon', 'logrank_lifelines_peto']\n",
      "Group1:  ['logrank_lifelines_tarone-ware']\n",
      "Group2:  ['hc_greater', 'hc_greater_rev', 'logrank_lifelines_None', 'logrank_lifelines_wilcoxon', 'logrank_lifelines_peto']\n",
      "Group N:  []\n",
      "Neither:  ['fisher_greater', 'min_p_greater', 'fisher_greater_rev', 'min_p_greater_rev', 'log_rank_pval_greater', 'log_rank_pval_greater_rev', 'logrank_lifelines_fleming-harrington55', 'logrank_lifelines_fleming-harrington11', 'logrank_lifelines_fleming-harrington01', 'log_rank_greater', 'log_rank_greater_rev']\n",
      "Number of discoveries in Group1:  52\n",
      "Number of discoveries in Group2:  65\n",
      "Number of joint 1&2 discoveries:  52\n",
      "Number of unique discoveries 1:  0\n",
      "Number of unique discoveries 2:  13\n",
      "Discovered by Group1 but not Group2: (<dataset>:<factor>:<value>)\n",
      "[]\n",
      "\t['logrank_lifelines_peto']\n",
      "\t['hc_greater', 'hc_greater_rev', 'logrank_lifelines_None', 'logrank_lifelines_wilcoxon', 'logrank_lifelines_tarone-ware']\n",
      "Group1:  ['logrank_lifelines_peto']\n",
      "Group2:  ['hc_greater', 'hc_greater_rev', 'logrank_lifelines_None', 'logrank_lifelines_wilcoxon', 'logrank_lifelines_tarone-ware']\n",
      "Group N:  []\n",
      "Neither:  ['fisher_greater', 'min_p_greater', 'fisher_greater_rev', 'min_p_greater_rev', 'log_rank_pval_greater', 'log_rank_pval_greater_rev', 'logrank_lifelines_fleming-harrington55', 'logrank_lifelines_fleming-harrington11', 'logrank_lifelines_fleming-harrington01', 'log_rank_greater', 'log_rank_greater_rev']\n",
      "Number of discoveries in Group1:  55\n",
      "Number of discoveries in Group2:  65\n",
      "Number of joint 1&2 discoveries:  55\n",
      "Number of unique discoveries 1:  0\n",
      "Number of unique discoveries 2:  10\n",
      "Discovered by Group1 but not Group2: (<dataset>:<factor>:<value>)\n",
      "[]\n"
     ]
    }
   ],
   "source": [
    "logging.info(\"Report on the number of discoveries in every group\")\n",
    "\n",
    "#group1 = ['hc_greater', 'hc_greater_rev']\n",
    "for group1 in [['hc_greater', 'hc_greater_rev'], ['logrank_lifelines_None'], ['logrank_lifelines_wilcoxon'], ['logrank_lifelines_wilcoxon'],\n",
    "               ['logrank_lifelines_tarone-ware'], ['logrank_lifelines_peto']]:\n",
    "    print(f\"\\t{group1}\")    \n",
    "    to_exclude = ['fisher_greater', 'min_p_greater', 'fisher_greater_rev', 'min_p_greater_rev',\n",
    "                'log_rank_pval_greater', 'log_rank_pval_greater_rev',\n",
    "                'logrank_lifelines_fleming-harrington55',\n",
    "                'logrank_lifelines_fleming-harrington11',\n",
    "                'logrank_lifelines_fleming-harrington01',\n",
    "                'log_rank_greater', 'log_rank_greater_rev',\n",
    "                ]\n",
    "\n",
    "    group2 = [s for s in lo_stats if s not in (group1 + to_exclude)]\n",
    "    print(f\"\\t{group2}\")\n",
    "    #group2 = ['logrank_lifelines_None', 'logrank_lifelines_wilcoxon', 'logrank_lifelines_tarone-ware', 'logrank_lifelines_peto', \n",
    "            #'logrank_lifelines_fleming-harrington55', 'logrank_lifelines_fleming-harrington11', 'logrank_lifelines_fleming-harrington01'\n",
    "    #]\n",
    "    group_neutral = [s for s in lo_stats if s not in (group1 + group2 + to_exclude)]\n",
    "\n",
    "    discoveries1 = [False] * len(df_res)\n",
    "    discoveries2 = [False] * len(df_res)\n",
    "\n",
    "    for sn in group1:\n",
    "        discoveries1 = discoveries1 | discoveries[sn]\n",
    "        \n",
    "    for sn in group2:\n",
    "        discoveries2 = discoveries2 | discoveries[sn]\n",
    "\n",
    "    # for sn in group_neutral:\n",
    "    #     discoveriesN = discoveriesN | discoveries[sn]\n",
    "\n",
    "\n",
    "    print(\"Group1: \", group1)\n",
    "    print(\"Group2: \", group2)\n",
    "    print(\"Group N: \", group_neutral)\n",
    "    print(\"Neither: \", to_exclude)\n",
    "\n",
    "    print(\"Number of discoveries in Group1: \", np.sum(discoveries1))\n",
    "    print(\"Number of discoveries in Group2: \", np.sum(discoveries2))\n",
    "    print(\"Number of joint 1&2 discoveries: \", np.sum(discoveries1 & discoveries2))\n",
    "    print(\"Number of unique discoveries 1: \", np.sum(discoveries1 & ~discoveries2))\n",
    "    print(\"Number of unique discoveries 2: \", np.sum(discoveries2 & ~discoveries1))\n",
    "\n",
    "    #print(\"Number of unique discoveries 1: \", np.sum(discoveries1 & ~discoveries2 & ~discoveriesN))\n",
    "    #print(\"Number of unique discoveries 2: \", np.sum(discoveries2 & ~discoveries1 & ~discoveriesN))\n",
    "    \n",
    "    print(\"Discovered by Group1 but not Group2: (<dataset>:<factor>:<value>)\")\n",
    "    print(df_res['name'][discoveries1 & ~discoveries2].values)"
   ]
  },
  {
   "cell_type": "code",
   "execution_count": 12,
   "id": "4d958f1a",
   "metadata": {},
   "outputs": [
    {
     "ename": "TypeError",
     "evalue": "bad operand type for unary ~: 'list'",
     "output_type": "error",
     "traceback": [
      "\u001b[0;31m---------------------------------------------------------------------------\u001b[0m",
      "\u001b[0;31mTypeError\u001b[0m                                 Traceback (most recent call last)",
      "\u001b[1;32m/Users/kipnisal/survival/analyze_SurvSet.ipynb Cell 10\u001b[0m line \u001b[0;36m1\n\u001b[0;32m----> <a href='vscode-notebook-cell:/Users/kipnisal/survival/analyze_SurvSet.ipynb#X21sZmlsZQ%3D%3D?line=0'>1</a>\u001b[0m \u001b[39m~\u001b[39;49mdiscoveriesN\n",
      "\u001b[0;31mTypeError\u001b[0m: bad operand type for unary ~: 'list'"
     ]
    }
   ],
   "source": [
    "~discoveriesN"
   ]
  },
  {
   "cell_type": "code",
   "execution_count": 25,
   "id": "2c082969",
   "metadata": {},
   "outputs": [
    {
     "ename": "TypeError",
     "evalue": "list indices must be integers or slices, not str",
     "output_type": "error",
     "traceback": [
      "\u001b[0;31m---------------------------------------------------------------------------\u001b[0m",
      "\u001b[0;31mTypeError\u001b[0m                                 Traceback (most recent call last)",
      "\u001b[1;32m/Users/kipnisal/survival/analyze_SurvSet.ipynb Cell 10\u001b[0m line \u001b[0;36m1\n\u001b[0;32m----> <a href='vscode-notebook-cell:/Users/kipnisal/survival/analyze_SurvSet.ipynb#Y204sZmlsZQ%3D%3D?line=0'>1</a>\u001b[0m discoveriesN[sn]\n",
      "\u001b[0;31mTypeError\u001b[0m: list indices must be integers or slices, not str"
     ]
    }
   ],
   "source": [
    "discoveriesN[sn]"
   ]
  },
  {
   "cell_type": "code",
   "execution_count": 22,
   "id": "476a3884",
   "metadata": {},
   "outputs": [
    {
     "data": {
      "text/plain": [
       "['log_rank_pval_greater',\n",
       " 'log_rank_pval_greater_rev',\n",
       " 'logrank_lifelines_None',\n",
       " 'logrank_lifelines_wilcoxon',\n",
       " 'logrank_lifelines_tarone-ware',\n",
       " 'logrank_lifelines_peto',\n",
       " 'logrank_lifelines_fleming-harrington55',\n",
       " 'logrank_lifelines_fleming-harrington11',\n",
       " 'logrank_lifelines_fleming-harrington01']"
      ]
     },
     "execution_count": 22,
     "metadata": {},
     "output_type": "execute_result"
    }
   ],
   "source": [
    "group_neutral"
   ]
  },
  {
   "cell_type": "code",
   "execution_count": null,
   "id": "8688b8f5",
   "metadata": {},
   "outputs": [],
   "source": []
  },
  {
   "cell_type": "code",
   "execution_count": 314,
   "id": "4ac0c40c",
   "metadata": {},
   "outputs": [
    {
     "name": "stdout",
     "output_type": "stream",
     "text": [
      "{'hc': -0.2664382000044443, 'fisher': 196.82889353541572, 'fisher_pval': 0.9808630532642668, 'minP': 0.011233591670114524}\n",
      "0       True\n",
      "1       True\n",
      "2      False\n",
      "3      False\n",
      "4       True\n",
      "       ...  \n",
      "115    False\n",
      "116    False\n",
      "117    False\n",
      "118    False\n",
      "119    False\n",
      "Name: HCT, Length: 120, dtype: bool\n"
     ]
    },
    {
     "ename": "ValueError",
     "evalue": "shape mismatch: objects cannot be broadcast to a single shape.  Mismatch is between arg 0 with shape (4,) and arg 1 with shape (120,).",
     "output_type": "error",
     "traceback": [
      "\u001b[0;31m---------------------------------------------------------------------------\u001b[0m",
      "\u001b[0;31mValueError\u001b[0m                                Traceback (most recent call last)",
      "\u001b[1;32m/Users/kipnisal/survival/analyze_SurvSet.ipynb Cell 9\u001b[0m line \u001b[0;36m1\n\u001b[0;32m----> <a href='vscode-notebook-cell:/Users/kipnisal/survival/analyze_SurvSet.ipynb#X60sZmlsZQ%3D%3D?line=0'>1</a>\u001b[0m dfp_HCT, dfp \u001b[39m=\u001b[39m illustrate_survival_curve_time2event(df, flip_sides\u001b[39m=\u001b[39;49m\u001b[39mTrue\u001b[39;49;00m, show_stats_in_title\u001b[39m=\u001b[39;49m\u001b[39mTrue\u001b[39;49;00m)\n\u001b[1;32m      <a href='vscode-notebook-cell:/Users/kipnisal/survival/analyze_SurvSet.ipynb#X60sZmlsZQ%3D%3D?line=1'>2</a>\u001b[0m plt\u001b[39m.\u001b[39mshow()\n\u001b[1;32m      <a href='vscode-notebook-cell:/Users/kipnisal/survival/analyze_SurvSet.ipynb#X60sZmlsZQ%3D%3D?line=2'>3</a>\u001b[0m \u001b[39mprint\u001b[39m(\u001b[39mlen\u001b[39m(dfp_HCT))\n",
      "\u001b[1;32m/Users/kipnisal/survival/analyze_SurvSet.ipynb Cell 9\u001b[0m line \u001b[0;36m3\n\u001b[1;32m     <a href='vscode-notebook-cell:/Users/kipnisal/survival/analyze_SurvSet.ipynb#X60sZmlsZQ%3D%3D?line=32'>33</a>\u001b[0m \u001b[39mif\u001b[39;00m show_HCT:\n\u001b[1;32m     <a href='vscode-notebook-cell:/Users/kipnisal/survival/analyze_SurvSet.ipynb#X60sZmlsZQ%3D%3D?line=33'>34</a>\u001b[0m     \u001b[39mprint\u001b[39m(dfg\u001b[39m.\u001b[39mHCT)\n\u001b[0;32m---> <a href='vscode-notebook-cell:/Users/kipnisal/survival/analyze_SurvSet.ipynb#X60sZmlsZQ%3D%3D?line=34'>35</a>\u001b[0m     plt\u001b[39m.\u001b[39;49mbar(dfg\u001b[39m.\u001b[39;49mindex[:\u001b[39mlen\u001b[39;49m(df_disp)], dfg\u001b[39m.\u001b[39;49mHCT, color\u001b[39m=\u001b[39;49m\u001b[39m'\u001b[39;49m\u001b[39mk\u001b[39;49m\u001b[39m'\u001b[39;49m, alpha\u001b[39m=\u001b[39;49m\u001b[39m.2\u001b[39;49m, width\u001b[39m=\u001b[39;49m\u001b[39m.5\u001b[39;49m)\n\u001b[1;32m     <a href='vscode-notebook-cell:/Users/kipnisal/survival/analyze_SurvSet.ipynb#X60sZmlsZQ%3D%3D?line=36'>37</a>\u001b[0m \u001b[39mif\u001b[39;00m show_stats_in_title:\n\u001b[1;32m     <a href='vscode-notebook-cell:/Users/kipnisal/survival/analyze_SurvSet.ipynb#X60sZmlsZQ%3D%3D?line=37'>38</a>\u001b[0m     stats_str \u001b[39m=\u001b[39m \u001b[39mf\u001b[39m\u001b[39m\"\u001b[39m\u001b[39mHC=\u001b[39m\u001b[39m{\u001b[39;00mnp\u001b[39m.\u001b[39mround(stats[\u001b[39m'\u001b[39m\u001b[39mhc_greater\u001b[39m\u001b[39m'\u001b[39m],\u001b[39m2\u001b[39m)\u001b[39m}\u001b[39;00m\u001b[39m, Log-rank=\u001b[39m\u001b[39m{\u001b[39;00mnp\u001b[39m.\u001b[39mround(stats[\u001b[39m'\u001b[39m\u001b[39mlog_rank_greater\u001b[39m\u001b[39m'\u001b[39m],\u001b[39m2\u001b[39m)\u001b[39m}\u001b[39;00m\u001b[39m\"\u001b[39m\n",
      "File \u001b[0;32m~/survival/env/lib/python3.8/site-packages/matplotlib/pyplot.py:2439\u001b[0m, in \u001b[0;36mbar\u001b[0;34m(x, height, width, bottom, align, data, **kwargs)\u001b[0m\n\u001b[1;32m   2435\u001b[0m \u001b[39m@_copy_docstring_and_deprecators\u001b[39m(Axes\u001b[39m.\u001b[39mbar)\n\u001b[1;32m   2436\u001b[0m \u001b[39mdef\u001b[39;00m \u001b[39mbar\u001b[39m(\n\u001b[1;32m   2437\u001b[0m         x, height, width\u001b[39m=\u001b[39m\u001b[39m0.8\u001b[39m, bottom\u001b[39m=\u001b[39m\u001b[39mNone\u001b[39;00m, \u001b[39m*\u001b[39m, align\u001b[39m=\u001b[39m\u001b[39m'\u001b[39m\u001b[39mcenter\u001b[39m\u001b[39m'\u001b[39m,\n\u001b[1;32m   2438\u001b[0m         data\u001b[39m=\u001b[39m\u001b[39mNone\u001b[39;00m, \u001b[39m*\u001b[39m\u001b[39m*\u001b[39mkwargs):\n\u001b[0;32m-> 2439\u001b[0m     \u001b[39mreturn\u001b[39;00m gca()\u001b[39m.\u001b[39;49mbar(\n\u001b[1;32m   2440\u001b[0m         x, height, width\u001b[39m=\u001b[39;49mwidth, bottom\u001b[39m=\u001b[39;49mbottom, align\u001b[39m=\u001b[39;49malign,\n\u001b[1;32m   2441\u001b[0m         \u001b[39m*\u001b[39;49m\u001b[39m*\u001b[39;49m({\u001b[39m\"\u001b[39;49m\u001b[39mdata\u001b[39;49m\u001b[39m\"\u001b[39;49m: data} \u001b[39mif\u001b[39;49;00m data \u001b[39mis\u001b[39;49;00m \u001b[39mnot\u001b[39;49;00m \u001b[39mNone\u001b[39;49;00m \u001b[39melse\u001b[39;49;00m {}), \u001b[39m*\u001b[39;49m\u001b[39m*\u001b[39;49mkwargs)\n",
      "File \u001b[0;32m~/survival/env/lib/python3.8/site-packages/matplotlib/__init__.py:1442\u001b[0m, in \u001b[0;36m_preprocess_data.<locals>.inner\u001b[0;34m(ax, data, *args, **kwargs)\u001b[0m\n\u001b[1;32m   1439\u001b[0m \u001b[39m@functools\u001b[39m\u001b[39m.\u001b[39mwraps(func)\n\u001b[1;32m   1440\u001b[0m \u001b[39mdef\u001b[39;00m \u001b[39minner\u001b[39m(ax, \u001b[39m*\u001b[39margs, data\u001b[39m=\u001b[39m\u001b[39mNone\u001b[39;00m, \u001b[39m*\u001b[39m\u001b[39m*\u001b[39mkwargs):\n\u001b[1;32m   1441\u001b[0m     \u001b[39mif\u001b[39;00m data \u001b[39mis\u001b[39;00m \u001b[39mNone\u001b[39;00m:\n\u001b[0;32m-> 1442\u001b[0m         \u001b[39mreturn\u001b[39;00m func(ax, \u001b[39m*\u001b[39;49m\u001b[39mmap\u001b[39;49m(sanitize_sequence, args), \u001b[39m*\u001b[39;49m\u001b[39m*\u001b[39;49mkwargs)\n\u001b[1;32m   1444\u001b[0m     bound \u001b[39m=\u001b[39m new_sig\u001b[39m.\u001b[39mbind(ax, \u001b[39m*\u001b[39margs, \u001b[39m*\u001b[39m\u001b[39m*\u001b[39mkwargs)\n\u001b[1;32m   1445\u001b[0m     auto_label \u001b[39m=\u001b[39m (bound\u001b[39m.\u001b[39marguments\u001b[39m.\u001b[39mget(label_namer)\n\u001b[1;32m   1446\u001b[0m                   \u001b[39mor\u001b[39;00m bound\u001b[39m.\u001b[39mkwargs\u001b[39m.\u001b[39mget(label_namer))\n",
      "File \u001b[0;32m~/survival/env/lib/python3.8/site-packages/matplotlib/axes/_axes.py:2417\u001b[0m, in \u001b[0;36mAxes.bar\u001b[0;34m(self, x, height, width, bottom, align, **kwargs)\u001b[0m\n\u001b[1;32m   2414\u001b[0m     \u001b[39mif\u001b[39;00m yerr \u001b[39mis\u001b[39;00m \u001b[39mnot\u001b[39;00m \u001b[39mNone\u001b[39;00m:\n\u001b[1;32m   2415\u001b[0m         yerr \u001b[39m=\u001b[39m \u001b[39mself\u001b[39m\u001b[39m.\u001b[39m_convert_dx(yerr, y0, y, \u001b[39mself\u001b[39m\u001b[39m.\u001b[39mconvert_yunits)\n\u001b[0;32m-> 2417\u001b[0m x, height, width, y, linewidth, hatch \u001b[39m=\u001b[39m np\u001b[39m.\u001b[39;49mbroadcast_arrays(\n\u001b[1;32m   2418\u001b[0m     \u001b[39m# Make args iterable too.\u001b[39;49;00m\n\u001b[1;32m   2419\u001b[0m     np\u001b[39m.\u001b[39;49matleast_1d(x), height, width, y, linewidth, hatch)\n\u001b[1;32m   2421\u001b[0m \u001b[39m# Now that units have been converted, set the tick locations.\u001b[39;00m\n\u001b[1;32m   2422\u001b[0m \u001b[39mif\u001b[39;00m orientation \u001b[39m==\u001b[39m \u001b[39m'\u001b[39m\u001b[39mvertical\u001b[39m\u001b[39m'\u001b[39m:\n",
      "File \u001b[0;32m<__array_function__ internals>:200\u001b[0m, in \u001b[0;36mbroadcast_arrays\u001b[0;34m(*args, **kwargs)\u001b[0m\n",
      "File \u001b[0;32m~/survival/env/lib/python3.8/site-packages/numpy/lib/stride_tricks.py:540\u001b[0m, in \u001b[0;36mbroadcast_arrays\u001b[0;34m(subok, *args)\u001b[0m\n\u001b[1;32m    533\u001b[0m \u001b[39m# nditer is not used here to avoid the limit of 32 arrays.\u001b[39;00m\n\u001b[1;32m    534\u001b[0m \u001b[39m# Otherwise, something like the following one-liner would suffice:\u001b[39;00m\n\u001b[1;32m    535\u001b[0m \u001b[39m# return np.nditer(args, flags=['multi_index', 'zerosize_ok'],\u001b[39;00m\n\u001b[1;32m    536\u001b[0m \u001b[39m#                  order='C').itviews\u001b[39;00m\n\u001b[1;32m    538\u001b[0m args \u001b[39m=\u001b[39m [np\u001b[39m.\u001b[39marray(_m, copy\u001b[39m=\u001b[39m\u001b[39mFalse\u001b[39;00m, subok\u001b[39m=\u001b[39msubok) \u001b[39mfor\u001b[39;00m _m \u001b[39min\u001b[39;00m args]\n\u001b[0;32m--> 540\u001b[0m shape \u001b[39m=\u001b[39m _broadcast_shape(\u001b[39m*\u001b[39;49margs)\n\u001b[1;32m    542\u001b[0m \u001b[39mif\u001b[39;00m \u001b[39mall\u001b[39m(array\u001b[39m.\u001b[39mshape \u001b[39m==\u001b[39m shape \u001b[39mfor\u001b[39;00m array \u001b[39min\u001b[39;00m args):\n\u001b[1;32m    543\u001b[0m     \u001b[39m# Common case where nothing needs to be broadcasted.\u001b[39;00m\n\u001b[1;32m    544\u001b[0m     \u001b[39mreturn\u001b[39;00m args\n",
      "File \u001b[0;32m~/survival/env/lib/python3.8/site-packages/numpy/lib/stride_tricks.py:422\u001b[0m, in \u001b[0;36m_broadcast_shape\u001b[0;34m(*args)\u001b[0m\n\u001b[1;32m    417\u001b[0m \u001b[39m\u001b[39m\u001b[39m\"\"\"Returns the shape of the arrays that would result from broadcasting the\u001b[39;00m\n\u001b[1;32m    418\u001b[0m \u001b[39msupplied arrays against each other.\u001b[39;00m\n\u001b[1;32m    419\u001b[0m \u001b[39m\"\"\"\u001b[39;00m\n\u001b[1;32m    420\u001b[0m \u001b[39m# use the old-iterator because np.nditer does not handle size 0 arrays\u001b[39;00m\n\u001b[1;32m    421\u001b[0m \u001b[39m# consistently\u001b[39;00m\n\u001b[0;32m--> 422\u001b[0m b \u001b[39m=\u001b[39m np\u001b[39m.\u001b[39;49mbroadcast(\u001b[39m*\u001b[39;49margs[:\u001b[39m32\u001b[39;49m])\n\u001b[1;32m    423\u001b[0m \u001b[39m# unfortunately, it cannot handle 32 or more arguments directly\u001b[39;00m\n\u001b[1;32m    424\u001b[0m \u001b[39mfor\u001b[39;00m pos \u001b[39min\u001b[39;00m \u001b[39mrange\u001b[39m(\u001b[39m32\u001b[39m, \u001b[39mlen\u001b[39m(args), \u001b[39m31\u001b[39m):\n\u001b[1;32m    425\u001b[0m     \u001b[39m# ironically, np.broadcast does not properly handle np.broadcast\u001b[39;00m\n\u001b[1;32m    426\u001b[0m     \u001b[39m# objects (it treats them as scalars)\u001b[39;00m\n\u001b[1;32m    427\u001b[0m     \u001b[39m# use broadcasting to avoid allocating the full array\u001b[39;00m\n",
      "\u001b[0;31mValueError\u001b[0m: shape mismatch: objects cannot be broadcast to a single shape.  Mismatch is between arg 0 with shape (4,) and arg 1 with shape (120,)."
     ]
    },
    {
     "data": {
      "image/png": "[encoded data removed]",
      "text/plain": [
       "<Figure size 1200x600 with 1 Axes>"
      ]
     },
     "metadata": {},
     "output_type": "display_data"
    }
   ],
   "source": [
    "dfp_HCT, dfp = illustrate_survival_curve_time2event(df, flip_sides=True, show_stats_in_title=True)\n",
    "plt.show()\n",
    "print(len(dfp_HCT))\n"
   ]
  },
  {
   "cell_type": "markdown",
   "id": "0ed332e8",
   "metadata": {},
   "source": [
    "HERE!! understand why disagreement between methods on Nt1 and Nt2"
   ]
  }
 ],
 "metadata": {
  "kernelspec": {
   "display_name": "Python 3",
   "language": "python",
   "name": "python3"
  },
  "language_info": {
   "codemirror_mode": {
    "name": "ipython",
    "version": 3
   },
   "file_extension": ".py",
   "mimetype": "text/x-python",
   "name": "python",
   "nbconvert_exporter": "python",
   "pygments_lexer": "ipython3",
   "version": "3.8.5"
  }
 },
 "nbformat": 4,
 "nbformat_minor": 5
}
