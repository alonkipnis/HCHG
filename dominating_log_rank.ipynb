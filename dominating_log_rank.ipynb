{
 "cells": [
  {
   "cell_type": "code",
   "execution_count": 1,
   "id": "c7a874b9",
   "metadata": {},
   "outputs": [],
   "source": [
    "# !pip3 install two-sample-binomial\n",
    "# !pip3 install multiple-hypothesis-testing\n",
    "\n",
    "from twosample import binom_test_two_sided\n",
    "from multitest import MultiTest\n",
    "import seaborn\n",
    "\n",
    "import numpy as np\n",
    "import scipy\n",
    "\n",
    "import matplotlib.pyplot as plt\n",
    "import matplotlib as mpl\n",
    "plt.rcParams['figure.figsize'] =  [8, 6]\n",
    "mpl.style.use('ggplot')\n",
    "%matplotlib inline\n",
    "from tqdm import tqdm\n",
    "\n",
    "from scipy.stats import poisson, binom, norm, hypergeom, uniform\n",
    "\n",
    "import pandas as pd\n",
    "\n",
    "from phase_transition_experiment.sample_survival_poisson import sample_survival_poisson\n",
    "from survival import evaluate_test_stats\n",
    "#from phase_transition_experiment.run_experiment import evaluate_test_stats"
   ]
  },
  {
   "cell_type": "code",
   "execution_count": 2,
   "id": "87a46204",
   "metadata": {},
   "outputs": [
    {
     "data": {
      "text/plain": [
       "{'log_rank_greater': 0.9117832601143137,\n",
       " 'log_rank_pval_greater': 0.18094141209851966,\n",
       " 'hc_greater': 17.46837998479078,\n",
       " 'fisher_greater': 1545.470898662807,\n",
       " 'fisher_pval_greater': 0.9999999999999936,\n",
       " 'min_p_greater': 12.632054592546213,\n",
       " 'berk_jones_greater': 46.051701859880914,\n",
       " 'wilcoxon_greater': 1.1068216695139017,\n",
       " 'log_rank_less': 0.9117832601143137,\n",
       " 'log_rank_pval_less': 0.8190585879014803,\n",
       " 'hc_less': -1.3736420819572581,\n",
       " 'fisher_less': 1473.9985268185844,\n",
       " 'fisher_pval_less': 1.0,\n",
       " 'min_p_less': 5.615085964896305,\n",
       " 'berk_jones_less': 46.051701859880914,\n",
       " 'wilcoxon_less': 0.40138555287086697}"
      ]
     },
     "execution_count": 2,
     "metadata": {},
     "output_type": "execute_result"
    }
   ],
   "source": [
    "# single experiment non-null\n",
    "\n",
    "T = 1000\n",
    "N1 = N2 = 10000\n",
    "beta = .7         # sparsity parameter\n",
    "eps = np.round(T ** -beta,4)   # sparsity rate\n",
    "r = .5\n",
    "N0 = 2 * N1 * N2 / (N1 + N2)\n",
    "\n",
    "lam0 = np.ones(T) / T\n",
    "Nt1, Nt2 = sample_survival_poisson(T, N1, N2, lam0, eps, r)\n",
    "\n",
    "Ot1 = -np.diff(Nt1)\n",
    "Ot2 = -np.diff(Nt2)\n",
    "res = evaluate_test_stats(Nt1[:-1], Nt2[:-1], Ot1, Ot2)\n",
    "res"
   ]
  },
  {
   "cell_type": "code",
   "execution_count": 108,
   "id": "04db5bdc",
   "metadata": {},
   "outputs": [],
   "source": [
    "def sample_survival_cox(T, N1, N2, lam0, gamma):\n",
    "    Nt1 = np.zeros(T + 1)\n",
    "    Nt2 = np.zeros(T + 1)\n",
    "\n",
    "    lam1 = lam0 * np.ones(T)  # `base` Poisson rates (does not have to be fixed)\n",
    "    lam2 = lam1.copy()\n",
    "    tt = np.arange(T)\n",
    "    lam2 = lam0 + gamma\n",
    "\n",
    "    Nt1[0] = N1\n",
    "    Nt2[0] = N2\n",
    "\n",
    "    for t in np.arange(T):\n",
    "        O1 = poisson.rvs(Nt1[t] * lam1[t] * (Nt1[t] > 0))\n",
    "        O2 = poisson.rvs(Nt2[t] * lam2[t] * (Nt2[t] > 0))\n",
    "\n",
    "        Nt1[t + 1] = np.maximum(Nt1[t] - O1, 0)\n",
    "        Nt2[t + 1] = np.maximum(Nt2[t] - O2, 0)\n",
    "    return Nt1, Nt2\n"
   ]
  },
  {
   "cell_type": "code",
   "execution_count": 169,
   "id": "e57e9b59",
   "metadata": {},
   "outputs": [
    {
     "name": "stderr",
     "output_type": "stream",
     "text": [
      "100%|██████████| 10000/10000 [16:24<00:00, 10.16it/s]\n"
     ]
    }
   ],
   "source": [
    "df0 = pd.DataFrame()\n",
    "T = 1000\n",
    "N1 = 5000\n",
    "N2 = 5000\n",
    "gamma = 0\n",
    "\n",
    "nMonte = 10000\n",
    "for i in tqdm(range(nMonte)):\n",
    "    Nt1, Nt2 = sample_survival_cox(T, N1, N2, lam0, gamma)\n",
    "    Ot1 = -np.diff(Nt1)\n",
    "    Ot2 = -np.diff(Nt2)\n",
    "    res = evaluate_test_stats(Nt1[:-1], Nt2[:-1], Ot1, Ot2, randomize=False)\n",
    "    df0 = df0.append(res, ignore_index=True)\n",
    "df0.to_csv(f\"null_T{T}_N{N1}_M{nMonte}_randomized.csv\")"
   ]
  },
  {
   "cell_type": "code",
   "execution_count": 170,
   "id": "f2fccb81",
   "metadata": {},
   "outputs": [],
   "source": [
    "randomize = False\n",
    "df0.to_csv(f\"null_T{T}_N{N1}_M{nMonte}_rnd{randomize}.csv\")"
   ]
  },
  {
   "cell_type": "code",
   "execution_count": 171,
   "id": "e624d76d",
   "metadata": {},
   "outputs": [
    {
     "data": {
      "text/html": [
       "<div>\n",
       "<style scoped>\n",
       "    .dataframe tbody tr th:only-of-type {\n",
       "        vertical-align: middle;\n",
       "    }\n",
       "\n",
       "    .dataframe tbody tr th {\n",
       "        vertical-align: top;\n",
       "    }\n",
       "\n",
       "    .dataframe thead th {\n",
       "        text-align: right;\n",
       "    }\n",
       "</style>\n",
       "<table border=\"1\" class=\"dataframe\">\n",
       "  <thead>\n",
       "    <tr style=\"text-align: right;\">\n",
       "      <th></th>\n",
       "      <th>log_rank_greater</th>\n",
       "      <th>log_rank_pval_greater</th>\n",
       "      <th>fisher_greater</th>\n",
       "      <th>fisher_pval_greater</th>\n",
       "    </tr>\n",
       "  </thead>\n",
       "  <tbody>\n",
       "    <tr>\n",
       "      <th>q95</th>\n",
       "      <td>1.624346</td>\n",
       "      <td>0.948567</td>\n",
       "      <td>1398.319228</td>\n",
       "      <td>1.0</td>\n",
       "    </tr>\n",
       "  </tbody>\n",
       "</table>\n",
       "</div>"
      ],
      "text/plain": [
       "     log_rank_greater  log_rank_pval_greater  fisher_greater  \\\n",
       "q95          1.624346               0.948567     1398.319228   \n",
       "\n",
       "     fisher_pval_greater  \n",
       "q95                  1.0  "
      ]
     },
     "execution_count": 171,
     "metadata": {},
     "output_type": "execute_result"
    }
   ],
   "source": [
    "from survival import q95\n",
    "df0.agg([q95])[['log_rank_greater', 'log_rank_pval_greater', 'fisher_greater', 'fisher_pval_greater']]"
   ]
  },
  {
   "cell_type": "code",
   "execution_count": 221,
   "id": "100fcab2",
   "metadata": {},
   "outputs": [
    {
     "name": "stderr",
     "output_type": "stream",
     "text": [
      "100%|██████████| 500/500 [00:49<00:00, 10.10it/s]\n"
     ]
    }
   ],
   "source": [
    "df = pd.DataFrame()\n",
    "T = 1000\n",
    "N1 = 5000\n",
    "N2 = 5000\n",
    "\n",
    "gamma = lam0 * 0.01\n",
    "nMonte = 500\n",
    "\n",
    "for i in tqdm(range(nMonte)):\n",
    "    Nt1, Nt2 = sample_survival_cox(T, N1, N2, lam0, gamma)\n",
    "    Ot1 = -np.diff(Nt1)\n",
    "    Ot2 = -np.diff(Nt2)\n",
    "    res = evaluate_test_stats(Nt1[:-1], Nt2[:-1], Ot1, Ot2, randomize=False)\n",
    "    df = df.append(res, ignore_index=True)"
   ]
  },
  {
   "cell_type": "code",
   "execution_count": 173,
   "id": "006e6bf1",
   "metadata": {},
   "outputs": [
    {
     "name": "stdout",
     "output_type": "stream",
     "text": [
      "Level fisher_greater =  0.05\n",
      "Acc fisher_greater =  0.108\n",
      "Level log_rank_greater =  0.05\n",
      "Acc log_rank_greater =  0.122\n"
     ]
    }
   ],
   "source": [
    "for stat_name in ['fisher_greater', 'log_rank_greater']:\n",
    "    crit_val = df0.agg([q95])[stat_name].values[0]\n",
    "    level = np.mean(df0[stat_name] > crit_val)\n",
    "    acc = np.mean(df[stat_name] > crit_val)\n",
    "    print(f\"Level {stat_name} = \", level)\n",
    "    print(f\"Acc {stat_name} = \", acc)"
   ]
  },
  {
   "cell_type": "code",
   "execution_count": 204,
   "id": "64061250",
   "metadata": {},
   "outputs": [
    {
     "data": {
      "text/plain": [
       "84"
      ]
     },
     "execution_count": 204,
     "metadata": {},
     "output_type": "execute_result"
    }
   ],
   "source": [
    "# num of failures until getting N1 successes; prob of success is p\n",
    "N1 = 100\n",
    "N2 = 100\n"
   ]
  },
  {
   "cell_type": "code",
   "execution_count": null,
   "id": "eb57b38f",
   "metadata": {},
   "outputs": [],
   "source": []
  },
  {
   "cell_type": "code",
   "execution_count": 163,
   "id": "adda50da",
   "metadata": {},
   "outputs": [
    {
     "data": {
      "text/plain": [
       "0      1527.572203\n",
       "1      1542.415456\n",
       "2      1578.193167\n",
       "3      1526.327266\n",
       "4      1566.903951\n",
       "          ...     \n",
       "495    1545.840177\n",
       "496    1495.603350\n",
       "497    1611.265302\n",
       "498    1503.560472\n",
       "499    1468.022453\n",
       "Name: fisher_greater, Length: 500, dtype: float64"
      ]
     },
     "execution_count": 163,
     "metadata": {},
     "output_type": "execute_result"
    }
   ],
   "source": [
    "df[stat_name]"
   ]
  },
  {
   "cell_type": "code",
   "execution_count": 145,
   "id": "49ed9ebe",
   "metadata": {},
   "outputs": [
    {
     "data": {
      "text/plain": [
       "0       True\n",
       "1      False\n",
       "2      False\n",
       "3      False\n",
       "4       True\n",
       "       ...  \n",
       "495    False\n",
       "496    False\n",
       "497     True\n",
       "498     True\n",
       "499    False\n",
       "Name: log_rank_greater, Length: 500, dtype: bool"
      ]
     },
     "execution_count": 145,
     "metadata": {},
     "output_type": "execute_result"
    }
   ],
   "source": [
    "df[stat_name] > 1.642"
   ]
  },
  {
   "cell_type": "code",
   "execution_count": 81,
   "id": "16e4ef8b",
   "metadata": {},
   "outputs": [
    {
     "data": {
      "text/plain": [
       "(1977.5239247906038, 0.6353913610507772)"
      ]
     },
     "execution_count": 81,
     "metadata": {},
     "output_type": "execute_result"
    }
   ],
   "source": [
    "from survival import multi_pvals\n",
    "gamma = 0\n",
    "Nt1, Nt2 = sample_survival_cox(T, N1, N2, gamma)\n",
    "Ot1 = -np.diff(Nt1)\n",
    "Ot2 = -np.diff(Nt2)\n",
    "\n",
    "pvals = multi_pvals(Nt1[:-1], Nt2[:-1], Ot1, Ot2, alternative='greater', randomize=True)\n",
    "pvals = pvals[pvals < 1]\n",
    "mt = MultiTest(pvals, stbl=False)\n",
    "\n",
    "fisher = mt.fisher()\n",
    "fisher"
   ]
  },
  {
   "cell_type": "code",
   "execution_count": 51,
   "id": "91ae82d0",
   "metadata": {},
   "outputs": [
    {
     "data": {
      "text/plain": [
       "471"
      ]
     },
     "execution_count": 51,
     "metadata": {},
     "output_type": "execute_result"
    }
   ],
   "source": [
    "len(pvals)"
   ]
  },
  {
   "cell_type": "code",
   "execution_count": 56,
   "id": "048d6d51",
   "metadata": {},
   "outputs": [
    {
     "data": {
      "text/plain": [
       "(array([ 13.,  49.,   9.,   0., 225.,   2.,  46.,  82.,  40., 534.]),\n",
       " array([0.10640436, 0.19576393, 0.28512349, 0.37448305, 0.46384262,\n",
       "        0.55320218, 0.64256174, 0.73192131, 0.82128087, 0.91064044,\n",
       "        1.        ]),\n",
       " <BarContainer object of 10 artists>)"
      ]
     },
     "execution_count": 56,
     "metadata": {},
     "output_type": "execute_result"
    },
    {
     "data": {
      "image/png": "[encoded data removed]",
      "text/plain": [
       "<Figure size 576x432 with 1 Axes>"
      ]
     },
     "metadata": {},
     "output_type": "display_data"
    }
   ],
   "source": [
    "plt.hist(multi_pvals(Nt1[:-1], Nt2[:-1], Ot1, Ot2, alternative='greater'))"
   ]
  },
  {
   "cell_type": "code",
   "execution_count": null,
   "id": "e83a7b4b",
   "metadata": {},
   "outputs": [],
   "source": []
  }
 ],
 "metadata": {
  "kernelspec": {
   "display_name": "Python 3",
   "language": "python",
   "name": "python3"
  },
  "language_info": {
   "codemirror_mode": {
    "name": "ipython",
    "version": 3
   },
   "file_extension": ".py",
   "mimetype": "text/x-python",
   "name": "python",
   "nbconvert_exporter": "python",
   "pygments_lexer": "ipython3",
   "version": "3.8.5"
  }
 },
 "nbformat": 4,
 "nbformat_minor": 5
}
