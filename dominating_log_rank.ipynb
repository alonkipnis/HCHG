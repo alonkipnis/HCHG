{
 "cells": [
  {
   "cell_type": "code",
   "execution_count": 1,
   "id": "a87f05d6",
   "metadata": {},
   "outputs": [],
   "source": [
    "# !pip3 install two-sample-binomial\n",
    "# !pip3 install multiple-hypothesis-testing\n",
    "\n",
    "from twosample import binom_test_two_sided\n",
    "from multitest import MultiTest\n",
    "import seaborn\n",
    "\n",
    "import numpy as np\n",
    "import scipy\n",
    "\n",
    "import matplotlib.pyplot as plt\n",
    "import matplotlib as mpl\n",
    "plt.rcParams['figure.figsize'] =  [8, 6]\n",
    "mpl.style.use('ggplot')\n",
    "%matplotlib inline\n",
    "from tqdm import tqdm\n",
    "\n",
    "from scipy.stats import poisson, binom, norm, hypergeom, uniform\n",
    "\n",
    "import pandas as pd\n",
    "\n",
    "from phase_transition_experiment.sample_survival_poisson import sample_survival_poisson\n",
    "from survival import evaluate_test_stats\n",
    "#from phase_transition_experiment.run_experiment import evaluate_test_stats"
   ]
  },
  {
   "cell_type": "code",
   "execution_count": 2,
   "id": "a129d917",
   "metadata": {},
   "outputs": [
    {
     "data": {
      "text/plain": [
       "{'log_rank_greater': 0.9117832601143137,\n",
       " 'log_rank_pval_greater': 0.18094141209851966,\n",
       " 'hc_greater': 17.46837998479078,\n",
       " 'fisher_greater': 1545.470898662807,\n",
       " 'fisher_pval_greater': 0.9999999999999936,\n",
       " 'min_p_greater': 12.632054592546213,\n",
       " 'berk_jones_greater': 46.051701859880914,\n",
       " 'wilcoxon_greater': 1.1068216695139017,\n",
       " 'log_rank_less': 0.9117832601143137,\n",
       " 'log_rank_pval_less': 0.8190585879014803,\n",
       " 'hc_less': -1.3736420819572581,\n",
       " 'fisher_less': 1473.9985268185844,\n",
       " 'fisher_pval_less': 1.0,\n",
       " 'min_p_less': 5.615085964896305,\n",
       " 'berk_jones_less': 46.051701859880914,\n",
       " 'wilcoxon_less': 0.40138555287086697}"
      ]
     },
     "execution_count": 2,
     "metadata": {},
     "output_type": "execute_result"
    }
   ],
   "source": [
    "# single experiment non-null\n",
    "\n",
    "T = 1000\n",
    "N1 = N2 = 10000\n",
    "beta = .7         # sparsity parameter\n",
    "eps = np.round(T ** -beta,4)   # sparsity rate\n",
    "r = .5\n",
    "N0 = 2 * N1 * N2 / (N1 + N2)\n",
    "\n",
    "lam0 = np.ones(T) / T\n",
    "Nt1, Nt2 = sample_survival_poisson(T, N1, N2, lam0, eps, r)\n",
    "\n",
    "Ot1 = -np.diff(Nt1)\n",
    "Ot2 = -np.diff(Nt2)\n",
    "res = evaluate_test_stats(Nt1[:-1], Nt2[:-1], Ot1, Ot2)\n",
    "res"
   ]
  },
  {
   "cell_type": "code",
   "execution_count": 108,
   "id": "fa6d110b",
   "metadata": {},
   "outputs": [],
   "source": [
    "def sample_survival_cox(T, N1, N2, lam0, gamma):\n",
    "    Nt1 = np.zeros(T + 1)\n",
    "    Nt2 = np.zeros(T + 1)\n",
    "\n",
    "    lam1 = lam0 * np.ones(T)  # `base` Poisson rates (does not have to be fixed)\n",
    "    lam2 = lam1.copy()\n",
    "    tt = np.arange(T)\n",
    "    lam2 = lam0 + gamma\n",
    "\n",
    "    Nt1[0] = N1\n",
    "    Nt2[0] = N2\n",
    "\n",
    "    for t in np.arange(T):\n",
    "        O1 = poisson.rvs(Nt1[t] * lam1[t] * (Nt1[t] > 0))\n",
    "        O2 = poisson.rvs(Nt2[t] * lam2[t] * (Nt2[t] > 0))\n",
    "\n",
    "        Nt1[t + 1] = np.maximum(Nt1[t] - O1, 0)\n",
    "        Nt2[t + 1] = np.maximum(Nt2[t] - O2, 0)\n",
    "    return Nt1, Nt2\n"
   ]
  },
  {
   "cell_type": "code",
   "execution_count": 169,
   "id": "3cb507d6",
   "metadata": {},
   "outputs": [
    {
     "name": "stderr",
     "output_type": "stream",
     "text": [
      "100%|██████████| 10000/10000 [16:24<00:00, 10.16it/s]\n"
     ]
    }
   ],
   "source": [
    "df0 = pd.DataFrame()\n",
    "T = 1000\n",
    "N1 = 5000\n",
    "N2 = 5000\n",
    "gamma = 0\n",
    "\n",
    "nMonte = 10000\n",
    "for i in tqdm(range(nMonte)):\n",
    "    Nt1, Nt2 = sample_survival_cox(T, N1, N2, lam0, gamma)\n",
    "    Ot1 = -np.diff(Nt1)\n",
    "    Ot2 = -np.diff(Nt2)\n",
    "    res = evaluate_test_stats(Nt1[:-1], Nt2[:-1], Ot1, Ot2, randomize=False)\n",
    "    df0 = df0.append(res, ignore_index=True)\n",
    "df0.to_csv(f\"null_T{T}_N{N1}_M{nMonte}_randomized.csv\")"
   ]
  },
  {
   "cell_type": "code",
   "execution_count": 170,
   "id": "911df922",
   "metadata": {},
   "outputs": [],
   "source": [
    "randomize = False\n",
    "df0.to_csv(f\"null_T{T}_N{N1}_M{nMonte}_rnd{randomize}.csv\")"
   ]
  },
  {
   "cell_type": "code",
   "execution_count": 171,
   "id": "822ef4a1",
   "metadata": {},
   "outputs": [
    {
     "data": {
      "text/html": [
       "<div>\n",
       "<style scoped>\n",
       "    .dataframe tbody tr th:only-of-type {\n",
       "        vertical-align: middle;\n",
       "    }\n",
       "\n",
       "    .dataframe tbody tr th {\n",
       "        vertical-align: top;\n",
       "    }\n",
       "\n",
       "    .dataframe thead th {\n",
       "        text-align: right;\n",
       "    }\n",
       "</style>\n",
       "<table border=\"1\" class=\"dataframe\">\n",
       "  <thead>\n",
       "    <tr style=\"text-align: right;\">\n",
       "      <th></th>\n",
       "      <th>log_rank_greater</th>\n",
       "      <th>log_rank_pval_greater</th>\n",
       "      <th>fisher_greater</th>\n",
       "      <th>fisher_pval_greater</th>\n",
       "    </tr>\n",
       "  </thead>\n",
       "  <tbody>\n",
       "    <tr>\n",
       "      <th>q95</th>\n",
       "      <td>1.624346</td>\n",
       "      <td>0.948567</td>\n",
       "      <td>1398.319228</td>\n",
       "      <td>1.0</td>\n",
       "    </tr>\n",
       "  </tbody>\n",
       "</table>\n",
       "</div>"
      ],
      "text/plain": [
       "     log_rank_greater  log_rank_pval_greater  fisher_greater  \\\n",
       "q95          1.624346               0.948567     1398.319228   \n",
       "\n",
       "     fisher_pval_greater  \n",
       "q95                  1.0  "
      ]
     },
     "execution_count": 171,
     "metadata": {},
     "output_type": "execute_result"
    }
   ],
   "source": [
    "from survival import q95\n",
    "df0.agg([q95])[['log_rank_greater', 'log_rank_pval_greater', 'fisher_greater', 'fisher_pval_greater']]"
   ]
  },
  {
   "cell_type": "code",
   "execution_count": 221,
   "id": "0c83fe4c",
   "metadata": {},
   "outputs": [
    {
     "name": "stderr",
     "output_type": "stream",
     "text": [
      "100%|██████████| 500/500 [00:49<00:00, 10.10it/s]\n"
     ]
    }
   ],
   "source": [
    "df = pd.DataFrame()\n",
    "T = 1000\n",
    "N1 = 5000\n",
    "N2 = 5000\n",
    "\n",
    "gamma = lam0 * 0.01\n",
    "nMonte = 500\n",
    "\n",
    "for i in tqdm(range(nMonte)):\n",
    "    Nt1, Nt2 = sample_survival_cox(T, N1, N2, lam0, gamma)\n",
    "    Ot1 = -np.diff(Nt1)\n",
    "    Ot2 = -np.diff(Nt2)\n",
    "    res = evaluate_test_stats(Nt1[:-1], Nt2[:-1], Ot1, Ot2, randomize=False)\n",
    "    df = df.append(res, ignore_index=True)"
   ]
  },
  {
   "cell_type": "code",
   "execution_count": 173,
   "id": "b3b5fbba",
   "metadata": {},
   "outputs": [
    {
     "name": "stdout",
     "output_type": "stream",
     "text": [
      "Level fisher_greater =  0.05\n",
      "Acc fisher_greater =  0.108\n",
      "Level log_rank_greater =  0.05\n",
      "Acc log_rank_greater =  0.122\n"
     ]
    }
   ],
   "source": [
    "for stat_name in ['fisher_greater', 'log_rank_greater']:\n",
    "    crit_val = df0.agg([q95])[stat_name].values[0]\n",
    "    level = np.mean(df0[stat_name] > crit_val)\n",
    "    acc = np.mean(df[stat_name] > crit_val)\n",
    "    print(f\"Level {stat_name} = \", level)\n",
    "    print(f\"Acc {stat_name} = \", acc)"
   ]
  },
  {
   "cell_type": "code",
   "execution_count": 204,
   "id": "e3aebd41",
   "metadata": {},
   "outputs": [
    {
     "data": {
      "text/plain": [
       "84"
      ]
     },
     "execution_count": 204,
     "metadata": {},
     "output_type": "execute_result"
    }
   ],
   "source": [
    "# num of failures until getting N1 successes; prob of success is p\n",
    "N1 = 100\n",
    "N2 = 100\n"
   ]
  },
  {
   "cell_type": "code",
   "execution_count": 229,
   "id": "4098e7ed",
   "metadata": {},
   "outputs": [],
   "source": [
    "pp_nb = np.zeros(T)\n",
    "pp_b = np.zeros(T)\n",
    "for t in range(T):\n",
    "    a = scipy.stats.nbinom.sf( Ot2, Ot1[t], p = Nt1[t] / (Nt1[t] + Nt2[t]) )\n",
    "    pp_nb[t] = scipy.stats.nbinom.sf( Ot2[t], Ot1[t], p = Nt1[t] / (Nt1[t] + Nt2[t]) )\n",
    "    pp_b[t] = scipy.stats.binom.sf( Ot2[t], Ot1[t] + Ot2[t], p = Nt1[t] / (Nt1[t] + Nt2[t]) )\n",
    "    "
   ]
  },
  {
   "cell_type": "code",
   "execution_count": 239,
   "id": "a9644618",
   "metadata": {},
   "outputs": [
    {
     "data": {
      "text/plain": [
       "array([1.        , 1.00247196, 1.00200136, 1.        , 0.99727489,\n",
       "       0.99893869, 0.99881503, 0.9968777 , 0.99496679, 0.99643808,\n",
       "       0.99312163, 0.99687563, 0.99325508, 0.99640225, 0.99090732,\n",
       "       0.99778844, 0.9979681 , 0.99796686, 0.99538925, 0.98616493,\n",
       "       0.99050491, 0.99544414, 0.99251293, 0.98460893, 0.98929432,\n",
       "       0.98862839, 0.97818349, 0.98557074, 0.99793707, 0.98385932,\n",
       "       0.99088198, 0.9961689 , 0.98803081, 0.98005961, 0.99697077,\n",
       "       0.99641999, 0.99939003, 0.99855812, 0.99758011, 0.99995403,\n",
       "       1.00137027, 1.00075741, 1.00902207, 1.00013955, 1.00539181,\n",
       "       1.01737833, 1.01632125, 1.00459417, 1.00693641, 1.00357851,\n",
       "       1.00155522, 1.00418707, 1.02776653, 1.00272765, 1.01569478,\n",
       "       1.01949086, 1.00671414, 1.00456628, 1.00794279, 1.01348606,\n",
       "       1.00842908, 1.0040232 , 1.0121613 , 1.00509499,        nan,\n",
       "       1.02011975, 1.01621884, 1.02847078, 1.00226338, 1.0080504 ,\n",
       "       1.01404068, 1.02674136, 1.02938526, 1.01352805, 1.0377456 ,\n",
       "       1.0074657 , 1.01865343, 1.00484259, 1.03509949, 1.00678019,\n",
       "       1.01764905, 1.00782082, 1.01248464, 1.02704759, 1.02079901,\n",
       "       1.0094425 , 1.01314827, 1.01736687, 1.01029327, 1.04054617,\n",
       "       1.02007631, 1.0222709 , 1.01270221, 1.00981868, 1.0180912 ,\n",
       "       1.00747089, 1.02090506, 1.05318807, 1.06401573, 1.03434634,\n",
       "       1.0203793 ,        nan, 1.01886739, 1.00949481, 1.01455962,\n",
       "       1.01354349, 1.00353683, 1.00611994, 1.00495688, 1.00813176,\n",
       "       1.00023924, 1.00236722,        nan, 1.00149669, 1.03744244,\n",
       "       1.01482596, 1.02779541, 1.01133416, 1.02058485, 1.01139071,\n",
       "       1.01041184, 1.02432705, 1.00071609, 1.00786639, 1.00184841,\n",
       "       1.01782766, 1.01581747, 1.01350514, 1.02368505, 1.00753772,\n",
       "       1.00571306, 1.01703644, 1.00223712, 1.03878934, 1.01510548,\n",
       "       1.01285791, 1.02078471, 1.00138504, 1.01797182, 1.01352263,\n",
       "       1.01858805, 1.01023843, 1.01589695,        nan, 1.00077378,\n",
       "       1.        , 1.00017287, 1.00622373,        nan, 1.0020398 ,\n",
       "       1.00342342, 1.00210305, 1.00702985, 1.00559184, 1.00054002,\n",
       "       1.00241554, 1.0041087 , 1.00577236, 1.01114935, 1.005115  ,\n",
       "       1.00509703, 1.00314366, 1.0037167 , 1.        , 0.99658848,\n",
       "       0.99767077, 0.99878231, 0.99977177, 1.00259734, 1.00813592,\n",
       "       1.00037534, 1.00951762, 1.00370002, 1.00421973, 1.        ,\n",
       "       1.00057371, 1.00108619, 0.9999614 , 1.00101642, 1.00288601,\n",
       "       1.00229253, 1.00306045, 1.0098052 , 1.00409154, 1.00907736,\n",
       "       1.01495957, 1.01612397, 1.03473   , 1.01263354, 1.01140115,\n",
       "       1.02955459, 1.01276677, 1.00938228, 1.01306106, 1.01471465,\n",
       "       1.00782297, 1.00179836, 1.00629459, 1.0037537 , 1.03582615,\n",
       "       1.02601769, 1.01260985, 1.01317655, 1.01339451, 1.02689757,\n",
       "       1.01656919, 1.00524843, 1.01240835, 1.00832669, 1.0104619 ,\n",
       "       1.00343346, 1.01222232, 1.01928791, 1.00524544, 1.02814264,\n",
       "       1.00748314, 1.02665209, 1.01084453, 1.00514733, 1.0012224 ,\n",
       "       1.00713703, 1.00530917, 1.02252849,        nan, 1.03296415,\n",
       "       1.00346029,        nan, 1.00328963, 1.01943743, 1.0228736 ,\n",
       "       1.00379477, 1.00236395, 1.00548985, 1.00303145, 1.0052    ,\n",
       "       1.00630966, 1.        , 1.00124682, 1.00166467, 1.00557434,\n",
       "       1.00121286, 0.99923742, 0.99834061, 0.99491871, 0.99311984,\n",
       "       0.99449865, 0.999781  , 0.99685167, 0.99642578, 0.99754086,\n",
       "       0.99590269, 0.98897014, 0.98981507, 0.99384459,        nan,\n",
       "       0.99319368, 0.98841459, 0.98840269, 0.97817448, 0.99202565,\n",
       "       0.98759133, 0.98559272, 0.98623557, 0.98917974, 0.99501675,\n",
       "       0.99383936, 0.98703001, 0.99773824, 0.99507405, 0.99876156,\n",
       "       0.99037512, 0.99422552, 0.98903118, 0.9929099 , 0.99824715,\n",
       "       0.99367996, 0.9918606 , 0.99417389, 0.99298125, 0.99740836,\n",
       "       0.9950015 , 0.9898371 , 0.99504018, 0.99961488, 0.99801048,\n",
       "       0.99761147,        nan, 0.98889341, 0.98348159, 0.99302814,\n",
       "       0.98961561, 0.99405556, 0.98941163, 0.99128292, 0.993994  ,\n",
       "       0.99448945, 0.99110326, 0.99494355, 0.98908514, 0.9949327 ,\n",
       "       0.991268  , 0.99192193, 0.9889762 , 0.99014565, 0.9975083 ,\n",
       "       0.98624639, 0.98603754, 0.99814522, 0.99335673, 0.99620491,\n",
       "       0.99302545, 0.99407423, 0.99626046, 0.99677118, 0.99795236,\n",
       "       0.99663334, 0.99604106, 0.99122641, 0.99513218, 0.99476539,\n",
       "       0.99041628, 0.99324719, 0.99646192, 0.99358301, 0.9914735 ,\n",
       "       0.99404681, 0.98876094, 0.99087168, 0.9908616 , 0.99598059,\n",
       "       0.99829626, 0.99809051, 0.9993926 , 1.        , 1.00239311,\n",
       "       1.        , 1.        , 0.99316242, 0.98926131, 0.98539968,\n",
       "       0.99454432, 0.99370498, 0.99074153, 0.98161355, 0.99676704,\n",
       "       0.99671854, 0.99643891, 0.99692134, 0.99721922, 0.99907344,\n",
       "       0.99877472, 0.99717186, 0.99912526, 0.99969818, 1.00299593,\n",
       "              nan, 0.98711812, 0.97627229, 0.98809939, 0.99542596,\n",
       "       0.98295251, 0.97012475, 0.97299885, 0.99301367, 0.98282602,\n",
       "       0.99180462, 0.9859483 , 0.97669537, 0.98131901, 0.98921102,\n",
       "       0.9789023 , 0.99797303, 0.99187273, 0.98171178, 0.99642856,\n",
       "       0.97526747, 0.9789919 , 0.97132473, 0.96847167, 0.9946148 ,\n",
       "       0.96824515, 0.97730729, 0.96215523, 0.95183724, 0.95127072,\n",
       "       0.97029779, 0.98942184, 0.97535058, 0.96738024, 0.98656984,\n",
       "              nan, 0.96166026, 0.92996903, 0.97982257, 0.96307838,\n",
       "       0.95889832, 0.94739542, 0.99716708, 0.99846104, 0.94753776,\n",
       "       0.92969544, 0.95963107, 0.94829416, 0.94295396, 0.96182829,\n",
       "       0.92528502, 0.95389971, 0.96501341, 0.97993378, 0.98959465,\n",
       "       0.95046683, 0.9943104 , 0.92823771,        nan, 0.91691961,\n",
       "       0.9370532 , 0.98339023, 0.9421558 , 0.98813692, 0.96467867,\n",
       "       0.94944751, 0.95700811, 0.99007627, 0.97344573, 0.96971384,\n",
       "       0.9894648 , 0.94328082, 0.94382975, 0.99772575, 0.98501318,\n",
       "       0.99696903, 0.93135911, 0.99103221, 0.96465876, 0.98795173,\n",
       "       0.97921817, 0.94896234,        nan, 0.99054148, 0.96347404,\n",
       "       0.98046941, 0.96439997, 0.99608946, 0.98734866, 0.95521078,\n",
       "              nan, 0.96338902, 0.99427036, 0.97791359, 0.98503972,\n",
       "       0.97573684, 0.97085765, 0.97484591, 0.96078457, 0.94953789,\n",
       "       0.95920801, 0.99420096, 0.99249263, 0.98081553, 0.97248145,\n",
       "       0.99070311, 0.98958816, 0.99309894,        nan, 0.98907109,\n",
       "       0.97040034,        nan, 0.95883556, 0.99240656, 0.95620212,\n",
       "              nan,        nan, 0.97908472, 0.9507947 , 0.94539417,\n",
       "       0.94342132, 0.9655191 , 0.96548637, 0.93456188, 0.99515559,\n",
       "       0.9772488 , 0.95003143, 0.96616859, 0.95529433, 0.94280806,\n",
       "       0.93996034, 0.96889742, 0.98064512, 0.98587267, 0.96348862,\n",
       "       0.95845203, 0.9490714 , 0.95950421, 0.93648986, 0.97859265,\n",
       "       0.96226071, 0.96958547, 0.94787871, 0.95390728, 0.87353443,\n",
       "       0.99618833, 0.98861965, 0.95472898, 0.94628483, 0.94329536,\n",
       "       0.97735893, 0.95616098, 0.9264331 , 0.89772307, 0.96210825,\n",
       "       0.99607422, 0.96694848, 0.99474645, 0.98589673, 0.95950374,\n",
       "              nan, 0.91216426, 0.92585891, 0.88879595, 0.92358912,\n",
       "       0.92592282, 0.92337587, 0.9558962 , 0.94612682, 0.97137937,\n",
       "       0.96379303, 0.98522809, 0.97823912, 0.93419025,        nan,\n",
       "       0.97310009, 0.93546736, 0.9276028 , 0.96412534,        nan,\n",
       "       0.96426023, 0.98081027, 0.97304473, 0.98633796, 0.99279797,\n",
       "       0.95358982, 0.90113519, 0.96540877, 0.98832989, 0.93454747,\n",
       "              nan, 0.97136126, 0.92885916, 0.9201747 , 0.91736231,\n",
       "       0.95917413, 0.93937013, 0.98596116, 0.94029966, 0.97282799,\n",
       "       0.9720196 , 0.90417181, 0.94082656, 0.93461062, 0.93991471,\n",
       "       0.91386617, 0.9300965 , 0.9527838 , 0.89703842, 0.91379899,\n",
       "       0.9749471 , 0.95586756, 0.88823062, 0.94478985, 0.8675508 ,\n",
       "       0.92740754, 0.9642411 , 0.93458289, 0.95823629,        nan,\n",
       "       0.89465059, 0.87074817, 0.93866446, 0.97161748, 0.85711423,\n",
       "       0.90636017, 0.9926798 , 0.81133955, 0.96034398, 0.8649494 ,\n",
       "       0.93333059, 0.96274802, 0.9493251 , 0.97297297, 0.93715693,\n",
       "       0.87344157, 0.95275587, 0.92084412, 0.88115321, 0.93928887,\n",
       "       0.90996729, 0.94762089, 0.98127351, 0.94687367, 0.85064667,\n",
       "       0.86741172, 0.89846794, 0.94534858, 0.90593973, 0.84831576,\n",
       "       0.92790286, 0.92785188, 0.91836687, 0.91828058, 0.88234577,\n",
       "       0.89042548, 0.76673906, 0.99214675, 0.99263628, 0.99192534,\n",
       "       0.98089508,        nan, 0.81653397, 0.9918045 , 0.89906369,\n",
       "       0.93098276, 0.86148478, 0.91097702, 0.88333343, 0.94214303,\n",
       "       0.9005046 , 0.90857447, 0.87224977, 0.88840906, 0.96453436,\n",
       "       0.98310205, 0.99179194, 0.94634027, 0.90766383, 0.90643831,\n",
       "       0.91427248,        nan, 0.8347805 , 0.96341861, 0.953367  ,\n",
       "       0.84224085, 0.93446857, 0.80981943, 0.80825509, 0.88608224,\n",
       "       0.89461867, 0.93205738, 0.88344866, 0.93193156, 0.85245589,\n",
       "       0.84129339, 0.91844167, 0.97084209, 0.91280072, 0.89561689,\n",
       "       0.92192994,        nan, 0.85113771, 0.84815053, 0.96184395,\n",
       "       0.88170236, 0.92645226, 0.97953233, 0.94696889,        nan,\n",
       "       0.97579546, 0.94745411, 0.93540242, 0.86846744, 0.82748912,\n",
       "       0.94559086, 0.80127656, 0.930279  , 0.9309    , 0.89271428,\n",
       "       0.90094362, 0.8911038 ,        nan, 0.93623065, 0.82077161,\n",
       "              nan, 0.95754866, 0.9421147 , 0.98326271, 0.99136513,\n",
       "       0.93158868,        nan, 0.90657785, 0.9474252 , 0.87898192,\n",
       "              nan, 0.8723711 , 0.99636757, 0.85777152, 0.89588985,\n",
       "       0.90383624, 0.71602228, 0.90843289, 0.94169795, 0.97390156,\n",
       "       0.87847065, 0.97020241, 0.959244  , 0.79259261, 0.97047672,\n",
       "       0.95993466, 0.82477534, 0.92686905, 0.82701287, 0.88891081,\n",
       "       0.87608776, 0.93336388, 0.86710673, 0.95745497, 0.82259017,\n",
       "       0.77804333, 0.89164284, 0.74474042, 0.9204059 , 0.96689037,\n",
       "       0.86855292, 0.9407642 , 0.89186742, 0.9551991 , 0.84801951,\n",
       "       0.90393642, 0.95508952, 0.83772018, 0.82560926, 0.88906555,\n",
       "       0.91728938,        nan,        nan, 0.91925303, 0.7655515 ,\n",
       "       0.89490239, 0.96959952,        nan, 0.92345761, 0.69446045,\n",
       "       0.80346221,        nan, 0.80865592, 0.96190842, 0.91178983,\n",
       "       0.86362264, 0.7718351 , 0.90933813, 0.81771946, 0.90844444,\n",
       "              nan, 0.94660632, 0.82216665, 0.90874512, 0.87096005,\n",
       "       0.94616279, 0.96232609, 0.97935403, 0.77968548, 0.88954111,\n",
       "       0.9632192 , 0.90998375, 0.85446004, 0.9309894 , 0.85422691,\n",
       "       0.85284529, 0.87671867, 0.94866335, 0.89231391,        nan,\n",
       "       0.96343521, 0.93171542, 0.94016256, 0.93702545, 0.81628523,\n",
       "       0.98061591, 0.75873339, 0.85723271, 0.86925951, 0.81694135,\n",
       "       0.90824186, 0.87694643, 0.96836998, 0.80656364, 0.78539267,\n",
       "       0.8732318 ,        nan, 0.95058518,        nan, 0.96376593,\n",
       "       0.9129048 , 0.89075254, 0.8652511 , 0.85008468,        nan,\n",
       "       0.83673792, 0.90528527, 0.92805321, 0.82083102, 0.77762383,\n",
       "       0.94514239, 0.94602373, 0.8725187 , 0.96717002, 0.86281099,\n",
       "       0.80825159,        nan, 0.94624149, 0.97888365, 0.91313719,\n",
       "       0.78639183, 0.90578465, 0.92843698,        nan, 0.82373804,\n",
       "       0.81687031, 0.90207783, 0.85671304, 0.8554494 , 0.96557912,\n",
       "       0.97316308, 0.81910905, 0.96162675,        nan, 0.91050299,\n",
       "       0.97896222,        nan, 0.88863434, 0.93205945, 0.89036076,\n",
       "       0.91318622, 0.81397927, 0.96298368, 0.89186268, 0.94925824,\n",
       "       0.86889661, 0.85401599, 0.93389848, 0.89333423,        nan,\n",
       "       0.87502078, 0.86324741, 0.78067335, 0.8701841 , 0.84351233,\n",
       "       0.84202615, 0.84053909, 0.92753394, 0.81293422, 0.86595381,\n",
       "       0.92379201, 0.85451377, 0.72796348, 0.83280262,        nan,\n",
       "       0.76576891, 0.87214893, 0.87203546, 0.89207239, 0.75152112,\n",
       "              nan, 0.87771579, 0.9390689 , 0.86716755, 0.81191729,\n",
       "       0.82387369, 0.97515859,        nan, 0.85307715, 0.86933076,\n",
       "       0.80939857,        nan, 0.95415149, 0.83628261, 0.72930674,\n",
       "       0.95363091, 0.87639522, 0.81895554, 0.83407645, 0.86378634,\n",
       "       0.88502617, 0.98382267, 0.82091044, 0.94198764, 0.91876418,\n",
       "       0.77859766, 0.86699991, 0.77484238, 0.83378122, 0.95403674,\n",
       "              nan, 0.84731371, 0.88544127, 0.9602304 , 0.96084579,\n",
       "       0.78996223, 0.91393434, 0.61436773, 0.82859174, 0.9095192 ,\n",
       "       0.63638784, 0.76979153, 0.85252861, 0.81903905, 0.81706254,\n",
       "       0.90406876, 0.87498352, 0.88224077, 0.89216243, 0.98520524,\n",
       "       0.89797474, 0.88385831, 0.88380306, 0.93479599, 0.73771388,\n",
       "              nan, 0.7757253 , 0.80634295, 0.72193874, 0.95645174,\n",
       "       0.87670964, 0.75419211, 0.93524469, 0.88283024, 0.93610698,\n",
       "              nan, 0.93607532, 0.9572257 , 0.91184699, 0.88048033,\n",
       "       0.88042276, 0.95841038, 0.91427388, 0.79955248, 0.73195423,\n",
       "              nan, 0.75998398,        nan,        nan, 0.83348087,\n",
       "       0.83324463, 0.75044347, 0.88005421, 0.88076847, 0.97156803,\n",
       "       0.82098197, 0.95673941, 0.54951384, 0.87079609, 0.74332348,\n",
       "       0.92608089, 0.90558106, 0.8143677 , 0.87104775, 0.74378353,\n",
       "       0.90000142, 0.86977761, 0.92666203, 0.90633509, 0.81580845,\n",
       "       0.87206864,        nan, 0.93227296, 0.87002544,        nan,\n",
       "       0.86900316, 0.89998852, 0.81115646, 0.82538776, 0.79065004,\n",
       "       0.80792361, 0.86642747, 0.84184767, 0.96180991, 0.90127525,\n",
       "       0.81348965, 0.84656026, 0.8464083 , 0.87013916,        nan,\n",
       "              nan, 0.72537209, 0.78677002, 0.89683369, 0.93043933,\n",
       "       0.89818938, 0.84313476, 0.8077497 , 0.92466643, 0.90381231,\n",
       "       0.84578487, 0.86960295, 0.95446269, 0.69667965,        nan,\n",
       "              nan, 0.89642056, 0.74856284, 0.86315805, 0.94489763])"
      ]
     },
     "execution_count": 239,
     "metadata": {},
     "output_type": "execute_result"
    }
   ],
   "source": [
    "r = (pp_nb / pp_b)"
   ]
  },
  {
   "cell_type": "code",
   "execution_count": null,
   "id": "a263b19f",
   "metadata": {},
   "outputs": [],
   "source": []
  },
  {
   "cell_type": "code",
   "execution_count": 163,
   "id": "32e68082",
   "metadata": {},
   "outputs": [
    {
     "data": {
      "text/plain": [
       "0      1527.572203\n",
       "1      1542.415456\n",
       "2      1578.193167\n",
       "3      1526.327266\n",
       "4      1566.903951\n",
       "          ...     \n",
       "495    1545.840177\n",
       "496    1495.603350\n",
       "497    1611.265302\n",
       "498    1503.560472\n",
       "499    1468.022453\n",
       "Name: fisher_greater, Length: 500, dtype: float64"
      ]
     },
     "execution_count": 163,
     "metadata": {},
     "output_type": "execute_result"
    }
   ],
   "source": [
    "df[stat_name]"
   ]
  },
  {
   "cell_type": "code",
   "execution_count": 145,
   "id": "a9f25b25",
   "metadata": {},
   "outputs": [
    {
     "data": {
      "text/plain": [
       "0       True\n",
       "1      False\n",
       "2      False\n",
       "3      False\n",
       "4       True\n",
       "       ...  \n",
       "495    False\n",
       "496    False\n",
       "497     True\n",
       "498     True\n",
       "499    False\n",
       "Name: log_rank_greater, Length: 500, dtype: bool"
      ]
     },
     "execution_count": 145,
     "metadata": {},
     "output_type": "execute_result"
    }
   ],
   "source": [
    "df[stat_name] > 1.642"
   ]
  },
  {
   "cell_type": "code",
   "execution_count": 81,
   "id": "be3efe1a",
   "metadata": {},
   "outputs": [
    {
     "data": {
      "text/plain": [
       "(1977.5239247906038, 0.6353913610507772)"
      ]
     },
     "execution_count": 81,
     "metadata": {},
     "output_type": "execute_result"
    }
   ],
   "source": [
    "from survival import multi_pvals\n",
    "gamma = 0\n",
    "Nt1, Nt2 = sample_survival_cox(T, N1, N2, gamma)\n",
    "Ot1 = -np.diff(Nt1)\n",
    "Ot2 = -np.diff(Nt2)\n",
    "\n",
    "pvals = multi_pvals(Nt1[:-1], Nt2[:-1], Ot1, Ot2, alternative='greater', randomize=True)\n",
    "pvals = pvals[pvals < 1]\n",
    "mt = MultiTest(pvals, stbl=False)\n",
    "\n",
    "fisher = mt.fisher()\n",
    "fisher"
   ]
  },
  {
   "cell_type": "code",
   "execution_count": 51,
   "id": "0ec5e1ab",
   "metadata": {},
   "outputs": [
    {
     "data": {
      "text/plain": [
       "471"
      ]
     },
     "execution_count": 51,
     "metadata": {},
     "output_type": "execute_result"
    }
   ],
   "source": [
    "len(pvals)"
   ]
  },
  {
   "cell_type": "code",
   "execution_count": 56,
   "id": "9dc82fde",
   "metadata": {},
   "outputs": [
    {
     "data": {
      "text/plain": [
       "(array([ 13.,  49.,   9.,   0., 225.,   2.,  46.,  82.,  40., 534.]),\n",
       " array([0.10640436, 0.19576393, 0.28512349, 0.37448305, 0.46384262,\n",
       "        0.55320218, 0.64256174, 0.73192131, 0.82128087, 0.91064044,\n",
       "        1.        ]),\n",
       " <BarContainer object of 10 artists>)"
      ]
     },
     "execution_count": 56,
     "metadata": {},
     "output_type": "execute_result"
    },
    {
     "data": {
      "image/png": "[encoded data removed]",
      "text/plain": [
       "<Figure size 576x432 with 1 Axes>"
      ]
     },
     "metadata": {},
     "output_type": "display_data"
    }
   ],
   "source": [
    "plt.hist(multi_pvals(Nt1[:-1], Nt2[:-1], Ot1, Ot2, alternative='greater'))"
   ]
  },
  {
   "cell_type": "code",
   "execution_count": null,
   "id": "ee66850a",
   "metadata": {},
   "outputs": [],
   "source": []
  }
 ],
 "metadata": {
  "kernelspec": {
   "display_name": "Python 3",
   "language": "python",
   "name": "python3"
  },
  "language_info": {
   "codemirror_mode": {
    "name": "ipython",
    "version": 3
   },
   "file_extension": ".py",
   "mimetype": "text/x-python",
   "name": "python",
   "nbconvert_exporter": "python",
   "pygments_lexer": "ipython3",
   "version": "3.8.5"
  }
 },
 "nbformat": 4,
 "nbformat_minor": 5
}
