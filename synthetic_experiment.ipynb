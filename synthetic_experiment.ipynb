{
 "cells": [
  {
   "cell_type": "code",
   "execution_count": 9,
   "id": "3e6e693c",
   "metadata": {},
   "outputs": [],
   "source": [
    "# !pip3 install two-sample-binomial\n",
    "# !pip3 install multiple-hypothesis-testing\n",
    "\n",
    "import numpy as np\n",
    "\n",
    "import matplotlib.pyplot as plt\n",
    "import matplotlib as mpl\n",
    "plt.rcParams['figure.figsize'] =  [8, 6]\n",
    "mpl.style.use('ggplot')\n",
    "%matplotlib inline\n",
    "\n",
    "import pandas as pd\n",
    "from survival import evaluate_test_stats, _evaluate_test_stats\n",
    "\n",
    "import sys\n",
    "sys.path.append('phase_transition_experiment/')\n",
    "from sample_survival_poisson import sample_survival_poisson\n",
    "\n",
    "seed = 0\n",
    "np.random.seed(seed)"
   ]
  },
  {
   "cell_type": "markdown",
   "id": "5fdf6a41",
   "metadata": {},
   "source": [
    "## Synthetic experiment\n",
    "\n",
    "Sample data from rare and weak exponential decay and compare several test statistics\n",
    "\n",
    "To do:\n",
    " - Under the aternative, check if hypergeometric P-values are equally small across all time intervals. "
   ]
  },
  {
   "cell_type": "code",
   "execution_count": 2,
   "id": "aa3ac146",
   "metadata": {},
   "outputs": [],
   "source": [
    "T = 100\n",
    "N1 = N2 = 1000\n",
    "lam0 = 1.5\n",
    "r = 1.2\n",
    "beta = 0.7\n",
    "stbl = True\n",
    "alternative = 'two-sided'\n",
    "lam = lam0 * np.ones(T) / T"
   ]
  },
  {
   "cell_type": "code",
   "execution_count": 3,
   "id": "5a43e5c4",
   "metadata": {},
   "outputs": [],
   "source": [
    "import hashlib\n",
    "def hash_parameters(parameters, digits=10):\n",
    "    # Convert the parameters to a string representation\n",
    "    parameters_str = str(parameters)\n",
    "\n",
    "    # Hash the string representation using SHA-256\n",
    "    hash_object = hashlib.sha256(parameters_str.encode())\n",
    "\n",
    "    # Get the hexadecimal representation of the hash value\n",
    "    hash_value = hash_object.hexdigest()\n",
    "\n",
    "    return hash_value[:digits]\n"
   ]
  },
  {
   "cell_type": "code",
   "execution_count": 5,
   "id": "fbd0d363",
   "metadata": {},
   "outputs": [
    {
     "name": "stdout",
     "output_type": "stream",
     "text": [
      "Null Parameters:  {'alternative': 'two-sided', 'T': 100, 'N1': 1000, 'N2': 1000, 'lam0': 1.5, 'nMonte': 10000}\n",
      "Reading null data from file results/synthetic_data_null_3eb54ab33d.csv\n",
      "Found results of 10000 Monte Carlo iterations with 14 satistics.\n"
     ]
    }
   ],
   "source": [
    "# ##### Null data\n",
    "\n",
    "#Null Parameters:  {'alternative': 'two-sided', 'T': 100, 'N1': 1000, 'N2': 1000, 'lam0': 1.5, 'nMonte': 10000}\n",
    "#Reading null data from file results/synthetic_data_null_3eb54ab33d.csv\n",
    "nMonte_null = 10000\n",
    "params_null = dict(alternative=alternative, T = T, N1 = N1, N2 = N2, lam0 = lam0, nMonte = nMonte_null)\n",
    "print(\"Null Parameters: \", params_null)\n",
    "fn = f\"results/synthetic_data_null_{hash_parameters(params_null)}.csv\"\n",
    "\n",
    "print(f\"Reading null data from file {fn}\")\n",
    "df0 = pd.read_csv(fn, index_col=0)\n",
    "results0 = df0.to_dict()\n",
    "print(f\"Found results of {len(df0)} Monte Carlo iterations with {len(results0)} satistics.\")\n",
    "df0 = pd.read_csv(fn, index_col=0)"
   ]
  },
  {
   "cell_type": "code",
   "execution_count": 13,
   "id": "e7962ee1",
   "metadata": {},
   "outputs": [],
   "source": [
    "from lifelines.statistics import multivariate_logrank_test\n",
    "\n",
    "Nt1, Nt2 = sample_survival_poisson(T, N1, N2, lam, eps=T**(-beta), r=r)\n",
    "Ot1 = -np.diff(Nt1).astype(int)\n",
    "Ot2 = -np.diff(Nt2).astype(int)\n",
    "# N1 = Nt1[0]\n",
    "# N2 = Nt2[0]\n",
    "# Ct1 = (-np.diff(Nt1) - Ot1).astype(int)\n",
    "# Ct2 = (-np.diff(Nt2) - Ot2).astype(int)\n",
    "# Ct1[-1] = Ct1[-1] + N1 - Ot1.sum()\n",
    "# Ct2[-1] = Ct2[-1] + N2 - Ot2.sum()\n",
    "\n",
    "# assert np.all(Ct1 >= 0)\n",
    "# assert np.all(Ct2 >= 0)\n",
    "\n",
    "dfg = pd.DataFrame({'observed:0' : Ot1, 'observed:1': Ot2, 'censored:0': Ct1, 'censored:1': Ct2})\n",
    "\n",
    "results = evaluate_test_stats(Nt1[:-1], Nt2[:-1], Ot1, Ot2)"
   ]
  },
  {
   "cell_type": "code",
   "execution_count": 8,
   "id": "584c326c",
   "metadata": {},
   "outputs": [
    {
     "name": "stderr",
     "output_type": "stream",
     "text": [
      "100%|██████████| 10000/10000 [00:45<00:00, 218.71it/s]\n"
     ]
    }
   ],
   "source": [
    "# try evalaute HCstar\n",
    "nMonte = 10000\n",
    "from survival import multi_pvals\n",
    "\n",
    "results = {}\n",
    "for itr in tqdm(range(nMonte)):\n",
    "    Nt1, Nt2 = sample_survival_poisson(T, N1, N2, lam, eps=0.5, r=0)\n",
    "    Ot1 = -np.diff(Nt1).astype(int)\n",
    "    Ot2 = -np.diff(Nt2).astype(int)\n",
    "    res1 = _evaluate_test_stats(Nt1[:-1], Nt2[:-1], Ot1, Ot2,\n",
    "                            alternative='greater')\n",
    "    res2 = _evaluate_test_stats(Nt1[:-1], Nt2[:-1], Ot1, Ot2,\n",
    "                            alternative='two-sided')\n",
    "    new_keys = [k + '_two-sided' for k in res2]\n",
    "    \n",
    "    res2 = dict(zip(new_keys, res2.values()))\n",
    "    results[itr] = {**res1, **res2}\n",
    "df0s = pd.DataFrame(results).T"
   ]
  },
  {
   "cell_type": "code",
   "execution_count": 37,
   "id": "c82a56ef",
   "metadata": {},
   "outputs": [],
   "source": [
    "df0.to_csv(fn)"
   ]
  },
  {
   "cell_type": "code",
   "execution_count": 36,
   "id": "6ccff4e4",
   "metadata": {},
   "outputs": [
    {
     "data": {
      "text/plain": [
       "16"
      ]
     },
     "execution_count": 36,
     "metadata": {},
     "output_type": "execute_result"
    }
   ],
   "source": [
    "len(df0.columns)"
   ]
  },
  {
   "cell_type": "code",
   "execution_count": 32,
   "id": "248ec236",
   "metadata": {},
   "outputs": [
    {
     "data": {
      "text/plain": [
       "['log_rank_two-sided',\n",
       " 'log_rank_pval_two-sided',\n",
       " 'hc_two-sided',\n",
       " 'fisher_two-sided',\n",
       " 'min_p_two-sided',\n",
       " 'berk_jones_two-sided',\n",
       " 'logrank_lifelines_None',\n",
       " 'logrank_lifelines_wilcoxon',\n",
       " 'logrank_lifelines_tarone-ware',\n",
       " 'logrank_lifelines_peto',\n",
       " 'logrank_lifelines_fleming-harrington55',\n",
       " 'logrank_lifelines_fleming-harrington11',\n",
       " 'logrank_lifelines_fleming-harrington01',\n",
       " 'chisq_test_stat',\n",
       " 'lr_test_stat',\n",
       " 'cauchy_test_stat']"
      ]
     },
     "execution_count": 32,
     "metadata": {},
     "output_type": "execute_result"
    }
   ],
   "source": [
    "['log_rank_two-sided', 'log_rank_pval_two-sided', 'hc_two-sided',\n",
    "       'fisher_two-sided', 'min_p_two-sided', 'berk_jones_two-sided',\n",
    "       'logrank_lifelines_None', 'logrank_lifelines_wilcoxon',\n",
    "       'logrank_lifelines_tarone-ware', 'logrank_lifelines_peto',\n",
    "       'logrank_lifelines_fleming-harrington55',\n",
    "       'logrank_lifelines_fleming-harrington11',\n",
    "       'logrank_lifelines_fleming-harrington01', 'chisq_test_stat',\n",
    "       'lr_test_stat', 'cauchy_test_stat']"
   ]
  },
  {
   "cell_type": "code",
   "execution_count": 5,
   "id": "cffe5437",
   "metadata": {},
   "outputs": [
    {
     "data": {
      "text/html": [
       "<div>\n",
       "<style scoped>\n",
       "    .dataframe tbody tr th:only-of-type {\n",
       "        vertical-align: middle;\n",
       "    }\n",
       "\n",
       "    .dataframe tbody tr th {\n",
       "        vertical-align: top;\n",
       "    }\n",
       "\n",
       "    .dataframe thead th {\n",
       "        text-align: right;\n",
       "    }\n",
       "</style>\n",
       "<table border=\"1\" class=\"dataframe\">\n",
       "  <thead>\n",
       "    <tr style=\"text-align: right;\">\n",
       "      <th></th>\n",
       "      <th>log_rank</th>\n",
       "      <th>log_rank_pval</th>\n",
       "      <th>hc</th>\n",
       "      <th>fisher</th>\n",
       "      <th>min_p</th>\n",
       "      <th>berk_jones</th>\n",
       "      <th>log_rank_two-sided</th>\n",
       "      <th>log_rank_pval_two-sided</th>\n",
       "      <th>hc_two-sided</th>\n",
       "      <th>fisher_two-sided</th>\n",
       "      <th>min_p_two-sided</th>\n",
       "      <th>berk_jones_two-sided</th>\n",
       "    </tr>\n",
       "  </thead>\n",
       "  <tbody>\n",
       "    <tr>\n",
       "      <th>q95</th>\n",
       "      <td>1.675357</td>\n",
       "      <td>0.950621</td>\n",
       "      <td>1.082166</td>\n",
       "      <td>181.148551</td>\n",
       "      <td>6.394058</td>\n",
       "      <td>2.565558</td>\n",
       "      <td>1.978367</td>\n",
       "      <td>0.947292</td>\n",
       "      <td>1.214639</td>\n",
       "      <td>186.484814</td>\n",
       "      <td>6.990063</td>\n",
       "      <td>3.136546</td>\n",
       "    </tr>\n",
       "  </tbody>\n",
       "</table>\n",
       "</div>"
      ],
      "text/plain": [
       "     log_rank  log_rank_pval        hc      fisher     min_p  berk_jones  \\\n",
       "q95  1.675357       0.950621  1.082166  181.148551  6.394058    2.565558   \n",
       "\n",
       "     log_rank_two-sided  log_rank_pval_two-sided  hc_two-sided  \\\n",
       "q95            1.978367                 0.947292      1.214639   \n",
       "\n",
       "     fisher_two-sided  min_p_two-sided  berk_jones_two-sided  \n",
       "q95        186.484814         6.990063              3.136546  "
      ]
     },
     "execution_count": 5,
     "metadata": {},
     "output_type": "execute_result"
    }
   ],
   "source": [
    "def q95(x):\n",
    "    \"\"\"\n",
    "    The 95-th percentile of the vector x\n",
    "    \"\"\"\n",
    "    if x.dtypes.kind == 'O':\n",
    "        return np.nan\n",
    "    else:\n",
    "        return pd.Series.quantile(x, .95)\n",
    "\n",
    "crit_vals = df0s.agg([q95])\n",
    "crit_vals"
   ]
  },
  {
   "cell_type": "code",
   "execution_count": 18,
   "id": "e0179ad5",
   "metadata": {},
   "outputs": [
    {
     "name": "stderr",
     "output_type": "stream",
     "text": [
      "100%|██████████| 1000/1000 [00:09<00:00, 100.74it/s]\n"
     ]
    }
   ],
   "source": [
    "beta = .7\n",
    "r = 1.2\n",
    "nMonte = 1000\n",
    "alternative = 'two-sided'\n",
    "\n",
    "eps = T ** (-beta)\n",
    "lam = lam0 * np.ones(T) / T\n",
    "\n",
    "results = {}\n",
    "for itr in tqdm(range(nMonte)):\n",
    "    Nt1, Nt2 = sample_survival_poisson(T, N1, N2, lam, eps, r)\n",
    "    Ot1 = -np.diff(Nt1).astype(int)\n",
    "    Ot2 = -np.diff(Nt2).astype(int)\n",
    "    res1 = _evaluate_test_stats(Nt1[:-1], Nt2[:-1], Ot1, Ot2,\n",
    "                            alternative='greater')\n",
    "    res2 = _evaluate_test_stats(Nt1[:-1], Nt2[:-1], Ot1, Ot2,\n",
    "                            alternative='two-sided', pvals_alternative='greater')\n",
    "    new_keys = [k + '_two-sided' for k in res2]\n",
    "    pvals_1s = multi_pvals(Nt1[:-1], Nt2[:-1], Ot1, Ot2, alternative='greater')\n",
    "    \n",
    "    res2 = dict(zip(new_keys, res2.values()))\n",
    "    results[itr] = {**res1, **res2}\n",
    "df1 = pd.DataFrame(results).T"
   ]
  },
  {
   "cell_type": "code",
   "execution_count": 20,
   "id": "c67cd523",
   "metadata": {},
   "outputs": [
    {
     "name": "stdout",
     "output_type": "stream",
     "text": [
      "Evalauting number of discoveries...\n",
      "Rate of discoveries:\n"
     ]
    },
    {
     "data": {
      "text/html": [
       "<div>\n",
       "<style scoped>\n",
       "    .dataframe tbody tr th:only-of-type {\n",
       "        vertical-align: middle;\n",
       "    }\n",
       "\n",
       "    .dataframe tbody tr th {\n",
       "        vertical-align: top;\n",
       "    }\n",
       "\n",
       "    .dataframe thead th {\n",
       "        text-align: right;\n",
       "    }\n",
       "</style>\n",
       "<table border=\"1\" class=\"dataframe\">\n",
       "  <thead>\n",
       "    <tr style=\"text-align: right;\">\n",
       "      <th></th>\n",
       "      <th>rate</th>\n",
       "    </tr>\n",
       "  </thead>\n",
       "  <tbody>\n",
       "    <tr>\n",
       "      <th>berk_jones</th>\n",
       "      <td>0.642</td>\n",
       "    </tr>\n",
       "    <tr>\n",
       "      <th>min_p</th>\n",
       "      <td>0.583</td>\n",
       "    </tr>\n",
       "    <tr>\n",
       "      <th>hc</th>\n",
       "      <td>0.582</td>\n",
       "    </tr>\n",
       "    <tr>\n",
       "      <th>berk_jones_two-sided</th>\n",
       "      <td>0.565</td>\n",
       "    </tr>\n",
       "    <tr>\n",
       "      <th>hc_two-sided</th>\n",
       "      <td>0.509</td>\n",
       "    </tr>\n",
       "    <tr>\n",
       "      <th>fisher</th>\n",
       "      <td>0.503</td>\n",
       "    </tr>\n",
       "    <tr>\n",
       "      <th>min_p_two-sided</th>\n",
       "      <td>0.490</td>\n",
       "    </tr>\n",
       "    <tr>\n",
       "      <th>fisher_two-sided</th>\n",
       "      <td>0.435</td>\n",
       "    </tr>\n",
       "    <tr>\n",
       "      <th>log_rank</th>\n",
       "      <td>0.373</td>\n",
       "    </tr>\n",
       "    <tr>\n",
       "      <th>log_rank_two-sided</th>\n",
       "      <td>0.269</td>\n",
       "    </tr>\n",
       "    <tr>\n",
       "      <th>log_rank_pval_two-sided</th>\n",
       "      <td>0.027</td>\n",
       "    </tr>\n",
       "    <tr>\n",
       "      <th>log_rank_pval</th>\n",
       "      <td>0.007</td>\n",
       "    </tr>\n",
       "  </tbody>\n",
       "</table>\n",
       "</div>"
      ],
      "text/plain": [
       "                          rate\n",
       "berk_jones               0.642\n",
       "min_p                    0.583\n",
       "hc                       0.582\n",
       "berk_jones_two-sided     0.565\n",
       "hc_two-sided             0.509\n",
       "fisher                   0.503\n",
       "min_p_two-sided          0.490\n",
       "fisher_two-sided         0.435\n",
       "log_rank                 0.373\n",
       "log_rank_two-sided       0.269\n",
       "log_rank_pval_two-sided  0.027\n",
       "log_rank_pval            0.007"
      ]
     },
     "execution_count": 20,
     "metadata": {},
     "output_type": "execute_result"
    }
   ],
   "source": [
    "# lo_stats = ['berk_jones_two-sided','hc_two-sided', 'min_p_two-sided', 'log_rank_two-sided', 'fisher_two-sided']\n",
    "# for st in df1.columns:\n",
    "#     if st+'_two-sided' in lo_stats:\n",
    "#         df1.rename(columns={st: st+'_two-sided'}, inplace=True)\n",
    "\n",
    "print(\"Evalauting number of discoveries...\")\n",
    "alpha = 0.05\n",
    "no_dicoveries = {}\n",
    "rate_dicoveries = {}\n",
    "for st in df1.columns:\n",
    "    if '_rev' in st:\n",
    "        continue\n",
    "    no_dicoveries[st] = np.sum(df1[st] > crit_vals[st].values[0])\n",
    "    rate_dicoveries[st] = no_dicoveries[st] / len(df1)\n",
    "\n",
    "print(\"Rate of discoveries:\")\n",
    "pd.DataFrame(rate_dicoveries, index=['rate']).T.sort_values('rate', ascending=False)"
   ]
  },
  {
   "cell_type": "markdown",
   "id": "5ce9626e",
   "metadata": {},
   "source": [
    "## Analyze results"
   ]
  },
  {
   "cell_type": "code",
   "execution_count": 13,
   "id": "2e23618c",
   "metadata": {},
   "outputs": [
    {
     "data": {
      "text/plain": [
       "10.513574549186652"
      ]
     },
     "execution_count": 13,
     "metadata": {},
     "output_type": "execute_result"
    }
   ],
   "source": [
    "fn = f\"results/synthetic_data_T100_N1000_1cfc44f2ca.csv\"\n",
    "df1 = pd.read_csv(fn, index_col=0)\n",
    "df1['min_p_two-sided'].quantile(0.95)"
   ]
  },
  {
   "cell_type": "markdown",
   "id": "d23123f4",
   "metadata": {},
   "source": [
    "##### Null data\n",
    "\n",
    "We use empirical 0.95 (for two-sided) quantiles of the test statistics obtained over ``nMonte`` samples from the null model. "
   ]
  },
  {
   "cell_type": "code",
   "execution_count": 1,
   "id": "d527ce80",
   "metadata": {},
   "outputs": [
    {
     "ename": "NameError",
     "evalue": "name 'alternative' is not defined",
     "output_type": "error",
     "traceback": [
      "\u001b[0;31m---------------------------------------------------------------------------\u001b[0m",
      "\u001b[0;31mNameError\u001b[0m                                 Traceback (most recent call last)",
      "Cell \u001b[0;32mIn[1], line 3\u001b[0m\n\u001b[1;32m      1\u001b[0m \u001b[38;5;66;03m# ##### Null data\u001b[39;00m\n\u001b[1;32m      2\u001b[0m nMonte_null \u001b[38;5;241m=\u001b[39m \u001b[38;5;241m10000\u001b[39m\n\u001b[0;32m----> 3\u001b[0m params_null \u001b[38;5;241m=\u001b[39m \u001b[38;5;28mdict\u001b[39m(alternative\u001b[38;5;241m=\u001b[39m\u001b[43malternative\u001b[49m, T \u001b[38;5;241m=\u001b[39m T, N1 \u001b[38;5;241m=\u001b[39m N1, N2 \u001b[38;5;241m=\u001b[39m N2, lam0 \u001b[38;5;241m=\u001b[39m lam0, nMonte \u001b[38;5;241m=\u001b[39m nMonte_null)\n\u001b[1;32m      4\u001b[0m fn \u001b[38;5;241m=\u001b[39m \u001b[38;5;124mf\u001b[39m\u001b[38;5;124m\"\u001b[39m\u001b[38;5;124mresults/synthetic_data_null_\u001b[39m\u001b[38;5;132;01m{\u001b[39;00mhash_parameters(params_null)\u001b[38;5;132;01m}\u001b[39;00m\u001b[38;5;124m.csv\u001b[39m\u001b[38;5;124m\"\u001b[39m\n\u001b[1;32m      6\u001b[0m \u001b[38;5;66;03m# try reading file. If it exists, then load it. Else, simulate and save it.\u001b[39;00m\n",
      "\u001b[0;31mNameError\u001b[0m: name 'alternative' is not defined"
     ]
    }
   ],
   "source": [
    "# ##### Null data\n",
    "fn = f\"results/results/synthetic_data_null_c69b0797f5.csv\"\n",
    "print(f\"Reading null data from file {fn}\")\n",
    "df0 = pd.read_csv(fn, index_col=0)\n",
    "results0 = df0.to_dict()\n",
    "print(f\"Found results of {len(df0)} Monte Carlo iterations with {len(results0)} satistics.\")\n",
    "df0 = pd.read_csv(fn, index_col=0)"
   ]
  },
  {
   "cell_type": "code",
   "execution_count": 61,
   "id": "75bf21de",
   "metadata": {},
   "outputs": [
    {
     "name": "stdout",
     "output_type": "stream",
     "text": [
      "Columns of df0: Index(['log_rank_greater', 'log_rank_pval_greater', 'hc_greater',\n",
      "       'fisher_greater', 'min_p_greater', 'berk_jones_greater',\n",
      "       'logrank_lifelines_None', 'logrank_lifelines_wilcoxon',\n",
      "       'logrank_lifelines_tarone-ware', 'logrank_lifelines_peto',\n",
      "       'logrank_lifelines_fleming-harrington55',\n",
      "       'logrank_lifelines_fleming-harrington11',\n",
      "       'logrank_lifelines_fleming-harrington01', 'chisq_test_stat',\n",
      "       'lr_test_stat', 'cauchy_test_stat'],\n",
      "      dtype='object')\n",
      "Stats in lo_stats: Index(['log_rank_greater', 'log_rank_pval_greater', 'hc_greater',\n",
      "       'fisher_greater', 'min_p_greater', 'berk_jones_greater',\n",
      "       'logrank_lifelines_None', 'logrank_lifelines_wilcoxon',\n",
      "       'logrank_lifelines_tarone-ware', 'logrank_lifelines_peto',\n",
      "       'logrank_lifelines_fleming-harrington55',\n",
      "       'logrank_lifelines_fleming-harrington11',\n",
      "       'logrank_lifelines_fleming-harrington01', 'chisq_test_stat',\n",
      "       'lr_test_stat', 'cauchy_test_stat'],\n",
      "      dtype='object')\n",
      "Evalauting number of discoveries...\n",
      "Rate of discoveries:\n",
      "{'log_rank_greater': 0.53, 'log_rank_pval_greater': 0.0, 'hc_greater': 0.721, 'fisher_greater': 0.668, 'min_p_greater': 0.625, 'berk_jones_greater': 0.016, 'logrank_lifelines_None': 0.426, 'logrank_lifelines_wilcoxon': 0.384, 'logrank_lifelines_tarone-ware': 0.405, 'logrank_lifelines_peto': 0.383, 'logrank_lifelines_fleming-harrington55': 0.414, 'logrank_lifelines_fleming-harrington11': 0.409, 'logrank_lifelines_fleming-harrington01': 0.383, 'chisq_test_stat': 0.348, 'lr_test_stat': 0.42, 'cauchy_test_stat': 0.424}\n",
      "Latex table:\n",
      "\\begin{tabular}{lr}\n",
      "\\toprule\n",
      "{} &      0 \\\\\n",
      "\\midrule\n",
      "hc\\_greater                             &  0.721 \\\\\n",
      "fisher\\_greater                         &  0.668 \\\\\n",
      "min\\_p\\_greater                          &  0.625 \\\\\n",
      "log\\_rank\\_greater                       &  0.530 \\\\\n",
      "logrank\\_lifelines\\_None                 &  0.426 \\\\\n",
      "cauchy\\_test\\_stat                       &  0.424 \\\\\n",
      "lr\\_test\\_stat                           &  0.420 \\\\\n",
      "logrank\\_lifelines\\_fleming-harrington55 &  0.414 \\\\\n",
      "logrank\\_lifelines\\_fleming-harrington11 &  0.409 \\\\\n",
      "logrank\\_lifelines\\_tarone-ware          &  0.405 \\\\\n",
      "logrank\\_lifelines\\_wilcoxon             &  0.384 \\\\\n",
      "logrank\\_lifelines\\_peto                 &  0.383 \\\\\n",
      "logrank\\_lifelines\\_fleming-harrington01 &  0.383 \\\\\n",
      "chisq\\_test\\_stat                        &  0.348 \\\\\n",
      "berk\\_jones\\_greater                     &  0.016 \\\\\n",
      "log\\_rank\\_pval\\_greater                  &  0.000 \\\\\n",
      "\\bottomrule\n",
      "\\end{tabular}\n",
      "\n"
     ]
    },
    {
     "name": "stderr",
     "output_type": "stream",
     "text": [
      "/var/folders/3n/c1thdb3136qc3c_4t5br9r6c0000gq/T/ipykernel_16572/2182259318.py:31: FutureWarning: In future versions `DataFrame.to_latex` is expected to utilise the base implementation of `Styler.to_latex` for formatting and rendering. The arguments signature may therefore change. It is recommended instead to use `DataFrame.style.to_latex` which also contains additional functionality.\n",
      "  print(pd.DataFrame.from_dict(rate_dicoveries, orient='index').sort_values([0],ascending=False).to_latex())\n"
     ]
    }
   ],
   "source": [
    "lo_stats = df1.columns\n",
    "# you can specify critical values for each test if you do not wish to use null simulations\n",
    "crit_vals_table = {'chisq_test_stat': 2.6288}\n",
    "stat_1sided = ['hc_greater', 'min_p_greater', 'log_rank_greater', 'fisher_greater']\n",
    "\n",
    "print(\"Columns of df0:\", df0.columns)\n",
    "print(\"Stats in lo_stats:\", lo_stats)\n",
    "\n",
    "print(\"Evalauting number of discoveries...\")\n",
    "alpha = 0.05\n",
    "crit_vals = {}\n",
    "no_dicoveries = {}\n",
    "rate_dicoveries = {}\n",
    "for st in lo_stats:\n",
    "    if '_rev' in st:\n",
    "        continue\n",
    "    if st in crit_vals_table:\n",
    "        crit_vals[st] = crit_vals_table[st]\n",
    "    else:\n",
    "        crit_vals[st] = df0[st].quantile(1 - alpha)\n",
    "    if st in stat_1sided: # for one-sided test, must not report on cases of an effect in both ways\n",
    "        no_dicoveries[st] = np.sum((df1[st] > crit_vals[st]))\n",
    "    else:\n",
    "        no_dicoveries[st] = np.sum(df1[st] > crit_vals[st])\n",
    "    rate_dicoveries[st] = no_dicoveries[st] / len(df1)\n",
    "\n",
    "\n",
    "print(\"Rate of discoveries:\")\n",
    "print(rate_dicoveries)\n",
    "print(\"Latex table:\")\n",
    "print(pd.DataFrame.from_dict(rate_dicoveries, orient='index').sort_values([0],ascending=False).to_latex())"
   ]
  },
  {
   "cell_type": "code",
   "execution_count": 65,
   "id": "bf493e89",
   "metadata": {},
   "outputs": [
    {
     "name": "stdout",
     "output_type": "stream",
     "text": [
      "\\begin{tabular}{lr}\n",
      "\\toprule\n",
      "{} &      0 \\\\\n",
      "\\midrule\n",
      "hc\\_greater                             &  0.721 \\\\\n",
      "fisher\\_greater                         &  0.668 \\\\\n",
      "min\\_p\\_greater                          &  0.625 \\\\\n",
      "log\\_rank\\_greater                       &  0.530 \\\\\n",
      "logrank\\_lifelines\\_None                 &  0.426 \\\\\n",
      "cauchy\\_test\\_stat                       &  0.424 \\\\\n",
      "lr\\_test\\_stat                           &  0.420 \\\\\n",
      "logrank\\_lifelines\\_fleming-harrington55 &  0.414 \\\\\n",
      "logrank\\_lifelines\\_fleming-harrington11 &  0.409 \\\\\n",
      "logrank\\_lifelines\\_tarone-ware          &  0.405 \\\\\n",
      "logrank\\_lifelines\\_wilcoxon             &  0.384 \\\\\n",
      "logrank\\_lifelines\\_peto                 &  0.383 \\\\\n",
      "logrank\\_lifelines\\_fleming-harrington01 &  0.383 \\\\\n",
      "chisq\\_test\\_stat                        &  0.348 \\\\\n",
      "berk\\_jones\\_greater                     &  0.016 \\\\\n",
      "log\\_rank\\_pval\\_greater                  &  0.000 \\\\\n",
      "\\bottomrule\n",
      "\\end{tabular}\n",
      "\n"
     ]
    },
    {
     "name": "stderr",
     "output_type": "stream",
     "text": [
      "/var/folders/3n/c1thdb3136qc3c_4t5br9r6c0000gq/T/ipykernel_16572/1067421056.py:1: FutureWarning: In future versions `DataFrame.to_latex` is expected to utilise the base implementation of `Styler.to_latex` for formatting and rendering. The arguments signature may therefore change. It is recommended instead to use `DataFrame.style.to_latex` which also contains additional functionality.\n",
      "  print(pd.DataFrame.from_dict(rate_dicoveries,orient='index').sort_values([0],ascending=False).to_latex())\n"
     ]
    }
   ],
   "source": [
    "print(pd.DataFrame.from_dict(rate_dicoveries,orient='index').sort_values([0],ascending=False).to_latex())"
   ]
  },
  {
   "cell_type": "code",
   "execution_count": 62,
   "id": "53c26da1",
   "metadata": {},
   "outputs": [
    {
     "data": {
      "text/plain": [
       "<Axes: >"
      ]
     },
     "execution_count": 62,
     "metadata": {},
     "output_type": "execute_result"
    },
    {
     "data": {
      "image/png": "[encoded data removed]",
      "text/plain": [
       "<Figure size 800x600 with 1 Axes>"
      ]
     },
     "metadata": {},
     "output_type": "display_data"
    }
   ],
   "source": [
    "pd.DataFrame.from_dict(rate_dicoveries,orient='index').sort_values([0],ascending=False).plot(kind='bar', legend=False)"
   ]
  },
  {
   "cell_type": "code",
   "execution_count": null,
   "id": "eb4f9edf",
   "metadata": {},
   "outputs": [],
   "source": [
    "# function from multHG package\n",
    "\n",
    "from multiHGtest import hypergeom_test\n",
    "from multitest import MultiTest\n",
    "\n",
    "def _multi_test(Nt1: list, Nt2: list, Ot1: list = None, Ot2: list = None, **kwargs):\n",
    "    \"\"\"\n",
    "    Helper function to create a MultiTest object from two survival tables\n",
    "\n",
    "       Args:\n",
    "           Nt1:  number of at-risk subjects in group 1 per time\n",
    "           Nt2:  number of at-risk subjects in group 2 per time\n",
    "           Ot1:  number failure events in group 1 per time\n",
    "           Ot2:  number of failure events in group 1 per time\n",
    "           **kwargs:\n",
    "\n",
    "       Returns:\n",
    "           MultiTest object\n",
    "       \"\"\"\n",
    "\n",
    "    assert (len(Nt1) == len(Nt2))\n",
    "    assert (len(Ot1) == len(Ot2))\n",
    "    assert (len(Nt1) == len(Ot2))\n",
    "\n",
    "    randomize = kwargs.get('randomize', False)\n",
    "    pvals_alternative = kwargs.get('pvals_alternative', 'greater')\n",
    "    discard_ones = kwargs.get('discard_ones', False)\n",
    "\n",
    "    pvals = hypergeom_test(Ot2, Nt2 + Nt1, Nt2, Ot1 + Ot2,\n",
    "                           randomize=randomize, alternative=pvals_alternative)\n",
    "    if discard_ones:\n",
    "        return MultiTest(pvals[pvals<1])\n",
    "    return MultiTest(pvals)\n",
    "\n",
    "\n",
    "def hchg_test(Nt1: np.ndarray, Nt2: np.ndarray, Ot1=None, Ot2=None,\n",
    "              alternative='two-sided', **kwargs):\n",
    "    \"\"\"\n",
    "    higher criticism test of hypergeometric P-values for comparing survival data as\n",
    "    described in: [1] Galili, Kipnis, Yakhini. 2023. Survival Analysis with Sensitivity to Rare and Weak Temporal\n",
    "    Differences.\n",
    "\n",
    "    To do:\n",
    "     - Convert to time to event representation by default\n",
    "     - Also allow Berk-Jones version\n",
    "\n",
    "    Args:\n",
    "        Nt1:  number of at-risk subjects in group 1 per time\n",
    "        Nt2:  number of at-risk subjects in group 2 per time\n",
    "        Ot1:  number failure events in group 1 per time; if Ot1 = None, then assume\n",
    "              Ot1[i] = Nt1[i-1] - Nt1[i] (no censorship)\n",
    "        Ot2:  number of failure events in group 1 per time; if Ot2 = None, then assume\n",
    "              Ot2[i] = Nt2[i-1] - Nt2[i] (no censorship)\n",
    "        **kwargs: additional arguments to be passed to the hypergeometric test\n",
    "\n",
    "\n",
    "    Returns:\n",
    "        HC test statistic\n",
    "\n",
    "    \"\"\"\n",
    "\n",
    "    if Ot1 is None:\n",
    "        Ot1 = -Nt1.diff()\n",
    "        Nt1 = Nt1[:-1]\n",
    "    if Ot2 is None:\n",
    "        Ot2 = -Nt2.diff()\n",
    "        Nt2 = Nt2[:-1]\n",
    "\n",
    "    gamma = kwargs.get('gamma', 0.2) # another option is 'auto' \n",
    "\n",
    "    if alternative == 'greater': # excessive hazard in Group 2\n",
    "        mtest = _multi_test(Nt1, Nt2, Ot1, Ot2, **kwargs)\n",
    "        hc = mtest.hc_star(gamma)[0]\n",
    "    elif alternative == 'less': # excessive hazard in Group 1\n",
    "        mtest = _multi_test(Nt2, Nt1, Ot2, Ot1, **kwargs)\n",
    "        hc = mtest.hc_star(gamma)[0]\n",
    "    elif alternative == 'two-sided':\n",
    "        mtest1 = _multi_test(Nt1, Nt2, Ot1, Ot2, **kwargs)\n",
    "        mtest2 = _multi_test(Nt2, Nt1, Ot2, Ot1, **kwargs)\n",
    "        hc = np.maximum(mtest1.hc_star(gamma)[0], mtest2.hc_star(gamma)[0])\n",
    "    else:\n",
    "        raise ValueError(\"alternative must be one of 'greater', 'less', or 'two-sided'\")\n",
    "    return hc\n"
   ]
  }
 ],
 "metadata": {
  "kernelspec": {
   "display_name": "Python 3",
   "language": "python",
   "name": "python3"
  },
  "language_info": {
   "codemirror_mode": {
    "name": "ipython",
    "version": 3
   },
   "file_extension": ".py",
   "mimetype": "text/x-python",
   "name": "python",
   "nbconvert_exporter": "python",
   "pygments_lexer": "ipython3",
   "version": "3.10.11"
  }
 },
 "nbformat": 4,
 "nbformat_minor": 5
}
